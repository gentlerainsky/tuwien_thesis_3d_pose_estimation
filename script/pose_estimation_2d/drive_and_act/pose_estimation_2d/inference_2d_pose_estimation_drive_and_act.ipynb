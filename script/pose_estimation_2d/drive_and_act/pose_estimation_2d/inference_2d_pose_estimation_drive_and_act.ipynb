{
 "cells": [
  {
   "cell_type": "code",
   "execution_count": 1,
   "metadata": {},
   "outputs": [
    {
     "name": "stderr",
     "output_type": "stream",
     "text": [
      "\u001b[34m\u001b[1mwandb\u001b[0m: Currently logged in as: \u001b[33mgentlerainsky\u001b[0m. Use \u001b[1m`wandb login --relogin`\u001b[0m to force relogin\n"
     ]
    },
    {
     "data": {
      "text/html": [
       "wandb version 0.16.0 is available!  To upgrade, please run:\n",
       " $ pip install wandb --upgrade"
      ],
      "text/plain": [
       "<IPython.core.display.HTML object>"
      ]
     },
     "metadata": {},
     "output_type": "display_data"
    },
    {
     "data": {
      "text/html": [
       "Tracking run with wandb version 0.15.8"
      ],
      "text/plain": [
       "<IPython.core.display.HTML object>"
      ]
     },
     "metadata": {},
     "output_type": "display_data"
    },
    {
     "data": {
      "text/html": [
       "Run data is saved locally in <code>/workspace/mmengine_workdir/pose_estimator_2d_drive_and_act/20231120_172202/vis_data/wandb/run-20231120_172208-a80xe1tw</code>"
      ],
      "text/plain": [
       "<IPython.core.display.HTML object>"
      ]
     },
     "metadata": {},
     "output_type": "display_data"
    },
    {
     "data": {
      "text/html": [
       "Syncing run <strong><a href='https://wandb.ai/gentlerainsky/uncategorized/runs/a80xe1tw' target=\"_blank\">solar-eon-83</a></strong> to <a href='https://wandb.ai/gentlerainsky/uncategorized' target=\"_blank\">Weights & Biases</a> (<a href='https://wandb.me/run' target=\"_blank\">docs</a>)<br/>"
      ],
      "text/plain": [
       "<IPython.core.display.HTML object>"
      ]
     },
     "metadata": {},
     "output_type": "display_data"
    },
    {
     "data": {
      "text/html": [
       " View project at <a href='https://wandb.ai/gentlerainsky/uncategorized' target=\"_blank\">https://wandb.ai/gentlerainsky/uncategorized</a>"
      ],
      "text/plain": [
       "<IPython.core.display.HTML object>"
      ]
     },
     "metadata": {},
     "output_type": "display_data"
    },
    {
     "data": {
      "text/html": [
       " View run at <a href='https://wandb.ai/gentlerainsky/uncategorized/runs/a80xe1tw' target=\"_blank\">https://wandb.ai/gentlerainsky/uncategorized/runs/a80xe1tw</a>"
      ],
      "text/plain": [
       "<IPython.core.display.HTML object>"
      ]
     },
     "metadata": {},
     "output_type": "display_data"
    },
    {
     "name": "stdout",
     "output_type": "stream",
     "text": [
      "Loads checkpoint by http backend from path: https://download.openmmlab.com/mmpose/v1/body_2d_keypoint/topdown_heatmap/coco/td-hm_hrnet-w48_udp-8xb32-210e_coco-384x288-70d7ab01_20220913.pth\n",
      "The model and loaded state dict do not match exactly\n",
      "\n",
      "unexpected key in source state_dict: data_preprocessor.mean, data_preprocessor.std\n",
      "\n",
      "\timage_set = train, start at = 2023-11-20 17:22:17.482652\n",
      "\t\ttime = 2023-11-20 17:24:40.513246\n",
      "\t\t\tprogress = 500/26636 = 0.0188\n",
      "\t\ttime = 2023-11-20 17:27:16.104761\n",
      "\t\t\tprogress = 1000/26636 = 0.0375\n",
      "\t\ttime = 2023-11-20 17:29:58.984902\n",
      "\t\t\tprogress = 1500/26636 = 0.0563\n",
      "\t\ttime = 2023-11-20 17:32:32.200698\n",
      "\t\t\tprogress = 2000/26636 = 0.0751\n",
      "\t\ttime = 2023-11-20 17:34:53.253515\n",
      "\t\t\tprogress = 2500/26636 = 0.0939\n",
      "\t\ttime = 2023-11-20 17:37:27.134272\n",
      "\t\t\tprogress = 3000/26636 = 0.1126\n",
      "\t\ttime = 2023-11-20 17:40:01.454551\n",
      "\t\t\tprogress = 3500/26636 = 0.1314\n",
      "\t\ttime = 2023-11-20 17:42:41.677565\n",
      "\t\t\tprogress = 4000/26636 = 0.1502\n",
      "\t\ttime = 2023-11-20 17:45:12.079299\n",
      "\t\t\tprogress = 4500/26636 = 0.1689\n",
      "\t\ttime = 2023-11-20 17:47:39.285486\n",
      "\t\t\tprogress = 5000/26636 = 0.1877\n",
      "\t\ttime = 2023-11-20 17:50:05.468361\n",
      "\t\t\tprogress = 5500/26636 = 0.2065\n",
      "\t\ttime = 2023-11-20 17:52:30.232720\n",
      "\t\t\tprogress = 6000/26636 = 0.2253\n",
      "\t\ttime = 2023-11-20 17:54:52.555622\n",
      "\t\t\tprogress = 6500/26636 = 0.2440\n",
      "\t\ttime = 2023-11-20 17:57:16.465331\n",
      "\t\t\tprogress = 7000/26636 = 0.2628\n",
      "\t\ttime = 2023-11-20 17:59:36.213833\n",
      "\t\t\tprogress = 7500/26636 = 0.2816\n",
      "\t\ttime = 2023-11-20 18:01:54.407524\n",
      "\t\t\tprogress = 8000/26636 = 0.3003\n",
      "\t\ttime = 2023-11-20 18:04:12.525768\n",
      "\t\t\tprogress = 8500/26636 = 0.3191\n",
      "\t\ttime = 2023-11-20 18:06:31.760222\n",
      "\t\t\tprogress = 9000/26636 = 0.3379\n",
      "\t\ttime = 2023-11-20 18:08:54.267274\n",
      "\t\t\tprogress = 9500/26636 = 0.3567\n",
      "\t\ttime = 2023-11-20 18:11:16.466280\n",
      "\t\t\tprogress = 10000/26636 = 0.3754\n",
      "\t\ttime = 2023-11-20 18:13:38.926088\n",
      "\t\t\tprogress = 10500/26636 = 0.3942\n",
      "\t\ttime = 2023-11-20 18:16:01.509860\n",
      "\t\t\tprogress = 11000/26636 = 0.4130\n",
      "\t\ttime = 2023-11-20 18:18:23.913509\n",
      "\t\t\tprogress = 11500/26636 = 0.4317\n",
      "\t\ttime = 2023-11-20 18:20:46.568441\n",
      "\t\t\tprogress = 12000/26636 = 0.4505\n",
      "\t\ttime = 2023-11-20 18:23:09.128172\n",
      "\t\t\tprogress = 12500/26636 = 0.4693\n",
      "\t\ttime = 2023-11-20 18:25:31.463014\n",
      "\t\t\tprogress = 13000/26636 = 0.4881\n",
      "\t\ttime = 2023-11-20 18:27:53.735494\n",
      "\t\t\tprogress = 13500/26636 = 0.5068\n",
      "\t\ttime = 2023-11-20 18:30:15.845971\n",
      "\t\t\tprogress = 14000/26636 = 0.5256\n",
      "\t\ttime = 2023-11-20 18:32:37.668621\n",
      "\t\t\tprogress = 14500/26636 = 0.5444\n",
      "\t\ttime = 2023-11-20 18:35:00.015195\n",
      "\t\t\tprogress = 15000/26636 = 0.5631\n",
      "\t\ttime = 2023-11-20 18:37:22.280663\n",
      "\t\t\tprogress = 15500/26636 = 0.5819\n",
      "\t\ttime = 2023-11-20 18:39:44.708759\n",
      "\t\t\tprogress = 16000/26636 = 0.6007\n",
      "\t\ttime = 2023-11-20 18:42:06.936648\n",
      "\t\t\tprogress = 16500/26636 = 0.6195\n",
      "\t\ttime = 2023-11-20 18:44:28.007466\n",
      "\t\t\tprogress = 17000/26636 = 0.6382\n",
      "\t\ttime = 2023-11-20 18:46:48.770606\n",
      "\t\t\tprogress = 17500/26636 = 0.6570\n",
      "\t\ttime = 2023-11-20 18:49:09.340003\n",
      "\t\t\tprogress = 18000/26636 = 0.6758\n",
      "\t\ttime = 2023-11-20 18:51:27.787818\n",
      "\t\t\tprogress = 18500/26636 = 0.6945\n",
      "\t\ttime = 2023-11-20 18:53:47.102175\n",
      "\t\t\tprogress = 19000/26636 = 0.7133\n",
      "\t\ttime = 2023-11-20 18:56:06.731621\n",
      "\t\t\tprogress = 19500/26636 = 0.7321\n",
      "\t\ttime = 2023-11-20 18:58:24.663701\n",
      "\t\t\tprogress = 20000/26636 = 0.7509\n",
      "\t\ttime = 2023-11-20 19:00:36.571241\n",
      "\t\t\tprogress = 20500/26636 = 0.7696\n",
      "\t\ttime = 2023-11-20 19:02:48.434924\n",
      "\t\t\tprogress = 21000/26636 = 0.7884\n",
      "\t\ttime = 2023-11-20 19:05:00.306372\n",
      "\t\t\tprogress = 21500/26636 = 0.8072\n",
      "\t\ttime = 2023-11-20 19:07:12.239006\n",
      "\t\t\tprogress = 22000/26636 = 0.8259\n",
      "\t\ttime = 2023-11-20 19:09:24.087558\n",
      "\t\t\tprogress = 22500/26636 = 0.8447\n",
      "\t\ttime = 2023-11-20 19:11:35.659788\n",
      "\t\t\tprogress = 23000/26636 = 0.8635\n",
      "\t\ttime = 2023-11-20 19:13:47.345647\n",
      "\t\t\tprogress = 23500/26636 = 0.8823\n",
      "\t\ttime = 2023-11-20 19:15:59.183502\n",
      "\t\t\tprogress = 24000/26636 = 0.9010\n",
      "\t\ttime = 2023-11-20 19:18:10.906481\n",
      "\t\t\tprogress = 24500/26636 = 0.9198\n",
      "\t\ttime = 2023-11-20 19:20:26.479277\n",
      "\t\t\tprogress = 25000/26636 = 0.9386\n",
      "\t\ttime = 2023-11-20 19:22:46.209054\n",
      "\t\t\tprogress = 25500/26636 = 0.9574\n",
      "\t\ttime = 2023-11-20 19:25:05.845048\n",
      "\t\t\tprogress = 26000/26636 = 0.9761\n",
      "\t\ttime = 2023-11-20 19:27:25.420053\n",
      "\t\t\tprogress = 26500/26636 = 0.9949\n",
      "\t\timage_set = train, finish at = 2023-11-20 19:28:00.956222\n",
      "\t\ttime spend = 125.72 mins (7543.47 secs), fps = 3.5298 fps\n",
      "created a folder at /root/data/processed/drive_and_act/keypoint_detection_results.\n",
      "\timage_set = val, start at = 2023-11-20 19:28:02.071893\n",
      "\t\ttime = 2023-11-20 19:30:21.067735\n",
      "\t\t\tprogress = 500/5103 = 0.0980\n",
      "\t\ttime = 2023-11-20 19:32:39.065565\n",
      "\t\t\tprogress = 1000/5103 = 0.1960\n",
      "\t\ttime = 2023-11-20 19:34:56.218412\n",
      "\t\t\tprogress = 1500/5103 = 0.2939\n",
      "\t\ttime = 2023-11-20 19:37:12.992959\n",
      "\t\t\tprogress = 2000/5103 = 0.3919\n",
      "\t\ttime = 2023-11-20 19:39:30.592082\n",
      "\t\t\tprogress = 2500/5103 = 0.4899\n",
      "\t\ttime = 2023-11-20 19:41:47.857033\n",
      "\t\t\tprogress = 3000/5103 = 0.5879\n",
      "\t\ttime = 2023-11-20 19:44:05.034615\n",
      "\t\t\tprogress = 3500/5103 = 0.6859\n",
      "\t\ttime = 2023-11-20 19:46:22.352044\n",
      "\t\t\tprogress = 4000/5103 = 0.7839\n",
      "\t\ttime = 2023-11-20 19:48:38.566713\n",
      "\t\t\tprogress = 4500/5103 = 0.8818\n",
      "\t\ttime = 2023-11-20 19:50:55.105466\n",
      "\t\t\tprogress = 5000/5103 = 0.9798\n",
      "\t\timage_set = val, finish at = 2023-11-20 19:51:23.255501\n",
      "\t\ttime spend = 23.35 mins (1401.18 secs), fps = 3.6426 fps\n",
      "\timage_set = test, start at = 2023-11-20 19:51:24.085247\n",
      "\t\ttime = 2023-11-20 19:53:39.654084\n",
      "\t\t\tprogress = 500/8414 = 0.0594\n",
      "\t\ttime = 2023-11-20 19:55:55.259052\n",
      "\t\t\tprogress = 1000/8414 = 0.1188\n",
      "\t\ttime = 2023-11-20 19:58:10.914071\n",
      "\t\t\tprogress = 1500/8414 = 0.1783\n",
      "\t\ttime = 2023-11-20 20:00:24.757839\n",
      "\t\t\tprogress = 2000/8414 = 0.2377\n",
      "\t\ttime = 2023-11-20 20:02:34.889223\n",
      "\t\t\tprogress = 2500/8414 = 0.2971\n",
      "\t\ttime = 2023-11-20 20:04:45.001623\n",
      "\t\t\tprogress = 3000/8414 = 0.3565\n",
      "\t\ttime = 2023-11-20 20:06:55.332152\n",
      "\t\t\tprogress = 3500/8414 = 0.4160\n",
      "\t\ttime = 2023-11-20 20:09:05.454162\n",
      "\t\t\tprogress = 4000/8414 = 0.4754\n",
      "\t\ttime = 2023-11-20 20:11:16.500933\n",
      "\t\t\tprogress = 4500/8414 = 0.5348\n",
      "\t\ttime = 2023-11-20 20:13:32.732366\n",
      "\t\t\tprogress = 5000/8414 = 0.5942\n",
      "\t\ttime = 2023-11-20 20:15:48.989726\n",
      "\t\t\tprogress = 5500/8414 = 0.6537\n",
      "\t\ttime = 2023-11-20 20:18:05.207015\n",
      "\t\t\tprogress = 6000/8414 = 0.7131\n",
      "\t\ttime = 2023-11-20 20:20:21.472248\n",
      "\t\t\tprogress = 6500/8414 = 0.7725\n",
      "\t\ttime = 2023-11-20 20:22:37.731104\n",
      "\t\t\tprogress = 7000/8414 = 0.8319\n",
      "\t\ttime = 2023-11-20 20:24:54.032657\n",
      "\t\t\tprogress = 7500/8414 = 0.8914\n",
      "\t\ttime = 2023-11-20 20:27:10.508419\n",
      "\t\t\tprogress = 8000/8414 = 0.9508\n",
      "\t\timage_set = test, finish at = 2023-11-20 20:29:03.617110\n",
      "\t\ttime spend = 37.66 mins (2259.53 secs), fps = 3.7242 fps\n"
     ]
    }
   ],
   "source": [
    "from src.modules.pose_estimator_2d.main import infer_2d_pose_estimation\n",
    "infer_2d_pose_estimation(\n",
    "    dataset_root_path='/root/data/processed/drive_and_act',\n",
    "    config_path='src/modules/pose_estimator_2d/config/hrnet.py',\n",
    "    pretrained_path='https://download.openmmlab.com/mmpose/v1/'\\\n",
    "        'body_2d_keypoint/topdown_heatmap/coco/'\\\n",
    "            'td-hm_hrnet-w48_udp-8xb32-210e_coco-384x288-70d7ab01_20220913.pth',\n",
    "    checkpoint_path='https://download.openmmlab.com/mmpose/v1/'\\\n",
    "        'body_2d_keypoint/topdown_heatmap/coco/'\\\n",
    "            'td-hm_hrnet-w48_udp-8xb32-210e_coco-384x288-70d7ab01_20220913.pth',\n",
    "    device='cuda:0',\n",
    "    working_directory='mmengine_workdir/pose_estimator_2d_drive_and_act',\n",
    "    log_level='CRITICAL'\n",
    ")"
   ]
  }
 ],
 "metadata": {
  "kernelspec": {
   "display_name": "Python 3 (ipykernel)",
   "language": "python",
   "name": "python3"
  },
  "language_info": {
   "codemirror_mode": {
    "name": "ipython",
    "version": 3
   },
   "file_extension": ".py",
   "mimetype": "text/x-python",
   "name": "python",
   "nbconvert_exporter": "python",
   "pygments_lexer": "ipython3",
   "version": "3.10.11"
  },
  "orig_nbformat": 4
 },
 "nbformat": 4,
 "nbformat_minor": 2
}
