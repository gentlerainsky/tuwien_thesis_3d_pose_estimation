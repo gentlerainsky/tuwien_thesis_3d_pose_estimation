{
 "cells": [
  {
   "cell_type": "code",
   "execution_count": 1,
   "metadata": {},
   "outputs": [],
   "source": [
    "from src.modules.human_detector.human_detector import HumanDetector\n",
    "from src.modules.human_detector.main import detect_person\n",
    "import pathlib"
   ]
  },
  {
   "cell_type": "code",
   "execution_count": 2,
   "metadata": {},
   "outputs": [
    {
     "name": "stdout",
     "output_type": "stream",
     "text": [
      "annotations  keypoint_detection_results  visualizations\n",
      "images\t     person_detection_results\n"
     ]
    }
   ],
   "source": [
    "!ls "
   ]
  },
  {
   "cell_type": "code",
   "execution_count": null,
   "metadata": {},
   "outputs": [
    {
     "name": "stderr",
     "output_type": "stream",
     "text": [
      "\u001b[34m\u001b[1mwandb\u001b[0m: Currently logged in as: \u001b[33mgentlerainsky\u001b[0m. Use \u001b[1m`wandb login --relogin`\u001b[0m to force relogin\n"
     ]
    },
    {
     "data": {
      "text/html": [
       "wandb version 0.16.0 is available!  To upgrade, please run:\n",
       " $ pip install wandb --upgrade"
      ],
      "text/plain": [
       "<IPython.core.display.HTML object>"
      ]
     },
     "metadata": {},
     "output_type": "display_data"
    },
    {
     "data": {
      "text/html": [
       "Tracking run with wandb version 0.15.8"
      ],
      "text/plain": [
       "<IPython.core.display.HTML object>"
      ]
     },
     "metadata": {},
     "output_type": "display_data"
    },
    {
     "data": {
      "text/html": [
       "Run data is saved locally in <code>/workspace/mmengine_workdir/human_detector_synthetic_cabin_1m/20231116_173134/vis_data/wandb/run-20231116_173137-si5m96yw</code>"
      ],
      "text/plain": [
       "<IPython.core.display.HTML object>"
      ]
     },
     "metadata": {},
     "output_type": "display_data"
    },
    {
     "data": {
      "text/html": [
       "Syncing run <strong><a href='https://wandb.ai/gentlerainsky/uncategorized/runs/si5m96yw' target=\"_blank\">lucky-sea-61</a></strong> to <a href='https://wandb.ai/gentlerainsky/uncategorized' target=\"_blank\">Weights & Biases</a> (<a href='https://wandb.me/run' target=\"_blank\">docs</a>)<br/>"
      ],
      "text/plain": [
       "<IPython.core.display.HTML object>"
      ]
     },
     "metadata": {},
     "output_type": "display_data"
    },
    {
     "data": {
      "text/html": [
       " View project at <a href='https://wandb.ai/gentlerainsky/uncategorized' target=\"_blank\">https://wandb.ai/gentlerainsky/uncategorized</a>"
      ],
      "text/plain": [
       "<IPython.core.display.HTML object>"
      ]
     },
     "metadata": {},
     "output_type": "display_data"
    },
    {
     "data": {
      "text/html": [
       " View run at <a href='https://wandb.ai/gentlerainsky/uncategorized/runs/si5m96yw' target=\"_blank\">https://wandb.ai/gentlerainsky/uncategorized/runs/si5m96yw</a>"
      ],
      "text/plain": [
       "<IPython.core.display.HTML object>"
      ]
     },
     "metadata": {},
     "output_type": "display_data"
    },
    {
     "name": "stdout",
     "output_type": "stream",
     "text": [
      "loading annotations into memory...\n",
      "Done (t=0.59s)\n",
      "creating index...\n",
      "index created!\n",
      "loading annotations into memory...\n",
      "Done (t=0.07s)\n",
      "creating index...\n",
      "index created!\n",
      "loading annotations into memory...\n",
      "Done (t=0.05s)\n",
      "creating index...\n",
      "index created!\n",
      "Loads checkpoint by http backend from path: https://download.openmmlab.com/mmdetection/v2.0/faster_rcnn/faster_rcnn_r50_fpn_1x_coco-person/faster_rcnn_r50_fpn_1x_coco-person_20201216_175929-d022e227.pth\n",
      "Loading and preparing results...\n",
      "DONE (t=0.00s)\n",
      "creating index...\n",
      "index created!\n",
      "Running per image evaluation...\n",
      "Evaluate annotation type *bbox*\n",
      "DONE (t=1.08s).\n",
      "Accumulating evaluation results...\n",
      "DONE (t=0.14s).\n",
      " Average Precision  (AP) @[ IoU=0.50:0.95 | area=   all | maxDets=100 ] = 0.990\n",
      " Average Precision  (AP) @[ IoU=0.50      | area=   all | maxDets=1000 ] = 1.000\n",
      " Average Precision  (AP) @[ IoU=0.75      | area=   all | maxDets=1000 ] = 1.000\n",
      " Average Precision  (AP) @[ IoU=0.50:0.95 | area= small | maxDets=1000 ] = -1.000\n",
      " Average Precision  (AP) @[ IoU=0.50:0.95 | area=medium | maxDets=1000 ] = -1.000\n",
      " Average Precision  (AP) @[ IoU=0.50:0.95 | area= large | maxDets=1000 ] = 0.990\n",
      " Average Recall     (AR) @[ IoU=0.50:0.95 | area=   all | maxDets=100 ] = 0.994\n",
      " Average Recall     (AR) @[ IoU=0.50:0.95 | area=   all | maxDets=300 ] = 0.994\n",
      " Average Recall     (AR) @[ IoU=0.50:0.95 | area=   all | maxDets=1000 ] = 0.994\n",
      " Average Recall     (AR) @[ IoU=0.50:0.95 | area= small | maxDets=1000 ] = -1.000\n",
      " Average Recall     (AR) @[ IoU=0.50:0.95 | area=medium | maxDets=1000 ] = -1.000\n",
      " Average Recall     (AR) @[ IoU=0.50:0.95 | area= large | maxDets=1000 ] = 0.994\n"
     ]
    },
    {
     "data": {
      "text/html": [
       "Waiting for W&B process to finish... <strong style=\"color:green\">(success).</strong>"
      ],
      "text/plain": [
       "<IPython.core.display.HTML object>"
      ]
     },
     "metadata": {},
     "output_type": "display_data"
    },
    {
     "name": "stderr",
     "output_type": "stream",
     "text": [
      "wandb: WARNING Source type is set to 'artifact' but some required information is missing from the environment. A job will not be created from this run. See https://docs.wandb.ai/guides/launch/create-job\n"
     ]
    },
    {
     "data": {
      "text/html": [
       "<style>\n",
       "    table.wandb td:nth-child(1) { padding: 0 10px; text-align: left ; width: auto;} td:nth-child(2) {text-align: left ; width: 100%}\n",
       "    .wandb-row { display: flex; flex-direction: row; flex-wrap: wrap; justify-content: flex-start; width: 100% }\n",
       "    .wandb-col { display: flex; flex-direction: column; flex-basis: 100%; flex: 1; padding: 10px; }\n",
       "    </style>\n",
       "<div class=\"wandb-row\"><div class=\"wandb-col\"><h3>Run history:</h3><br/><table class=\"wandb\"><tr><td>acc</td><td>▁▃█▇▇▇▇▆▇█▅▅▆▇▇▅▆▆▇▇█▅██▇▇▇▆█▇▇▆█████</td></tr><tr><td>coco/bbox_mAP</td><td>▁</td></tr><tr><td>coco/bbox_mAP_50</td><td>▁</td></tr><tr><td>coco/bbox_mAP_75</td><td>▁</td></tr><tr><td>coco/bbox_mAP_l</td><td>▁</td></tr><tr><td>coco/bbox_mAP_m</td><td>▁</td></tr><tr><td>coco/bbox_mAP_s</td><td>▁</td></tr><tr><td>data_time</td><td>▆▆▇▆▆▆▆▆▆█▇▆▅▇▆▆▇▆▅▅▅▅▆▅▅▅▅▅▅▅▆▅▅▆▅▅▅▁</td></tr><tr><td>epoch</td><td>▁▁▁▁▁▁▁▁▁▁▁▁▁▁▁▁▁▁▁▁▁▁▁▁▁▁▁▁▁▁▁▁▁▁▁▁▁</td></tr><tr><td>iter</td><td>▁▁▁▂▂▂▂▂▃▃▃▃▃▄▄▄▄▄▅▅▅▅▅▅▆▆▆▆▆▇▇▇▇▇███</td></tr><tr><td>loss</td><td>█▆▅▄▃▃▄▄▃▃▃▄▃▃▃▂▃▃▂▂▃▂▁▁▂▂▁▂▂▂▂▁▁▁▁▁▂</td></tr><tr><td>loss_bbox</td><td>█▆▅▄▃▃▄▄▃▃▃▄▃▃▃▂▃▃▂▂▃▂▁▁▂▂▁▂▂▂▃▁▁▂▁▁▂</td></tr><tr><td>loss_cls</td><td>█▅▅▄▃▃▃▄▃▃▃▅▂▃▃▂▂▃▂▂▃▂▁▁▂▂▁▁▂▁▂▁▁▁▁▁▂</td></tr><tr><td>loss_rpn_bbox</td><td>█▆▄▃▃▃▃▃▄▂▂▄▃▂▃▂▃▂▂▃▂▂▁▁▂▂▁▂▁▂▂▂▁▁▁▂▂</td></tr><tr><td>loss_rpn_cls</td><td>▇▅▃▃▃▂▂▂▆▂▂▄▆▂▃▂█▂▂▃▂▂▂▁▂▂▁▂▂▂▅▁▂▁▂▂▁</td></tr><tr><td>lr</td><td>▁▁▁▁▁▁▁▁▁▁▁▁▁▁▁▁▁▁▁▁▁▁▁▁▁▁▁▁▁▁▁▁▁▁▁▁▁</td></tr><tr><td>memory</td><td>▁▁▁▁▁▁▁▁▁▁▁▁▁▁▁▁▁▁▁▁▁▁▁▁▁▁▁▁▁▁▁▁▁▁▁▁▁</td></tr><tr><td>time</td><td>▇▇▇▇▇▇█▇███▇█▇▇█▇▇▇▇▇▇▇▇▇▇▇▇▇▇▇▇▇▇▇▇▇▁</td></tr></table><br/></div><div class=\"wandb-col\"><h3>Run summary:</h3><br/><table class=\"wandb\"><tr><td>acc</td><td>100.0</td></tr><tr><td>coco/bbox_mAP</td><td>0.99</td></tr><tr><td>coco/bbox_mAP_50</td><td>1.0</td></tr><tr><td>coco/bbox_mAP_75</td><td>1.0</td></tr><tr><td>coco/bbox_mAP_l</td><td>0.99</td></tr><tr><td>coco/bbox_mAP_m</td><td>-1.0</td></tr><tr><td>coco/bbox_mAP_s</td><td>-1.0</td></tr><tr><td>data_time</td><td>0.0015</td></tr><tr><td>epoch</td><td>1</td></tr><tr><td>iter</td><td>18500</td></tr><tr><td>loss</td><td>0.00884</td></tr><tr><td>loss_bbox</td><td>0.00486</td></tr><tr><td>loss_cls</td><td>0.00214</td></tr><tr><td>loss_rpn_bbox</td><td>0.00169</td></tr><tr><td>loss_rpn_cls</td><td>0.00015</td></tr><tr><td>lr</td><td>0.02</td></tr><tr><td>memory</td><td>2817</td></tr><tr><td>time</td><td>0.05729</td></tr></table><br/></div></div>"
      ],
      "text/plain": [
       "<IPython.core.display.HTML object>"
      ]
     },
     "metadata": {},
     "output_type": "display_data"
    },
    {
     "data": {
      "text/html": [
       " View run <strong style=\"color:#cdcd00\">lucky-sea-61</strong> at: <a href='https://wandb.ai/gentlerainsky/uncategorized/runs/si5m96yw' target=\"_blank\">https://wandb.ai/gentlerainsky/uncategorized/runs/si5m96yw</a><br/>Synced 6 W&B file(s), 0 media file(s), 42 artifact file(s) and 0 other file(s)"
      ],
      "text/plain": [
       "<IPython.core.display.HTML object>"
      ]
     },
     "metadata": {},
     "output_type": "display_data"
    },
    {
     "data": {
      "text/html": [
       "Find logs at: <code>./mmengine_workdir/human_detector_synthetic_cabin_1m/20231116_173134/vis_data/wandb/run-20231116_173137-si5m96yw/logs</code>"
      ],
      "text/plain": [
       "<IPython.core.display.HTML object>"
      ]
     },
     "metadata": {},
     "output_type": "display_data"
    },
    {
     "name": "stdout",
     "output_type": "stream",
     "text": [
      "new_checkpoint_path /workspace/mmengine_workdir/human_detector_synthetic_cabin_1m/epoch_1.pth\n"
     ]
    }
   ],
   "source": [
    "detector = HumanDetector(\n",
    "    config_path='./src/modules/human_detector/config/faster_rcnn.py',\n",
    "    # pretrained_path=\"https://download.openmmlab.com/mmdetection/v2.0/faster_rcnn/\"\\\n",
    "    #     \"faster_rcnn_r101_caffe_fpn_1x_coco/faster_rcnn_r101_caffe_fpn_1x_coco_bbox_mAP-0.398_20200504_180057-b269e9dd.pth\",\n",
    "    pretrained_path=\"https://download.openmmlab.com/mmdetection/v2.0/faster_rcnn/\"\\\n",
    "        \"faster_rcnn_r50_fpn_1x_coco-person/faster_rcnn_r50_fpn_1x_coco-person_20201216_175929-d022e227.pth\",\n",
    "    checkpoint_path=\"./mmengine_workdir/human_detector_synthetic_cabin_1m/epoch_1.pth\",\n",
    "    data_root_path='/root/synthetic_cabin_1m/syntheticcabin_1mil/processed_syntheticCabin_1m/A_Pillar_Codriver/',\n",
    "    device='cuda:0',\n",
    "    working_directory='./mmengine_workdir/human_detector_synthetic_cabin_1m',\n",
    "    log_level='CRITICAL'\n",
    ")\n",
    "# https://github.com/open-mmlab/mmdetection/blob/main/configs/faster_rcnn/\n",
    "detector.finetune()"
   ]
  },
  {
   "cell_type": "code",
   "execution_count": null,
   "metadata": {},
   "outputs": [
    {
     "name": "stdout",
     "output_type": "stream",
     "text": [
      "loading annotations into memory...\n",
      "Done (t=0.16s)\n",
      "creating index...\n",
      "index created!\n",
      "loading annotations into memory...\n",
      "Done (t=0.06s)\n",
      "creating index...\n",
      "index created!\n",
      "Loading and preparing results...\n",
      "DONE (t=0.00s)\n",
      "creating index...\n",
      "index created!\n",
      "Running per image evaluation...\n",
      "Evaluate annotation type *bbox*\n",
      "DONE (t=0.89s).\n",
      "Accumulating evaluation results...\n",
      "DONE (t=0.36s).\n",
      " Average Precision  (AP) @[ IoU=0.50:0.95 | area=   all | maxDets=100 ] = 0.985\n",
      " Average Precision  (AP) @[ IoU=0.50      | area=   all | maxDets=1000 ] = 0.990\n",
      " Average Precision  (AP) @[ IoU=0.75      | area=   all | maxDets=1000 ] = 0.990\n",
      " Average Precision  (AP) @[ IoU=0.50:0.95 | area= small | maxDets=1000 ] = -1.000\n",
      " Average Precision  (AP) @[ IoU=0.50:0.95 | area=medium | maxDets=1000 ] = -1.000\n",
      " Average Precision  (AP) @[ IoU=0.50:0.95 | area= large | maxDets=1000 ] = 0.985\n",
      " Average Recall     (AR) @[ IoU=0.50:0.95 | area=   all | maxDets=100 ] = 0.996\n",
      " Average Recall     (AR) @[ IoU=0.50:0.95 | area=   all | maxDets=300 ] = 0.996\n",
      " Average Recall     (AR) @[ IoU=0.50:0.95 | area=   all | maxDets=1000 ] = 0.996\n",
      " Average Recall     (AR) @[ IoU=0.50:0.95 | area= small | maxDets=1000 ] = -1.000\n",
      " Average Recall     (AR) @[ IoU=0.50:0.95 | area=medium | maxDets=1000 ] = -1.000\n",
      " Average Recall     (AR) @[ IoU=0.50:0.95 | area= large | maxDets=1000 ] = 0.996\n"
     ]
    }
   ],
   "source": [
    "detector.test()"
   ]
  }
 ],
 "metadata": {
  "kernelspec": {
   "display_name": "Python 3 (ipykernel)",
   "language": "python",
   "name": "python3"
  },
  "language_info": {
   "codemirror_mode": {
    "name": "ipython",
    "version": 3
   },
   "file_extension": ".py",
   "mimetype": "text/x-python",
   "name": "python",
   "nbconvert_exporter": "python",
   "pygments_lexer": "ipython3",
   "version": "3.10.11"
  },
  "orig_nbformat": 4,
  "vscode": {
   "interpreter": {
    "hash": "916dbcbb3f70747c44a77c7bcd40155683ae19c65e1c03b4aa3499c5328201f1"
   }
  }
 },
 "nbformat": 4,
 "nbformat_minor": 2
}
