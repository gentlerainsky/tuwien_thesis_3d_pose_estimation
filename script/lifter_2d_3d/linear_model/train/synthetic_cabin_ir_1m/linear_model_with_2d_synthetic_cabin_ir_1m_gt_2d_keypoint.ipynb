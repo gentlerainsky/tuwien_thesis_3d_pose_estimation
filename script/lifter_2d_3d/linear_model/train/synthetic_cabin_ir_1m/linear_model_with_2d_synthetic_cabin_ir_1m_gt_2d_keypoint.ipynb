{
 "cells": [
  {
   "cell_type": "code",
   "execution_count": 1,
   "metadata": {},
   "outputs": [
    {
     "name": "stderr",
     "output_type": "stream",
     "text": [
      "Global seed set to 1234\n",
      "GPU available: True (cuda), used: True\n",
      "TPU available: False, using: 0 TPU cores\n",
      "IPU available: False, using: 0 IPUs\n",
      "HPU available: False, using: 0 HPUs\n"
     ]
    },
    {
     "name": "stdout",
     "output_type": "stream",
     "text": [
      "train_dataset 75000 val_dataset 37500 test_dataset 30349\n"
     ]
    },
    {
     "name": "stderr",
     "output_type": "stream",
     "text": [
      "LOCAL_RANK: 0 - CUDA_VISIBLE_DEVICES: [0]\n",
      "\n",
      "  | Name  | Type          | Params\n",
      "----------------------------------------\n",
      "0 | model | BaselineModel | 4.3 M \n",
      "----------------------------------------\n",
      "4.3 M     Trainable params\n",
      "0         Non-trainable params\n",
      "4.3 M     Total params\n",
      "17.105    Total estimated model params size (MB)\n"
     ]
    },
    {
     "data": {
      "application/vnd.jupyter.widget-view+json": {
       "model_id": "e586efb174af4511a08d32ee6ac7c616",
       "version_major": 2,
       "version_minor": 0
      },
      "text/plain": [
       "Sanity Checking: 0it [00:00, ?it/s]"
      ]
     },
     "metadata": {},
     "output_type": "display_data"
    },
    {
     "name": "stderr",
     "output_type": "stream",
     "text": [
      "Traceback (most recent call last):\n",
      "  File \"/opt/conda/lib/python3.10/multiprocessing/util.py\", line 300, in _run_finalizers\n",
      "    finalizer()\n",
      "  File \"/opt/conda/lib/python3.10/multiprocessing/util.py\", line 224, in __call__\n",
      "    res = self._callback(*self._args, **self._kwargs)\n",
      "  File \"/opt/conda/lib/python3.10/multiprocessing/util.py\", line 133, in _remove_temp_dir\n",
      "    rmtree(tempdir)\n",
      "  File \"/opt/conda/lib/python3.10/shutil.py\", line 731, in rmtree\n",
      "    onerror(os.rmdir, path, sys.exc_info())\n",
      "  File \"/opt/conda/lib/python3.10/shutil.py\", line 729, in rmtree\n",
      "    os.rmdir(path)\n",
      "OSError: [Errno 39] Directory not empty: '/tmp/pymp-_nciimsl'\n"
     ]
    },
    {
     "name": "stdout",
     "output_type": "stream",
     "text": [
      "check #0\n",
      "val MPJPE from: 128 samples : 5078.357696533203\n"
     ]
    },
    {
     "name": "stderr",
     "output_type": "stream",
     "text": [
      "Traceback (most recent call last):\n",
      "  File \"/opt/conda/lib/python3.10/multiprocessing/util.py\", line 300, in _run_finalizers\n",
      "    finalizer()\n",
      "  File \"/opt/conda/lib/python3.10/multiprocessing/util.py\", line 224, in __call__\n",
      "    res = self._callback(*self._args, **self._kwargs)\n",
      "  File \"/opt/conda/lib/python3.10/multiprocessing/util.py\", line 133, in _remove_temp_dir\n",
      "    rmtree(tempdir)\n",
      "  File \"/opt/conda/lib/python3.10/shutil.py\", line 731, in rmtree\n",
      "    onerror(os.rmdir, path, sys.exc_info())\n",
      "  File \"/opt/conda/lib/python3.10/shutil.py\", line 729, in rmtree\n",
      "    os.rmdir(path)\n",
      "OSError: [Errno 39] Directory not empty: '/tmp/pymp-sinhr123'\n"
     ]
    },
    {
     "data": {
      "application/vnd.jupyter.widget-view+json": {
       "model_id": "7377d4e7be634ab5831f39a7c26d4b5a",
       "version_major": 2,
       "version_minor": 0
      },
      "text/plain": [
       "Training: 0it [00:00, ?it/s]"
      ]
     },
     "metadata": {},
     "output_type": "display_data"
    },
    {
     "data": {
      "application/vnd.jupyter.widget-view+json": {
       "model_id": "b2b72023963f4e72a2dd4fc82f19aaa5",
       "version_major": 2,
       "version_minor": 0
      },
      "text/plain": [
       "Validation: 0it [00:00, ?it/s]"
      ]
     },
     "metadata": {},
     "output_type": "display_data"
    },
    {
     "name": "stdout",
     "output_type": "stream",
     "text": [
      "check #1\n",
      "training loss from 5855 batches: 262.0034752494753\n",
      "val MPJPE from: 37440 samples : 100.88258981704712\n"
     ]
    },
    {
     "data": {
      "application/vnd.jupyter.widget-view+json": {
       "model_id": "f32f7b9b80a34e58932a3dc3b0042753",
       "version_major": 2,
       "version_minor": 0
      },
      "text/plain": [
       "Validation: 0it [00:00, ?it/s]"
      ]
     },
     "metadata": {},
     "output_type": "display_data"
    },
    {
     "name": "stderr",
     "output_type": "stream",
     "text": [
      "`Trainer.fit` stopped: `max_epochs=10` reached.\n"
     ]
    },
    {
     "name": "stdout",
     "output_type": "stream",
     "text": [
      "check #2\n",
      "training loss from 5855 batches: 125.39575519239057\n",
      "val MPJPE from: 37440 samples : 76.94590091705322\n"
     ]
    }
   ],
   "source": [
    "import os\n",
    "import torch\n",
    "import numpy as np\n",
    "import pandas as pd\n",
    "import pytorch_lightning as pl\n",
    "import matplotlib.pyplot as plt\n",
    "from pytorch_lightning.callbacks import ModelCheckpoint\n",
    "from pytorch_lightning.callbacks.early_stopping import EarlyStopping\n",
    "from torch.utils.data import DataLoader\n",
    "from modules.lifter_2d_3d.dataset.groundtruth_keypoint_dataset import GroundTruthKeypointDataset\n",
    "from modules.lifter_2d_3d.model.linear_model.lit_linear_model import LitSimpleBaselineLinear\n",
    "from modules.utils.visualization import (\n",
    "    plot_samples\n",
    ")\n",
    "from IPython.display import display\n",
    "from pathlib import Path\n",
    "pl.seed_everything(1234)\n",
    "\n",
    "# ------------\n",
    "# dataset path\n",
    "# ------------\n",
    "dataset_root_path = Path('/root/synthetic_cabin_1m/syntheticcabin_1mil/processed_syntheticCabin_1m/A_Pillar_Codriver/')\n",
    "keypoint_2d_path = dataset_root_path / 'annotations'\n",
    "keypoint_3d_path = dataset_root_path / 'annotations'\n",
    "# ------------\n",
    "# model\n",
    "# ------------\n",
    "image_width = 1280\n",
    "image_height = 1024\n",
    "batch_size = 64\n",
    "max_epoch = 10\n",
    "val_check_period = 5\n",
    "early_stopping_patience = 5\n",
    "lit_model = LitSimpleBaselineLinear(exclude_ankle=True, exclude_knee=True)\n",
    "# ------------\n",
    "# saved model path\n",
    "# ------------\n",
    "saved_model_path = './saved_lifter_2d_3d_model/linear_model/synthetic_cabin_ir_1m/A_Pillar_Codriver/gt_2d/'\n",
    "\n",
    "\n",
    "train_dataset = GroundTruthKeypointDataset(\n",
    "    annotation_file=(keypoint_3d_path / 'person_keypoints_train.json').as_posix(),\n",
    "    image_width=image_width,\n",
    "    image_height=image_height,\n",
    "    exclude_ankle=True,\n",
    "    exclude_knee=True\n",
    ")\n",
    "val_dataset = GroundTruthKeypointDataset(\n",
    "    annotation_file=(keypoint_3d_path / 'person_keypoints_val.json').as_posix(),\n",
    "    image_width=image_width,\n",
    "    image_height=image_height,\n",
    "    exclude_ankle=True,\n",
    "    exclude_knee=True\n",
    ")\n",
    "test_dataset = GroundTruthKeypointDataset(\n",
    "    annotation_file=(keypoint_3d_path / 'person_keypoints_test.json').as_posix(),\n",
    "    image_width=image_width,\n",
    "    image_height=image_height,\n",
    "    exclude_ankle=True,\n",
    "    exclude_knee=True\n",
    ")\n",
    "\n",
    "print(\n",
    "    'train_dataset', len(train_dataset),\n",
    "    'val_dataset', len(val_dataset),\n",
    "    'test_dataset', len(test_dataset)\n",
    ")\n",
    "train_loader = DataLoader(train_dataset, batch_size=batch_size, drop_last=True, shuffle=True, num_workers=24)\n",
    "val_loader = DataLoader(val_dataset, batch_size=batch_size, drop_last=True, num_workers=24)\n",
    "test_loader = DataLoader(test_dataset, batch_size=batch_size, num_workers=24)\n",
    "\n",
    "model_checkpoint = ModelCheckpoint(monitor='val_loss',mode='min', save_top_k=1)\n",
    "early_stopping = EarlyStopping(monitor='val_loss', mode='min', patience=early_stopping_patience)\n",
    "\n",
    "\n",
    "if not os.path.exists(saved_model_path):\n",
    "    os.makedirs(saved_model_path)\n",
    "\n",
    "device = 'cuda' if torch.cuda.is_available() else 'cpu'\n",
    "trainer = pl.Trainer(\n",
    "    # max_steps=10,\n",
    "    max_epochs=max_epoch,\n",
    "    callbacks=[model_checkpoint, early_stopping],\n",
    "    accelerator=device,\n",
    "    check_val_every_n_epoch=val_check_period,\n",
    "    default_root_dir=saved_model_path,\n",
    "    gradient_clip_val=1.0\n",
    ")\n",
    "trainer.fit(lit_model, train_loader, val_loader)"
   ]
  },
  {
   "cell_type": "code",
   "execution_count": 2,
   "metadata": {},
   "outputs": [
    {
     "name": "stderr",
     "output_type": "stream",
     "text": [
      "Restoring states from the checkpoint path at saved_lifter_2d_3d_model/linear_model/synthetic_cabin_ir_1m/A_Pillar_Codriver/gt_2d/lightning_logs/version_1/checkpoints/epoch=9-step=11710.ckpt\n",
      "LOCAL_RANK: 0 - CUDA_VISIBLE_DEVICES: [0]\n",
      "Loaded model weights from the checkpoint at saved_lifter_2d_3d_model/linear_model/synthetic_cabin_ir_1m/A_Pillar_Codriver/gt_2d/lightning_logs/version_1/checkpoints/epoch=9-step=11710.ckpt\n"
     ]
    },
    {
     "data": {
      "application/vnd.jupyter.widget-view+json": {
       "model_id": "fad3da322c0f4c06a6f7d0a8d63ac172",
       "version_major": 2,
       "version_minor": 0
      },
      "text/plain": [
       "Testing: 0it [00:00, ?it/s]"
      ]
     },
     "metadata": {},
     "output_type": "display_data"
    },
    {
     "name": "stdout",
     "output_type": "stream",
     "text": [
      "MPJPE: 76.37457878565327\n",
      "PJPE\n",
      "                      PJPE\n",
      "nose             65.956749\n",
      "left_eye         64.316584\n",
      "right_eye        64.731851\n",
      "left_ear         64.442050\n",
      "right_ear        67.678476\n",
      "left_shoulder    58.201281\n",
      "right_shoulder   55.357187\n",
      "left_elbow       97.661915\n",
      "right_elbow      91.669538\n",
      "left_wrist      124.410309\n",
      "right_wrist     107.489477\n",
      "left_hip         67.748601\n",
      "right_hip        63.047364\n",
      "activities_mpjpe:\n",
      "{}\n",
      "test mpjpe: 76.37457878565327\n"
     ]
    },
    {
     "data": {
      "text/html": [
       "<pre style=\"white-space:pre;overflow-x:auto;line-height:normal;font-family:Menlo,'DejaVu Sans Mono',consolas,'Courier New',monospace\">┏━━━━━━━━━━━━━━━━━━━━━━━━━━━┳━━━━━━━━━━━━━━━━━━━━━━━━━━━┓\n",
       "┃<span style=\"font-weight: bold\">        Test metric        </span>┃<span style=\"font-weight: bold\">       DataLoader 0        </span>┃\n",
       "┡━━━━━━━━━━━━━━━━━━━━━━━━━━━╇━━━━━━━━━━━━━━━━━━━━━━━━━━━┩\n",
       "│<span style=\"color: #008080; text-decoration-color: #008080\">           mpjpe           </span>│<span style=\"color: #800080; text-decoration-color: #800080\">     76.37457878565327     </span>│\n",
       "└───────────────────────────┴───────────────────────────┘\n",
       "</pre>\n"
      ],
      "text/plain": [
       "┏━━━━━━━━━━━━━━━━━━━━━━━━━━━┳━━━━━━━━━━━━━━━━━━━━━━━━━━━┓\n",
       "┃\u001b[1m \u001b[0m\u001b[1m       Test metric       \u001b[0m\u001b[1m \u001b[0m┃\u001b[1m \u001b[0m\u001b[1m      DataLoader 0       \u001b[0m\u001b[1m \u001b[0m┃\n",
       "┡━━━━━━━━━━━━━━━━━━━━━━━━━━━╇━━━━━━━━━━━━━━━━━━━━━━━━━━━┩\n",
       "│\u001b[36m \u001b[0m\u001b[36m          mpjpe          \u001b[0m\u001b[36m \u001b[0m│\u001b[35m \u001b[0m\u001b[35m    76.37457878565327    \u001b[0m\u001b[35m \u001b[0m│\n",
       "└───────────────────────────┴───────────────────────────┘\n"
      ]
     },
     "metadata": {},
     "output_type": "display_data"
    },
    {
     "data": {
      "text/plain": [
       "[{'mpjpe': 76.37457878565327}]"
      ]
     },
     "execution_count": 2,
     "metadata": {},
     "output_type": "execute_result"
    }
   ],
   "source": [
    "with open(f'{saved_model_path}/best_model_path.txt', 'w') as f:\n",
    "    f.writelines(model_checkpoint.best_model_path)\n",
    "best_checkpoint_path = model_checkpoint.best_model_path\n",
    "trainer.test(ckpt_path=best_checkpoint_path, dataloaders=test_loader)"
   ]
  },
  {
   "cell_type": "code",
   "execution_count": 3,
   "metadata": {},
   "outputs": [
    {
     "data": {
      "text/html": [
       "<div>\n",
       "<style scoped>\n",
       "    .dataframe tbody tr th:only-of-type {\n",
       "        vertical-align: middle;\n",
       "    }\n",
       "\n",
       "    .dataframe tbody tr th {\n",
       "        vertical-align: top;\n",
       "    }\n",
       "\n",
       "    .dataframe thead th {\n",
       "        text-align: right;\n",
       "    }\n",
       "</style>\n",
       "<table border=\"1\" class=\"dataframe\">\n",
       "  <thead>\n",
       "    <tr style=\"text-align: right;\">\n",
       "      <th></th>\n",
       "      <th>PJPE</th>\n",
       "    </tr>\n",
       "  </thead>\n",
       "  <tbody>\n",
       "    <tr>\n",
       "      <th>nose</th>\n",
       "      <td>65.956749</td>\n",
       "    </tr>\n",
       "    <tr>\n",
       "      <th>left_eye</th>\n",
       "      <td>64.316584</td>\n",
       "    </tr>\n",
       "    <tr>\n",
       "      <th>right_eye</th>\n",
       "      <td>64.731851</td>\n",
       "    </tr>\n",
       "    <tr>\n",
       "      <th>left_ear</th>\n",
       "      <td>64.442050</td>\n",
       "    </tr>\n",
       "    <tr>\n",
       "      <th>right_ear</th>\n",
       "      <td>67.678476</td>\n",
       "    </tr>\n",
       "    <tr>\n",
       "      <th>left_shoulder</th>\n",
       "      <td>58.201281</td>\n",
       "    </tr>\n",
       "    <tr>\n",
       "      <th>right_shoulder</th>\n",
       "      <td>55.357187</td>\n",
       "    </tr>\n",
       "    <tr>\n",
       "      <th>left_elbow</th>\n",
       "      <td>97.661915</td>\n",
       "    </tr>\n",
       "    <tr>\n",
       "      <th>right_elbow</th>\n",
       "      <td>91.669538</td>\n",
       "    </tr>\n",
       "    <tr>\n",
       "      <th>left_wrist</th>\n",
       "      <td>124.410309</td>\n",
       "    </tr>\n",
       "    <tr>\n",
       "      <th>right_wrist</th>\n",
       "      <td>107.489477</td>\n",
       "    </tr>\n",
       "    <tr>\n",
       "      <th>left_hip</th>\n",
       "      <td>67.748601</td>\n",
       "    </tr>\n",
       "    <tr>\n",
       "      <th>right_hip</th>\n",
       "      <td>63.047364</td>\n",
       "    </tr>\n",
       "  </tbody>\n",
       "</table>\n",
       "</div>"
      ],
      "text/plain": [
       "                      PJPE\n",
       "nose             65.956749\n",
       "left_eye         64.316584\n",
       "right_eye        64.731851\n",
       "left_ear         64.442050\n",
       "right_ear        67.678476\n",
       "left_shoulder    58.201281\n",
       "right_shoulder   55.357187\n",
       "left_elbow       97.661915\n",
       "right_elbow      91.669538\n",
       "left_wrist      124.410309\n",
       "right_wrist     107.489477\n",
       "left_hip         67.748601\n",
       "right_hip        63.047364"
      ]
     },
     "execution_count": 3,
     "metadata": {},
     "output_type": "execute_result"
    }
   ],
   "source": [
    "trainer.model.test_history[0]['pjpe']"
   ]
  },
  {
   "cell_type": "code",
   "execution_count": 4,
   "metadata": {},
   "outputs": [
    {
     "data": {
      "text/plain": [
       "76.37457878565327"
      ]
     },
     "execution_count": 4,
     "metadata": {},
     "output_type": "execute_result"
    }
   ],
   "source": [
    "trainer.model.test_history[0]['mpjpe']"
   ]
  },
  {
   "cell_type": "code",
   "execution_count": 6,
   "metadata": {},
   "outputs": [
    {
     "ename": "KeyError",
     "evalue": "'bbox'",
     "output_type": "error",
     "traceback": [
      "\u001b[0;31m---------------------------------------------------------------------------\u001b[0m",
      "\u001b[0;31mKeyError\u001b[0m                                  Traceback (most recent call last)",
      "Cell \u001b[0;32mIn[6], line 1\u001b[0m\n\u001b[0;32m----> 1\u001b[0m \u001b[43mplot_samples\u001b[49m\u001b[43m(\u001b[49m\n\u001b[1;32m      2\u001b[0m \u001b[43m    \u001b[49m\u001b[43mdataset_root_path\u001b[49m\u001b[43m,\u001b[49m\n\u001b[1;32m      3\u001b[0m \u001b[43m    \u001b[49m\u001b[43mtrainer\u001b[49m\u001b[38;5;241;43m.\u001b[39;49m\u001b[43mmodel\u001b[49m\u001b[43m,\u001b[49m\n\u001b[1;32m      4\u001b[0m \u001b[43m    \u001b[49m\u001b[43mtest_loader\u001b[49m\u001b[43m,\u001b[49m\n\u001b[1;32m      5\u001b[0m \u001b[43m    \u001b[49m\u001b[38;5;124;43m'\u001b[39;49m\u001b[38;5;124;43mtest\u001b[39;49m\u001b[38;5;124;43m'\u001b[39;49m\u001b[43m,\u001b[49m\n\u001b[1;32m      6\u001b[0m \u001b[43m    \u001b[49m\u001b[43mimg_figsize\u001b[49m\u001b[38;5;241;43m=\u001b[39;49m\u001b[43m(\u001b[49m\u001b[38;5;241;43m20\u001b[39;49m\u001b[43m,\u001b[49m\u001b[43m \u001b[49m\u001b[38;5;241;43m10\u001b[39;49m\u001b[43m)\u001b[49m\u001b[43m,\u001b[49m\n\u001b[1;32m      7\u001b[0m \u001b[43m    \u001b[49m\u001b[43mplot_figsize\u001b[49m\u001b[38;5;241;43m=\u001b[39;49m\u001b[43m(\u001b[49m\u001b[38;5;241;43m20.5\u001b[39;49m\u001b[43m,\u001b[49m\u001b[43m \u001b[49m\u001b[38;5;241;43m10\u001b[39;49m\u001b[43m)\u001b[49m\u001b[43m,\u001b[49m\n\u001b[1;32m      8\u001b[0m \u001b[43m    \u001b[49m\u001b[43msample_idices\u001b[49m\u001b[38;5;241;43m=\u001b[39;49m\u001b[43m[\u001b[49m\u001b[38;5;241;43m5000\u001b[39;49m\u001b[43m,\u001b[49m\u001b[43m \u001b[49m\u001b[38;5;241;43m10000\u001b[39;49m\u001b[43m,\u001b[49m\u001b[43m \u001b[49m\u001b[38;5;241;43m30000\u001b[39;49m\u001b[43m]\u001b[49m\n\u001b[1;32m      9\u001b[0m \u001b[43m)\u001b[49m\n",
      "File \u001b[0;32m/workspace/modules/utils/visualization.py:225\u001b[0m, in \u001b[0;36mplot_samples\u001b[0;34m(dataset_root_path, model, dataloader, data_subset, img_figsize, plot_figsize, sample_idices, is_plot_gt_skeleton)\u001b[0m\n\u001b[1;32m    223\u001b[0m root_2d \u001b[38;5;241m=\u001b[39m sample[\u001b[38;5;124m'\u001b[39m\u001b[38;5;124mroot_2d\u001b[39m\u001b[38;5;124m'\u001b[39m]\n\u001b[1;32m    224\u001b[0m root_3d \u001b[38;5;241m=\u001b[39m sample[\u001b[38;5;124m'\u001b[39m\u001b[38;5;124mroot_3d\u001b[39m\u001b[38;5;124m'\u001b[39m]\n\u001b[0;32m--> 225\u001b[0m bbox \u001b[38;5;241m=\u001b[39m \u001b[43msample\u001b[49m\u001b[43m[\u001b[49m\u001b[38;5;124;43m'\u001b[39;49m\u001b[38;5;124;43mbbox\u001b[39;49m\u001b[38;5;124;43m'\u001b[39;49m\u001b[43m]\u001b[49m\n\u001b[1;32m    226\u001b[0m \u001b[38;5;28mprint\u001b[39m(bbox)\n\u001b[1;32m    227\u001b[0m scale_factor \u001b[38;5;241m=\u001b[39m sample[\u001b[38;5;124m'\u001b[39m\u001b[38;5;124mscale_factor\u001b[39m\u001b[38;5;124m'\u001b[39m]\n",
      "\u001b[0;31mKeyError\u001b[0m: 'bbox'"
     ]
    }
   ],
   "source": [
    "plot_samples(\n",
    "    dataset_root_path,\n",
    "    trainer.model,\n",
    "    test_loader,\n",
    "    'test',\n",
    "    img_figsize=(20, 10),\n",
    "    plot_figsize=(20.5, 10),\n",
    "    sample_idices=[5000, 10000, 30000]\n",
    ")"
   ]
  },
  {
   "cell_type": "code",
   "execution_count": null,
   "metadata": {},
   "outputs": [],
   "source": []
  }
 ],
 "metadata": {
  "kernelspec": {
   "display_name": "Python 3 (ipykernel)",
   "language": "python",
   "name": "python3"
  },
  "orig_nbformat": 4,
  "vscode": {
   "interpreter": {
    "hash": "916dbcbb3f70747c44a77c7bcd40155683ae19c65e1c03b4aa3499c5328201f1"
   }
  }
 },
 "nbformat": 4,
 "nbformat_minor": 2
}
