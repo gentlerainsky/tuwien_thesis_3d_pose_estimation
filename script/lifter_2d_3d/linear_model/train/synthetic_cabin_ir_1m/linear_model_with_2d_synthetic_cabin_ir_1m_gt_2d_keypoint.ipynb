{
 "cells": [
  {
   "cell_type": "code",
   "execution_count": 1,
   "metadata": {},
   "outputs": [
    {
     "name": "stderr",
     "output_type": "stream",
     "text": [
      "Global seed set to 1234\n",
      "GPU available: True (cuda), used: True\n",
      "TPU available: False, using: 0 TPU cores\n",
      "IPU available: False, using: 0 IPUs\n",
      "HPU available: False, using: 0 HPUs\n"
     ]
    },
    {
     "name": "stdout",
     "output_type": "stream",
     "text": [
      "train_dataset 75000 val_dataset 37500 test_dataset 30349\n"
     ]
    },
    {
     "name": "stderr",
     "output_type": "stream",
     "text": [
      "LOCAL_RANK: 0 - CUDA_VISIBLE_DEVICES: [0]\n",
      "\n",
      "  | Name  | Type          | Params\n",
      "----------------------------------------\n",
      "0 | model | BaselineModel | 4.3 M \n",
      "----------------------------------------\n",
      "4.3 M     Trainable params\n",
      "0         Non-trainable params\n",
      "4.3 M     Total params\n",
      "17.105    Total estimated model params size (MB)\n"
     ]
    },
    {
     "data": {
      "application/vnd.jupyter.widget-view+json": {
       "model_id": "07579e763bba4513b999eaa1c7547ff5",
       "version_major": 2,
       "version_minor": 0
      },
      "text/plain": [
       "Sanity Checking: 0it [00:00, ?it/s]"
      ]
     },
     "metadata": {},
     "output_type": "display_data"
    },
    {
     "name": "stdout",
     "output_type": "stream",
     "text": [
      "check #0\n",
      "val MPJPE from: 128 samples : 2489.6364212036133\n",
      "activity_macro_mpjpe nan\n"
     ]
    },
    {
     "name": "stderr",
     "output_type": "stream",
     "text": [
      "/opt/conda/lib/python3.10/site-packages/numpy/core/fromnumeric.py:3464: RuntimeWarning: Mean of empty slice.\n",
      "  return _methods._mean(a, axis=axis, dtype=dtype,\n",
      "/opt/conda/lib/python3.10/site-packages/numpy/core/_methods.py:192: RuntimeWarning: invalid value encountered in scalar divide\n",
      "  ret = ret.dtype.type(ret / rcount)\n"
     ]
    },
    {
     "data": {
      "application/vnd.jupyter.widget-view+json": {
       "model_id": "72d49826288e493bbcb0e7dcccb789bb",
       "version_major": 2,
       "version_minor": 0
      },
      "text/plain": [
       "Training: 0it [00:00, ?it/s]"
      ]
     },
     "metadata": {},
     "output_type": "display_data"
    },
    {
     "data": {
      "application/vnd.jupyter.widget-view+json": {
       "model_id": "97720005e801498cb3143d3a01971c90",
       "version_major": 2,
       "version_minor": 0
      },
      "text/plain": [
       "Validation: 0it [00:00, ?it/s]"
      ]
     },
     "metadata": {},
     "output_type": "display_data"
    },
    {
     "name": "stdout",
     "output_type": "stream",
     "text": [
      "check #1\n",
      "training loss from 5855 batches: 230.9062959125264\n",
      "val MPJPE from: 37440 samples : 74.92788136005402\n",
      "activity_macro_mpjpe nan\n"
     ]
    },
    {
     "name": "stderr",
     "output_type": "stream",
     "text": [
      "/opt/conda/lib/python3.10/site-packages/pytorch_lightning/trainer/call.py:54: UserWarning: Detected KeyboardInterrupt, attempting graceful shutdown...\n",
      "  rank_zero_warn(\"Detected KeyboardInterrupt, attempting graceful shutdown...\")\n"
     ]
    }
   ],
   "source": [
    "import os\n",
    "import torch\n",
    "import numpy as np\n",
    "import pandas as pd\n",
    "import pytorch_lightning as pl\n",
    "import matplotlib.pyplot as plt\n",
    "from pytorch_lightning.callbacks import ModelCheckpoint\n",
    "from pytorch_lightning.callbacks.early_stopping import EarlyStopping\n",
    "from torch.utils.data import DataLoader\n",
    "from modules.lifter_2d_3d.dataset.groundtruth_keypoint_dataset import GroundTruthKeypointDataset\n",
    "from modules.lifter_2d_3d.model.linear_model.lit_linear_model import LitSimpleBaselineLinear\n",
    "from modules.utils.visualization import (\n",
    "    plot_samples\n",
    ")\n",
    "from IPython.display import display\n",
    "from pathlib import Path\n",
    "pl.seed_everything(1234)\n",
    "\n",
    "# ------------\n",
    "# dataset path\n",
    "# ------------\n",
    "dataset_root_path = Path('/root/synthetic_cabin_1m/syntheticcabin_1mil/processed_syntheticCabin_1m/A_Pillar_Codriver/')\n",
    "keypoint_2d_path = dataset_root_path / 'annotations'\n",
    "keypoint_3d_path = dataset_root_path / 'annotations'\n",
    "# ------------\n",
    "# model\n",
    "# ------------\n",
    "image_width = 1280\n",
    "image_height = 1024\n",
    "batch_size = 64\n",
    "max_epoch = 200\n",
    "val_check_period = 5\n",
    "early_stopping_patience = 5\n",
    "lit_model = LitSimpleBaselineLinear(exclude_ankle=True, exclude_knee=True)\n",
    "# ------------\n",
    "# saved model path\n",
    "# ------------\n",
    "saved_model_path = './saved_lifter_2d_3d_model/linear_model/synthetic_cabin_ir_1m/A_Pillar_Codriver/gt_2d/'\n",
    "\n",
    "\n",
    "train_dataset = GroundTruthKeypointDataset(\n",
    "    annotation_file=(keypoint_3d_path / 'person_keypoints_train.json').as_posix(),\n",
    "    image_width=image_width,\n",
    "    image_height=image_height,\n",
    "    exclude_ankle=True,\n",
    "    exclude_knee=True,\n",
    "    is_center_to_neck=True,\n",
    "    is_normalize_to_bbox=False,\n",
    "    is_normalize_to_pose=True,\n",
    "    is_normalize_rotation=True\n",
    ")\n",
    "val_dataset = GroundTruthKeypointDataset(\n",
    "    annotation_file=(keypoint_3d_path / 'person_keypoints_val.json').as_posix(),\n",
    "    image_width=image_width,\n",
    "    image_height=image_height,\n",
    "    exclude_ankle=True,\n",
    "    exclude_knee=True,\n",
    "    is_center_to_neck=True,\n",
    "    is_normalize_to_bbox=False,\n",
    "    is_normalize_to_pose=True,\n",
    "    is_normalize_rotation=True\n",
    ")\n",
    "test_dataset = GroundTruthKeypointDataset(\n",
    "    annotation_file=(keypoint_3d_path / 'person_keypoints_test.json').as_posix(),\n",
    "    image_width=image_width,\n",
    "    image_height=image_height,\n",
    "    exclude_ankle=True,\n",
    "    exclude_knee=True,\n",
    "    is_center_to_neck=True,\n",
    "    is_normalize_to_bbox=False,\n",
    "    is_normalize_to_pose=True,\n",
    "    is_normalize_rotation=True\n",
    ")\n",
    "\n",
    "print(\n",
    "    'train_dataset', len(train_dataset),\n",
    "    'val_dataset', len(val_dataset),\n",
    "    'test_dataset', len(test_dataset)\n",
    ")\n",
    "train_loader = DataLoader(train_dataset, batch_size=batch_size, drop_last=True, shuffle=True, num_workers=24)\n",
    "val_loader = DataLoader(val_dataset, batch_size=batch_size, drop_last=True, num_workers=24)\n",
    "test_loader = DataLoader(test_dataset, batch_size=batch_size, num_workers=24)\n",
    "\n",
    "model_checkpoint = ModelCheckpoint(monitor='val_loss',mode='min', save_top_k=1)\n",
    "early_stopping = EarlyStopping(monitor='val_loss', mode='min', patience=early_stopping_patience)\n",
    "\n",
    "\n",
    "if not os.path.exists(saved_model_path):\n",
    "    os.makedirs(saved_model_path)\n",
    "\n",
    "device = 'cuda' if torch.cuda.is_available() else 'cpu'\n",
    "trainer = pl.Trainer(\n",
    "    # max_steps=10,\n",
    "    max_epochs=max_epoch,\n",
    "    callbacks=[model_checkpoint, early_stopping],\n",
    "    accelerator=device,\n",
    "    check_val_every_n_epoch=val_check_period,\n",
    "    default_root_dir=saved_model_path,\n",
    "    gradient_clip_val=1.0\n",
    ")\n",
    "trainer.fit(lit_model, train_loader, val_loader)"
   ]
  },
  {
   "cell_type": "code",
   "execution_count": null,
   "metadata": {},
   "outputs": [],
   "source": [
    "with open(f'{saved_model_path}/best_model_path.txt', 'w') as f:\n",
    "    f.writelines(model_checkpoint.best_model_path)\n",
    "best_checkpoint_path = model_checkpoint.best_model_path\n",
    "trainer.test(ckpt_path=best_checkpoint_path, dataloaders=test_loader)"
   ]
  },
  {
   "cell_type": "code",
   "execution_count": null,
   "metadata": {},
   "outputs": [],
   "source": [
    "trainer.model.test_history[0]['pjpe']"
   ]
  },
  {
   "cell_type": "code",
   "execution_count": null,
   "metadata": {},
   "outputs": [],
   "source": [
    "trainer.model.test_history[0]['mpjpe']"
   ]
  },
  {
   "cell_type": "code",
   "execution_count": null,
   "metadata": {},
   "outputs": [],
   "source": [
    "plot_samples(\n",
    "    dataset_root_path,\n",
    "    trainer.model,\n",
    "    test_loader,\n",
    "    'test',\n",
    "    img_figsize=(20, 10),\n",
    "    plot_figsize=(20.5, 10),\n",
    "    sample_indices=[5000, 10000, 30000]\n",
    ")"
   ]
  },
  {
   "cell_type": "code",
   "execution_count": null,
   "metadata": {},
   "outputs": [],
   "source": []
  }
 ],
 "metadata": {
  "kernelspec": {
   "display_name": "Python 3 (ipykernel)",
   "language": "python",
   "name": "python3"
  },
  "language_info": {
   "codemirror_mode": {
    "name": "ipython",
    "version": 3
   },
   "file_extension": ".py",
   "mimetype": "text/x-python",
   "name": "python",
   "nbconvert_exporter": "python",
   "pygments_lexer": "ipython3",
   "version": "3.10.11"
  },
  "orig_nbformat": 4,
  "vscode": {
   "interpreter": {
    "hash": "916dbcbb3f70747c44a77c7bcd40155683ae19c65e1c03b4aa3499c5328201f1"
   }
  }
 },
 "nbformat": 4,
 "nbformat_minor": 2
}
