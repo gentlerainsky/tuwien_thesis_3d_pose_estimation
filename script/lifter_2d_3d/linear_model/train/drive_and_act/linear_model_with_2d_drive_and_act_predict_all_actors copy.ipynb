{
 "cells": [
  {
   "cell_type": "code",
   "execution_count": 1,
   "metadata": {},
   "outputs": [
    {
     "name": "stderr",
     "output_type": "stream",
     "text": [
      "Global seed set to 1234\n"
     ]
    },
    {
     "name": "stdout",
     "output_type": "stream",
     "text": [
      "skipping problematic image 3628\n",
      "skipping problematic image 14835\n",
      "Annotation is not found for 15783\n",
      "Annotation is not found for 17258\n",
      "Annotation is not found for 17259\n",
      "Annotation is not found for 21271\n",
      "skipping problematic image 32959\n",
      "skipping problematic image 28113\n"
     ]
    },
    {
     "ename": "AttributeError",
     "evalue": "'BaseDataset' object has no attribute 'sample_weight'",
     "output_type": "error",
     "traceback": [
      "\u001b[0;31m---------------------------------------------------------------------------\u001b[0m",
      "\u001b[0;31mAttributeError\u001b[0m                            Traceback (most recent call last)",
      "Cell \u001b[0;32mIn[1], line 9\u001b[0m\n\u001b[1;32m      5\u001b[0m \u001b[38;5;28;01mfrom\u001b[39;00m \u001b[38;5;21;01mmodules\u001b[39;00m\u001b[38;5;21;01m.\u001b[39;00m\u001b[38;5;21;01mexperiments\u001b[39;00m\u001b[38;5;21;01m.\u001b[39;00m\u001b[38;5;21;01mexperiment\u001b[39;00m \u001b[38;5;28;01mimport\u001b[39;00m Experiment\n\u001b[1;32m      7\u001b[0m pl\u001b[38;5;241m.\u001b[39mseed_everything(\u001b[38;5;241m1234\u001b[39m)\n\u001b[0;32m----> 9\u001b[0m constructed_loader \u001b[38;5;241m=\u001b[39m \u001b[43mconstruct_drive_and_act_dataset\u001b[49m\u001b[43m(\u001b[49m\u001b[43m)\u001b[49m\n\u001b[1;32m     10\u001b[0m saved_model_path \u001b[38;5;241m=\u001b[39m get_saved_model_path(\n\u001b[1;32m     11\u001b[0m     model_name\u001b[38;5;241m=\u001b[39m\u001b[38;5;124m'\u001b[39m\u001b[38;5;124mlinear_model\u001b[39m\u001b[38;5;124m'\u001b[39m,\n\u001b[1;32m     12\u001b[0m     model_suffix\u001b[38;5;241m=\u001b[39m\u001b[38;5;124m'\u001b[39m\u001b[38;5;124mall_actors\u001b[39m\u001b[38;5;124m'\u001b[39m,\n\u001b[0;32m   (...)\u001b[0m\n\u001b[1;32m     16\u001b[0m     pretrained_datasubset_name\u001b[38;5;241m=\u001b[39m\u001b[38;5;124m'\u001b[39m\u001b[38;5;124mA_Pillar_Codriver\u001b[39m\u001b[38;5;124m'\u001b[39m,\n\u001b[1;32m     17\u001b[0m )\n\u001b[1;32m     18\u001b[0m experiment \u001b[38;5;241m=\u001b[39m Experiment(\n\u001b[1;32m     19\u001b[0m     LitModel\u001b[38;5;241m=\u001b[39mLitSimpleBaselineLinear,\n\u001b[1;32m     20\u001b[0m     construted_loaders\u001b[38;5;241m=\u001b[39mconstructed_loader,\n\u001b[1;32m     21\u001b[0m     saved_model_path\u001b[38;5;241m=\u001b[39msaved_model_path,\n\u001b[1;32m     22\u001b[0m \n\u001b[1;32m     23\u001b[0m )\n",
      "File \u001b[0;32m/workspace/modules/experiments/dataset.py:108\u001b[0m, in \u001b[0;36mconstruct_drive_and_act_dataset\u001b[0;34m(keypoint_2d_path, keypoint_3d_path, bbox_file, image_width, image_height, train_actors, val_actors, test_actors, batch_size)\u001b[0m\n\u001b[1;32m     80\u001b[0m val_dataset \u001b[38;5;241m=\u001b[39m BaseDataset(\n\u001b[1;32m     81\u001b[0m     prediction_file\u001b[38;5;241m=\u001b[39m(keypoint_2d_path \u001b[38;5;241m/\u001b[39m \u001b[38;5;124m'\u001b[39m\u001b[38;5;124mkeypoint_detection_train.json\u001b[39m\u001b[38;5;124m'\u001b[39m)\u001b[38;5;241m.\u001b[39mas_posix(),\n\u001b[1;32m     82\u001b[0m     annotation_file\u001b[38;5;241m=\u001b[39m(keypoint_3d_path \u001b[38;5;241m/\u001b[39m \u001b[38;5;124m'\u001b[39m\u001b[38;5;124mperson_keypoints_train.json\u001b[39m\u001b[38;5;124m'\u001b[39m)\u001b[38;5;241m.\u001b[39mas_posix(),\n\u001b[0;32m   (...)\u001b[0m\n\u001b[1;32m     92\u001b[0m     is_normalize_rotation\u001b[38;5;241m=\u001b[39m\u001b[38;5;28;01mTrue\u001b[39;00m\n\u001b[1;32m     93\u001b[0m )\n\u001b[1;32m     94\u001b[0m test_dataset \u001b[38;5;241m=\u001b[39m BaseDataset(\n\u001b[1;32m     95\u001b[0m     prediction_file\u001b[38;5;241m=\u001b[39m(keypoint_2d_path \u001b[38;5;241m/\u001b[39m \u001b[38;5;124m'\u001b[39m\u001b[38;5;124mkeypoint_detection_train.json\u001b[39m\u001b[38;5;124m'\u001b[39m)\u001b[38;5;241m.\u001b[39mas_posix(),\n\u001b[1;32m     96\u001b[0m     annotation_file\u001b[38;5;241m=\u001b[39m(keypoint_3d_path \u001b[38;5;241m/\u001b[39m \u001b[38;5;124m'\u001b[39m\u001b[38;5;124mperson_keypoints_train.json\u001b[39m\u001b[38;5;124m'\u001b[39m)\u001b[38;5;241m.\u001b[39mas_posix(),\n\u001b[0;32m   (...)\u001b[0m\n\u001b[1;32m    106\u001b[0m     is_normalize_rotation\u001b[38;5;241m=\u001b[39m\u001b[38;5;28;01mTrue\u001b[39;00m\n\u001b[1;32m    107\u001b[0m )\n\u001b[0;32m--> 108\u001b[0m weighted_sampler \u001b[38;5;241m=\u001b[39m sampler\u001b[38;5;241m.\u001b[39mWeightedRandomSampler(\u001b[43mtrain_dataset\u001b[49m\u001b[38;5;241;43m.\u001b[39;49m\u001b[43msample_weight\u001b[49m, \u001b[38;5;28mlen\u001b[39m(train_dataset\u001b[38;5;241m.\u001b[39msample_weight), replacement\u001b[38;5;241m=\u001b[39m\u001b[38;5;28;01mTrue\u001b[39;00m)\n\u001b[1;32m    109\u001b[0m train_loader \u001b[38;5;241m=\u001b[39m DataLoader(train_dataset, batch_size\u001b[38;5;241m=\u001b[39mbatch_size, drop_last\u001b[38;5;241m=\u001b[39m\u001b[38;5;28;01mTrue\u001b[39;00m, num_workers\u001b[38;5;241m=\u001b[39m\u001b[38;5;241m24\u001b[39m, sampler\u001b[38;5;241m=\u001b[39mweighted_sampler)\n\u001b[1;32m    110\u001b[0m val_loader \u001b[38;5;241m=\u001b[39m DataLoader(val_dataset, batch_size\u001b[38;5;241m=\u001b[39mbatch_size, drop_last\u001b[38;5;241m=\u001b[39m\u001b[38;5;28;01mTrue\u001b[39;00m, num_workers\u001b[38;5;241m=\u001b[39m\u001b[38;5;241m24\u001b[39m)\n",
      "\u001b[0;31mAttributeError\u001b[0m: 'BaseDataset' object has no attribute 'sample_weight'"
     ]
    }
   ],
   "source": [
    "import pytorch_lightning as pl\n",
    "from modules.lifter_2d_3d.model.linear_model.lit_linear_model import LitSimpleBaselineLinear\n",
    "from modules.experiments.dataset import construct_drive_and_act_dataset\n",
    "from modules.utils.convention import get_saved_model_path\n",
    "from modules.experiments.experiment import Experiment\n",
    "\n",
    "pl.seed_everything(1234)\n",
    "\n",
    "constructed_loader = construct_drive_and_act_dataset()\n",
    "saved_model_path = get_saved_model_path(\n",
    "    model_name='linear_model',\n",
    "    model_suffix='all_actors',\n",
    "    trained_dataset_name='drive_and_act',\n",
    "    trained_datasubset_name='predicted_2d_all_actors',\n",
    "    pretrained_dataset_name='synthetic_cabin_ir',\n",
    "    pretrained_datasubset_name='A_Pillar_Codriver',\n",
    ")\n",
    "experiment = Experiment(\n",
    "    LitModel=LitSimpleBaselineLinear,\n",
    "    construted_loaders=constructed_loader,\n",
    "    saved_model_path=saved_model_path,\n",
    "\n",
    ")\n",
    "\n",
    "experiment.setup()\n",
    "experiment.lit_model.learning_rate = 1e-3\n",
    "experiment.train()"
   ]
  },
  {
   "cell_type": "code",
   "execution_count": null,
   "metadata": {},
   "outputs": [],
   "source": [
    "with open(f'{saved_model_path}/best_model_path.txt', 'w') as f:\n",
    "    f.writelines(model_checkpoint.best_model_path)\n",
    "best_checkpoint_path = model_checkpoint.best_model_path\n",
    "trainer.test(ckpt_path=best_checkpoint_path, dataloaders=test_loader)"
   ]
  },
  {
   "cell_type": "code",
   "execution_count": null,
   "metadata": {},
   "outputs": [],
   "source": [
    "pd.DataFrame(lit_model.test_history[0]['activities_mpjpe'], index=['mpjpe']).T.sort_values('mpjpe')"
   ]
  },
  {
   "cell_type": "code",
   "execution_count": null,
   "metadata": {},
   "outputs": [],
   "source": [
    "pd.DataFrame(lit_model.test_history[0]['activities_mpjpe'], index=['mpjpe']).T.mean()"
   ]
  },
  {
   "cell_type": "code",
   "execution_count": null,
   "metadata": {},
   "outputs": [],
   "source": [
    "plot_samples(\n",
    "    dataset_root_path,\n",
    "    trainer.model,\n",
    "    test_loader,\n",
    "    'train',\n",
    "    img_figsize=(20, 10),\n",
    "    plot_figsize=(20.5, 10),\n",
    "    sample_idices=[1000, 2500, 6000],\n",
    "    is_plot_gt_skeleton=False\n",
    ")"
   ]
  },
  {
   "cell_type": "code",
   "execution_count": null,
   "metadata": {},
   "outputs": [],
   "source": []
  }
 ],
 "metadata": {
  "kernelspec": {
   "display_name": "Python 3 (ipykernel)",
   "language": "python",
   "name": "python3"
  },
  "language_info": {
   "codemirror_mode": {
    "name": "ipython",
    "version": 3
   },
   "file_extension": ".py",
   "mimetype": "text/x-python",
   "name": "python",
   "nbconvert_exporter": "python",
   "pygments_lexer": "ipython3",
   "version": "3.10.11"
  },
  "orig_nbformat": 4,
  "vscode": {
   "interpreter": {
    "hash": "916dbcbb3f70747c44a77c7bcd40155683ae19c65e1c03b4aa3499c5328201f1"
   }
  }
 },
 "nbformat": 4,
 "nbformat_minor": 2
}
