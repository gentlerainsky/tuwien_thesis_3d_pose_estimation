{
 "cells": [
  {
   "cell_type": "code",
   "execution_count": 1,
   "metadata": {},
   "outputs": [
    {
     "name": "stderr",
     "output_type": "stream",
     "text": [
      "Global seed set to 1234\n"
     ]
    }
   ],
   "source": [
    "import os\n",
    "import torch\n",
    "import pandas as pd\n",
    "import numpy as np\n",
    "import pytorch_lightning as pl\n",
    "from pytorch_lightning.callbacks import ModelCheckpoint\n",
    "from pytorch_lightning.callbacks.early_stopping import EarlyStopping\n",
    "from torch.utils.data import DataLoader\n",
    "from modules.lifter_2d_3d.dataset.drive_and_act_keypoint_dataset import DriveAndActKeypointDataset\n",
    "from modules.lifter_2d_3d.model.linear_model.lit_linear_model import LitSimpleBaselineLinear\n",
    "from modules.utils.visualization import (\n",
    "    plot_samples\n",
    ")\n",
    "from IPython.display import display\n",
    "from pathlib import Path\n",
    "\n",
    "\n",
    "pl.seed_everything(1234)\n",
    "\n",
    "# ------------\n",
    "# dataset path\n",
    "# ------------\n",
    "dataset_root_path = Path('/root/data/processed/drive_and_act/')\n",
    "keypoint_2d_path = dataset_root_path / 'keypoint_detection_results'\n",
    "keypoint_3d_path = dataset_root_path / 'annotations'\n",
    "# ------------\n",
    "# model\n",
    "# ------------\n",
    "image_width = 1280\n",
    "image_height = 1024\n",
    "batch_size = 64\n",
    "max_epoch = 200\n",
    "val_check_period = 5\n",
    "early_stopping_patience = 5\n",
    "# ------------\n",
    "# saved model path\n",
    "# ------------\n",
    "pretrained_model_path = './saved_lifter_2d_3d_model/synthetic_cabin_ir/A_Pillar_Codriver/prediction/linear_model/'\n",
    "with open(f'{pretrained_model_path}/best_model_path.txt', 'r') as f:\n",
    "    checkpoint_path = f.readline()\n"
   ]
  },
  {
   "cell_type": "code",
   "execution_count": 2,
   "metadata": {},
   "outputs": [],
   "source": [
    "def run_experiment(\n",
    "    train_actors,\n",
    "    val_actors,\n",
    "    test_actors,\n",
    "    is_plot_gt_skeleton=False,\n",
    "    model_suffix=''\n",
    "):\n",
    "    train_dataset = DriveAndActKeypointDataset(\n",
    "        prediction_file=(keypoint_2d_path / 'keypoint_detection_train.json').as_posix(),\n",
    "        annotation_file=(keypoint_3d_path / 'person_keypoints_train.json').as_posix(),\n",
    "        image_width=image_width,\n",
    "        image_height=image_height,\n",
    "        actors=train_actors,\n",
    "        exclude_ankle=True,\n",
    "        exclude_knee=True\n",
    "    )\n",
    "    val_dataset = DriveAndActKeypointDataset(\n",
    "        prediction_file=(keypoint_2d_path / 'keypoint_detection_train.json').as_posix(),\n",
    "        annotation_file=(keypoint_3d_path / 'person_keypoints_train.json').as_posix(),\n",
    "        image_width=image_width,\n",
    "        image_height=image_height,\n",
    "        actors=val_actors,\n",
    "        exclude_ankle=True,\n",
    "        exclude_knee=True\n",
    "    )\n",
    "    test_dataset = DriveAndActKeypointDataset(\n",
    "        prediction_file=(keypoint_2d_path / 'keypoint_detection_train.json').as_posix(),\n",
    "        annotation_file=(keypoint_3d_path / 'person_keypoints_train.json').as_posix(),\n",
    "        image_width=image_width,\n",
    "        image_height=image_height,\n",
    "        actors=test_actors,\n",
    "        exclude_ankle=True,\n",
    "        exclude_knee=True\n",
    "    )\n",
    "\n",
    "    print(\n",
    "        'train_dataset', len(train_dataset),\n",
    "        'val_dataset', len(val_dataset),\n",
    "        'test_dataset', len(test_dataset)\n",
    "    )\n",
    "    train_loader = DataLoader(train_dataset, batch_size=batch_size, drop_last=True, shuffle=True, num_workers=24)\n",
    "    val_loader = DataLoader(val_dataset, batch_size=batch_size, drop_last=True, num_workers=24)\n",
    "    test_loader = DataLoader(test_dataset, batch_size=batch_size, num_workers=24)\n",
    "\n",
    "    all_activities = train_dataset.activities.union(val_dataset.activities).union(test_dataset.activities)\n",
    "    # lit_model = LitSimpleBaselineLinear(exclude_ankle=True, exclude_knee=True, all_activities=all_activities)\n",
    "    lit_model = LitSimpleBaselineLinear.load_from_checkpoint(checkpoint_path)\n",
    "    lit_model.all_activities = all_activities\n",
    "    model_checkpoint = ModelCheckpoint(monitor='val_loss',mode='min', save_top_k=1)\n",
    "    early_stopping = EarlyStopping(monitor=\"val_loss\", mode=\"min\", patience=early_stopping_patience)\n",
    "\n",
    "    device = 'cuda' if torch.cuda.is_available() else 'cpu'\n",
    "    saved_model_path = f'./saved_lifter_2d_3d_model/drive_and_act/transfer_learning/synthetic_cabin_ir/all_actors/linear_model_{model_suffix}'\n",
    "    if not os.path.exists(saved_model_path):\n",
    "        os.makedirs(saved_model_path)\n",
    "    trainer = pl.Trainer(\n",
    "        # max_steps=10,\n",
    "        max_epochs=max_epoch,\n",
    "        callbacks=[model_checkpoint, early_stopping],\n",
    "        accelerator=device,\n",
    "        check_val_every_n_epoch=val_check_period,\n",
    "        default_root_dir=saved_model_path,\n",
    "        gradient_clip_val=1.0\n",
    "    )\n",
    "    trainer.fit(lit_model, train_loader, val_loader)\n",
    "    with open(f'{saved_model_path}/best_model_path.txt', 'w') as f:\n",
    "        f.writelines(model_checkpoint.best_model_path)\n",
    "    best_checkpoint_path = model_checkpoint.best_model_path\n",
    "    trainer.test(ckpt_path=best_checkpoint_path, dataloaders=test_loader)\n",
    "    return trainer"
   ]
  },
  {
   "cell_type": "markdown",
   "metadata": {},
   "source": [
    "## Fine-Tuned with full dataset"
   ]
  },
  {
   "cell_type": "code",
   "execution_count": 3,
   "metadata": {},
   "outputs": [
    {
     "name": "stdout",
     "output_type": "stream",
     "text": [
      "skipping problematic image 15783\n",
      "skipping problematic image 17258\n",
      "skipping problematic image 17259\n",
      "skipping problematic image 21271\n",
      "skipping problematic image 21272\n",
      "skipping problematic image 21273\n",
      "skipping problematic image 21274\n",
      "skipping problematic image 21275\n",
      "skipping problematic image 21276\n",
      "skipping problematic image 33527\n",
      "train_dataset 22885 val_dataset 6240 test_dataset 11018\n"
     ]
    },
    {
     "name": "stderr",
     "output_type": "stream",
     "text": [
      "GPU available: True (cuda), used: True\n",
      "TPU available: False, using: 0 TPU cores\n",
      "IPU available: False, using: 0 IPUs\n",
      "HPU available: False, using: 0 HPUs\n",
      "Missing logger folder: saved_lifter_2d_3d_model/drive_and_act/transfer_learning/synthetic_cabin_ir/all_actors/linear_model_all_actor/lightning_logs\n",
      "LOCAL_RANK: 0 - CUDA_VISIBLE_DEVICES: [0]\n",
      "\n",
      "  | Name  | Type          | Params\n",
      "----------------------------------------\n",
      "0 | model | BaselineModel | 4.3 M \n",
      "----------------------------------------\n",
      "4.3 M     Trainable params\n",
      "0         Non-trainable params\n",
      "4.3 M     Total params\n",
      "17.105    Total estimated model params size (MB)\n"
     ]
    },
    {
     "data": {
      "application/vnd.jupyter.widget-view+json": {
       "model_id": "f27b6f7a11c34752b8442b6fe3a45f04",
       "version_major": 2,
       "version_minor": 0
      },
      "text/plain": [
       "Sanity Checking: 0it [00:00, ?it/s]"
      ]
     },
     "metadata": {},
     "output_type": "display_data"
    },
    {
     "name": "stdout",
     "output_type": "stream",
     "text": [
      "check #0\n",
      "val MPJPE from: 128 samples : 862.1552586555481\n"
     ]
    },
    {
     "data": {
      "application/vnd.jupyter.widget-view+json": {
       "model_id": "fed11a2358a0406ca0ad0880ebf6b1ff",
       "version_major": 2,
       "version_minor": 0
      },
      "text/plain": [
       "Training: 0it [00:00, ?it/s]"
      ]
     },
     "metadata": {},
     "output_type": "display_data"
    },
    {
     "data": {
      "application/vnd.jupyter.widget-view+json": {
       "model_id": "71d6251fde364ae4bbcc5ecf69dd1982",
       "version_major": 2,
       "version_minor": 0
      },
      "text/plain": [
       "Validation: 0it [00:00, ?it/s]"
      ]
     },
     "metadata": {},
     "output_type": "display_data"
    },
    {
     "name": "stdout",
     "output_type": "stream",
     "text": [
      "check #1\n",
      "training loss from 1785 batches: 94.25492033738048\n",
      "val MPJPE from: 6208 samples : 74.82334971427917\n"
     ]
    },
    {
     "data": {
      "application/vnd.jupyter.widget-view+json": {
       "model_id": "1980bb68f374402b8a25c3aab74bed89",
       "version_major": 2,
       "version_minor": 0
      },
      "text/plain": [
       "Validation: 0it [00:00, ?it/s]"
      ]
     },
     "metadata": {},
     "output_type": "display_data"
    },
    {
     "name": "stdout",
     "output_type": "stream",
     "text": [
      "check #2\n",
      "training loss from 1785 batches: 81.22644275635564\n",
      "val MPJPE from: 6208 samples : 69.84874606132507\n"
     ]
    },
    {
     "data": {
      "application/vnd.jupyter.widget-view+json": {
       "model_id": "1d18d7d1fe80442eb212eaf5f74dbcd2",
       "version_major": 2,
       "version_minor": 0
      },
      "text/plain": [
       "Validation: 0it [00:00, ?it/s]"
      ]
     },
     "metadata": {},
     "output_type": "display_data"
    },
    {
     "name": "stdout",
     "output_type": "stream",
     "text": [
      "check #3\n",
      "training loss from 1785 batches: 77.97325734122127\n",
      "val MPJPE from: 6208 samples : 70.46225666999817\n"
     ]
    },
    {
     "data": {
      "application/vnd.jupyter.widget-view+json": {
       "model_id": "8fe50412c9da4b589f5db892bf52c555",
       "version_major": 2,
       "version_minor": 0
      },
      "text/plain": [
       "Validation: 0it [00:00, ?it/s]"
      ]
     },
     "metadata": {},
     "output_type": "display_data"
    },
    {
     "name": "stdout",
     "output_type": "stream",
     "text": [
      "check #4\n",
      "training loss from 1785 batches: 74.74074454910281\n",
      "val MPJPE from: 6208 samples : 75.51596313714981\n"
     ]
    },
    {
     "data": {
      "application/vnd.jupyter.widget-view+json": {
       "model_id": "61117de244474f59afbc4cec215df788",
       "version_major": 2,
       "version_minor": 0
      },
      "text/plain": [
       "Validation: 0it [00:00, ?it/s]"
      ]
     },
     "metadata": {},
     "output_type": "display_data"
    },
    {
     "name": "stdout",
     "output_type": "stream",
     "text": [
      "check #5\n",
      "training loss from 1785 batches: 73.31458692457161\n",
      "val MPJPE from: 6208 samples : 81.28644526004791\n"
     ]
    },
    {
     "data": {
      "application/vnd.jupyter.widget-view+json": {
       "model_id": "930a18878b7a448cad20f546e2ab4b51",
       "version_major": 2,
       "version_minor": 0
      },
      "text/plain": [
       "Validation: 0it [00:00, ?it/s]"
      ]
     },
     "metadata": {},
     "output_type": "display_data"
    },
    {
     "name": "stdout",
     "output_type": "stream",
     "text": [
      "check #6\n",
      "training loss from 1785 batches: 72.36672169854995\n",
      "val MPJPE from: 6208 samples : 70.35797089338303\n"
     ]
    },
    {
     "data": {
      "application/vnd.jupyter.widget-view+json": {
       "model_id": "28eed53c343c4a0197bed4f7e3fea449",
       "version_major": 2,
       "version_minor": 0
      },
      "text/plain": [
       "Validation: 0it [00:00, ?it/s]"
      ]
     },
     "metadata": {},
     "output_type": "display_data"
    },
    {
     "name": "stdout",
     "output_type": "stream",
     "text": [
      "check #7\n",
      "training loss from 1785 batches: 71.05274773320231\n",
      "val MPJPE from: 6208 samples : 71.13915681838989\n"
     ]
    },
    {
     "name": "stderr",
     "output_type": "stream",
     "text": [
      "Restoring states from the checkpoint path at saved_lifter_2d_3d_model/drive_and_act/transfer_learning/synthetic_cabin_ir/all_actors/linear_model_all_actor/lightning_logs/version_0/checkpoints/epoch=9-step=3570.ckpt\n",
      "LOCAL_RANK: 0 - CUDA_VISIBLE_DEVICES: [0]\n",
      "Loaded model weights from the checkpoint at saved_lifter_2d_3d_model/drive_and_act/transfer_learning/synthetic_cabin_ir/all_actors/linear_model_all_actor/lightning_logs/version_0/checkpoints/epoch=9-step=3570.ckpt\n"
     ]
    },
    {
     "data": {
      "application/vnd.jupyter.widget-view+json": {
       "model_id": "06ce31a506d84dfda5f05356eaaebdb4",
       "version_major": 2,
       "version_minor": 0
      },
      "text/plain": [
       "Testing: 0it [00:00, ?it/s]"
      ]
     },
     "metadata": {},
     "output_type": "display_data"
    },
    {
     "name": "stdout",
     "output_type": "stream",
     "text": [
      "MPJPE: 62.961410552590884\n",
      "PJPE\n",
      "                      PJPE\n",
      "nose             53.143978\n",
      "left_eye         53.957650\n",
      "right_eye        53.185416\n",
      "left_ear         17.460848\n",
      "right_ear        45.776395\n",
      "left_shoulder    44.254614\n",
      "right_shoulder   44.034635\n",
      "left_elbow       68.870262\n",
      "right_elbow      69.981242\n",
      "left_wrist       85.122824\n",
      "right_wrist     105.900659\n",
      "left_hip         39.778425\n",
      "right_hip        36.302464\n",
      "activities_mpjpe:\n",
      "{}\n",
      "test mpjpe: 62.961410552590884\n"
     ]
    },
    {
     "name": "stderr",
     "output_type": "stream",
     "text": [
      "/opt/conda/lib/python3.10/site-packages/numpy/core/fromnumeric.py:3464: RuntimeWarning: Mean of empty slice.\n",
      "  return _methods._mean(a, axis=axis, dtype=dtype,\n",
      "/opt/conda/lib/python3.10/site-packages/numpy/core/_methods.py:192: RuntimeWarning: invalid value encountered in scalar divide\n",
      "  ret = ret.dtype.type(ret / rcount)\n"
     ]
    },
    {
     "data": {
      "text/html": [
       "<pre style=\"white-space:pre;overflow-x:auto;line-height:normal;font-family:Menlo,'DejaVu Sans Mono',consolas,'Courier New',monospace\">┏━━━━━━━━━━━━━━━━━━━━━━━━━━━┳━━━━━━━━━━━━━━━━━━━━━━━━━━━┓\n",
       "┃<span style=\"font-weight: bold\">        Test metric        </span>┃<span style=\"font-weight: bold\">       DataLoader 0        </span>┃\n",
       "┡━━━━━━━━━━━━━━━━━━━━━━━━━━━╇━━━━━━━━━━━━━━━━━━━━━━━━━━━┩\n",
       "│<span style=\"color: #008080; text-decoration-color: #008080\">           mpjpe           </span>│<span style=\"color: #800080; text-decoration-color: #800080\">    62.961410552590884     </span>│\n",
       "└───────────────────────────┴───────────────────────────┘\n",
       "</pre>\n"
      ],
      "text/plain": [
       "┏━━━━━━━━━━━━━━━━━━━━━━━━━━━┳━━━━━━━━━━━━━━━━━━━━━━━━━━━┓\n",
       "┃\u001b[1m \u001b[0m\u001b[1m       Test metric       \u001b[0m\u001b[1m \u001b[0m┃\u001b[1m \u001b[0m\u001b[1m      DataLoader 0       \u001b[0m\u001b[1m \u001b[0m┃\n",
       "┡━━━━━━━━━━━━━━━━━━━━━━━━━━━╇━━━━━━━━━━━━━━━━━━━━━━━━━━━┩\n",
       "│\u001b[36m \u001b[0m\u001b[36m          mpjpe          \u001b[0m\u001b[36m \u001b[0m│\u001b[35m \u001b[0m\u001b[35m   62.961410552590884    \u001b[0m\u001b[35m \u001b[0m│\n",
       "└───────────────────────────┴───────────────────────────┘\n"
      ]
     },
     "metadata": {},
     "output_type": "display_data"
    }
   ],
   "source": [
    "trainer = run_experiment(\n",
    "    train_actors=['vp1', 'vp2', 'vp3', 'vp4', 'vp5', 'vp6', 'vp7', 'vp8'],\n",
    "    val_actors=['vp9', 'vp10', 'vp15'],\n",
    "    test_actors=['vp11', 'vp12', 'vp13', 'vp14'],\n",
    "    is_plot_gt_skeleton=False,\n",
    "    model_suffix='all_actor'\n",
    ")"
   ]
  },
  {
   "cell_type": "code",
   "execution_count": 4,
   "metadata": {},
   "outputs": [
    {
     "data": {
      "text/plain": [
       "62.961410552590884"
      ]
     },
     "execution_count": 4,
     "metadata": {},
     "output_type": "execute_result"
    }
   ],
   "source": [
    "trainer.model.test_history[0]['mpjpe']\n"
   ]
  },
  {
   "cell_type": "code",
   "execution_count": 5,
   "metadata": {},
   "outputs": [
    {
     "data": {
      "text/html": [
       "<div>\n",
       "<style scoped>\n",
       "    .dataframe tbody tr th:only-of-type {\n",
       "        vertical-align: middle;\n",
       "    }\n",
       "\n",
       "    .dataframe tbody tr th {\n",
       "        vertical-align: top;\n",
       "    }\n",
       "\n",
       "    .dataframe thead th {\n",
       "        text-align: right;\n",
       "    }\n",
       "</style>\n",
       "<table border=\"1\" class=\"dataframe\">\n",
       "  <thead>\n",
       "    <tr style=\"text-align: right;\">\n",
       "      <th></th>\n",
       "      <th>PJPE</th>\n",
       "    </tr>\n",
       "  </thead>\n",
       "  <tbody>\n",
       "    <tr>\n",
       "      <th>nose</th>\n",
       "      <td>53.143978</td>\n",
       "    </tr>\n",
       "    <tr>\n",
       "      <th>left_eye</th>\n",
       "      <td>53.957650</td>\n",
       "    </tr>\n",
       "    <tr>\n",
       "      <th>right_eye</th>\n",
       "      <td>53.185416</td>\n",
       "    </tr>\n",
       "    <tr>\n",
       "      <th>left_ear</th>\n",
       "      <td>17.460848</td>\n",
       "    </tr>\n",
       "    <tr>\n",
       "      <th>right_ear</th>\n",
       "      <td>45.776395</td>\n",
       "    </tr>\n",
       "    <tr>\n",
       "      <th>left_shoulder</th>\n",
       "      <td>44.254614</td>\n",
       "    </tr>\n",
       "    <tr>\n",
       "      <th>right_shoulder</th>\n",
       "      <td>44.034635</td>\n",
       "    </tr>\n",
       "    <tr>\n",
       "      <th>left_elbow</th>\n",
       "      <td>68.870262</td>\n",
       "    </tr>\n",
       "    <tr>\n",
       "      <th>right_elbow</th>\n",
       "      <td>69.981242</td>\n",
       "    </tr>\n",
       "    <tr>\n",
       "      <th>left_wrist</th>\n",
       "      <td>85.122824</td>\n",
       "    </tr>\n",
       "    <tr>\n",
       "      <th>right_wrist</th>\n",
       "      <td>105.900659</td>\n",
       "    </tr>\n",
       "    <tr>\n",
       "      <th>left_hip</th>\n",
       "      <td>39.778425</td>\n",
       "    </tr>\n",
       "    <tr>\n",
       "      <th>right_hip</th>\n",
       "      <td>36.302464</td>\n",
       "    </tr>\n",
       "  </tbody>\n",
       "</table>\n",
       "</div>"
      ],
      "text/plain": [
       "                      PJPE\n",
       "nose             53.143978\n",
       "left_eye         53.957650\n",
       "right_eye        53.185416\n",
       "left_ear         17.460848\n",
       "right_ear        45.776395\n",
       "left_shoulder    44.254614\n",
       "right_shoulder   44.034635\n",
       "left_elbow       68.870262\n",
       "right_elbow      69.981242\n",
       "left_wrist       85.122824\n",
       "right_wrist     105.900659\n",
       "left_hip         39.778425\n",
       "right_hip        36.302464"
      ]
     },
     "execution_count": 5,
     "metadata": {},
     "output_type": "execute_result"
    }
   ],
   "source": [
    "trainer.model.test_history[0]['pjpe']"
   ]
  },
  {
   "cell_type": "code",
   "execution_count": 6,
   "metadata": {},
   "outputs": [
    {
     "data": {
      "text/html": [
       "<div>\n",
       "<style scoped>\n",
       "    .dataframe tbody tr th:only-of-type {\n",
       "        vertical-align: middle;\n",
       "    }\n",
       "\n",
       "    .dataframe tbody tr th {\n",
       "        vertical-align: top;\n",
       "    }\n",
       "\n",
       "    .dataframe thead th {\n",
       "        text-align: right;\n",
       "    }\n",
       "</style>\n",
       "<table border=\"1\" class=\"dataframe\">\n",
       "  <thead>\n",
       "    <tr style=\"text-align: right;\">\n",
       "      <th></th>\n",
       "      <th>mpjpe</th>\n",
       "    </tr>\n",
       "  </thead>\n",
       "  <tbody>\n",
       "  </tbody>\n",
       "</table>\n",
       "</div>"
      ],
      "text/plain": [
       "Empty DataFrame\n",
       "Columns: [mpjpe]\n",
       "Index: []"
      ]
     },
     "execution_count": 6,
     "metadata": {},
     "output_type": "execute_result"
    }
   ],
   "source": [
    "pd.DataFrame(trainer.model.test_history[0]['activities_mpjpe'], index=['mpjpe']).T.sort_index()"
   ]
  }
 ],
 "metadata": {
  "kernelspec": {
   "display_name": "Python 3 (ipykernel)",
   "language": "python",
   "name": "python3"
  },
  "language_info": {
   "codemirror_mode": {
    "name": "ipython",
    "version": 3
   },
   "file_extension": ".py",
   "mimetype": "text/x-python",
   "name": "python",
   "nbconvert_exporter": "python",
   "pygments_lexer": "ipython3",
   "version": "3.10.11"
  },
  "orig_nbformat": 4,
  "vscode": {
   "interpreter": {
    "hash": "916dbcbb3f70747c44a77c7bcd40155683ae19c65e1c03b4aa3499c5328201f1"
   }
  }
 },
 "nbformat": 4,
 "nbformat_minor": 2
}
