{
 "cells": [
  {
   "cell_type": "code",
   "execution_count": null,
   "metadata": {},
   "outputs": [],
   "source": [
    "import pytorch_lightning as pl\n",
    "from modules.lifter_2d_3d.model.linear_model.lit_linear_model import LitSimpleBaselineLinear\n",
    "from script.lifter_2d_3d.common.dataset import construct_drive_and_act_dataset\n",
    "from modules.utils.convention import get_saved_model_path\n",
    "from modules.experiments.experiment import Experiment\n",
    "\n",
    "pl.seed_everything(1234)\n",
    "\n",
    "constructed_loader = construct_drive_and_act_dataset()\n",
    "pretrained_model_path = get_saved_model_path(\n",
    "        model_name='linear_model',\n",
    "        model_suffix='all_actors',\n",
    "        trained_dataset_name='drive_and_act',\n",
    "        trained_datasubset_name='predicted_2d',\n",
    "    )\n",
    "saved_model_path = get_saved_model_path(\n",
    "    model_name='linear_model',\n",
    "    model_suffix='all_actors',\n",
    "    trained_dataset_name='drive_and_act',\n",
    "    trained_datasubset_name='predicted_2d_all_actors',\n",
    "    pretrained_dataset_name='synthetic_cabin_ir',\n",
    "    pretrained_datasubset_name='A_Pillar_Codriver',\n",
    ")\n",
    "experiment = Experiment(\n",
    "    LitModel=LitSimpleBaselineLinear,\n",
    "    construted_loaders=constructed_loader,\n",
    "    pretrained_model_path=pretrained_model_path,\n",
    "    saved_model_path=saved_model_path,\n",
    "\n",
    ")\n",
    "\n",
    "experiment.setup()\n",
    "experiment.lit_model.learning_rate = 1e-3\n",
    "experiment.train()"
   ]
  }
 ],
 "metadata": {
  "kernelspec": {
   "display_name": "Python 3 (ipykernel)",
   "language": "python",
   "name": "python3"
  },
  "orig_nbformat": 4,
  "vscode": {
   "interpreter": {
    "hash": "916dbcbb3f70747c44a77c7bcd40155683ae19c65e1c03b4aa3499c5328201f1"
   }
  }
 },
 "nbformat": 4,
 "nbformat_minor": 2
}
