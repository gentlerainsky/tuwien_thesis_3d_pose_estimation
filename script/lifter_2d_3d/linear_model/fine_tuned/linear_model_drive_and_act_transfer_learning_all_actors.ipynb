{
 "cells": [
  {
   "cell_type": "code",
   "execution_count": 1,
   "metadata": {},
   "outputs": [
    {
     "name": "stderr",
     "output_type": "stream",
     "text": [
      "Global seed set to 1234\n"
     ]
    }
   ],
   "source": [
    "import os\n",
    "import torch\n",
    "import pandas as pd\n",
    "import numpy as np\n",
    "import pytorch_lightning as pl\n",
    "from pytorch_lightning.callbacks import ModelCheckpoint\n",
    "from pytorch_lightning.callbacks.early_stopping import EarlyStopping\n",
    "from torch.utils.data import DataLoader\n",
    "from modules.lifter_2d_3d.dataset.drive_and_act_keypoint_dataset import DriveAndActKeypointDataset\n",
    "from modules.lifter_2d_3d.model.linear_model.lit_linear_model import LitSimpleBaselineLinear\n",
    "from modules.utils.visualization import (\n",
    "    plot_samples\n",
    ")\n",
    "from IPython.display import display\n",
    "from pathlib import Path\n",
    "\n",
    "\n",
    "pl.seed_everything(1234)\n",
    "\n",
    "# ------------\n",
    "# dataset path\n",
    "# ------------\n",
    "dataset_root_path = Path('/root/data/processed/drive_and_act/')\n",
    "keypoint_2d_path = dataset_root_path / 'keypoint_detection_results'\n",
    "keypoint_3d_path = dataset_root_path / 'annotations'\n",
    "# ------------\n",
    "# model\n",
    "# ------------\n",
    "image_width = 1280\n",
    "image_height = 1024\n",
    "batch_size = 64\n",
    "max_epoch = 200\n",
    "val_check_period = 5\n",
    "early_stopping_patience = 5\n",
    "# ------------\n",
    "# saved model path\n",
    "# ------------\n",
    "pretrained_model_path = './saved_lifter_2d_3d_model/synthetic_cabin_ir/A_Pillar_Codriver/prediction/linear_model/'\n",
    "with open(f'{pretrained_model_path}/best_model_path.txt', 'r') as f:\n",
    "    checkpoint_path = f.readline()\n"
   ]
  },
  {
   "cell_type": "code",
   "execution_count": 2,
   "metadata": {},
   "outputs": [],
   "source": [
    "def run_experiment(\n",
    "    train_actors,\n",
    "    val_actors,\n",
    "    test_actors,\n",
    "    is_plot_gt_skeleton=False,\n",
    "    model_suffix=''\n",
    "):\n",
    "    train_dataset = DriveAndActKeypointDataset(\n",
    "        prediction_file=(keypoint_2d_path / 'keypoint_detection_train.json').as_posix(),\n",
    "        annotation_file=(keypoint_3d_path / 'person_keypoints_train.json').as_posix(),\n",
    "        image_width=image_width,\n",
    "        image_height=image_height,\n",
    "        actors=train_actors,\n",
    "        exclude_ankle=True,\n",
    "        exclude_hip=True\n",
    "    )\n",
    "    val_dataset = DriveAndActKeypointDataset(\n",
    "        prediction_file=(keypoint_2d_path / 'keypoint_detection_train.json').as_posix(),\n",
    "        annotation_file=(keypoint_3d_path / 'person_keypoints_train.json').as_posix(),\n",
    "        image_width=image_width,\n",
    "        image_height=image_height,\n",
    "        actors=val_actors,\n",
    "        exclude_ankle=True,\n",
    "        exclude_hip=True\n",
    "    )\n",
    "    test_dataset = DriveAndActKeypointDataset(\n",
    "        prediction_file=(keypoint_2d_path / 'keypoint_detection_train.json').as_posix(),\n",
    "        annotation_file=(keypoint_3d_path / 'person_keypoints_train.json').as_posix(),\n",
    "        image_width=image_width,\n",
    "        image_height=image_height,\n",
    "        actors=test_actors,\n",
    "        exclude_ankle=True,\n",
    "        exclude_hip=True\n",
    "    )\n",
    "\n",
    "    print(\n",
    "        'train_dataset', len(train_dataset),\n",
    "        'val_dataset', len(val_dataset),\n",
    "        'test_dataset', len(test_dataset)\n",
    "    )\n",
    "    train_loader = DataLoader(train_dataset, batch_size=batch_size, drop_last=True, shuffle=True, num_workers=24)\n",
    "    val_loader = DataLoader(val_dataset, batch_size=batch_size, drop_last=True, num_workers=24)\n",
    "    test_loader = DataLoader(test_dataset, batch_size=batch_size, num_workers=24)\n",
    "\n",
    "    all_activities = train_dataset.activities.union(val_dataset.activities).union(test_dataset.activities)\n",
    "    lit_model = LitSimpleBaselineLinear(exclude_ankle=True, exclude_hip=True, all_activities=all_activities)\n",
    "    lit_model.load_from_checkpoint(checkpoint_path)\n",
    "\n",
    "    model_checkpoint = ModelCheckpoint(monitor='val_loss',mode='min', save_top_k=1)\n",
    "    early_stopping = EarlyStopping(monitor=\"val_loss\", mode=\"min\", patience=early_stopping_patience)\n",
    "\n",
    "    device = 'cuda' if torch.cuda.is_available() else 'cpu'\n",
    "    saved_model_path = f'./saved_lifter_2d_3d_model/drive_and_act/transfer_learning/synthetic_cabin_ir/full/linear_model_{model_suffix}'\n",
    "    if not os.path.exists(saved_model_path):\n",
    "        os.makedirs(saved_model_path)\n",
    "    trainer = pl.Trainer(\n",
    "        # max_steps=10,\n",
    "        max_epochs=max_epoch,\n",
    "        callbacks=[model_checkpoint, early_stopping],\n",
    "        accelerator=device,\n",
    "        check_val_every_n_epoch=val_check_period,\n",
    "        default_root_dir=saved_model_path,\n",
    "        gradient_clip_val=1.0\n",
    "    )\n",
    "    trainer.fit(lit_model, train_loader, val_loader)\n",
    "    with open(f'{saved_model_path}/best_model_path.txt', 'w') as f:\n",
    "        f.writelines(model_checkpoint.best_model_path)\n",
    "    best_checkpoint_path = model_checkpoint.best_model_path\n",
    "    trainer.test(ckpt_path=best_checkpoint_path, dataloaders=test_loader)\n",
    "    return trainer"
   ]
  },
  {
   "cell_type": "markdown",
   "metadata": {},
   "source": [
    "## Fine-Tuned with full dataset"
   ]
  },
  {
   "cell_type": "code",
   "execution_count": 3,
   "metadata": {},
   "outputs": [
    {
     "name": "stdout",
     "output_type": "stream",
     "text": [
      "skipping problematic image 15783\n",
      "skipping problematic image 17258\n",
      "skipping problematic image 17259\n",
      "skipping problematic image 21271\n",
      "skipping problematic image 21272\n",
      "skipping problematic image 21273\n",
      "skipping problematic image 21274\n",
      "skipping problematic image 21275\n",
      "skipping problematic image 21276\n",
      "skipping problematic image 33527\n",
      "train_dataset 22885 val_dataset 6240 test_dataset 11018\n"
     ]
    },
    {
     "name": "stderr",
     "output_type": "stream",
     "text": [
      "GPU available: True (cuda), used: True\n",
      "TPU available: False, using: 0 TPU cores\n",
      "IPU available: False, using: 0 IPUs\n",
      "HPU available: False, using: 0 HPUs\n",
      "Missing logger folder: saved_lifter_2d_3d_model/drive_and_act/transfer_learning/synthetic_cabin_ir/full/linear_model_all_actor/lightning_logs\n",
      "LOCAL_RANK: 0 - CUDA_VISIBLE_DEVICES: [0]\n",
      "\n",
      "  | Name  | Type          | Params\n",
      "----------------------------------------\n",
      "0 | model | BaselineModel | 4.3 M \n",
      "----------------------------------------\n",
      "4.3 M     Trainable params\n",
      "0         Non-trainable params\n",
      "4.3 M     Total params\n",
      "17.105    Total estimated model params size (MB)\n"
     ]
    },
    {
     "data": {
      "application/vnd.jupyter.widget-view+json": {
       "model_id": "974cc2a4287f4922a24582406fdf6452",
       "version_major": 2,
       "version_minor": 0
      },
      "text/plain": [
       "Sanity Checking: 0it [00:00, ?it/s]"
      ]
     },
     "metadata": {},
     "output_type": "display_data"
    },
    {
     "name": "stdout",
     "output_type": "stream",
     "text": [
      "check #0\n",
      "val MPJPE from: 128 samples : 2767.831563949585\n"
     ]
    },
    {
     "data": {
      "application/vnd.jupyter.widget-view+json": {
       "model_id": "4b003b857e664d9e9bb292776b39fe27",
       "version_major": 2,
       "version_minor": 0
      },
      "text/plain": [
       "Training: 0it [00:00, ?it/s]"
      ]
     },
     "metadata": {},
     "output_type": "display_data"
    },
    {
     "data": {
      "application/vnd.jupyter.widget-view+json": {
       "model_id": "e973239c87154335bac1a8401ebcaccb",
       "version_major": 2,
       "version_minor": 0
      },
      "text/plain": [
       "Validation: 0it [00:00, ?it/s]"
      ]
     },
     "metadata": {},
     "output_type": "display_data"
    },
    {
     "name": "stdout",
     "output_type": "stream",
     "text": [
      "check #1\n",
      "training loss from 1785 batches: 538.5571504090013\n",
      "val MPJPE from: 6208 samples : 102.45972126722336\n"
     ]
    },
    {
     "data": {
      "application/vnd.jupyter.widget-view+json": {
       "model_id": "6a42d28d50fd446c9c89eef124b0b2e1",
       "version_major": 2,
       "version_minor": 0
      },
      "text/plain": [
       "Validation: 0it [00:00, ?it/s]"
      ]
     },
     "metadata": {},
     "output_type": "display_data"
    },
    {
     "name": "stdout",
     "output_type": "stream",
     "text": [
      "check #2\n",
      "training loss from 1785 batches: 110.94106688302438\n",
      "val MPJPE from: 6208 samples : 81.88927173614502\n"
     ]
    },
    {
     "data": {
      "application/vnd.jupyter.widget-view+json": {
       "model_id": "e3aa24345301439fa03e1d18c1966f14",
       "version_major": 2,
       "version_minor": 0
      },
      "text/plain": [
       "Validation: 0it [00:00, ?it/s]"
      ]
     },
     "metadata": {},
     "output_type": "display_data"
    },
    {
     "name": "stdout",
     "output_type": "stream",
     "text": [
      "check #3\n",
      "training loss from 1785 batches: 92.81457314471237\n",
      "val MPJPE from: 6208 samples : 81.98915421962738\n"
     ]
    },
    {
     "data": {
      "application/vnd.jupyter.widget-view+json": {
       "model_id": "3c2ee641f2c446b2a35d5aca7731c6b6",
       "version_major": 2,
       "version_minor": 0
      },
      "text/plain": [
       "Validation: 0it [00:00, ?it/s]"
      ]
     },
     "metadata": {},
     "output_type": "display_data"
    },
    {
     "name": "stdout",
     "output_type": "stream",
     "text": [
      "check #4\n",
      "training loss from 1785 batches: 85.39548954960345\n",
      "val MPJPE from: 6208 samples : 73.35490733385086\n"
     ]
    },
    {
     "data": {
      "application/vnd.jupyter.widget-view+json": {
       "model_id": "dc4aa85ab3614eafba1be2f28bfe071a",
       "version_major": 2,
       "version_minor": 0
      },
      "text/plain": [
       "Validation: 0it [00:00, ?it/s]"
      ]
     },
     "metadata": {},
     "output_type": "display_data"
    },
    {
     "name": "stdout",
     "output_type": "stream",
     "text": [
      "check #5\n",
      "training loss from 1785 batches: 80.30107664961774\n",
      "val MPJPE from: 6208 samples : 72.52272963523865\n"
     ]
    },
    {
     "data": {
      "application/vnd.jupyter.widget-view+json": {
       "model_id": "a55f025991234c8da492d89123368492",
       "version_major": 2,
       "version_minor": 0
      },
      "text/plain": [
       "Validation: 0it [00:00, ?it/s]"
      ]
     },
     "metadata": {},
     "output_type": "display_data"
    },
    {
     "name": "stdout",
     "output_type": "stream",
     "text": [
      "check #6\n",
      "training loss from 1785 batches: 77.58639216297814\n",
      "val MPJPE from: 6208 samples : 70.1262429356575\n"
     ]
    },
    {
     "data": {
      "application/vnd.jupyter.widget-view+json": {
       "model_id": "6ddaedac955c4bea9ed3dde01711ba4d",
       "version_major": 2,
       "version_minor": 0
      },
      "text/plain": [
       "Validation: 0it [00:00, ?it/s]"
      ]
     },
     "metadata": {},
     "output_type": "display_data"
    },
    {
     "name": "stdout",
     "output_type": "stream",
     "text": [
      "check #7\n",
      "training loss from 1785 batches: 75.32267570495605\n",
      "val MPJPE from: 6208 samples : 70.81689685583115\n"
     ]
    },
    {
     "data": {
      "application/vnd.jupyter.widget-view+json": {
       "model_id": "5f7c47e4f35d466cae54f956fc236f94",
       "version_major": 2,
       "version_minor": 0
      },
      "text/plain": [
       "Validation: 0it [00:00, ?it/s]"
      ]
     },
     "metadata": {},
     "output_type": "display_data"
    },
    {
     "name": "stdout",
     "output_type": "stream",
     "text": [
      "check #8\n",
      "training loss from 1785 batches: 73.17065840550498\n",
      "val MPJPE from: 6208 samples : 69.38610225915909\n"
     ]
    },
    {
     "data": {
      "application/vnd.jupyter.widget-view+json": {
       "model_id": "adb5d076ace3426f92f976e8fa9095d6",
       "version_major": 2,
       "version_minor": 0
      },
      "text/plain": [
       "Validation: 0it [00:00, ?it/s]"
      ]
     },
     "metadata": {},
     "output_type": "display_data"
    },
    {
     "name": "stdout",
     "output_type": "stream",
     "text": [
      "check #9\n",
      "training loss from 1785 batches: 71.52670207602971\n",
      "val MPJPE from: 6208 samples : 68.59444081783295\n"
     ]
    },
    {
     "data": {
      "application/vnd.jupyter.widget-view+json": {
       "model_id": "59dbb02693e2445bbcd7da616472dde3",
       "version_major": 2,
       "version_minor": 0
      },
      "text/plain": [
       "Validation: 0it [00:00, ?it/s]"
      ]
     },
     "metadata": {},
     "output_type": "display_data"
    },
    {
     "name": "stdout",
     "output_type": "stream",
     "text": [
      "check #10\n",
      "training loss from 1785 batches: 70.51459993718386\n",
      "val MPJPE from: 6208 samples : 68.2588517665863\n"
     ]
    },
    {
     "data": {
      "application/vnd.jupyter.widget-view+json": {
       "model_id": "84e625c1993840258b12a87b34ef3217",
       "version_major": 2,
       "version_minor": 0
      },
      "text/plain": [
       "Validation: 0it [00:00, ?it/s]"
      ]
     },
     "metadata": {},
     "output_type": "display_data"
    },
    {
     "name": "stdout",
     "output_type": "stream",
     "text": [
      "check #11\n",
      "training loss from 1785 batches: 69.61484649309925\n",
      "val MPJPE from: 6208 samples : 69.62821632623672\n"
     ]
    },
    {
     "data": {
      "application/vnd.jupyter.widget-view+json": {
       "model_id": "91996ac0a24b4c0496d6ac6529eee9c8",
       "version_major": 2,
       "version_minor": 0
      },
      "text/plain": [
       "Validation: 0it [00:00, ?it/s]"
      ]
     },
     "metadata": {},
     "output_type": "display_data"
    },
    {
     "name": "stdout",
     "output_type": "stream",
     "text": [
      "check #12\n",
      "training loss from 1785 batches: 68.94647993710863\n",
      "val MPJPE from: 6208 samples : 69.44113969802856\n"
     ]
    },
    {
     "data": {
      "application/vnd.jupyter.widget-view+json": {
       "model_id": "bd7bb0ae8b6c44ee8f9ce912311b52e8",
       "version_major": 2,
       "version_minor": 0
      },
      "text/plain": [
       "Validation: 0it [00:00, ?it/s]"
      ]
     },
     "metadata": {},
     "output_type": "display_data"
    },
    {
     "name": "stdout",
     "output_type": "stream",
     "text": [
      "check #13\n",
      "training loss from 1785 batches: 68.3458839477945\n",
      "val MPJPE from: 6208 samples : 82.6498195528984\n"
     ]
    },
    {
     "data": {
      "application/vnd.jupyter.widget-view+json": {
       "model_id": "5415b4b7f73f4178bbf444d75017c938",
       "version_major": 2,
       "version_minor": 0
      },
      "text/plain": [
       "Validation: 0it [00:00, ?it/s]"
      ]
     },
     "metadata": {},
     "output_type": "display_data"
    },
    {
     "name": "stdout",
     "output_type": "stream",
     "text": [
      "check #14\n",
      "training loss from 1785 batches: 67.9127254572903\n",
      "val MPJPE from: 6208 samples : 68.49490851163864\n"
     ]
    },
    {
     "data": {
      "application/vnd.jupyter.widget-view+json": {
       "model_id": "edaac9ee94504895a0de0df83aed0464",
       "version_major": 2,
       "version_minor": 0
      },
      "text/plain": [
       "Validation: 0it [00:00, ?it/s]"
      ]
     },
     "metadata": {},
     "output_type": "display_data"
    },
    {
     "name": "stdout",
     "output_type": "stream",
     "text": [
      "check #15\n",
      "training loss from 1785 batches: 67.61174815125158\n",
      "val MPJPE from: 6208 samples : 79.80231195688248\n"
     ]
    },
    {
     "name": "stderr",
     "output_type": "stream",
     "text": [
      "Restoring states from the checkpoint path at saved_lifter_2d_3d_model/drive_and_act/transfer_learning/synthetic_cabin_ir/full/linear_model_all_actor/lightning_logs/version_0/checkpoints/epoch=49-step=17850.ckpt\n",
      "LOCAL_RANK: 0 - CUDA_VISIBLE_DEVICES: [0]\n",
      "Loaded model weights from the checkpoint at saved_lifter_2d_3d_model/drive_and_act/transfer_learning/synthetic_cabin_ir/full/linear_model_all_actor/lightning_logs/version_0/checkpoints/epoch=49-step=17850.ckpt\n"
     ]
    },
    {
     "data": {
      "application/vnd.jupyter.widget-view+json": {
       "model_id": "ab25e0f49786421f816a2a7720d5de83",
       "version_major": 2,
       "version_minor": 0
      },
      "text/plain": [
       "Testing: 0it [00:00, ?it/s]"
      ]
     },
     "metadata": {},
     "output_type": "display_data"
    },
    {
     "name": "stderr",
     "output_type": "stream",
     "text": [
      "/opt/conda/lib/python3.10/site-packages/numpy/core/fromnumeric.py:3464: RuntimeWarning: Mean of empty slice.\n",
      "  return _methods._mean(a, axis=axis, dtype=dtype,\n",
      "/opt/conda/lib/python3.10/site-packages/numpy/core/_methods.py:192: RuntimeWarning: invalid value encountered in scalar divide\n",
      "  ret = ret.dtype.type(ret / rcount)\n"
     ]
    },
    {
     "name": "stdout",
     "output_type": "stream",
     "text": [
      "MPJPE: 59.17740461015161\n",
      "PJPE\n",
      "                     PJPE\n",
      "nose            51.009483\n",
      "left_eye        51.110857\n",
      "right_eye       47.491245\n",
      "left_ear        14.587826\n",
      "right_ear       42.581240\n",
      "left_shoulder   41.818321\n",
      "right_shoulder  39.374703\n",
      "left_elbow      66.735620\n",
      "right_elbow     65.013455\n",
      "left_wrist      80.595379\n",
      "right_wrist     98.196295\n",
      "left_hip        38.181280\n",
      "right_hip       37.041859\n",
      "activities_mpjpe:\n",
      "{'closing_door_inside': 88.13386517388169, 'entering_car': 120.06722474472981, 'sitting_still': 47.649342576343585, 'closing_bottle': 54.98819176352304, 'drinking': 52.54070091849804, 'pressing_automation_button': 58.444250967588715, 'fetching_an_object': 103.31589860495374, 'opening_bottle': 60.81968477970338, 'eating': 49.55149762248152, 'preparing_food': 69.32677151940382, 'opening_backpack': 109.02917219074216, 'placing_an_object': 93.35297463217618, 'reading_newspaper': 68.31565831123788, 'taking_off_sunglasses': 72.59146962460392, 'writing': 63.44236587283765, 'using_multimedia_display': 77.40000248637277, 'unfastening_seat_belt': 76.57347302627127, 'putting_on_jacket': 97.59759131284723, 'fastening_seat_belt': 83.31725030615392, 'putting_on_sunglasses': 63.076331391113875, 'talking_on_phone': 63.8934766033579, 'reading_magazine': 58.98263203455997, 'taking_off_jacket': nan, 'looking_or_moving_around (e.g. searching)': 105.34984113563488, 'working_on_laptop': 51.97970574102188, 'opening_laptop': 62.80946156902924, 'interacting_with_phone': 52.715295584133415, 'closing_laptop': 70.30365262644105, 'exiting_car': 189.30396831505465, 'taking_laptop_from_backpack': 110.88759043989351, 'putting_laptop_into_backpack': 131.56428117038936, 'opening_door_inside': 106.26481697946642}\n",
      "test mpjpe: 59.17740461015161\n"
     ]
    },
    {
     "data": {
      "text/html": [
       "<pre style=\"white-space:pre;overflow-x:auto;line-height:normal;font-family:Menlo,'DejaVu Sans Mono',consolas,'Courier New',monospace\">┏━━━━━━━━━━━━━━━━━━━━━━━━━━━┳━━━━━━━━━━━━━━━━━━━━━━━━━━━┓\n",
       "┃<span style=\"font-weight: bold\">        Test metric        </span>┃<span style=\"font-weight: bold\">       DataLoader 0        </span>┃\n",
       "┡━━━━━━━━━━━━━━━━━━━━━━━━━━━╇━━━━━━━━━━━━━━━━━━━━━━━━━━━┩\n",
       "│<span style=\"color: #008080; text-decoration-color: #008080\">           mpjpe           </span>│<span style=\"color: #800080; text-decoration-color: #800080\">     59.17740461015161     </span>│\n",
       "└───────────────────────────┴───────────────────────────┘\n",
       "</pre>\n"
      ],
      "text/plain": [
       "┏━━━━━━━━━━━━━━━━━━━━━━━━━━━┳━━━━━━━━━━━━━━━━━━━━━━━━━━━┓\n",
       "┃\u001b[1m \u001b[0m\u001b[1m       Test metric       \u001b[0m\u001b[1m \u001b[0m┃\u001b[1m \u001b[0m\u001b[1m      DataLoader 0       \u001b[0m\u001b[1m \u001b[0m┃\n",
       "┡━━━━━━━━━━━━━━━━━━━━━━━━━━━╇━━━━━━━━━━━━━━━━━━━━━━━━━━━┩\n",
       "│\u001b[36m \u001b[0m\u001b[36m          mpjpe          \u001b[0m\u001b[36m \u001b[0m│\u001b[35m \u001b[0m\u001b[35m    59.17740461015161    \u001b[0m\u001b[35m \u001b[0m│\n",
       "└───────────────────────────┴───────────────────────────┘\n"
      ]
     },
     "metadata": {},
     "output_type": "display_data"
    }
   ],
   "source": [
    "trainer = run_experiment(\n",
    "    train_actors=['vp1', 'vp2', 'vp3', 'vp4', 'vp5', 'vp6', 'vp7', 'vp8'],\n",
    "    val_actors=['vp9', 'vp10', 'vp15'],\n",
    "    test_actors=['vp11', 'vp12', 'vp13', 'vp14'],\n",
    "    is_plot_gt_skeleton=False,\n",
    "    model_suffix='all_actor'\n",
    ")"
   ]
  },
  {
   "cell_type": "code",
   "execution_count": 4,
   "metadata": {},
   "outputs": [
    {
     "data": {
      "text/plain": [
       "59.17740461015161"
      ]
     },
     "execution_count": 4,
     "metadata": {},
     "output_type": "execute_result"
    }
   ],
   "source": [
    "trainer.model.test_history[0]['mpjpe']\n"
   ]
  },
  {
   "cell_type": "code",
   "execution_count": 5,
   "metadata": {},
   "outputs": [
    {
     "data": {
      "text/html": [
       "<div>\n",
       "<style scoped>\n",
       "    .dataframe tbody tr th:only-of-type {\n",
       "        vertical-align: middle;\n",
       "    }\n",
       "\n",
       "    .dataframe tbody tr th {\n",
       "        vertical-align: top;\n",
       "    }\n",
       "\n",
       "    .dataframe thead th {\n",
       "        text-align: right;\n",
       "    }\n",
       "</style>\n",
       "<table border=\"1\" class=\"dataframe\">\n",
       "  <thead>\n",
       "    <tr style=\"text-align: right;\">\n",
       "      <th></th>\n",
       "      <th>PJPE</th>\n",
       "    </tr>\n",
       "  </thead>\n",
       "  <tbody>\n",
       "    <tr>\n",
       "      <th>nose</th>\n",
       "      <td>51.009483</td>\n",
       "    </tr>\n",
       "    <tr>\n",
       "      <th>left_eye</th>\n",
       "      <td>51.110857</td>\n",
       "    </tr>\n",
       "    <tr>\n",
       "      <th>right_eye</th>\n",
       "      <td>47.491245</td>\n",
       "    </tr>\n",
       "    <tr>\n",
       "      <th>left_ear</th>\n",
       "      <td>14.587826</td>\n",
       "    </tr>\n",
       "    <tr>\n",
       "      <th>right_ear</th>\n",
       "      <td>42.581240</td>\n",
       "    </tr>\n",
       "    <tr>\n",
       "      <th>left_shoulder</th>\n",
       "      <td>41.818321</td>\n",
       "    </tr>\n",
       "    <tr>\n",
       "      <th>right_shoulder</th>\n",
       "      <td>39.374703</td>\n",
       "    </tr>\n",
       "    <tr>\n",
       "      <th>left_elbow</th>\n",
       "      <td>66.735620</td>\n",
       "    </tr>\n",
       "    <tr>\n",
       "      <th>right_elbow</th>\n",
       "      <td>65.013455</td>\n",
       "    </tr>\n",
       "    <tr>\n",
       "      <th>left_wrist</th>\n",
       "      <td>80.595379</td>\n",
       "    </tr>\n",
       "    <tr>\n",
       "      <th>right_wrist</th>\n",
       "      <td>98.196295</td>\n",
       "    </tr>\n",
       "    <tr>\n",
       "      <th>left_hip</th>\n",
       "      <td>38.181280</td>\n",
       "    </tr>\n",
       "    <tr>\n",
       "      <th>right_hip</th>\n",
       "      <td>37.041859</td>\n",
       "    </tr>\n",
       "  </tbody>\n",
       "</table>\n",
       "</div>"
      ],
      "text/plain": [
       "                     PJPE\n",
       "nose            51.009483\n",
       "left_eye        51.110857\n",
       "right_eye       47.491245\n",
       "left_ear        14.587826\n",
       "right_ear       42.581240\n",
       "left_shoulder   41.818321\n",
       "right_shoulder  39.374703\n",
       "left_elbow      66.735620\n",
       "right_elbow     65.013455\n",
       "left_wrist      80.595379\n",
       "right_wrist     98.196295\n",
       "left_hip        38.181280\n",
       "right_hip       37.041859"
      ]
     },
     "execution_count": 5,
     "metadata": {},
     "output_type": "execute_result"
    }
   ],
   "source": [
    "trainer.model.test_history[0]['pjpe']"
   ]
  },
  {
   "cell_type": "code",
   "execution_count": 11,
   "metadata": {},
   "outputs": [
    {
     "data": {
      "text/html": [
       "<div>\n",
       "<style scoped>\n",
       "    .dataframe tbody tr th:only-of-type {\n",
       "        vertical-align: middle;\n",
       "    }\n",
       "\n",
       "    .dataframe tbody tr th {\n",
       "        vertical-align: top;\n",
       "    }\n",
       "\n",
       "    .dataframe thead th {\n",
       "        text-align: right;\n",
       "    }\n",
       "</style>\n",
       "<table border=\"1\" class=\"dataframe\">\n",
       "  <thead>\n",
       "    <tr style=\"text-align: right;\">\n",
       "      <th></th>\n",
       "      <th>mpjpe</th>\n",
       "    </tr>\n",
       "  </thead>\n",
       "  <tbody>\n",
       "    <tr>\n",
       "      <th>closing_bottle</th>\n",
       "      <td>54.988192</td>\n",
       "    </tr>\n",
       "    <tr>\n",
       "      <th>closing_door_inside</th>\n",
       "      <td>88.133865</td>\n",
       "    </tr>\n",
       "    <tr>\n",
       "      <th>closing_laptop</th>\n",
       "      <td>70.303653</td>\n",
       "    </tr>\n",
       "    <tr>\n",
       "      <th>drinking</th>\n",
       "      <td>52.540701</td>\n",
       "    </tr>\n",
       "    <tr>\n",
       "      <th>eating</th>\n",
       "      <td>49.551498</td>\n",
       "    </tr>\n",
       "    <tr>\n",
       "      <th>entering_car</th>\n",
       "      <td>120.067225</td>\n",
       "    </tr>\n",
       "    <tr>\n",
       "      <th>exiting_car</th>\n",
       "      <td>189.303968</td>\n",
       "    </tr>\n",
       "    <tr>\n",
       "      <th>fastening_seat_belt</th>\n",
       "      <td>83.317250</td>\n",
       "    </tr>\n",
       "    <tr>\n",
       "      <th>fetching_an_object</th>\n",
       "      <td>103.315899</td>\n",
       "    </tr>\n",
       "    <tr>\n",
       "      <th>interacting_with_phone</th>\n",
       "      <td>52.715296</td>\n",
       "    </tr>\n",
       "    <tr>\n",
       "      <th>looking_or_moving_around (e.g. searching)</th>\n",
       "      <td>105.349841</td>\n",
       "    </tr>\n",
       "    <tr>\n",
       "      <th>opening_backpack</th>\n",
       "      <td>109.029172</td>\n",
       "    </tr>\n",
       "    <tr>\n",
       "      <th>opening_bottle</th>\n",
       "      <td>60.819685</td>\n",
       "    </tr>\n",
       "    <tr>\n",
       "      <th>opening_door_inside</th>\n",
       "      <td>106.264817</td>\n",
       "    </tr>\n",
       "    <tr>\n",
       "      <th>opening_laptop</th>\n",
       "      <td>62.809462</td>\n",
       "    </tr>\n",
       "    <tr>\n",
       "      <th>placing_an_object</th>\n",
       "      <td>93.352975</td>\n",
       "    </tr>\n",
       "    <tr>\n",
       "      <th>preparing_food</th>\n",
       "      <td>69.326772</td>\n",
       "    </tr>\n",
       "    <tr>\n",
       "      <th>pressing_automation_button</th>\n",
       "      <td>58.444251</td>\n",
       "    </tr>\n",
       "    <tr>\n",
       "      <th>putting_laptop_into_backpack</th>\n",
       "      <td>131.564281</td>\n",
       "    </tr>\n",
       "    <tr>\n",
       "      <th>putting_on_jacket</th>\n",
       "      <td>97.597591</td>\n",
       "    </tr>\n",
       "    <tr>\n",
       "      <th>putting_on_sunglasses</th>\n",
       "      <td>63.076331</td>\n",
       "    </tr>\n",
       "    <tr>\n",
       "      <th>reading_magazine</th>\n",
       "      <td>58.982632</td>\n",
       "    </tr>\n",
       "    <tr>\n",
       "      <th>reading_newspaper</th>\n",
       "      <td>68.315658</td>\n",
       "    </tr>\n",
       "    <tr>\n",
       "      <th>sitting_still</th>\n",
       "      <td>47.649343</td>\n",
       "    </tr>\n",
       "    <tr>\n",
       "      <th>taking_laptop_from_backpack</th>\n",
       "      <td>110.887590</td>\n",
       "    </tr>\n",
       "    <tr>\n",
       "      <th>taking_off_jacket</th>\n",
       "      <td>NaN</td>\n",
       "    </tr>\n",
       "    <tr>\n",
       "      <th>taking_off_sunglasses</th>\n",
       "      <td>72.591470</td>\n",
       "    </tr>\n",
       "    <tr>\n",
       "      <th>talking_on_phone</th>\n",
       "      <td>63.893477</td>\n",
       "    </tr>\n",
       "    <tr>\n",
       "      <th>unfastening_seat_belt</th>\n",
       "      <td>76.573473</td>\n",
       "    </tr>\n",
       "    <tr>\n",
       "      <th>using_multimedia_display</th>\n",
       "      <td>77.400002</td>\n",
       "    </tr>\n",
       "    <tr>\n",
       "      <th>working_on_laptop</th>\n",
       "      <td>51.979706</td>\n",
       "    </tr>\n",
       "    <tr>\n",
       "      <th>writing</th>\n",
       "      <td>63.442366</td>\n",
       "    </tr>\n",
       "  </tbody>\n",
       "</table>\n",
       "</div>"
      ],
      "text/plain": [
       "                                                mpjpe\n",
       "closing_bottle                              54.988192\n",
       "closing_door_inside                         88.133865\n",
       "closing_laptop                              70.303653\n",
       "drinking                                    52.540701\n",
       "eating                                      49.551498\n",
       "entering_car                               120.067225\n",
       "exiting_car                                189.303968\n",
       "fastening_seat_belt                         83.317250\n",
       "fetching_an_object                         103.315899\n",
       "interacting_with_phone                      52.715296\n",
       "looking_or_moving_around (e.g. searching)  105.349841\n",
       "opening_backpack                           109.029172\n",
       "opening_bottle                              60.819685\n",
       "opening_door_inside                        106.264817\n",
       "opening_laptop                              62.809462\n",
       "placing_an_object                           93.352975\n",
       "preparing_food                              69.326772\n",
       "pressing_automation_button                  58.444251\n",
       "putting_laptop_into_backpack               131.564281\n",
       "putting_on_jacket                           97.597591\n",
       "putting_on_sunglasses                       63.076331\n",
       "reading_magazine                            58.982632\n",
       "reading_newspaper                           68.315658\n",
       "sitting_still                               47.649343\n",
       "taking_laptop_from_backpack                110.887590\n",
       "taking_off_jacket                                 NaN\n",
       "taking_off_sunglasses                       72.591470\n",
       "talking_on_phone                            63.893477\n",
       "unfastening_seat_belt                       76.573473\n",
       "using_multimedia_display                    77.400002\n",
       "working_on_laptop                           51.979706\n",
       "writing                                     63.442366"
      ]
     },
     "execution_count": 11,
     "metadata": {},
     "output_type": "execute_result"
    }
   ],
   "source": [
    "pd.DataFrame(trainer.model.test_history[0]['activities_mpjpe'], index=['mpjpe']).T.sort_index()"
   ]
  }
 ],
 "metadata": {
  "kernelspec": {
   "display_name": "Python 3 (ipykernel)",
   "language": "python",
   "name": "python3"
  },
  "language_info": {
   "codemirror_mode": {
    "name": "ipython",
    "version": 3
   },
   "file_extension": ".py",
   "mimetype": "text/x-python",
   "name": "python",
   "nbconvert_exporter": "python",
   "pygments_lexer": "ipython3",
   "version": "3.10.11"
  },
  "orig_nbformat": 4,
  "vscode": {
   "interpreter": {
    "hash": "916dbcbb3f70747c44a77c7bcd40155683ae19c65e1c03b4aa3499c5328201f1"
   }
  }
 },
 "nbformat": 4,
 "nbformat_minor": 2
}
