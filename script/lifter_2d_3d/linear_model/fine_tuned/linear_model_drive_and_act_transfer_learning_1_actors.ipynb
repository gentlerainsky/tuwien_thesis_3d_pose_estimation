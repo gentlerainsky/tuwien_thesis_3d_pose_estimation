{
 "cells": [
  {
   "cell_type": "code",
   "execution_count": null,
   "metadata": {},
   "outputs": [],
   "source": [
    "import os\n",
    "import torch\n",
    "import pandas as pd\n",
    "import numpy as np\n",
    "import pytorch_lightning as pl\n",
    "from pytorch_lightning.callbacks import ModelCheckpoint\n",
    "from pytorch_lightning.callbacks.early_stopping import EarlyStopping\n",
    "from torch.utils.data import DataLoader\n",
    "from modules.lifter_2d_3d.dataset.drive_and_act_keypoint_dataset import DriveAndActKeypointDataset\n",
    "from modules.lifter_2d_3d.model.linear_model.lit_linear_model import LitSimpleBaselineLinear\n",
    "from modules.utils.visualization import (\n",
    "    plot_samples\n",
    ")\n",
    "from IPython.display import display\n",
    "from pathlib import Path\n",
    "\n",
    "\n",
    "pl.seed_everything(1234)\n",
    "\n",
    "# ------------\n",
    "# dataset path\n",
    "# ------------\n",
    "dataset_root_path = Path('/root/data/processed/drive_and_act/')\n",
    "keypoint_2d_path = dataset_root_path / 'keypoint_detection_results'\n",
    "keypoint_3d_path = dataset_root_path / 'annotations'\n",
    "# ------------\n",
    "# model\n",
    "# ------------\n",
    "image_width = 1280\n",
    "image_height = 1024\n",
    "batch_size = 64\n",
    "max_epoch = 200\n",
    "val_check_period = 5\n",
    "early_stopping_patience = 5\n",
    "# ------------\n",
    "# saved model path\n",
    "# ------------\n",
    "pretrained_model_path = './saved_lifter_2d_3d_model/synthetic_cabin_ir/A_Pillar_Codriver/prediction/linear_model/'\n",
    "with open(f'{pretrained_model_path}/best_model_path.txt', 'r') as f:\n",
    "    checkpoint_path = f.readline()\n"
   ]
  },
  {
   "cell_type": "code",
   "execution_count": null,
   "metadata": {},
   "outputs": [],
   "source": [
    "def run_experiment(\n",
    "    train_actors,\n",
    "    val_actors,\n",
    "    test_actors,\n",
    "    is_plot_gt_skeleton=False,\n",
    "    model_suffix=''\n",
    "):\n",
    "    \n",
    "    train_dataset = DriveAndActKeypointDataset(\n",
    "        prediction_file=(keypoint_2d_path / 'keypoint_detection_train.json').as_posix(),\n",
    "        annotation_file=(keypoint_3d_path / 'person_keypoints_train.json').as_posix(),\n",
    "        image_width=image_width,\n",
    "        image_height=image_height,\n",
    "        actors=train_actors,\n",
    "        exclude_ankle=True,\n",
    "        exclude_knee=True\n",
    "    )\n",
    "    val_dataset = DriveAndActKeypointDataset(\n",
    "        prediction_file=(keypoint_2d_path / 'keypoint_detection_train.json').as_posix(),\n",
    "        annotation_file=(keypoint_3d_path / 'person_keypoints_train.json').as_posix(),\n",
    "        image_width=image_width,\n",
    "        image_height=image_height,\n",
    "        actors=val_actors,\n",
    "        exclude_ankle=True,\n",
    "        exclude_knee=True\n",
    "    )\n",
    "    test_dataset = DriveAndActKeypointDataset(\n",
    "        prediction_file=(keypoint_2d_path / 'keypoint_detection_train.json').as_posix(),\n",
    "        annotation_file=(keypoint_3d_path / 'person_keypoints_train.json').as_posix(),\n",
    "        image_width=image_width,\n",
    "        image_height=image_height,\n",
    "        actors=test_actors,\n",
    "        exclude_ankle=True,\n",
    "        exclude_knee=True\n",
    "    )\n",
    "\n",
    "    print(\n",
    "        'train_dataset', len(train_dataset),\n",
    "        'val_dataset', len(val_dataset),\n",
    "        'test_dataset', len(test_dataset)\n",
    "    )\n",
    "    train_loader = DataLoader(train_dataset, batch_size=batch_size, drop_last=True, shuffle=True, num_workers=24)\n",
    "    val_loader = DataLoader(val_dataset, batch_size=batch_size, drop_last=True, num_workers=24)\n",
    "    test_loader = DataLoader(test_dataset, batch_size=batch_size, num_workers=24)\n",
    "\n",
    "    all_activities = train_dataset.activities.union(val_dataset.activities).union(test_dataset.activities)\n",
    "    lit_model = LitSimpleBaselineLinear(exclude_ankle=True, exclude_knee=True, all_activities=all_activities)\n",
    "    lit_model = lit_model.load_from_checkpoint(checkpoint_path)\n",
    "    model_checkpoint = ModelCheckpoint(monitor='val_loss',mode='min', save_top_k=1)\n",
    "    early_stopping = EarlyStopping(monitor=\"val_loss\", mode=\"min\", patience=early_stopping_patience)\n",
    "\n",
    "    device = 'cuda' if torch.cuda.is_available() else 'cpu'\n",
    "    saved_model_path = f'./saved_lifter_2d_3d_model/drive_and_act/transfer_learning/synthetic_cabin_ir/one_actors/linear_model_{model_suffix}'\n",
    "    if not os.path.exists(saved_model_path):\n",
    "        os.makedirs(saved_model_path)\n",
    "    trainer = pl.Trainer(\n",
    "        # max_steps=10,\n",
    "        max_epochs=max_epoch,\n",
    "        callbacks=[model_checkpoint, early_stopping],\n",
    "        accelerator=device,\n",
    "        check_val_every_n_epoch=val_check_period,\n",
    "        default_root_dir=saved_model_path,\n",
    "        gradient_clip_val=1.0\n",
    "    )\n",
    "    trainer.fit(lit_model, train_loader, val_loader)\n",
    "    with open(f'{saved_model_path}/best_model_path.txt', 'w') as f:\n",
    "        f.writelines(model_checkpoint.best_model_path)\n",
    "    best_checkpoint_path = model_checkpoint.best_model_path\n",
    "    trainer.test(ckpt_path=best_checkpoint_path, dataloaders=test_loader)\n",
    "    # plot_samples(\n",
    "    #     dataset_root_path,\n",
    "    #     trainer.model,\n",
    "    #     test_loader,\n",
    "    #     'test',\n",
    "    #     img_figsize=(20, 10),\n",
    "    #     img_width=image_width,\n",
    "    #     img_height=image_height,\n",
    "    #     plot_figsize=(20.5, 10),\n",
    "    #     sample_idices=[1000, 2500, 6000],\n",
    "    #     is_plot_gt_skeleton=is_plot_gt_skeleton\n",
    "    # )\n",
    "    return (\n",
    "        lit_model.test_history[0]['mpjpe'],\n",
    "        lit_model.test_history[0]['pjpe'],\n",
    "        lit_model.test_history[0]['activities_mpjpe']\n",
    "    )\n"
   ]
  },
  {
   "cell_type": "markdown",
   "metadata": {},
   "source": [
    "## Fine-Tuned with 1 Actors"
   ]
  },
  {
   "cell_type": "code",
   "execution_count": null,
   "metadata": {},
   "outputs": [],
   "source": [
    "all_mpjpe = []\n",
    "all_pjpe = []\n",
    "all_activity_mpjpe = []\n",
    "all_actors = ['vp1', 'vp2', 'vp3', 'vp4', 'vp5', 'vp6', 'vp7', 'vp8']\n",
    "for vp in ['vp1', 'vp2', 'vp3', 'vp4', 'vp5', 'vp6', 'vp7', 'vp8']:\n",
    "    display(f'Actor: {vp}')\n",
    "    mpjpe, pjpe, activities_mpjpe = run_experiment(\n",
    "        train_actors=[vp],\n",
    "        val_actors=['vp9', 'vp10', 'vp15'],\n",
    "        test_actors=['vp11', 'vp12', 'vp13', 'vp14'],\n",
    "        is_plot_gt_skeleton=False,\n",
    "        model_suffix=vp\n",
    "    )\n",
    "    all_mpjpe.append(mpjpe)\n",
    "    all_pjpe.append(pjpe)\n",
    "    all_activity_mpjpe.append(activities_mpjpe)"
   ]
  },
  {
   "cell_type": "code",
   "execution_count": null,
   "metadata": {},
   "outputs": [],
   "source": [
    "pd.DataFrame(all_mpjpe, index=all_actors)"
   ]
  },
  {
   "cell_type": "code",
   "execution_count": null,
   "metadata": {},
   "outputs": [],
   "source": [
    "pd.DataFrame(all_mpjpe, index=all_actors).mean()"
   ]
  },
  {
   "cell_type": "code",
   "execution_count": null,
   "metadata": {},
   "outputs": [],
   "source": [
    "pjpe_df = pd.concat(all_pjpe, axis=1)\n",
    "pjpe_df.columns = all_actors\n",
    "pjpe_df"
   ]
  },
  {
   "cell_type": "code",
   "execution_count": null,
   "metadata": {},
   "outputs": [],
   "source": [
    "pd.DataFrame(pjpe_df.mean(axis=1), columns=['average_pjpe'])"
   ]
  },
  {
   "cell_type": "code",
   "execution_count": null,
   "metadata": {},
   "outputs": [],
   "source": [
    "all_activity_mpjpe[0]"
   ]
  },
  {
   "cell_type": "code",
   "execution_count": null,
   "metadata": {},
   "outputs": [],
   "source": [
    "pd.DataFrame(all_activity_mpjpe, index=all_actors).T.sort_index()"
   ]
  },
  {
   "cell_type": "code",
   "execution_count": null,
   "metadata": {},
   "outputs": [],
   "source": [
    "pd.DataFrame(pd.DataFrame(all_activity_mpjpe, index=all_actors).T.mean(axis=1), columns=['pjpe']).sort_index()"
   ]
  }
 ],
 "metadata": {
  "kernelspec": {
   "display_name": "Python 3 (ipykernel)",
   "language": "python",
   "name": "python3"
  },
  "orig_nbformat": 4,
  "vscode": {
   "interpreter": {
    "hash": "916dbcbb3f70747c44a77c7bcd40155683ae19c65e1c03b4aa3499c5328201f1"
   }
  }
 },
 "nbformat": 4,
 "nbformat_minor": 2
}
