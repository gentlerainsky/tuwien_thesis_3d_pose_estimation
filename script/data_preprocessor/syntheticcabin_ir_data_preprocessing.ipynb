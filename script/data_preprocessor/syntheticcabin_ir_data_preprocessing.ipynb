{
 "cells": [
  {
   "cell_type": "code",
   "execution_count": 1,
   "metadata": {},
   "outputs": [
    {
     "name": "stderr",
     "output_type": "stream",
     "text": [
      "Global seed set to 1234\n"
     ]
    },
    {
     "name": "stdout",
     "output_type": "stream",
     "text": [
      "/root/data/raw/12152021_emotion3D_bw/synth_cabin_tri_rearMirror/gt_jsons 50000\n",
      "init Rear_Mirror\n",
      "10000 False 1000000\n",
      "20000 False 1000000\n",
      "30000 False 1000000\n",
      "40000 False 1000000\n",
      "50000 False 1000000\n",
      "finish saving images\n"
     ]
    }
   ],
   "source": [
    "import pytorch_lightning as pl\n",
    "from modules.data_preprocessing.emotion3d_preprocessor import Emotion3DPreprocessor, annotation_template\n",
    "import pickle\n",
    "import datetime\n",
    "from pathlib import Path\n",
    "\n",
    "pl.seed_everything(1234)\n",
    "\n",
    "viewpoints = ['Rear_Mirror']\n",
    "result = {}\n",
    "\n",
    "start = datetime.datetime.now()\n",
    "data_root_path = Path('/root/data/raw/12152021_emotion3D_bw')\n",
    "# folders = [item for item in data_root_path.iterdir() if item.is_dir()]\n",
    "folders = [(data_root_path / 'synth_cabin_tri_rearMirror').as_posix()]\n",
    "for folder in folders:\n",
    "    data_preprocessor = Emotion3DPreprocessor(\n",
    "        source_path=str(folder),\n",
    "        source_annotation_folder='gt_jsons',\n",
    "        source_image_folder='images',\n",
    "        destination_path='/root/data/processed/synthetic_cabin_ir_new',\n",
    "        annotation_folder='annotations',\n",
    "        image_folder='images',\n",
    "        train_image_folder='train',\n",
    "        val_image_folder='val',\n",
    "        test_image_folder='test',\n",
    "        person_detection_folder='person_detection_results',\n",
    "        keypoint_detection_folder='keypoint_detection_results',\n",
    "        visualization_folder='visualizations',\n",
    "        source_height=1024,\n",
    "        source_width=1280,\n",
    "        destination_height=1024,\n",
    "        destination_width=1280,\n",
    "        val_subset={'Amit', 'Claudia'},\n",
    "        test_subset={'Alison', 'Ryo'}\n",
    "    )\n",
    "\n",
    "    data_preprocessor.format_dataset(\n",
    "        annotation_template,\n",
    "        num_train=1000000,\n",
    "        num_val=10000000,\n",
    "        num_test=10000000\n",
    "    )"
   ]
  },
  {
   "cell_type": "code",
   "execution_count": null,
   "metadata": {},
   "outputs": [],
   "source": [
    "# import json\n",
    "# with open(f'./experiments/dataloader_pickle.json', 'w') as f:\n",
    "#     f.write(json.dumps(result, indent=2))"
   ]
  },
  {
   "cell_type": "code",
   "execution_count": null,
   "metadata": {},
   "outputs": [],
   "source": [
    "# %%time\n",
    "# with open(f'/root/data/processed/synthetic_cabin_1m/all_views/dataloaders/all_views.pkl', 'rb') as f:\n",
    "#     obj = pickle.load(f)"
   ]
  }
 ],
 "metadata": {
  "kernelspec": {
   "display_name": "Python 3 (ipykernel)",
   "language": "python",
   "name": "python3"
  }
 },
 "nbformat": 4,
 "nbformat_minor": 2
}
