{
 "cells": [
  {
   "cell_type": "code",
   "execution_count": 1,
   "metadata": {},
   "outputs": [
    {
     "name": "stderr",
     "output_type": "stream",
     "text": [
      "Global seed set to 1234\n"
     ]
    },
    {
     "name": "stdout",
     "output_type": "stream",
     "text": [
      "A_Pillar_Codriver_Front_Left_Front_TopLeft_Rear_Mirror\n",
      "time used = 1:10\n",
      "A_Pillar_Driver_Front_Right_Front_TopRight\n",
      "time used = 1:1\n",
      "Dashboard_Front_OMS_01\n",
      "time used = 1:7\n",
      "all_views\n",
      "time used = 1:46\n",
      "Dashboard_Front_Front_Left_OMS_01\n",
      "time used = 1:12\n",
      "{'A_Pillar_Codriver_Front_Left_Front_TopLeft_Rear_Mirror': {'path': '/root/data/processed/synthetic_cabin_1m/all_views/dataloaders/A_Pillar_Codriver_Front_Left_Front_TopLeft_Rear_Mirror.pkl'}, 'A_Pillar_Driver_Front_Right_Front_TopRight': {'path': '/root/data/processed/synthetic_cabin_1m/all_views/dataloaders/A_Pillar_Driver_Front_Right_Front_TopRight.pkl'}, 'Dashboard_Front_OMS_01': {'path': '/root/data/processed/synthetic_cabin_1m/all_views/dataloaders/Dashboard_Front_OMS_01.pkl'}, 'all_views': {'path': '/root/data/processed/synthetic_cabin_1m/all_views/dataloaders/all_views.pkl'}, 'Dashboard_Front_Front_Left_OMS_01': {'path': '/root/data/processed/synthetic_cabin_1m/all_views/dataloaders/Dashboard_Front_Front_Left_OMS_01.pkl'}}\n"
     ]
    }
   ],
   "source": [
    "import pytorch_lightning as pl\n",
    "from modules.lifter_2d_3d.model.linear_model.lit_linear_model import LitSimpleBaselineLinear as LitModel\n",
    "from modules.experiments.dataset import (\n",
    "    construct_synthetic_cabin_ir_1m_v2, synthetic_cabin_ir_1m_v2_dataset_root_path\n",
    ")\n",
    "import pickle\n",
    "import datetime\n",
    "\n",
    "pl.seed_everything(1234)\n",
    "\n",
    "viewpoints = [\n",
    "    ['Front_Left', 'Front_TopLeft', 'A_Pillar_Codriver', 'Rear_Mirror'],\n",
    "    ['Front_Right', 'Front_TopRight', 'A_Pillar_Driver'],\n",
    "    ['Dashboard', 'OMS_01', 'Front'],\n",
    "    None,\n",
    "    ['Front', 'Front_Left', 'OMS_01', 'Dashboard'],\n",
    "]\n",
    "result = {}\n",
    "for viewpoint in viewpoints:\n",
    "    start = datetime.datetime.now()\n",
    "    if viewpoint is not None:\n",
    "        viewpoint = sorted(viewpoint)\n",
    "        viewpoint_name = \"_\".join(viewpoint)\n",
    "    else:\n",
    "        viewpoint_name = 'all_views'\n",
    "    print(viewpoint_name)\n",
    "    constructed_loader = construct_synthetic_cabin_ir_1m_v2(\n",
    "        dataset_name='synthetic_cabin_ir_1m',\n",
    "        dataset_root_path=synthetic_cabin_ir_1m_v2_dataset_root_path,\n",
    "        viewpoints=viewpoint,\n",
    "        keypoint_2d_folder='annotations',\n",
    "        keypoint_2d_file_prefix='person_keypoints',\n",
    "        bbox_file_predix='ground_truth_human_detection',\n",
    "        is_gt_2d_pose=True\n",
    "    )\n",
    "    with open(f'/root/data/processed/synthetic_cabin_1m/all_views/dataloaders/{viewpoint_name}.pkl', 'wb') as f:\n",
    "        pickle.dump(constructed_loader, f)\n",
    "    end = datetime.datetime.now()\n",
    "    time_used = (end - start).total_seconds()\n",
    "    min_used = time_used // 60\n",
    "    second = time_used % 60\n",
    "    print(f'time used = {min_used:.0f}:{second:.0f}')\n",
    "    result[viewpoint_name] = {\n",
    "        'path': f'/root/data/processed/synthetic_cabin_1m/all_views/dataloaders/{viewpoint_name}.pkl'\n",
    "    }\n",
    "print(result)"
   ]
  },
  {
   "cell_type": "code",
   "execution_count": 2,
   "metadata": {},
   "outputs": [],
   "source": [
    "import json\n",
    "with open(f'./experiments/dataloader_pickle.json', 'w') as f:\n",
    "    f.write(json.dumps(result, indent=2))"
   ]
  }
 ],
 "metadata": {
  "kernelspec": {
   "display_name": "Python 3 (ipykernel)",
   "language": "python",
   "name": "python3"
  },
  "language_info": {
   "codemirror_mode": {
    "name": "ipython",
    "version": 3
   },
   "file_extension": ".py",
   "mimetype": "text/x-python",
   "name": "python",
   "nbconvert_exporter": "python",
   "pygments_lexer": "ipython3",
   "version": "3.10.11"
  }
 },
 "nbformat": 4,
 "nbformat_minor": 2
}
