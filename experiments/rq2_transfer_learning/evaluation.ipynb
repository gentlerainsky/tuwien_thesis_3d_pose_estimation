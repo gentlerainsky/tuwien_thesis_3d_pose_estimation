{
 "cells": [
  {
   "cell_type": "code",
   "execution_count": 1,
   "metadata": {},
   "outputs": [],
   "source": [
    "from experiments.experiment_config import (\n",
    "    ALL_LIGHTNING_MODELS,\n",
    "    DRIVE_AND_ACT_VIEWPOINTS,\n",
    "    get_drive_and_act_loaders,\n",
    "    driver_and_act_pretrained_map\n",
    ")\n",
    "from modules.lifter_2d_3d.utils.evaluation import Evaluator\n",
    "viewpoint = list(driver_and_act_pretrained_map.keys())[0]\n",
    "constructed_loader = get_drive_and_act_loaders(viewpoint)\n",
    "\n",
    "pretrained_model_path = 'saved_lifter_2d_3d_model/rq2/LitSimpleBaselineLinear/synthetic_cabin_ir_1m/all_views'\n",
    "\n",
    "with open(f'{pretrained_model_path}/best_model_path.txt', 'r') as f:\n",
    "    pretrained_checkpoint_path = f.readline()\n",
    "lit_model = ALL_LIGHTNING_MODELS[0].load_from_checkpoint(pretrained_checkpoint_path)\n",
    "lit_model.set_all_activities(constructed_loader['all_activities'])\n",
    "lit_model.eval();"
   ]
  },
  {
   "cell_type": "code",
   "execution_count": 2,
   "metadata": {},
   "outputs": [
    {
     "name": "stdout",
     "output_type": "stream",
     "text": [
      "torch.Size([64, 13, 2])\n",
      "torch.Size([64, 26])\n"
     ]
    }
   ],
   "source": [
    "import torch\n",
    "import numpy as np\n",
    "batch = next(iter(constructed_loader['train_loader']))\n",
    "x, y, valid, activities = lit_model.preprocess_input(*lit_model.preprocess_batch(batch))\n",
    "y_hat = lit_model.forward(x.to('cuda'))"
   ]
  },
  {
   "cell_type": "code",
   "execution_count": 3,
   "metadata": {},
   "outputs": [],
   "source": [
    "evaluator = Evaluator(is_procrustes=False)\n",
    "p_evaluator = Evaluator(is_procrustes=True)"
   ]
  },
  {
   "cell_type": "code",
   "execution_count": 4,
   "metadata": {},
   "outputs": [],
   "source": [
    "evaluator.add_result(\n",
    "    y_hat.detach().cpu().numpy(),\n",
    "    y.detach().cpu().numpy(),\n",
    "    valid.detach().cpu().numpy(),\n",
    "    activities\n",
    ")"
   ]
  },
  {
   "cell_type": "code",
   "execution_count": 5,
   "metadata": {},
   "outputs": [
    {
     "data": {
      "text/plain": [
       "([{'nose': 107.0462646484375,\n",
       "   'left_eye': 103.03743743896484,\n",
       "   'right_eye': 104.2566146850586,\n",
       "   'left_ear': 21.95159339904785,\n",
       "   'right_ear': 55.921180725097656,\n",
       "   'left_shoulder': 16.93596649169922,\n",
       "   'right_shoulder': 16.93478775024414,\n",
       "   'left_elbow': 116.03675842285156,\n",
       "   'right_elbow': 122.07261657714844,\n",
       "   'left_wrist': 165.49891662597656,\n",
       "   'right_wrist': 187.376953125,\n",
       "   'left_hip': 90.14336395263672,\n",
       "   'right_hip': 94.05154418945312}],\n",
       " 108.201764523983,\n",
       " None,\n",
       " None)"
      ]
     },
     "execution_count": 5,
     "metadata": {},
     "output_type": "execute_result"
    }
   ],
   "source": [
    "evaluator.get_result()"
   ]
  },
  {
   "cell_type": "code",
   "execution_count": 6,
   "metadata": {},
   "outputs": [],
   "source": [
    "p_evaluator.add_result(\n",
    "    y_hat.detach().cpu().numpy(),\n",
    "    y.detach().cpu().numpy(),\n",
    "    valid.detach().cpu().numpy(),\n",
    "    activities\n",
    ")"
   ]
  },
  {
   "cell_type": "code",
   "execution_count": 7,
   "metadata": {},
   "outputs": [
    {
     "data": {
      "text/plain": [
       "([{'nose': 49.63608970865607,\n",
       "   'left_eye': 46.93726655386854,\n",
       "   'right_eye': 47.2366017929744,\n",
       "   'left_ear': 12.436410645022988,\n",
       "   'right_ear': 33.14387112914119,\n",
       "   'left_shoulder': 52.507817730656825,\n",
       "   'right_shoulder': 50.08431685564574,\n",
       "   'left_elbow': 63.95507730485406,\n",
       "   'right_elbow': 71.94398567662574,\n",
       "   'left_wrist': 101.92400842788629,\n",
       "   'right_wrist': 107.12514616898261,\n",
       "   'left_hip': 86.76080190343782,\n",
       "   'right_hip': 96.67466260725632}],\n",
       " 73.38394161784642,\n",
       " None,\n",
       " None)"
      ]
     },
     "execution_count": 7,
     "metadata": {},
     "output_type": "execute_result"
    }
   ],
   "source": [
    "p_evaluator.get_result()"
   ]
  }
 ],
 "metadata": {
  "kernelspec": {
   "display_name": "Python 3 (ipykernel)",
   "language": "python",
   "name": "python3"
  },
  "language_info": {
   "codemirror_mode": {
    "name": "ipython",
    "version": 3
   },
   "file_extension": ".py",
   "mimetype": "text/x-python",
   "name": "python",
   "nbconvert_exporter": "python",
   "pygments_lexer": "ipython3",
   "version": "3.10.11"
  },
  "orig_nbformat": 4,
  "vscode": {
   "interpreter": {
    "hash": "916dbcbb3f70747c44a77c7bcd40155683ae19c65e1c03b4aa3499c5328201f1"
   }
  }
 },
 "nbformat": 4,
 "nbformat_minor": 2
}
