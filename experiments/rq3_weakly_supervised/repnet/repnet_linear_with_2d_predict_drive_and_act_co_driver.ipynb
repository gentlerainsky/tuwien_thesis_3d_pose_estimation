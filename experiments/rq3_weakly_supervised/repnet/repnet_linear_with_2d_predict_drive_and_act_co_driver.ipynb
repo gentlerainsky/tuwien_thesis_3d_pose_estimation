{
    "cells": [
        {
            "cell_type": "code",
            "execution_count": 1,
            "metadata": {},
            "outputs": [],
            "source": [
                "%load_ext autoreload\n",
                "%autoreload 2"
            ]
        },
        {
            "cell_type": "code",
            "execution_count": 2,
            "metadata": {},
            "outputs": [],
            "source": [
                "# !rm -rf saved_lifter_2d_3d_model/synthetic_cabin_bw/A_Pillar_Codriver/prediction/linear_model/lightning_logs"
            ]
        },
        {
            "cell_type": "code",
            "execution_count": 3,
            "metadata": {},
            "outputs": [],
            "source": [
                "import pandas as pd\n",
                "import numpy as np\n",
                "import torch\n",
                "import lightning.pytorch as pl\n",
                "import matplotlib.pyplot as plt\n",
                "# import plotly\n",
                "import plotly.express as px"
            ]
        },
        {
            "cell_type": "code",
            "execution_count": 4,
            "metadata": {},
            "outputs": [
                {
                    "name": "stderr",
                    "output_type": "stream",
                    "text": [
                        "Global seed set to 1234\n",
                        "GPU available: True (cuda), used: True\n",
                        "TPU available: False, using: 0 TPU cores\n",
                        "IPU available: False, using: 0 IPUs\n",
                        "HPU available: False, using: 0 HPUs\n"
                    ]
                },
                {
                    "name": "stdout",
                    "output_type": "stream",
                    "text": [
                        "train_dataset 22494 val_dataset 6157 test_dataset 10959\n",
                        "device cuda\n"
                    ]
                },
                {
                    "name": "stderr",
                    "output_type": "stream",
                    "text": [
                        "LOCAL_RANK: 0 - CUDA_VISIBLE_DEVICES: [0]\n",
                        "\n",
                        "  | Name          | Type               | Params\n",
                        "-----------------------------------------------------\n",
                        "0 | lifter_2D_3D  | BaselineModel      | 4.3 M \n",
                        "1 | camera_net    | CameraNet          | 4.0 M \n",
                        "2 | generator     | RepNet             | 8.3 M \n",
                        "3 | discriminator | DiscriminatorModel | 89.2 K\n",
                        "-----------------------------------------------------\n",
                        "8.4 M     Trainable params\n",
                        "0         Non-trainable params\n",
                        "8.4 M     Total params\n",
                        "33.650    Total estimated model params size (MB)\n"
                    ]
                },
                {
                    "data": {
                        "application/vnd.jupyter.widget-view+json": {
                            "model_id": "17e7387efa9f49c1b5f1e8ab667a36b8",
                            "version_major": 2,
                            "version_minor": 0
                        },
                        "text/plain": [
                            "Sanity Checking: 0it [00:00, ?it/s]"
                        ]
                    },
                    "metadata": {},
                    "output_type": "display_data"
                },
                {
                    "name": "stdout",
                    "output_type": "stream",
                    "text": [
                        "check #0\n",
                        "val MPJPE from: 128 samples : 2496.199131011963\n",
                        "val P-MPJPE from: 128 samples : 2243.5804408129297\n",
                        "activity_macro_mpjpe 2496.685028076172\n",
                        "activity_macro_procrusted_mpjpe 2230.180259205083\n"
                    ]
                },
                {
                    "data": {
                        "application/vnd.jupyter.widget-view+json": {
                            "model_id": "a7bc0cea8841452ea6cbb20523a6875a",
                            "version_major": 2,
                            "version_minor": 0
                        },
                        "text/plain": [
                            "Training: 0it [00:00, ?it/s]"
                        ]
                    },
                    "metadata": {},
                    "output_type": "display_data"
                },
                {
                    "data": {
                        "application/vnd.jupyter.widget-view+json": {
                            "model_id": "ab17496ab39341b0ba226f4487d62780",
                            "version_major": 2,
                            "version_minor": 0
                        },
                        "text/plain": [
                            "Validation: 0it [00:00, ?it/s]"
                        ]
                    },
                    "metadata": {},
                    "output_type": "display_data"
                },
                {
                    "name": "stdout",
                    "output_type": "stream",
                    "text": [
                        "check #1\n",
                        "training loss from 1755 batches:\n",
                        "d_loss = 4.380641274031071\n",
                        "g_loss = -0.28730254860600174\n",
                        "c_loss = 1.6982773956070598\n",
                        "pose_2d_loss = 53.8666343455301\n",
                        "total_g_loss = 55.27760923499735\n",
                        "val MPJPE from: 6157 samples : 607.6223850250244\n",
                        "val P-MPJPE from: 6157 samples : 487.08734534639615\n",
                        "activity_macro_mpjpe 619.1353797912598\n",
                        "activity_macro_procrusted_mpjpe 490.0756051602352\n"
                    ]
                },
                {
                    "data": {
                        "application/vnd.jupyter.widget-view+json": {
                            "model_id": "c46368d6a32445f9b98eb8c83120f6d5",
                            "version_major": 2,
                            "version_minor": 0
                        },
                        "text/plain": [
                            "Validation: 0it [00:00, ?it/s]"
                        ]
                    },
                    "metadata": {},
                    "output_type": "display_data"
                },
                {
                    "name": "stdout",
                    "output_type": "stream",
                    "text": [
                        "check #2\n",
                        "training loss from 1755 batches:\n",
                        "d_loss = 2.4400829912250876\n",
                        "g_loss = -0.2785437140369687\n",
                        "c_loss = 1.6983222617722644\n",
                        "pose_2d_loss = 6.914090556432718\n",
                        "total_g_loss = 8.333869101315143\n",
                        "val MPJPE from: 6157 samples : 637.2793316841125\n",
                        "val P-MPJPE from: 6157 samples : 503.06170897494275\n",
                        "activity_macro_mpjpe 648.3469009399414\n",
                        "activity_macro_procrusted_mpjpe 501.07675762367256\n"
                    ]
                },
                {
                    "data": {
                        "application/vnd.jupyter.widget-view+json": {
                            "model_id": "0a18631437ec4c3abce5cb2c37e3750d",
                            "version_major": 2,
                            "version_minor": 0
                        },
                        "text/plain": [
                            "Validation: 0it [00:00, ?it/s]"
                        ]
                    },
                    "metadata": {},
                    "output_type": "display_data"
                },
                {
                    "name": "stdout",
                    "output_type": "stream",
                    "text": [
                        "check #3\n",
                        "training loss from 1755 batches:\n",
                        "d_loss = 1.007197673453225\n",
                        "g_loss = -0.33369216398466006\n",
                        "c_loss = 1.679940163783538\n",
                        "pose_2d_loss = 1.3185123768966762\n",
                        "total_g_loss = 2.664760374615335\n",
                        "val MPJPE from: 6157 samples : 464.00633454322815\n",
                        "val P-MPJPE from: 6157 samples : 296.1816775543359\n",
                        "activity_macro_mpjpe 472.19228744506836\n",
                        "activity_macro_procrusted_mpjpe 295.56927833091123\n"
                    ]
                },
                {
                    "data": {
                        "application/vnd.jupyter.widget-view+json": {
                            "model_id": "2889d5b079114edda667bbfe3a514e83",
                            "version_major": 2,
                            "version_minor": 0
                        },
                        "text/plain": [
                            "Validation: 0it [00:00, ?it/s]"
                        ]
                    },
                    "metadata": {},
                    "output_type": "display_data"
                },
                {
                    "name": "stdout",
                    "output_type": "stream",
                    "text": [
                        "check #4\n",
                        "training loss from 1755 batches:\n",
                        "d_loss = 16.14488703712099\n",
                        "g_loss = -0.2768007719637268\n",
                        "c_loss = 0.7786573406977532\n",
                        "pose_2d_loss = 0.5224570843568894\n",
                        "total_g_loss = 1.0243136538569404\n",
                        "val MPJPE from: 6157 samples : 564.0157461166382\n",
                        "val P-MPJPE from: 6157 samples : 371.18081627547963\n",
                        "activity_macro_mpjpe 568.9303874969482\n",
                        "activity_macro_procrusted_mpjpe 370.4406672177036\n"
                    ]
                },
                {
                    "data": {
                        "application/vnd.jupyter.widget-view+json": {
                            "model_id": "5dbfc5047a9d4e80bbdd081e85feecf5",
                            "version_major": 2,
                            "version_minor": 0
                        },
                        "text/plain": [
                            "Validation: 0it [00:00, ?it/s]"
                        ]
                    },
                    "metadata": {},
                    "output_type": "display_data"
                },
                {
                    "name": "stdout",
                    "output_type": "stream",
                    "text": [
                        "check #5\n",
                        "training loss from 1755 batches:\n",
                        "d_loss = 17.314783939269194\n",
                        "g_loss = -0.9953489114076663\n",
                        "c_loss = 0.13430164363288302\n",
                        "pose_2d_loss = 0.11044827055430141\n",
                        "total_g_loss = -0.7505989975569255\n",
                        "val MPJPE from: 6157 samples : 613.6588454246521\n",
                        "val P-MPJPE from: 6157 samples : 448.597232255086\n",
                        "activity_macro_mpjpe 618.7127232551575\n",
                        "activity_macro_procrusted_mpjpe 448.5551456255651\n"
                    ]
                },
                {
                    "data": {
                        "application/vnd.jupyter.widget-view+json": {
                            "model_id": "7b74eca42bc7459289ef8eca70f66e1b",
                            "version_major": 2,
                            "version_minor": 0
                        },
                        "text/plain": [
                            "Validation: 0it [00:00, ?it/s]"
                        ]
                    },
                    "metadata": {},
                    "output_type": "display_data"
                },
                {
                    "name": "stdout",
                    "output_type": "stream",
                    "text": [
                        "check #6\n",
                        "training loss from 1755 batches:\n",
                        "d_loss = 10.245443146588796\n",
                        "g_loss = -0.6742335198102174\n",
                        "c_loss = 0.05662132100947732\n",
                        "pose_2d_loss = 0.09336624191251405\n",
                        "total_g_loss = -0.5242459572023815\n",
                        "val MPJPE from: 6157 samples : 409.43342447280884\n",
                        "val P-MPJPE from: 6157 samples : 246.82956148535928\n",
                        "activity_macro_mpjpe 415.34751653671265\n",
                        "activity_macro_procrusted_mpjpe 245.55748317953942\n",
                        "current learning rate: [9.5e-05] [9.5e-05]\n",
                        "current learning rate: [9.025e-05] [9.025e-05]\n",
                        "current learning rate: [8.573749999999999e-05] [8.573749999999999e-05]\n"
                    ]
                },
                {
                    "data": {
                        "application/vnd.jupyter.widget-view+json": {
                            "model_id": "ce1703f826824f2b8253f303b75e54f3",
                            "version_major": 2,
                            "version_minor": 0
                        },
                        "text/plain": [
                            "Validation: 0it [00:00, ?it/s]"
                        ]
                    },
                    "metadata": {},
                    "output_type": "display_data"
                },
                {
                    "name": "stdout",
                    "output_type": "stream",
                    "text": [
                        "check #7\n",
                        "training loss from 1755 batches:\n",
                        "d_loss = 2.3870496041414744\n",
                        "g_loss = -0.8522725231287486\n",
                        "c_loss = 0.08716625933644184\n",
                        "pose_2d_loss = 0.18418297509999781\n",
                        "total_g_loss = -0.5809232891624809\n",
                        "val MPJPE from: 6157 samples : 1886.0507011413574\n",
                        "val P-MPJPE from: 6157 samples : 1281.652066472462\n",
                        "activity_macro_mpjpe 1886.3791227340698\n",
                        "activity_macro_procrusted_mpjpe 1350.632958217921\n",
                        "current learning rate: [8.145062499999998e-05] [8.145062499999998e-05]\n",
                        "current learning rate: [7.737809374999998e-05] [7.737809374999998e-05]\n",
                        "current learning rate: [7.350918906249998e-05] [7.350918906249998e-05]\n",
                        "current learning rate: [6.983372960937497e-05] [6.983372960937497e-05]\n",
                        "current learning rate: [6.634204312890622e-05] [6.634204312890622e-05]\n"
                    ]
                },
                {
                    "data": {
                        "application/vnd.jupyter.widget-view+json": {
                            "model_id": "661f23d82d1547b4974123d49b2a73b1",
                            "version_major": 2,
                            "version_minor": 0
                        },
                        "text/plain": [
                            "Validation: 0it [00:00, ?it/s]"
                        ]
                    },
                    "metadata": {},
                    "output_type": "display_data"
                },
                {
                    "name": "stdout",
                    "output_type": "stream",
                    "text": [
                        "check #8\n",
                        "training loss from 1755 batches:\n",
                        "d_loss = 7.633055745502483\n",
                        "g_loss = -0.7661572756590667\n",
                        "c_loss = 0.11212197880969088\n",
                        "pose_2d_loss = 0.15210902644878524\n",
                        "total_g_loss = -0.5019262706027751\n",
                        "val MPJPE from: 6157 samples : 338.184118270874\n",
                        "val P-MPJPE from: 6157 samples : 154.71448917408577\n",
                        "activity_macro_mpjpe 350.75464844703674\n",
                        "activity_macro_procrusted_mpjpe 155.5473783072196\n",
                        "current learning rate: [6.30249409724609e-05] [6.30249409724609e-05]\n",
                        "current learning rate: [5.987369392383786e-05] [5.987369392383786e-05]\n",
                        "current learning rate: [5.688000922764596e-05] [5.688000922764596e-05]\n",
                        "current learning rate: [5.4036008766263664e-05] [5.4036008766263664e-05]\n",
                        "current learning rate: [5.133420832795048e-05] [5.133420832795048e-05]\n"
                    ]
                },
                {
                    "data": {
                        "application/vnd.jupyter.widget-view+json": {
                            "model_id": "9fb54446f25d4a3185dcca0c19f0807e",
                            "version_major": 2,
                            "version_minor": 0
                        },
                        "text/plain": [
                            "Validation: 0it [00:00, ?it/s]"
                        ]
                    },
                    "metadata": {},
                    "output_type": "display_data"
                },
                {
                    "name": "stdout",
                    "output_type": "stream",
                    "text": [
                        "check #9\n",
                        "training loss from 1755 batches:\n",
                        "d_loss = 10.116508964256004\n",
                        "g_loss = -0.9999743351229915\n",
                        "c_loss = 0.016708996985638328\n",
                        "pose_2d_loss = 0.009404452096012837\n",
                        "total_g_loss = -0.9738608856146831\n",
                        "val MPJPE from: 6157 samples : 333.86969566345215\n",
                        "val P-MPJPE from: 6157 samples : 79.57065229617655\n",
                        "activity_macro_mpjpe 347.72196412086487\n",
                        "activity_macro_procrusted_mpjpe 79.70079543842223\n",
                        "current learning rate: [4.876749791155295e-05] [4.876749791155295e-05]\n",
                        "current learning rate: [4.6329123015975305e-05] [4.6329123015975305e-05]\n",
                        "current learning rate: [4.4012666865176535e-05] [4.4012666865176535e-05]\n",
                        "current learning rate: [4.181203352191771e-05] [4.181203352191771e-05]\n",
                        "current learning rate: [3.972143184582182e-05] [3.972143184582182e-05]\n"
                    ]
                },
                {
                    "data": {
                        "application/vnd.jupyter.widget-view+json": {
                            "model_id": "ab54c08e26864a66990e0a5222a126c0",
                            "version_major": 2,
                            "version_minor": 0
                        },
                        "text/plain": [
                            "Validation: 0it [00:00, ?it/s]"
                        ]
                    },
                    "metadata": {},
                    "output_type": "display_data"
                },
                {
                    "name": "stdout",
                    "output_type": "stream",
                    "text": [
                        "check #10\n",
                        "training loss from 1755 batches:\n",
                        "d_loss = 10.000023027295061\n",
                        "g_loss = -0.9999871314081371\n",
                        "c_loss = 0.009542847080076607\n",
                        "pose_2d_loss = 0.006017834412337326\n",
                        "total_g_loss = -0.9844264497784129\n",
                        "val MPJPE from: 6157 samples : 337.18785643577576\n",
                        "val P-MPJPE from: 6157 samples : 79.36089267072826\n",
                        "activity_macro_mpjpe 351.1207103729248\n",
                        "activity_macro_procrusted_mpjpe 79.45121190882412\n",
                        "current learning rate: [3.7735360253530726e-05] [3.7735360253530726e-05]\n",
                        "current learning rate: [3.584859224085419e-05] [3.584859224085419e-05]\n",
                        "current learning rate: [3.405616262881148e-05] [3.405616262881148e-05]\n",
                        "current learning rate: [3.2353354497370904e-05] [3.2353354497370904e-05]\n",
                        "current learning rate: [3.0735686772502355e-05] [3.0735686772502355e-05]\n"
                    ]
                },
                {
                    "data": {
                        "application/vnd.jupyter.widget-view+json": {
                            "model_id": "a8b37a2e4e4b4837902f4b60f879c2eb",
                            "version_major": 2,
                            "version_minor": 0
                        },
                        "text/plain": [
                            "Validation: 0it [00:00, ?it/s]"
                        ]
                    },
                    "metadata": {},
                    "output_type": "display_data"
                },
                {
                    "name": "stdout",
                    "output_type": "stream",
                    "text": [
                        "check #11\n",
                        "training loss from 1755 batches:\n",
                        "d_loss = 9.376372472139506\n",
                        "g_loss = -0.9970203372487995\n",
                        "c_loss = 0.006809457528545519\n",
                        "pose_2d_loss = 0.008106179620428516\n",
                        "total_g_loss = -0.9821046997678925\n",
                        "val MPJPE from: 6157 samples : 302.3759126663208\n",
                        "val P-MPJPE from: 6157 samples : 225.3409983210207\n",
                        "activity_macro_mpjpe 305.4596185684204\n",
                        "activity_macro_procrusted_mpjpe 229.812196410835\n",
                        "current learning rate: [2.9198902433877236e-05] [2.9198902433877236e-05]\n",
                        "current learning rate: [2.7738957312183373e-05] [2.7738957312183373e-05]\n",
                        "current learning rate: [2.6352009446574204e-05] [2.6352009446574204e-05]\n",
                        "current learning rate: [2.5034408974245492e-05] [2.5034408974245492e-05]\n",
                        "current learning rate: [2.3782688525533216e-05] [2.3782688525533216e-05]\n"
                    ]
                },
                {
                    "data": {
                        "application/vnd.jupyter.widget-view+json": {
                            "model_id": "33c661d4c6c84329af9d0a7831ad28c2",
                            "version_major": 2,
                            "version_minor": 0
                        },
                        "text/plain": [
                            "Validation: 0it [00:00, ?it/s]"
                        ]
                    },
                    "metadata": {},
                    "output_type": "display_data"
                },
                {
                    "name": "stdout",
                    "output_type": "stream",
                    "text": [
                        "check #12\n",
                        "training loss from 1755 batches:\n",
                        "d_loss = 2.3128158499712277\n",
                        "g_loss = -0.7989048111133087\n",
                        "c_loss = 0.043719510540652734\n",
                        "pose_2d_loss = 0.18983931011623806\n",
                        "total_g_loss = -0.5653459898936443\n",
                        "val MPJPE from: 6157 samples : 538.7088060379028\n",
                        "val P-MPJPE from: 6157 samples : 395.9833564923675\n",
                        "activity_macro_mpjpe 538.6508107185364\n",
                        "activity_macro_procrusted_mpjpe 395.11397820033454\n",
                        "current learning rate: [2.2593554099256555e-05] [2.2593554099256555e-05]\n",
                        "current learning rate: [2.1463876394293726e-05] [2.1463876394293726e-05]\n",
                        "current learning rate: [2.039068257457904e-05] [2.039068257457904e-05]\n",
                        "current learning rate: [1.9371148445850086e-05] [1.9371148445850086e-05]\n",
                        "current learning rate: [1.840259102355758e-05] [1.840259102355758e-05]\n"
                    ]
                },
                {
                    "data": {
                        "application/vnd.jupyter.widget-view+json": {
                            "model_id": "bdb0f0c141434c4dbe67aa460f37a247",
                            "version_major": 2,
                            "version_minor": 0
                        },
                        "text/plain": [
                            "Validation: 0it [00:00, ?it/s]"
                        ]
                    },
                    "metadata": {},
                    "output_type": "display_data"
                },
                {
                    "name": "stdout",
                    "output_type": "stream",
                    "text": [
                        "check #13\n",
                        "training loss from 1755 batches:\n",
                        "d_loss = 3.870764944356391\n",
                        "g_loss = -0.9578462591538063\n",
                        "c_loss = 0.023239266454770185\n",
                        "pose_2d_loss = 0.08101477281076361\n",
                        "total_g_loss = -0.8535922209761421\n",
                        "val MPJPE from: 6157 samples : 390.331506729126\n",
                        "val P-MPJPE from: 6157 samples : 290.3530799533351\n",
                        "activity_macro_mpjpe 395.0382471084595\n",
                        "activity_macro_procrusted_mpjpe 294.92747116210796\n",
                        "current learning rate: [1.74824614723797e-05] [1.74824614723797e-05]\n",
                        "current learning rate: [1.6608338398760715e-05] [1.6608338398760715e-05]\n",
                        "current learning rate: [1.5777921478822678e-05] [1.5777921478822678e-05]\n",
                        "current learning rate: [1.4989025404881544e-05] [1.4989025404881544e-05]\n",
                        "current learning rate: [1.4239574134637466e-05] [1.4239574134637466e-05]\n"
                    ]
                },
                {
                    "data": {
                        "application/vnd.jupyter.widget-view+json": {
                            "model_id": "8738cdd780ab4380885f8e979055cef3",
                            "version_major": 2,
                            "version_minor": 0
                        },
                        "text/plain": [
                            "Validation: 0it [00:00, ?it/s]"
                        ]
                    },
                    "metadata": {},
                    "output_type": "display_data"
                },
                {
                    "name": "stdout",
                    "output_type": "stream",
                    "text": [
                        "check #14\n",
                        "training loss from 1755 batches:\n",
                        "d_loss = 1.4906333393181153\n",
                        "g_loss = -0.7561401446999987\n",
                        "c_loss = 0.03114469319454625\n",
                        "pose_2d_loss = 0.14156741803867526\n",
                        "total_g_loss = -0.5834280327344552\n",
                        "val MPJPE from: 6157 samples : 333.6929380893707\n",
                        "val P-MPJPE from: 6157 samples : 216.75479117839683\n",
                        "activity_macro_mpjpe 345.3400731086731\n",
                        "activity_macro_procrusted_mpjpe 217.14487390030797\n",
                        "current learning rate: [1.3527595427905592e-05] [1.3527595427905592e-05]\n",
                        "current learning rate: [1.2851215656510312e-05] [1.2851215656510312e-05]\n",
                        "current learning rate: [1.2208654873684796e-05] [1.2208654873684796e-05]\n",
                        "current learning rate: [1.1598222130000555e-05] [1.1598222130000555e-05]\n",
                        "current learning rate: [1.1018311023500527e-05] [1.1018311023500527e-05]\n"
                    ]
                },
                {
                    "data": {
                        "application/vnd.jupyter.widget-view+json": {
                            "model_id": "d9d1c55667e64baf9b895529ab122d73",
                            "version_major": 2,
                            "version_minor": 0
                        },
                        "text/plain": [
                            "Validation: 0it [00:00, ?it/s]"
                        ]
                    },
                    "metadata": {},
                    "output_type": "display_data"
                },
                {
                    "name": "stdout",
                    "output_type": "stream",
                    "text": [
                        "check #15\n",
                        "training loss from 1755 batches:\n",
                        "d_loss = 2.135879768129767\n",
                        "g_loss = -0.9082101488385106\n",
                        "c_loss = 0.017036506270146013\n",
                        "pose_2d_loss = 0.10943376647780763\n",
                        "total_g_loss = -0.7817398767865281\n",
                        "val MPJPE from: 6157 samples : 456.8707346916199\n",
                        "val P-MPJPE from: 6157 samples : 328.42603671538603\n",
                        "activity_macro_mpjpe 462.32226490974426\n",
                        "activity_macro_procrusted_mpjpe 326.53493450079316\n",
                        "current learning rate: [1.04673954723255e-05] [1.04673954723255e-05]\n",
                        "current learning rate: [9.944025698709225e-06] [9.944025698709225e-06]\n",
                        "current learning rate: [9.446824413773763e-06] [9.446824413773763e-06]\n",
                        "current learning rate: [8.974483193085074e-06] [8.974483193085074e-06]\n",
                        "current learning rate: [8.52575903343082e-06] [8.52575903343082e-06]\n"
                    ]
                },
                {
                    "data": {
                        "application/vnd.jupyter.widget-view+json": {
                            "model_id": "35333dacc45940e880630c09f8bd6cc6",
                            "version_major": 2,
                            "version_minor": 0
                        },
                        "text/plain": [
                            "Validation: 0it [00:00, ?it/s]"
                        ]
                    },
                    "metadata": {},
                    "output_type": "display_data"
                },
                {
                    "name": "stdout",
                    "output_type": "stream",
                    "text": [
                        "check #16\n",
                        "training loss from 1755 batches:\n",
                        "d_loss = 4.547185775425359\n",
                        "g_loss = -0.9996155461015185\n",
                        "c_loss = 0.01209084473078025\n",
                        "pose_2d_loss = 0.017570384301277053\n",
                        "total_g_loss = -0.9699543167383243\n",
                        "val MPJPE from: 6157 samples : 434.4000518321991\n",
                        "val P-MPJPE from: 6157 samples : 270.83548452431603\n",
                        "activity_macro_mpjpe 446.12154364585876\n",
                        "activity_macro_procrusted_mpjpe 272.9810631707773\n",
                        "current learning rate: [8.09947108175928e-06] [8.09947108175928e-06]\n"
                    ]
                }
            ],
            "source": [
                "import os\n",
                "import torch\n",
                "import pandas as pd\n",
                "import numpy as np\n",
                "import pytorch_lightning as pl\n",
                "from pytorch_lightning.callbacks import ModelCheckpoint\n",
                "from pytorch_lightning.callbacks.early_stopping import EarlyStopping\n",
                "from torch.nn import functional as F\n",
                "from torch.utils.data import DataLoader, random_split\n",
                "from modules.lifter_2d_3d.model.linear_model.network.linear_model import BaselineModel\n",
                "from modules.lifter_2d_3d.dataset.drive_and_act_keypoint_dataset import DriveAndActKeypointDataset\n",
                "from modules.lifter_2d_3d.model.repnet.lit_repnet import LitRepNet\n",
                "from modules.utils.visualization import generate_connection_line, get_sample_from_loader, visualize_pose\n",
                "from IPython.display import display\n",
                "from experiments.experiment_config import (\n",
                "    DRIVE_AND_ACT_VIEWPOINTS,\n",
                "    get_drive_and_act_loaders,\n",
                ")\n",
                "pl.seed_everything(1234)\n",
                "\n",
                "view_point = DRIVE_AND_ACT_VIEWPOINTS[0]\n",
                "constructed_loader = get_drive_and_act_loaders(view_point, subset_percentage=100)\n",
                "train_loader = constructed_loader['train_loader']\n",
                "val_loader = constructed_loader['val_loader']\n",
                "test_loader = constructed_loader['test_loader']\n",
                "all_activities = constructed_loader['all_activities']\n",
                "print(\n",
                "    'train_dataset', len(train_loader.dataset),\n",
                "    'val_dataset', len(val_loader.dataset),\n",
                "    'test_dataset', len(test_loader.dataset)\n",
                ")\n",
                "model_checkpoint = ModelCheckpoint(monitor='mpjpe',mode='min', save_top_k=1)\n",
                "early_stopping = EarlyStopping(monitor='mpjpe', mode=\"min\", patience=5)\n",
                "\n",
                "# ------------\n",
                "# model\n",
                "# ------------\n",
                "lifter_2D_3D = BaselineModel(exclude_ankle=True, exclude_knee=True)\n",
                "lit_model = LitRepNet(lifter_2D_3D=lifter_2D_3D, all_activities=all_activities)\n",
                "# ------------\n",
                "# training\n",
                "# ------------\n",
                "# saved_model_path = './saved_lifter_2d_3d_model/synthetic_cabin_bw/A_Pillar_Codriver/prediction/repnet_linear_model/'\n",
                "saved_model_path = f'./saved_lifter_2d_3d_model/rq3/repnet/drive_and_act/{view_point}'\n",
                "if not os.path.exists(saved_model_path):\n",
                "    os.makedirs(saved_model_path)\n",
                "\n",
                "device = 'cuda' if torch.cuda.is_available() else 'cpu'\n",
                "print('device', device)\n",
                "# device = 'cpu'\n",
                "trainer = pl.Trainer(\n",
                "    # max_steps=10,\n",
                "    max_epochs=100,\n",
                "    callbacks=[model_checkpoint, early_stopping],\n",
                "    accelerator=device,\n",
                "    check_val_every_n_epoch=5,\n",
                "    default_root_dir=saved_model_path,\n",
                "    reload_dataloaders_every_n_epochs=1,\n",
                "    # gradient_clip_val=1.0\n",
                ")\n",
                "trainer.fit(lit_model, train_loader, val_loader)"
            ]
        },
        {
            "cell_type": "code",
            "execution_count": 5,
            "metadata": {},
            "outputs": [
                {
                    "name": "stderr",
                    "output_type": "stream",
                    "text": [
                        "Restoring states from the checkpoint path at saved_lifter_2d_3d_model/rq3/repnet/drive_and_act/a_column_co_driver/lightning_logs/version_1/checkpoints/epoch=54-step=38610.ckpt\n",
                        "LOCAL_RANK: 0 - CUDA_VISIBLE_DEVICES: [0]\n",
                        "Loaded model weights from the checkpoint at saved_lifter_2d_3d_model/rq3/repnet/drive_and_act/a_column_co_driver/lightning_logs/version_1/checkpoints/epoch=54-step=38610.ckpt\n"
                    ]
                },
                {
                    "data": {
                        "application/vnd.jupyter.widget-view+json": {
                            "model_id": "f1de1b5d1dc247568d3d0a8054be7cd3",
                            "version_major": 2,
                            "version_minor": 0
                        },
                        "text/plain": [
                            "Testing: 0it [00:00, ?it/s]"
                        ]
                    },
                    "metadata": {},
                    "output_type": "display_data"
                },
                {
                    "data": {
                        "text/html": [
                            "<pre style=\"white-space:pre;overflow-x:auto;line-height:normal;font-family:Menlo,'DejaVu Sans Mono',consolas,'Courier New',monospace\">┏━━━━━━━━━━━━━━━━━━━━━━━━━━━┳━━━━━━━━━━━━━━━━━━━━━━━━━━━┓\n",
                            "┃<span style=\"font-weight: bold\">        Test metric        </span>┃<span style=\"font-weight: bold\">       DataLoader 0        </span>┃\n",
                            "┡━━━━━━━━━━━━━━━━━━━━━━━━━━━╇━━━━━━━━━━━━━━━━━━━━━━━━━━━┩\n",
                            "│<span style=\"color: #008080; text-decoration-color: #008080\">   activity_macro_mpjpe    </span>│<span style=\"color: #800080; text-decoration-color: #800080\">     315.2385950088501     </span>│\n",
                            "│<span style=\"color: #008080; text-decoration-color: #008080\">           mpjpe           </span>│<span style=\"color: #800080; text-decoration-color: #800080\">     311.2344443798065     </span>│\n",
                            "│<span style=\"color: #008080; text-decoration-color: #008080\">  p_activity_macro_mpjpe   </span>│<span style=\"color: #800080; text-decoration-color: #800080\">     240.8603526046069     </span>│\n",
                            "│<span style=\"color: #008080; text-decoration-color: #008080\">          p_mpjpe          </span>│<span style=\"color: #800080; text-decoration-color: #800080\">    235.10867703403653     </span>│\n",
                            "└───────────────────────────┴───────────────────────────┘\n",
                            "</pre>\n"
                        ],
                        "text/plain": [
                            "┏━━━━━━━━━━━━━━━━━━━━━━━━━━━┳━━━━━━━━━━━━━━━━━━━━━━━━━━━┓\n",
                            "┃\u001b[1m \u001b[0m\u001b[1m       Test metric       \u001b[0m\u001b[1m \u001b[0m┃\u001b[1m \u001b[0m\u001b[1m      DataLoader 0       \u001b[0m\u001b[1m \u001b[0m┃\n",
                            "┡━━━━━━━━━━━━━━━━━━━━━━━━━━━╇━━━━━━━━━━━━━━━━━━━━━━━━━━━┩\n",
                            "│\u001b[36m \u001b[0m\u001b[36m  activity_macro_mpjpe   \u001b[0m\u001b[36m \u001b[0m│\u001b[35m \u001b[0m\u001b[35m    315.2385950088501    \u001b[0m\u001b[35m \u001b[0m│\n",
                            "│\u001b[36m \u001b[0m\u001b[36m          mpjpe          \u001b[0m\u001b[36m \u001b[0m│\u001b[35m \u001b[0m\u001b[35m    311.2344443798065    \u001b[0m\u001b[35m \u001b[0m│\n",
                            "│\u001b[36m \u001b[0m\u001b[36m p_activity_macro_mpjpe  \u001b[0m\u001b[36m \u001b[0m│\u001b[35m \u001b[0m\u001b[35m    240.8603526046069    \u001b[0m\u001b[35m \u001b[0m│\n",
                            "│\u001b[36m \u001b[0m\u001b[36m         p_mpjpe         \u001b[0m\u001b[36m \u001b[0m│\u001b[35m \u001b[0m\u001b[35m   235.10867703403653    \u001b[0m\u001b[35m \u001b[0m│\n",
                            "└───────────────────────────┴───────────────────────────┘\n"
                        ]
                    },
                    "metadata": {},
                    "output_type": "display_data"
                },
                {
                    "data": {
                        "text/plain": [
                            "[{'mpjpe': 311.2344443798065,\n",
                            "  'p_mpjpe': 235.10867703403653,\n",
                            "  'activity_macro_mpjpe': 315.2385950088501,\n",
                            "  'p_activity_macro_mpjpe': 240.8603526046069}]"
                        ]
                    },
                    "execution_count": 5,
                    "metadata": {},
                    "output_type": "execute_result"
                }
            ],
            "source": [
                "best_checkpoint_path = model_checkpoint.best_model_path\n",
                "trainer.test(ckpt_path=best_checkpoint_path, dataloaders=test_loader)"
            ]
        },
        {
            "cell_type": "code",
            "execution_count": 6,
            "metadata": {},
            "outputs": [
                {
                    "ename": "NameError",
                    "evalue": "name 'item' is not defined",
                    "output_type": "error",
                    "traceback": [
                        "\u001b[0;31m---------------------------------------------------------------------------\u001b[0m",
                        "\u001b[0;31mNameError\u001b[0m                                 Traceback (most recent call last)",
                        "Cell \u001b[0;32mIn[6], line 1\u001b[0m\n\u001b[0;32m----> 1\u001b[0m img \u001b[38;5;241m=\u001b[39m plt\u001b[38;5;241m.\u001b[39mimread(\u001b[38;5;124mf\u001b[39m\u001b[38;5;124m'\u001b[39m\u001b[38;5;124m/root/data/processed/drive_and_act/inner_mirror/images/train/\u001b[39m\u001b[38;5;132;01m{\u001b[39;00mitem[\u001b[38;5;124m\"\u001b[39m\u001b[38;5;124mfilenames\u001b[39m\u001b[38;5;124m\"\u001b[39m]\u001b[38;5;132;01m}\u001b[39;00m\u001b[38;5;124m'\u001b[39m)\n\u001b[1;32m      2\u001b[0m fig, ax \u001b[38;5;241m=\u001b[39m plt\u001b[38;5;241m.\u001b[39msubplots()\n\u001b[1;32m      3\u001b[0m ax\u001b[38;5;241m.\u001b[39mimshow(img)\n",
                        "\u001b[0;31mNameError\u001b[0m: name 'item' is not defined"
                    ]
                }
            ],
            "source": [
                "img = plt.imread(f'/root/data/processed/drive_and_act/inner_mirror/images/train/{item[\"filenames\"]}')\n",
                "fig, ax = plt.subplots()\n",
                "ax.imshow(img)\n",
                "\n",
                "ax.scatter(item['pose_2d'][:,0] * item['scale_factor'][0] + item['root_2d'][0], item['pose_2d'][:,1] * item['scale_factor'][1] + item['root_2d'][1])"
            ]
        },
        {
            "cell_type": "code",
            "execution_count": null,
            "metadata": {},
            "outputs": [],
            "source": [
                "from pathlib import Path\n",
                "view_point = 'inner_mirror'\n",
                "from modules.utils.visualization import (\n",
                "    plot_samples\n",
                ")\n",
                "\n",
                "plot_samples(\n",
                "    Path(f'/root/data/processed/drive_and_act/') / view_point,\n",
                "    lit_model,\n",
                "    test_loader,\n",
                "    'train',\n",
                "    img_figsize=(20/2, 10/2),\n",
                "    plot_figsize=(20.5/2, 10/2),\n",
                "    sample_indices=[500],\n",
                "    # sample_indices=[500],\n",
                "    is_plot_gt_skeleton=False\n",
                ")"
            ]
        }
    ],
    "metadata": {
        "kernelspec": {
            "display_name": "Python 3 (ipykernel)",
            "language": "python",
            "name": "python3"
        },
        "orig_nbformat": 4,
        "vscode": {
            "interpreter": {
                "hash": "916dbcbb3f70747c44a77c7bcd40155683ae19c65e1c03b4aa3499c5328201f1"
            }
        }
    },
    "nbformat": 4,
    "nbformat_minor": 2
}
