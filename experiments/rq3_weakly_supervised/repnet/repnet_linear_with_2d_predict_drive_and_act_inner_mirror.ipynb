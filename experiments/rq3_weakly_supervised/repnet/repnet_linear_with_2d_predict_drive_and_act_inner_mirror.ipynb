{
    "cells": [
        {
            "cell_type": "code",
            "execution_count": 1,
            "metadata": {},
            "outputs": [],
            "source": [
                "%load_ext autoreload\n",
                "%autoreload 2"
            ]
        },
        {
            "cell_type": "code",
            "execution_count": 2,
            "metadata": {},
            "outputs": [],
            "source": [
                "# !rm -rf saved_lifter_2d_3d_model/synthetic_cabin_bw/A_Pillar_Codriver/prediction/linear_model/lightning_logs"
            ]
        },
        {
            "cell_type": "code",
            "execution_count": 3,
            "metadata": {},
            "outputs": [],
            "source": [
                "import pandas as pd\n",
                "import numpy as np\n",
                "import torch\n",
                "import lightning.pytorch as pl\n",
                "import matplotlib.pyplot as plt\n",
                "# import plotly\n",
                "import plotly.express as px"
            ]
        },
        {
            "cell_type": "code",
            "execution_count": 4,
            "metadata": {},
            "outputs": [
                {
                    "name": "stderr",
                    "output_type": "stream",
                    "text": [
                        "Global seed set to 1234\n",
                        "GPU available: True (cuda), used: True\n",
                        "TPU available: False, using: 0 TPU cores\n",
                        "IPU available: False, using: 0 IPUs\n",
                        "HPU available: False, using: 0 HPUs\n"
                    ]
                },
                {
                    "name": "stdout",
                    "output_type": "stream",
                    "text": [
                        "train_dataset 22507 val_dataset 6158 test_dataset 10959\n",
                        "device cuda\n"
                    ]
                },
                {
                    "name": "stderr",
                    "output_type": "stream",
                    "text": [
                        "LOCAL_RANK: 0 - CUDA_VISIBLE_DEVICES: [0]\n",
                        "\n",
                        "  | Name          | Type               | Params\n",
                        "-----------------------------------------------------\n",
                        "0 | lifter_2D_3D  | BaselineModel      | 4.3 M \n",
                        "1 | camera_net    | CameraNet          | 4.0 M \n",
                        "2 | generator     | RepNet             | 8.3 M \n",
                        "3 | discriminator | DiscriminatorModel | 89.2 K\n",
                        "-----------------------------------------------------\n",
                        "8.4 M     Trainable params\n",
                        "0         Non-trainable params\n",
                        "8.4 M     Total params\n",
                        "33.650    Total estimated model params size (MB)\n"
                    ]
                },
                {
                    "data": {
                        "application/vnd.jupyter.widget-view+json": {
                            "model_id": "c072430208bb43629b0151abfb4572be",
                            "version_major": 2,
                            "version_minor": 0
                        },
                        "text/plain": [
                            "Sanity Checking: 0it [00:00, ?it/s]"
                        ]
                    },
                    "metadata": {},
                    "output_type": "display_data"
                },
                {
                    "name": "stdout",
                    "output_type": "stream",
                    "text": [
                        "check #0\n",
                        "val MPJPE from: 128 samples : 2424.989700317383\n",
                        "val P-MPJPE from: 128 samples : 2256.999653445604\n",
                        "activity_macro_mpjpe 2425.215482711792\n",
                        "activity_macro_procrusted_mpjpe 2231.9598462595623\n"
                    ]
                },
                {
                    "data": {
                        "application/vnd.jupyter.widget-view+json": {
                            "model_id": "4710f32d34b548e59c5094253e3b40da",
                            "version_major": 2,
                            "version_minor": 0
                        },
                        "text/plain": [
                            "Training: 0it [00:00, ?it/s]"
                        ]
                    },
                    "metadata": {},
                    "output_type": "display_data"
                },
                {
                    "data": {
                        "application/vnd.jupyter.widget-view+json": {
                            "model_id": "ef34288904d94ddeba1668e46100bfcc",
                            "version_major": 2,
                            "version_minor": 0
                        },
                        "text/plain": [
                            "Validation: 0it [00:00, ?it/s]"
                        ]
                    },
                    "metadata": {},
                    "output_type": "display_data"
                },
                {
                    "name": "stdout",
                    "output_type": "stream",
                    "text": [
                        "check #1\n",
                        "training loss from 1755 batches:\n",
                        "d_loss = 4.306510898598239\n",
                        "g_loss = -0.2955186712563547\n",
                        "c_loss = 1.7004118783521516\n",
                        "pose_2d_loss = 43.78805535933231\n",
                        "total_g_loss = 45.1929485331913\n",
                        "val MPJPE from: 6158 samples : 591.9376611709595\n",
                        "val P-MPJPE from: 6158 samples : 483.1302617917767\n",
                        "activity_macro_mpjpe 602.7826070785522\n",
                        "activity_macro_procrusted_mpjpe 484.40337405337584\n"
                    ]
                },
                {
                    "data": {
                        "application/vnd.jupyter.widget-view+json": {
                            "model_id": "f7f349559fcc46af9146436ad5fbd036",
                            "version_major": 2,
                            "version_minor": 0
                        },
                        "text/plain": [
                            "Validation: 0it [00:00, ?it/s]"
                        ]
                    },
                    "metadata": {},
                    "output_type": "display_data"
                },
                {
                    "name": "stdout",
                    "output_type": "stream",
                    "text": [
                        "check #2\n",
                        "training loss from 1755 batches:\n",
                        "d_loss = 1.9899509591424567\n",
                        "g_loss = -0.2603109452544454\n",
                        "c_loss = 1.6977945501648124\n",
                        "pose_2d_loss = 4.122077746642621\n",
                        "total_g_loss = 5.559561353531318\n",
                        "val MPJPE from: 6158 samples : 558.3897829055786\n",
                        "val P-MPJPE from: 6158 samples : 439.7610196470771\n",
                        "activity_macro_mpjpe 565.8102631568909\n",
                        "activity_macro_procrusted_mpjpe 435.9057036073117\n"
                    ]
                },
                {
                    "data": {
                        "application/vnd.jupyter.widget-view+json": {
                            "model_id": "285edede48d3417cb365f284d2c6c00b",
                            "version_major": 2,
                            "version_minor": 0
                        },
                        "text/plain": [
                            "Validation: 0it [00:00, ?it/s]"
                        ]
                    },
                    "metadata": {},
                    "output_type": "display_data"
                },
                {
                    "name": "stdout",
                    "output_type": "stream",
                    "text": [
                        "check #3\n",
                        "training loss from 1755 batches:\n",
                        "d_loss = 0.7129305717272636\n",
                        "g_loss = -0.34321015250479053\n",
                        "c_loss = 1.498229652829999\n",
                        "pose_2d_loss = 0.808956949884056\n",
                        "total_g_loss = 1.963976449674351\n",
                        "val MPJPE from: 6158 samples : 480.9989035129547\n",
                        "val P-MPJPE from: 6158 samples : 359.5377561457133\n",
                        "activity_macro_mpjpe 490.3087019920349\n",
                        "activity_macro_procrusted_mpjpe 358.91997715822527\n"
                    ]
                },
                {
                    "data": {
                        "application/vnd.jupyter.widget-view+json": {
                            "model_id": "cf2a95c8f88042dda281935580c011b9",
                            "version_major": 2,
                            "version_minor": 0
                        },
                        "text/plain": [
                            "Validation: 0it [00:00, ?it/s]"
                        ]
                    },
                    "metadata": {},
                    "output_type": "display_data"
                },
                {
                    "name": "stdout",
                    "output_type": "stream",
                    "text": [
                        "check #4\n",
                        "training loss from 1755 batches:\n",
                        "d_loss = 4.33308827746288\n",
                        "g_loss = -0.5718701095598885\n",
                        "c_loss = 0.46066757848969214\n",
                        "pose_2d_loss = 0.40143895622162395\n",
                        "total_g_loss = 0.2902364251026061\n",
                        "val MPJPE from: 6158 samples : 213.67038786411285\n",
                        "val P-MPJPE from: 6158 samples : 145.49464010363477\n",
                        "activity_macro_mpjpe 225.21327435970306\n",
                        "activity_macro_procrusted_mpjpe 150.79541220682765\n"
                    ]
                },
                {
                    "data": {
                        "application/vnd.jupyter.widget-view+json": {
                            "model_id": "32bbf8003b094f62b386ab30af2a68a4",
                            "version_major": 2,
                            "version_minor": 0
                        },
                        "text/plain": [
                            "Validation: 0it [00:00, ?it/s]"
                        ]
                    },
                    "metadata": {},
                    "output_type": "display_data"
                },
                {
                    "name": "stdout",
                    "output_type": "stream",
                    "text": [
                        "check #5\n",
                        "training loss from 1755 batches:\n",
                        "d_loss = 1.3939559825635024\n",
                        "g_loss = -0.6585325251192788\n",
                        "c_loss = 0.1527098844406272\n",
                        "pose_2d_loss = 0.22685666115705105\n",
                        "total_g_loss = -0.2789659790843301\n",
                        "val MPJPE from: 6158 samples : 190.7545030117035\n",
                        "val P-MPJPE from: 6158 samples : 149.55338739661576\n",
                        "activity_macro_mpjpe 202.1971195936203\n",
                        "activity_macro_procrusted_mpjpe 157.4751905101774\n"
                    ]
                },
                {
                    "data": {
                        "application/vnd.jupyter.widget-view+json": {
                            "model_id": "ac90f8b38b404a0b824e21bf6aa17040",
                            "version_major": 2,
                            "version_minor": 0
                        },
                        "text/plain": [
                            "Validation: 0it [00:00, ?it/s]"
                        ]
                    },
                    "metadata": {},
                    "output_type": "display_data"
                },
                {
                    "name": "stdout",
                    "output_type": "stream",
                    "text": [
                        "check #6\n",
                        "training loss from 1755 batches:\n",
                        "d_loss = 2.355006944538861\n",
                        "g_loss = -0.712075936696638\n",
                        "c_loss = 0.10590720161413535\n",
                        "pose_2d_loss = 0.17731345526958972\n",
                        "total_g_loss = -0.4288552807267235\n",
                        "val MPJPE from: 6158 samples : 437.1641278266907\n",
                        "val P-MPJPE from: 6158 samples : 266.46090878056543\n",
                        "activity_macro_mpjpe 457.2783410549164\n",
                        "activity_macro_procrusted_mpjpe 274.62759057857494\n",
                        "current learning rate: [9.5e-05] [9.5e-05]\n",
                        "current learning rate: [9.025e-05] [9.025e-05]\n",
                        "current learning rate: [8.573749999999999e-05] [8.573749999999999e-05]\n"
                    ]
                },
                {
                    "data": {
                        "application/vnd.jupyter.widget-view+json": {
                            "model_id": "ca7ca03d8478449a854bb201dd23427c",
                            "version_major": 2,
                            "version_minor": 0
                        },
                        "text/plain": [
                            "Validation: 0it [00:00, ?it/s]"
                        ]
                    },
                    "metadata": {},
                    "output_type": "display_data"
                },
                {
                    "name": "stdout",
                    "output_type": "stream",
                    "text": [
                        "check #7\n",
                        "training loss from 1755 batches:\n",
                        "d_loss = 0.6931759464350181\n",
                        "g_loss = -0.4700143156992404\n",
                        "c_loss = 0.08345797436890269\n",
                        "pose_2d_loss = 0.15765308883370158\n",
                        "total_g_loss = -0.22890325323638752\n",
                        "val MPJPE from: 6158 samples : 301.70658230781555\n",
                        "val P-MPJPE from: 6158 samples : 220.0383815410968\n",
                        "activity_macro_mpjpe 311.4767074584961\n",
                        "activity_macro_procrusted_mpjpe 235.32092093834677\n",
                        "current learning rate: [8.145062499999998e-05] [8.145062499999998e-05]\n",
                        "current learning rate: [7.737809374999998e-05] [7.737809374999998e-05]\n",
                        "current learning rate: [7.350918906249998e-05] [7.350918906249998e-05]\n",
                        "current learning rate: [6.983372960937497e-05] [6.983372960937497e-05]\n",
                        "current learning rate: [6.634204312890622e-05] [6.634204312890622e-05]\n"
                    ]
                },
                {
                    "data": {
                        "application/vnd.jupyter.widget-view+json": {
                            "model_id": "db3dc630ea7e4965898f643bdb5ea044",
                            "version_major": 2,
                            "version_minor": 0
                        },
                        "text/plain": [
                            "Validation: 0it [00:00, ?it/s]"
                        ]
                    },
                    "metadata": {},
                    "output_type": "display_data"
                },
                {
                    "name": "stdout",
                    "output_type": "stream",
                    "text": [
                        "check #8\n",
                        "training loss from 1755 batches:\n",
                        "d_loss = 0.6291227585697106\n",
                        "g_loss = -0.7611405087162626\n",
                        "c_loss = 0.06725708775094941\n",
                        "pose_2d_loss = 0.15444095047174866\n",
                        "total_g_loss = -0.5394424710348461\n",
                        "val MPJPE from: 6158 samples : 500.5747079849243\n",
                        "val P-MPJPE from: 6158 samples : 470.2519097495418\n",
                        "activity_macro_mpjpe 503.71628999710083\n",
                        "activity_macro_procrusted_mpjpe 468.51945101886906\n",
                        "current learning rate: [6.30249409724609e-05] [6.30249409724609e-05]\n",
                        "current learning rate: [5.987369392383786e-05] [5.987369392383786e-05]\n",
                        "current learning rate: [5.688000922764596e-05] [5.688000922764596e-05]\n",
                        "current learning rate: [5.4036008766263664e-05] [5.4036008766263664e-05]\n",
                        "current learning rate: [5.133420832795048e-05] [5.133420832795048e-05]\n"
                    ]
                },
                {
                    "data": {
                        "application/vnd.jupyter.widget-view+json": {
                            "model_id": "795fb4cde88441e3bfdd7e90948c4435",
                            "version_major": 2,
                            "version_minor": 0
                        },
                        "text/plain": [
                            "Validation: 0it [00:00, ?it/s]"
                        ]
                    },
                    "metadata": {},
                    "output_type": "display_data"
                },
                {
                    "name": "stdout",
                    "output_type": "stream",
                    "text": [
                        "check #9\n",
                        "training loss from 1755 batches:\n",
                        "d_loss = 0.5857198046398299\n",
                        "g_loss = -0.7346823767379478\n",
                        "c_loss = 0.07120315380861447\n",
                        "pose_2d_loss = 0.16998159040582825\n",
                        "total_g_loss = -0.4934976330085358\n",
                        "val MPJPE from: 6158 samples : 295.1754927635193\n",
                        "val P-MPJPE from: 6158 samples : 245.7234695790515\n",
                        "activity_macro_mpjpe 301.86766386032104\n",
                        "activity_macro_procrusted_mpjpe 248.35024505609985\n",
                        "current learning rate: [4.876749791155295e-05] [4.876749791155295e-05]\n",
                        "current learning rate: [4.6329123015975305e-05] [4.6329123015975305e-05]\n",
                        "current learning rate: [4.4012666865176535e-05] [4.4012666865176535e-05]\n",
                        "current learning rate: [4.181203352191771e-05] [4.181203352191771e-05]\n",
                        "current learning rate: [3.972143184582182e-05] [3.972143184582182e-05]\n"
                    ]
                },
                {
                    "data": {
                        "application/vnd.jupyter.widget-view+json": {
                            "model_id": "110d5dd8ba3e4fb388bcc4ae86eeebcb",
                            "version_major": 2,
                            "version_minor": 0
                        },
                        "text/plain": [
                            "Validation: 0it [00:00, ?it/s]"
                        ]
                    },
                    "metadata": {},
                    "output_type": "display_data"
                },
                {
                    "name": "stdout",
                    "output_type": "stream",
                    "text": [
                        "check #10\n",
                        "training loss from 1755 batches:\n",
                        "d_loss = 0.5594527086556128\n",
                        "g_loss = -0.7205052552569625\n",
                        "c_loss = 0.06510820604351342\n",
                        "pose_2d_loss = 0.17456913592129353\n",
                        "total_g_loss = -0.4808279122637208\n",
                        "val MPJPE from: 6158 samples : 477.9513478279114\n",
                        "val P-MPJPE from: 6158 samples : 219.14004808461664\n",
                        "activity_macro_mpjpe 496.8970715999603\n",
                        "activity_macro_procrusted_mpjpe 228.20826452642885\n",
                        "current learning rate: [3.7735360253530726e-05] [3.7735360253530726e-05]\n"
                    ]
                }
            ],
            "source": [
                "import os\n",
                "import torch\n",
                "import pandas as pd\n",
                "import numpy as np\n",
                "import pytorch_lightning as pl\n",
                "from pytorch_lightning.callbacks import ModelCheckpoint\n",
                "from pytorch_lightning.callbacks.early_stopping import EarlyStopping\n",
                "from torch.nn import functional as F\n",
                "from torch.utils.data import DataLoader, random_split\n",
                "from modules.lifter_2d_3d.model.linear_model.network.linear_model import BaselineModel\n",
                "from modules.lifter_2d_3d.dataset.drive_and_act_keypoint_dataset import DriveAndActKeypointDataset\n",
                "from modules.lifter_2d_3d.model.repnet.lit_repnet import LitRepNet\n",
                "from modules.utils.visualization import generate_connection_line, get_sample_from_loader, visualize_pose\n",
                "from IPython.display import display\n",
                "from experiments.experiment_config import (\n",
                "    DRIVE_AND_ACT_VIEWPOINTS,\n",
                "    get_drive_and_act_loaders,\n",
                ")\n",
                "pl.seed_everything(1234)\n",
                "\n",
                "view_point = DRIVE_AND_ACT_VIEWPOINTS[2]\n",
                "constructed_loader = get_drive_and_act_loaders(view_point, subset_percentage=100)\n",
                "train_loader = constructed_loader['train_loader']\n",
                "val_loader = constructed_loader['val_loader']\n",
                "test_loader = constructed_loader['test_loader']\n",
                "all_activities = constructed_loader['all_activities']\n",
                "print(\n",
                "    'train_dataset', len(train_loader.dataset),\n",
                "    'val_dataset', len(val_loader.dataset),\n",
                "    'test_dataset', len(test_loader.dataset)\n",
                ")\n",
                "model_checkpoint = ModelCheckpoint(monitor='mpjpe',mode='min', save_top_k=1)\n",
                "early_stopping = EarlyStopping(monitor='mpjpe', mode=\"min\", patience=5)\n",
                "\n",
                "# ------------\n",
                "# model\n",
                "# ------------\n",
                "lifter_2D_3D = BaselineModel(exclude_ankle=True, exclude_knee=True)\n",
                "lit_model = LitRepNet(lifter_2D_3D=lifter_2D_3D, all_activities=all_activities)\n",
                "# ------------\n",
                "# training\n",
                "# ------------\n",
                "# saved_model_path = './saved_lifter_2d_3d_model/synthetic_cabin_bw/A_Pillar_Codriver/prediction/repnet_linear_model/'\n",
                "saved_model_path = f'./saved_lifter_2d_3d_model/rq3/repnet/drive_and_act/{view_point}'\n",
                "if not os.path.exists(saved_model_path):\n",
                "    os.makedirs(saved_model_path)\n",
                "\n",
                "device = 'cuda' if torch.cuda.is_available() else 'cpu'\n",
                "print('device', device)\n",
                "# device = 'cpu'\n",
                "trainer = pl.Trainer(\n",
                "    # max_steps=10,\n",
                "    max_epochs=100,\n",
                "    callbacks=[model_checkpoint, early_stopping],\n",
                "    accelerator=device,\n",
                "    check_val_every_n_epoch=5,\n",
                "    default_root_dir=saved_model_path,\n",
                "    reload_dataloaders_every_n_epochs=1,\n",
                "    # gradient_clip_val=1.0\n",
                ")\n",
                "trainer.fit(lit_model, train_loader, val_loader)"
            ]
        },
        {
            "cell_type": "code",
            "execution_count": 5,
            "metadata": {},
            "outputs": [
                {
                    "name": "stderr",
                    "output_type": "stream",
                    "text": [
                        "Restoring states from the checkpoint path at saved_lifter_2d_3d_model/rq3/repnet/drive_and_act/inner_mirror/lightning_logs/version_4/checkpoints/epoch=24-step=17550.ckpt\n",
                        "LOCAL_RANK: 0 - CUDA_VISIBLE_DEVICES: [0]\n",
                        "Loaded model weights from the checkpoint at saved_lifter_2d_3d_model/rq3/repnet/drive_and_act/inner_mirror/lightning_logs/version_4/checkpoints/epoch=24-step=17550.ckpt\n"
                    ]
                },
                {
                    "data": {
                        "application/vnd.jupyter.widget-view+json": {
                            "model_id": "a5b3063a5e7f48ed9ed7c3f2296bd803",
                            "version_major": 2,
                            "version_minor": 0
                        },
                        "text/plain": [
                            "Testing: 0it [00:00, ?it/s]"
                        ]
                    },
                    "metadata": {},
                    "output_type": "display_data"
                },
                {
                    "data": {
                        "text/html": [
                            "<pre style=\"white-space:pre;overflow-x:auto;line-height:normal;font-family:Menlo,'DejaVu Sans Mono',consolas,'Courier New',monospace\">┏━━━━━━━━━━━━━━━━━━━━━━━━━━━┳━━━━━━━━━━━━━━━━━━━━━━━━━━━┓\n",
                            "┃<span style=\"font-weight: bold\">        Test metric        </span>┃<span style=\"font-weight: bold\">       DataLoader 0        </span>┃\n",
                            "┡━━━━━━━━━━━━━━━━━━━━━━━━━━━╇━━━━━━━━━━━━━━━━━━━━━━━━━━━┩\n",
                            "│<span style=\"color: #008080; text-decoration-color: #008080\">   activity_macro_mpjpe    </span>│<span style=\"color: #800080; text-decoration-color: #800080\">    192.38871335983276     </span>│\n",
                            "│<span style=\"color: #008080; text-decoration-color: #008080\">           mpjpe           </span>│<span style=\"color: #800080; text-decoration-color: #800080\">    185.57345867156982     </span>│\n",
                            "│<span style=\"color: #008080; text-decoration-color: #008080\">  p_activity_macro_mpjpe   </span>│<span style=\"color: #800080; text-decoration-color: #800080\">     159.9467743153647     </span>│\n",
                            "│<span style=\"color: #008080; text-decoration-color: #008080\">          p_mpjpe          </span>│<span style=\"color: #800080; text-decoration-color: #800080\">    154.84018006088291     </span>│\n",
                            "└───────────────────────────┴───────────────────────────┘\n",
                            "</pre>\n"
                        ],
                        "text/plain": [
                            "┏━━━━━━━━━━━━━━━━━━━━━━━━━━━┳━━━━━━━━━━━━━━━━━━━━━━━━━━━┓\n",
                            "┃\u001b[1m \u001b[0m\u001b[1m       Test metric       \u001b[0m\u001b[1m \u001b[0m┃\u001b[1m \u001b[0m\u001b[1m      DataLoader 0       \u001b[0m\u001b[1m \u001b[0m┃\n",
                            "┡━━━━━━━━━━━━━━━━━━━━━━━━━━━╇━━━━━━━━━━━━━━━━━━━━━━━━━━━┩\n",
                            "│\u001b[36m \u001b[0m\u001b[36m  activity_macro_mpjpe   \u001b[0m\u001b[36m \u001b[0m│\u001b[35m \u001b[0m\u001b[35m   192.38871335983276    \u001b[0m\u001b[35m \u001b[0m│\n",
                            "│\u001b[36m \u001b[0m\u001b[36m          mpjpe          \u001b[0m\u001b[36m \u001b[0m│\u001b[35m \u001b[0m\u001b[35m   185.57345867156982    \u001b[0m\u001b[35m \u001b[0m│\n",
                            "│\u001b[36m \u001b[0m\u001b[36m p_activity_macro_mpjpe  \u001b[0m\u001b[36m \u001b[0m│\u001b[35m \u001b[0m\u001b[35m    159.9467743153647    \u001b[0m\u001b[35m \u001b[0m│\n",
                            "│\u001b[36m \u001b[0m\u001b[36m         p_mpjpe         \u001b[0m\u001b[36m \u001b[0m│\u001b[35m \u001b[0m\u001b[35m   154.84018006088291    \u001b[0m\u001b[35m \u001b[0m│\n",
                            "└───────────────────────────┴───────────────────────────┘\n"
                        ]
                    },
                    "metadata": {},
                    "output_type": "display_data"
                },
                {
                    "data": {
                        "text/plain": [
                            "[{'mpjpe': 185.57345867156982,\n",
                            "  'p_mpjpe': 154.84018006088291,\n",
                            "  'activity_macro_mpjpe': 192.38871335983276,\n",
                            "  'p_activity_macro_mpjpe': 159.9467743153647}]"
                        ]
                    },
                    "execution_count": 5,
                    "metadata": {},
                    "output_type": "execute_result"
                }
            ],
            "source": [
                "best_checkpoint_path = model_checkpoint.best_model_path\n",
                "trainer.test(ckpt_path=best_checkpoint_path, dataloaders=test_loader)"
            ]
        },
        {
            "cell_type": "code",
            "execution_count": 6,
            "metadata": {},
            "outputs": [
                {
                    "ename": "NameError",
                    "evalue": "name 'item' is not defined",
                    "output_type": "error",
                    "traceback": [
                        "\u001b[0;31m---------------------------------------------------------------------------\u001b[0m",
                        "\u001b[0;31mNameError\u001b[0m                                 Traceback (most recent call last)",
                        "Cell \u001b[0;32mIn[6], line 1\u001b[0m\n\u001b[0;32m----> 1\u001b[0m img \u001b[38;5;241m=\u001b[39m plt\u001b[38;5;241m.\u001b[39mimread(\u001b[38;5;124mf\u001b[39m\u001b[38;5;124m'\u001b[39m\u001b[38;5;124m/root/data/processed/drive_and_act/inner_mirror/images/train/\u001b[39m\u001b[38;5;132;01m{\u001b[39;00mitem[\u001b[38;5;124m\"\u001b[39m\u001b[38;5;124mfilenames\u001b[39m\u001b[38;5;124m\"\u001b[39m]\u001b[38;5;132;01m}\u001b[39;00m\u001b[38;5;124m'\u001b[39m)\n\u001b[1;32m      2\u001b[0m fig, ax \u001b[38;5;241m=\u001b[39m plt\u001b[38;5;241m.\u001b[39msubplots()\n\u001b[1;32m      3\u001b[0m ax\u001b[38;5;241m.\u001b[39mimshow(img)\n",
                        "\u001b[0;31mNameError\u001b[0m: name 'item' is not defined"
                    ]
                }
            ],
            "source": [
                "img = plt.imread(f'/root/data/processed/drive_and_act/inner_mirror/images/train/{item[\"filenames\"]}')\n",
                "fig, ax = plt.subplots()\n",
                "ax.imshow(img)\n",
                "\n",
                "ax.scatter(item['pose_2d'][:,0] * item['scale_factor'][0] + item['root_2d'][0], item['pose_2d'][:,1] * item['scale_factor'][1] + item['root_2d'][1])"
            ]
        },
        {
            "cell_type": "code",
            "execution_count": null,
            "metadata": {},
            "outputs": [],
            "source": [
                "from pathlib import Path\n",
                "view_point = 'inner_mirror'\n",
                "from modules.utils.visualization import (\n",
                "    plot_samples\n",
                ")\n",
                "\n",
                "plot_samples(\n",
                "    Path(f'/root/data/processed/drive_and_act/') / view_point,\n",
                "    lit_model,\n",
                "    test_loader,\n",
                "    'train',\n",
                "    img_figsize=(20/2, 10/2),\n",
                "    plot_figsize=(20.5/2, 10/2),\n",
                "    sample_indices=[500],\n",
                "    # sample_indices=[500],\n",
                "    is_plot_gt_skeleton=False\n",
                ")"
            ]
        }
    ],
    "metadata": {
        "kernelspec": {
            "display_name": "Python 3 (ipykernel)",
            "language": "python",
            "name": "python3"
        },
        "orig_nbformat": 4,
        "vscode": {
            "interpreter": {
                "hash": "916dbcbb3f70747c44a77c7bcd40155683ae19c65e1c03b4aa3499c5328201f1"
            }
        }
    },
    "nbformat": 4,
    "nbformat_minor": 2
}
