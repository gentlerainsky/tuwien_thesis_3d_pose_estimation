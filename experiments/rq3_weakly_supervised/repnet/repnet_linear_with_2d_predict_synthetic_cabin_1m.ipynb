{
    "cells": [
        {
            "cell_type": "code",
            "execution_count": 1,
            "metadata": {},
            "outputs": [],
            "source": [
                "%load_ext autoreload\n",
                "%autoreload 2"
            ]
        },
        {
            "cell_type": "code",
            "execution_count": 2,
            "metadata": {},
            "outputs": [
                {
                    "name": "stderr",
                    "output_type": "stream",
                    "text": [
                        "Global seed set to 1234\n",
                        "GPU available: True (cuda), used: True\n",
                        "TPU available: False, using: 0 TPU cores\n",
                        "IPU available: False, using: 0 IPUs\n",
                        "HPU available: False, using: 0 HPUs\n"
                    ]
                },
                {
                    "name": "stdout",
                    "output_type": "stream",
                    "text": [
                        "device cuda\n",
                        "train_dataset 175001 val_dataset 87500 test_dataset 75000\n"
                    ]
                },
                {
                    "name": "stderr",
                    "output_type": "stream",
                    "text": [
                        "LOCAL_RANK: 0 - CUDA_VISIBLE_DEVICES: [0]\n",
                        "\n",
                        "  | Name          | Type               | Params\n",
                        "-----------------------------------------------------\n",
                        "0 | lifter_2D_3D  | BaselineModel      | 4.3 M \n",
                        "1 | camera_net    | CameraNet          | 4.0 M \n",
                        "2 | generator     | RepNet             | 8.3 M \n",
                        "3 | discriminator | DiscriminatorModel | 89.2 K\n",
                        "-----------------------------------------------------\n",
                        "8.4 M     Trainable params\n",
                        "0         Non-trainable params\n",
                        "8.4 M     Total params\n",
                        "33.650    Total estimated model params size (MB)\n"
                    ]
                },
                {
                    "data": {
                        "application/vnd.jupyter.widget-view+json": {
                            "model_id": "7c5be2871c22429ba59b5151c0b006f0",
                            "version_major": 2,
                            "version_minor": 0
                        },
                        "text/plain": [
                            "Sanity Checking: 0it [00:00, ?it/s]"
                        ]
                    },
                    "metadata": {},
                    "output_type": "display_data"
                },
                {
                    "name": "stdout",
                    "output_type": "stream",
                    "text": [
                        "check #0\n",
                        "val MPJPE from: 128 samples : 2413.00106048584\n",
                        "val P-MPJPE from: 128 samples : 2257.245683200801\n"
                    ]
                },
                {
                    "data": {
                        "application/vnd.jupyter.widget-view+json": {
                            "model_id": "918aea490450406ca5b911b665083e5e",
                            "version_major": 2,
                            "version_minor": 0
                        },
                        "text/plain": [
                            "Training: 0it [00:00, ?it/s]"
                        ]
                    },
                    "metadata": {},
                    "output_type": "display_data"
                },
                {
                    "data": {
                        "application/vnd.jupyter.widget-view+json": {
                            "model_id": "a5c8f7562533445e9fc1b3f48fc61df1",
                            "version_major": 2,
                            "version_minor": 0
                        },
                        "text/plain": [
                            "Validation: 0it [00:00, ?it/s]"
                        ]
                    },
                    "metadata": {},
                    "output_type": "display_data"
                },
                {
                    "name": "stdout",
                    "output_type": "stream",
                    "text": [
                        "check #1\n",
                        "training loss from 13670 batches:\n",
                        "d_loss = 5.044032587159504\n",
                        "g_loss = -0.4191411657934904\n",
                        "c_loss = 0.6584612437527307\n",
                        "pose_2d_loss = 3.9917243368758113\n",
                        "total_g_loss = 4.231044408171312\n",
                        "val MPJPE from: 87500 samples : 227.2346168756485\n",
                        "val P-MPJPE from: 87500 samples : 133.49127663527094\n"
                    ]
                },
                {
                    "name": "stderr",
                    "output_type": "stream",
                    "text": [
                        "Traceback (most recent call last):\n",
                        "  File \"/opt/conda/lib/python3.10/multiprocessing/util.py\", line 300, in _run_finalizers\n",
                        "    finalizer()\n",
                        "  File \"/opt/conda/lib/python3.10/multiprocessing/util.py\", line 224, in __call__\n",
                        "    res = self._callback(*self._args, **self._kwargs)\n",
                        "  File \"/opt/conda/lib/python3.10/multiprocessing/util.py\", line 133, in _remove_temp_dir\n",
                        "    rmtree(tempdir)\n",
                        "  File \"/opt/conda/lib/python3.10/shutil.py\", line 731, in rmtree\n",
                        "    onerror(os.rmdir, path, sys.exc_info())\n",
                        "  File \"/opt/conda/lib/python3.10/shutil.py\", line 729, in rmtree\n",
                        "    os.rmdir(path)\n",
                        "OSError: [Errno 39] Directory not empty: '/tmp/pymp-_k7o381o'\n"
                    ]
                },
                {
                    "data": {
                        "application/vnd.jupyter.widget-view+json": {
                            "model_id": "398b2fc7995e41029d4f2f9860cf1407",
                            "version_major": 2,
                            "version_minor": 0
                        },
                        "text/plain": [
                            "Validation: 0it [00:00, ?it/s]"
                        ]
                    },
                    "metadata": {},
                    "output_type": "display_data"
                },
                {
                    "name": "stdout",
                    "output_type": "stream",
                    "text": [
                        "check #2\n",
                        "training loss from 13670 batches:\n",
                        "d_loss = 0.6420281015582119\n",
                        "g_loss = -0.7214143260964618\n",
                        "c_loss = 0.04881280839011269\n",
                        "pose_2d_loss = 0.10783006268462825\n",
                        "total_g_loss = -0.5647714550303733\n",
                        "val MPJPE from: 87500 samples : 200.7090449333191\n",
                        "val P-MPJPE from: 87500 samples : 135.06158229546094\n"
                    ]
                },
                {
                    "name": "stderr",
                    "output_type": "stream",
                    "text": [
                        "Traceback (most recent call last):\n",
                        "  File \"/opt/conda/lib/python3.10/multiprocessing/util.py\", line 300, in _run_finalizers\n",
                        "    finalizer()\n",
                        "  File \"/opt/conda/lib/python3.10/multiprocessing/util.py\", line 224, in __call__\n",
                        "    res = self._callback(*self._args, **self._kwargs)\n",
                        "  File \"/opt/conda/lib/python3.10/multiprocessing/util.py\", line 133, in _remove_temp_dir\n",
                        "    rmtree(tempdir)\n",
                        "  File \"/opt/conda/lib/python3.10/shutil.py\", line 731, in rmtree\n",
                        "    onerror(os.rmdir, path, sys.exc_info())\n",
                        "  File \"/opt/conda/lib/python3.10/shutil.py\", line 729, in rmtree\n",
                        "    os.rmdir(path)\n",
                        "OSError: [Errno 39] Directory not empty: '/tmp/pymp-p5o_wjlx'\n"
                    ]
                },
                {
                    "data": {
                        "application/vnd.jupyter.widget-view+json": {
                            "model_id": "43aecac99989430eb86b6363909750d6",
                            "version_major": 2,
                            "version_minor": 0
                        },
                        "text/plain": [
                            "Validation: 0it [00:00, ?it/s]"
                        ]
                    },
                    "metadata": {},
                    "output_type": "display_data"
                },
                {
                    "name": "stdout",
                    "output_type": "stream",
                    "text": [
                        "check #3\n",
                        "training loss from 13670 batches:\n",
                        "d_loss = 0.007303348245346069\n",
                        "g_loss = -0.4719710609602422\n",
                        "c_loss = 0.018152115513770224\n",
                        "pose_2d_loss = 0.08982101350848311\n",
                        "total_g_loss = -0.36399793191359875\n",
                        "val MPJPE from: 87500 samples : 196.59294188022614\n",
                        "val P-MPJPE from: 87500 samples : 129.4129058131775\n"
                    ]
                },
                {
                    "data": {
                        "application/vnd.jupyter.widget-view+json": {
                            "model_id": "3a576178b8c94314a94cd1c17d3d903e",
                            "version_major": 2,
                            "version_minor": 0
                        },
                        "text/plain": [
                            "Validation: 0it [00:00, ?it/s]"
                        ]
                    },
                    "metadata": {},
                    "output_type": "display_data"
                },
                {
                    "name": "stdout",
                    "output_type": "stream",
                    "text": [
                        "check #4\n",
                        "training loss from 13670 batches:\n",
                        "d_loss = 0.001190756380866042\n",
                        "g_loss = -0.48569783556173557\n",
                        "c_loss = 0.011170319981713613\n",
                        "pose_2d_loss = 0.09173950925687412\n",
                        "total_g_loss = -0.38278800612526737\n",
                        "val MPJPE from: 87500 samples : 196.8201845884323\n",
                        "val P-MPJPE from: 87500 samples : 128.80099951565893\n"
                    ]
                },
                {
                    "data": {
                        "application/vnd.jupyter.widget-view+json": {
                            "model_id": "aede3007c81d4b2d81b0c1df0a08ae9f",
                            "version_major": 2,
                            "version_minor": 0
                        },
                        "text/plain": [
                            "Validation: 0it [00:00, ?it/s]"
                        ]
                    },
                    "metadata": {},
                    "output_type": "display_data"
                },
                {
                    "name": "stdout",
                    "output_type": "stream",
                    "text": [
                        "check #5\n",
                        "training loss from 13670 batches:\n",
                        "d_loss = -0.000409016987536155\n",
                        "g_loss = -0.48675646673351114\n",
                        "c_loss = 0.00749351105200714\n",
                        "pose_2d_loss = 0.09182817105315598\n",
                        "total_g_loss = -0.3874347845022924\n",
                        "val MPJPE from: 87500 samples : 195.06749510765076\n",
                        "val P-MPJPE from: 87500 samples : 128.4157190872261\n"
                    ]
                },
                {
                    "data": {
                        "application/vnd.jupyter.widget-view+json": {
                            "model_id": "f779b1abac4e4d34a6bbcf274ea08aa5",
                            "version_major": 2,
                            "version_minor": 0
                        },
                        "text/plain": [
                            "Validation: 0it [00:00, ?it/s]"
                        ]
                    },
                    "metadata": {},
                    "output_type": "display_data"
                },
                {
                    "name": "stdout",
                    "output_type": "stream",
                    "text": [
                        "check #6\n",
                        "training loss from 13670 batches:\n",
                        "d_loss = -0.0008546414754854893\n",
                        "g_loss = -0.4888415956593118\n",
                        "c_loss = 0.006184411833036198\n",
                        "pose_2d_loss = 0.09180626228789648\n",
                        "total_g_loss = -0.39085092144284533\n",
                        "val MPJPE from: 87500 samples : 194.9308067560196\n",
                        "val P-MPJPE from: 87500 samples : 129.64816513478203\n"
                    ]
                },
                {
                    "name": "stderr",
                    "output_type": "stream",
                    "text": [
                        "Traceback (most recent call last):\n",
                        "  File \"/opt/conda/lib/python3.10/multiprocessing/util.py\", line 300, in _run_finalizers\n",
                        "    finalizer()\n",
                        "  File \"/opt/conda/lib/python3.10/multiprocessing/util.py\", line 224, in __call__\n",
                        "    res = self._callback(*self._args, **self._kwargs)\n",
                        "  File \"/opt/conda/lib/python3.10/multiprocessing/util.py\", line 133, in _remove_temp_dir\n",
                        "    rmtree(tempdir)\n",
                        "  File \"/opt/conda/lib/python3.10/shutil.py\", line 731, in rmtree\n",
                        "    onerror(os.rmdir, path, sys.exc_info())\n",
                        "  File \"/opt/conda/lib/python3.10/shutil.py\", line 729, in rmtree\n",
                        "    os.rmdir(path)\n",
                        "OSError: [Errno 39] Directory not empty: '/tmp/pymp-gscjdpxr'\n"
                    ]
                },
                {
                    "name": "stdout",
                    "output_type": "stream",
                    "text": [
                        "current learning rate: [9.5e-05] [9.5e-05]\n",
                        "current learning rate: [9.025e-05] [9.025e-05]\n",
                        "current learning rate: [8.573749999999999e-05] [8.573749999999999e-05]\n"
                    ]
                },
                {
                    "data": {
                        "application/vnd.jupyter.widget-view+json": {
                            "model_id": "583834474033487289df8337f3ca4272",
                            "version_major": 2,
                            "version_minor": 0
                        },
                        "text/plain": [
                            "Validation: 0it [00:00, ?it/s]"
                        ]
                    },
                    "metadata": {},
                    "output_type": "display_data"
                },
                {
                    "name": "stdout",
                    "output_type": "stream",
                    "text": [
                        "check #7\n",
                        "training loss from 13670 batches:\n",
                        "d_loss = -0.0008146582574069387\n",
                        "g_loss = -0.49043940655402046\n",
                        "c_loss = 0.005437241635137478\n",
                        "pose_2d_loss = 0.09162199071716809\n",
                        "total_g_loss = -0.3933801740625956\n",
                        "val MPJPE from: 87500 samples : 198.44560325145721\n",
                        "val P-MPJPE from: 87500 samples : 131.54156198045507\n",
                        "current learning rate: [8.145062499999998e-05] [8.145062499999998e-05]\n",
                        "current learning rate: [7.737809374999998e-05] [7.737809374999998e-05]\n",
                        "current learning rate: [7.350918906249998e-05] [7.350918906249998e-05]\n",
                        "current learning rate: [6.983372960937497e-05] [6.983372960937497e-05]\n",
                        "current learning rate: [6.634204312890622e-05] [6.634204312890622e-05]\n"
                    ]
                },
                {
                    "data": {
                        "application/vnd.jupyter.widget-view+json": {
                            "model_id": "8df356e7ebf14b938956fde645fcdc67",
                            "version_major": 2,
                            "version_minor": 0
                        },
                        "text/plain": [
                            "Validation: 0it [00:00, ?it/s]"
                        ]
                    },
                    "metadata": {},
                    "output_type": "display_data"
                },
                {
                    "name": "stdout",
                    "output_type": "stream",
                    "text": [
                        "check #8\n",
                        "training loss from 13670 batches:\n",
                        "d_loss = -0.0003992874611654689\n",
                        "g_loss = -0.4945318320609395\n",
                        "c_loss = 0.004203680426344935\n",
                        "pose_2d_loss = 0.0915087090228802\n",
                        "total_g_loss = -0.39881944249996587\n",
                        "val MPJPE from: 87500 samples : 192.9648369550705\n",
                        "val P-MPJPE from: 87500 samples : 126.77848017868992\n",
                        "current learning rate: [6.30249409724609e-05] [6.30249409724609e-05]\n",
                        "current learning rate: [5.987369392383786e-05] [5.987369392383786e-05]\n",
                        "current learning rate: [5.688000922764596e-05] [5.688000922764596e-05]\n",
                        "current learning rate: [5.4036008766263664e-05] [5.4036008766263664e-05]\n",
                        "current learning rate: [5.133420832795048e-05] [5.133420832795048e-05]\n"
                    ]
                },
                {
                    "data": {
                        "application/vnd.jupyter.widget-view+json": {
                            "model_id": "ba0b5a16bc34490f9875639829ade78b",
                            "version_major": 2,
                            "version_minor": 0
                        },
                        "text/plain": [
                            "Validation: 0it [00:00, ?it/s]"
                        ]
                    },
                    "metadata": {},
                    "output_type": "display_data"
                },
                {
                    "name": "stdout",
                    "output_type": "stream",
                    "text": [
                        "check #9\n",
                        "training loss from 13670 batches:\n",
                        "d_loss = -0.0006098947132138458\n",
                        "g_loss = -0.4955604043661807\n",
                        "c_loss = 0.0033439314548875223\n",
                        "pose_2d_loss = 0.09136534850082435\n",
                        "total_g_loss = -0.4008511243332191\n",
                        "val MPJPE from: 87500 samples : 196.88519835472107\n",
                        "val P-MPJPE from: 87500 samples : 130.36380371745008\n",
                        "current learning rate: [4.876749791155295e-05] [4.876749791155295e-05]\n",
                        "current learning rate: [4.6329123015975305e-05] [4.6329123015975305e-05]\n",
                        "current learning rate: [4.4012666865176535e-05] [4.4012666865176535e-05]\n",
                        "current learning rate: [4.181203352191771e-05] [4.181203352191771e-05]\n",
                        "current learning rate: [3.972143184582182e-05] [3.972143184582182e-05]\n"
                    ]
                },
                {
                    "data": {
                        "application/vnd.jupyter.widget-view+json": {
                            "model_id": "3bb0bf85b21b4a539d4c1908ff531838",
                            "version_major": 2,
                            "version_minor": 0
                        },
                        "text/plain": [
                            "Validation: 0it [00:00, ?it/s]"
                        ]
                    },
                    "metadata": {},
                    "output_type": "display_data"
                },
                {
                    "name": "stdout",
                    "output_type": "stream",
                    "text": [
                        "check #10\n",
                        "training loss from 13670 batches:\n",
                        "d_loss = -0.0008325281192610912\n",
                        "g_loss = -0.4952145295829431\n",
                        "c_loss = 0.002691884164769276\n",
                        "pose_2d_loss = 0.09134556787482298\n",
                        "total_g_loss = -0.4011770775720161\n",
                        "val MPJPE from: 87500 samples : 196.40575349330902\n",
                        "val P-MPJPE from: 87500 samples : 130.1039621942913\n",
                        "current learning rate: [3.7735360253530726e-05] [3.7735360253530726e-05]\n",
                        "current learning rate: [3.584859224085419e-05] [3.584859224085419e-05]\n",
                        "current learning rate: [3.405616262881148e-05] [3.405616262881148e-05]\n",
                        "current learning rate: [3.2353354497370904e-05] [3.2353354497370904e-05]\n",
                        "current learning rate: [3.0735686772502355e-05] [3.0735686772502355e-05]\n"
                    ]
                },
                {
                    "data": {
                        "application/vnd.jupyter.widget-view+json": {
                            "model_id": "653932ae97ea419b8030489e487068fa",
                            "version_major": 2,
                            "version_minor": 0
                        },
                        "text/plain": [
                            "Validation: 0it [00:00, ?it/s]"
                        ]
                    },
                    "metadata": {},
                    "output_type": "display_data"
                },
                {
                    "name": "stdout",
                    "output_type": "stream",
                    "text": [
                        "check #11\n",
                        "training loss from 13670 batches:\n",
                        "d_loss = -0.0009618869897498645\n",
                        "g_loss = -0.49540622565723635\n",
                        "c_loss = 0.002227280059501995\n",
                        "pose_2d_loss = 0.09130921804543037\n",
                        "total_g_loss = -0.4018697274607642\n",
                        "val MPJPE from: 87500 samples : 192.58412718772888\n",
                        "val P-MPJPE from: 87500 samples : 128.10666769038895\n",
                        "current learning rate: [2.9198902433877236e-05] [2.9198902433877236e-05]\n"
                    ]
                },
                {
                    "name": "stderr",
                    "output_type": "stream",
                    "text": [
                        "Traceback (most recent call last):\n",
                        "  File \"/opt/conda/lib/python3.10/multiprocessing/util.py\", line 300, in _run_finalizers\n",
                        "    finalizer()\n",
                        "  File \"/opt/conda/lib/python3.10/multiprocessing/util.py\", line 224, in __call__\n",
                        "    res = self._callback(*self._args, **self._kwargs)\n",
                        "  File \"/opt/conda/lib/python3.10/multiprocessing/util.py\", line 133, in _remove_temp_dir\n",
                        "    rmtree(tempdir)\n",
                        "  File \"/opt/conda/lib/python3.10/shutil.py\", line 731, in rmtree\n",
                        "    onerror(os.rmdir, path, sys.exc_info())\n",
                        "  File \"/opt/conda/lib/python3.10/shutil.py\", line 729, in rmtree\n",
                        "    os.rmdir(path)\n",
                        "OSError: [Errno 39] Directory not empty: '/tmp/pymp-l1hhtakj'\n"
                    ]
                },
                {
                    "name": "stdout",
                    "output_type": "stream",
                    "text": [
                        "current learning rate: [2.7738957312183373e-05] [2.7738957312183373e-05]\n",
                        "current learning rate: [2.6352009446574204e-05] [2.6352009446574204e-05]\n",
                        "current learning rate: [2.5034408974245492e-05] [2.5034408974245492e-05]\n",
                        "current learning rate: [2.3782688525533216e-05] [2.3782688525533216e-05]\n"
                    ]
                },
                {
                    "data": {
                        "application/vnd.jupyter.widget-view+json": {
                            "model_id": "aec5266017984bac85b7084133a53d3d",
                            "version_major": 2,
                            "version_minor": 0
                        },
                        "text/plain": [
                            "Validation: 0it [00:00, ?it/s]"
                        ]
                    },
                    "metadata": {},
                    "output_type": "display_data"
                },
                {
                    "name": "stdout",
                    "output_type": "stream",
                    "text": [
                        "check #12\n",
                        "training loss from 13670 batches:\n",
                        "d_loss = -0.001005169065679739\n",
                        "g_loss = -0.4955796752258558\n",
                        "c_loss = 0.0018733604556840696\n",
                        "pose_2d_loss = 0.09123291981671532\n",
                        "total_g_loss = -0.40247339497278795\n",
                        "val MPJPE from: 87500 samples : 195.948526263237\n",
                        "val P-MPJPE from: 87500 samples : 130.69512811454038\n",
                        "current learning rate: [2.2593554099256555e-05] [2.2593554099256555e-05]\n",
                        "current learning rate: [2.1463876394293726e-05] [2.1463876394293726e-05]\n",
                        "current learning rate: [2.039068257457904e-05] [2.039068257457904e-05]\n",
                        "current learning rate: [1.9371148445850086e-05] [1.9371148445850086e-05]\n",
                        "current learning rate: [1.840259102355758e-05] [1.840259102355758e-05]\n"
                    ]
                },
                {
                    "name": "stderr",
                    "output_type": "stream",
                    "text": [
                        "Traceback (most recent call last):\n",
                        "  File \"/opt/conda/lib/python3.10/multiprocessing/util.py\", line 300, in _run_finalizers\n",
                        "    finalizer()\n",
                        "  File \"/opt/conda/lib/python3.10/multiprocessing/util.py\", line 224, in __call__\n",
                        "    res = self._callback(*self._args, **self._kwargs)\n",
                        "  File \"/opt/conda/lib/python3.10/multiprocessing/util.py\", line 133, in _remove_temp_dir\n",
                        "    rmtree(tempdir)\n",
                        "  File \"/opt/conda/lib/python3.10/shutil.py\", line 731, in rmtree\n",
                        "    onerror(os.rmdir, path, sys.exc_info())\n",
                        "  File \"/opt/conda/lib/python3.10/shutil.py\", line 729, in rmtree\n",
                        "    os.rmdir(path)\n",
                        "OSError: [Errno 39] Directory not empty: '/tmp/pymp-wquw3sqy'\n"
                    ]
                },
                {
                    "data": {
                        "application/vnd.jupyter.widget-view+json": {
                            "model_id": "c6f0a66496a844a48eb319c102c15154",
                            "version_major": 2,
                            "version_minor": 0
                        },
                        "text/plain": [
                            "Validation: 0it [00:00, ?it/s]"
                        ]
                    },
                    "metadata": {},
                    "output_type": "display_data"
                },
                {
                    "name": "stdout",
                    "output_type": "stream",
                    "text": [
                        "check #13\n",
                        "training loss from 13670 batches:\n",
                        "d_loss = -0.001008163365166605\n",
                        "g_loss = -0.49619046495879926\n",
                        "c_loss = 0.0016025203637785232\n",
                        "pose_2d_loss = 0.09120758272756516\n",
                        "total_g_loss = -0.4033803619384417\n",
                        "val MPJPE from: 87500 samples : 193.46006214618683\n",
                        "val P-MPJPE from: 87500 samples : 128.34344283167385\n",
                        "current learning rate: [1.74824614723797e-05] [1.74824614723797e-05]\n",
                        "current learning rate: [1.6608338398760715e-05] [1.6608338398760715e-05]\n"
                    ]
                },
                {
                    "name": "stderr",
                    "output_type": "stream",
                    "text": [
                        "Traceback (most recent call last):\n",
                        "  File \"/opt/conda/lib/python3.10/multiprocessing/util.py\", line 300, in _run_finalizers\n",
                        "    finalizer()\n",
                        "  File \"/opt/conda/lib/python3.10/multiprocessing/util.py\", line 224, in __call__\n",
                        "    res = self._callback(*self._args, **self._kwargs)\n",
                        "  File \"/opt/conda/lib/python3.10/multiprocessing/util.py\", line 133, in _remove_temp_dir\n",
                        "    rmtree(tempdir)\n",
                        "  File \"/opt/conda/lib/python3.10/shutil.py\", line 731, in rmtree\n",
                        "    onerror(os.rmdir, path, sys.exc_info())\n",
                        "  File \"/opt/conda/lib/python3.10/shutil.py\", line 729, in rmtree\n",
                        "    os.rmdir(path)\n",
                        "OSError: [Errno 39] Directory not empty: '/tmp/pymp-rwe7elty'\n"
                    ]
                },
                {
                    "name": "stdout",
                    "output_type": "stream",
                    "text": [
                        "current learning rate: [1.5777921478822678e-05] [1.5777921478822678e-05]\n",
                        "current learning rate: [1.4989025404881544e-05] [1.4989025404881544e-05]\n",
                        "current learning rate: [1.4239574134637466e-05] [1.4239574134637466e-05]\n"
                    ]
                },
                {
                    "data": {
                        "application/vnd.jupyter.widget-view+json": {
                            "model_id": "5be5691f332d45079171eb10baff65f7",
                            "version_major": 2,
                            "version_minor": 0
                        },
                        "text/plain": [
                            "Validation: 0it [00:00, ?it/s]"
                        ]
                    },
                    "metadata": {},
                    "output_type": "display_data"
                },
                {
                    "name": "stdout",
                    "output_type": "stream",
                    "text": [
                        "check #14\n",
                        "training loss from 13670 batches:\n",
                        "d_loss = -0.000933751912327516\n",
                        "g_loss = -0.4956125922964364\n",
                        "c_loss = 0.0013839171937540455\n",
                        "pose_2d_loss = 0.09121093587090084\n",
                        "total_g_loss = -0.4030177391656751\n",
                        "val MPJPE from: 87500 samples : 195.6411898136139\n",
                        "val P-MPJPE from: 87500 samples : 130.16975930355224\n",
                        "current learning rate: [1.3527595427905592e-05] [1.3527595427905592e-05]\n",
                        "current learning rate: [1.2851215656510312e-05] [1.2851215656510312e-05]\n",
                        "current learning rate: [1.2208654873684796e-05] [1.2208654873684796e-05]\n",
                        "current learning rate: [1.1598222130000555e-05] [1.1598222130000555e-05]\n",
                        "current learning rate: [1.1018311023500527e-05] [1.1018311023500527e-05]\n"
                    ]
                },
                {
                    "data": {
                        "application/vnd.jupyter.widget-view+json": {
                            "model_id": "5b9c391d394b49e2bed4605422a852d2",
                            "version_major": 2,
                            "version_minor": 0
                        },
                        "text/plain": [
                            "Validation: 0it [00:00, ?it/s]"
                        ]
                    },
                    "metadata": {},
                    "output_type": "display_data"
                },
                {
                    "name": "stdout",
                    "output_type": "stream",
                    "text": [
                        "check #15\n",
                        "training loss from 13670 batches:\n",
                        "d_loss = -0.0009439477674170325\n",
                        "g_loss = -0.49489506804428574\n",
                        "c_loss = 0.0012250489583402469\n",
                        "pose_2d_loss = 0.09117575456996686\n",
                        "total_g_loss = -0.4024942644425527\n",
                        "val MPJPE from: 87500 samples : 195.9853321313858\n",
                        "val P-MPJPE from: 87500 samples : 130.07357336595723\n",
                        "current learning rate: [1.04673954723255e-05] [1.04673954723255e-05]\n",
                        "current learning rate: [9.944025698709225e-06] [9.944025698709225e-06]\n",
                        "current learning rate: [9.446824413773763e-06] [9.446824413773763e-06]\n",
                        "current learning rate: [8.974483193085074e-06] [8.974483193085074e-06]\n",
                        "current learning rate: [8.52575903343082e-06] [8.52575903343082e-06]\n"
                    ]
                },
                {
                    "data": {
                        "application/vnd.jupyter.widget-view+json": {
                            "model_id": "6cce5f7972c047b1a627f5aeed107f07",
                            "version_major": 2,
                            "version_minor": 0
                        },
                        "text/plain": [
                            "Validation: 0it [00:00, ?it/s]"
                        ]
                    },
                    "metadata": {},
                    "output_type": "display_data"
                },
                {
                    "name": "stdout",
                    "output_type": "stream",
                    "text": [
                        "check #16\n",
                        "training loss from 13670 batches:\n",
                        "d_loss = -0.0008094376415482143\n",
                        "g_loss = -0.49347442816929304\n",
                        "c_loss = 0.0011024363921151646\n",
                        "pose_2d_loss = 0.0911767892381442\n",
                        "total_g_loss = -0.4011952025574668\n",
                        "val MPJPE from: 87500 samples : 196.11550867557526\n",
                        "val P-MPJPE from: 87500 samples : 130.08964627664503\n",
                        "current learning rate: [8.09947108175928e-06] [8.09947108175928e-06]\n"
                    ]
                }
            ],
            "source": [
                "import os\n",
                "cwd = os.getcwd()\n",
                "import sys\n",
                "sys.path.append(cwd)\n",
                "import torch\n",
                "import pytorch_lightning as pl\n",
                "import pickle as pkl\n",
                "from modules.experiments.experiment import Experiment\n",
                "from modules.experiments.timer import Timer\n",
                "from experiments.experiment_config import (\n",
                "    ALL_LIGHTNING_MODELS,\n",
                "    get_processed_synthetic_cabin_ir_1m_loaders,\n",
                "    synthetic_cabin_ir_1m_preprocess_loaders\n",
                ")\n",
                "from pytorch_lightning.callbacks import ModelCheckpoint\n",
                "from pytorch_lightning.callbacks.early_stopping import EarlyStopping\n",
                "from modules.lifter_2d_3d.model.linear_model.network.linear_model import BaselineModel\n",
                "from modules.lifter_2d_3d.model.repnet.lit_repnet import LitRepNet\n",
                "\n",
                "pl.seed_everything(1234)\n",
                "view_point = 'Dashboard_Front_OMS_01'\n",
                "constructed_loader = get_processed_synthetic_cabin_ir_1m_loaders('Dashboard_Front_OMS_01')\n",
                "\n",
                "model_checkpoint = ModelCheckpoint(monitor='mpjpe',mode='min', save_top_k=1)\n",
                "early_stopping = EarlyStopping(monitor=\"mpjpe\", mode=\"min\", patience=5)\n",
                "\n",
                "# ------------\n",
                "# model\n",
                "# ------------\n",
                "lifter_2D_3D = BaselineModel(exclude_ankle=True, exclude_knee=True)\n",
                "lit_model = LitRepNet(lifter_2D_3D=lifter_2D_3D)\n",
                "# ------------\n",
                "# training\n",
                "# ------------\n",
                "# saved_model_path = './saved_lifter_2d_3d_model/synthetic_cabin_bw/A_Pillar_Codriver/prediction/repnet_linear_model/'\n",
                "saved_model_path = f'./saved_lifter_2d_3d_model/rq3/repnet/synthetic_cabin_ir_1m/{view_point}'\n",
                "if not os.path.exists(saved_model_path):\n",
                "    os.makedirs(saved_model_path)\n",
                "\n",
                "device = 'cuda' if torch.cuda.is_available() else 'cpu'\n",
                "print('device', device)\n",
                "# device = 'cpu'\n",
                "trainer = pl.Trainer(\n",
                "    # max_steps=10,\n",
                "    max_epochs=100,\n",
                "    callbacks=[model_checkpoint, early_stopping],\n",
                "    accelerator=device,\n",
                "    check_val_every_n_epoch=5,\n",
                "    default_root_dir=saved_model_path,\n",
                "    reload_dataloaders_every_n_epochs=1,\n",
                "    # gradient_clip_val=1.0\n",
                ")\n",
                "train_loader = constructed_loader['train_loader']\n",
                "val_loader = constructed_loader['val_loader']\n",
                "test_loader = constructed_loader['test_loader']\n",
                "\n",
                "print(\n",
                "    'train_dataset', len(train_loader.dataset),\n",
                "    'val_dataset', len(val_loader.dataset),\n",
                "    'test_dataset', len(test_loader.dataset)\n",
                ")\n",
                "trainer.fit(lit_model, train_loader, val_loader)"
            ]
        },
        {
            "cell_type": "code",
            "execution_count": 3,
            "metadata": {},
            "outputs": [
                {
                    "name": "stderr",
                    "output_type": "stream",
                    "text": [
                        "Restoring states from the checkpoint path at saved_lifter_2d_3d_model/rq3/repnet/synthetic_cabin_ir_1m/Dashboard_Front_OMS_01/lightning_logs/version_2/checkpoints/epoch=54-step=300740.ckpt\n",
                        "LOCAL_RANK: 0 - CUDA_VISIBLE_DEVICES: [0]\n",
                        "Loaded model weights from the checkpoint at saved_lifter_2d_3d_model/rq3/repnet/synthetic_cabin_ir_1m/Dashboard_Front_OMS_01/lightning_logs/version_2/checkpoints/epoch=54-step=300740.ckpt\n"
                    ]
                },
                {
                    "data": {
                        "application/vnd.jupyter.widget-view+json": {
                            "model_id": "95bab8d169f24da78a7e8724b87af20e",
                            "version_major": 2,
                            "version_minor": 0
                        },
                        "text/plain": [
                            "Testing: 0it [00:00, ?it/s]"
                        ]
                    },
                    "metadata": {},
                    "output_type": "display_data"
                },
                {
                    "data": {
                        "text/html": [
                            "<pre style=\"white-space:pre;overflow-x:auto;line-height:normal;font-family:Menlo,'DejaVu Sans Mono',consolas,'Courier New',monospace\">┏━━━━━━━━━━━━━━━━━━━━━━━━━━━┳━━━━━━━━━━━━━━━━━━━━━━━━━━━┓\n",
                            "┃<span style=\"font-weight: bold\">        Test metric        </span>┃<span style=\"font-weight: bold\">       DataLoader 0        </span>┃\n",
                            "┡━━━━━━━━━━━━━━━━━━━━━━━━━━━╇━━━━━━━━━━━━━━━━━━━━━━━━━━━┩\n",
                            "│<span style=\"color: #008080; text-decoration-color: #008080\">           mpjpe           </span>│<span style=\"color: #800080; text-decoration-color: #800080\">    194.62943077087402     </span>│\n",
                            "│<span style=\"color: #008080; text-decoration-color: #008080\">          p_mpjpe          </span>│<span style=\"color: #800080; text-decoration-color: #800080\">     128.1233494067314     </span>│\n",
                            "└───────────────────────────┴───────────────────────────┘\n",
                            "</pre>\n"
                        ],
                        "text/plain": [
                            "┏━━━━━━━━━━━━━━━━━━━━━━━━━━━┳━━━━━━━━━━━━━━━━━━━━━━━━━━━┓\n",
                            "┃\u001b[1m \u001b[0m\u001b[1m       Test metric       \u001b[0m\u001b[1m \u001b[0m┃\u001b[1m \u001b[0m\u001b[1m      DataLoader 0       \u001b[0m\u001b[1m \u001b[0m┃\n",
                            "┡━━━━━━━━━━━━━━━━━━━━━━━━━━━╇━━━━━━━━━━━━━━━━━━━━━━━━━━━┩\n",
                            "│\u001b[36m \u001b[0m\u001b[36m          mpjpe          \u001b[0m\u001b[36m \u001b[0m│\u001b[35m \u001b[0m\u001b[35m   194.62943077087402    \u001b[0m\u001b[35m \u001b[0m│\n",
                            "│\u001b[36m \u001b[0m\u001b[36m         p_mpjpe         \u001b[0m\u001b[36m \u001b[0m│\u001b[35m \u001b[0m\u001b[35m    128.1233494067314    \u001b[0m\u001b[35m \u001b[0m│\n",
                            "└───────────────────────────┴───────────────────────────┘\n"
                        ]
                    },
                    "metadata": {},
                    "output_type": "display_data"
                },
                {
                    "data": {
                        "text/plain": [
                            "[{'mpjpe': 194.62943077087402, 'p_mpjpe': 128.1233494067314}]"
                        ]
                    },
                    "execution_count": 3,
                    "metadata": {},
                    "output_type": "execute_result"
                }
            ],
            "source": [
                "best_checkpoint_path = model_checkpoint.best_model_path\n",
                "trainer.test(ckpt_path=best_checkpoint_path, dataloaders=test_loader)"
            ]
        },
        {
            "cell_type": "code",
            "execution_count": 4,
            "metadata": {},
            "outputs": [],
            "source": [
                "from modules.utils.visualization import generate_connection_line, get_sample_from_loader, visualize_pose\n",
                "import matplotlib.pyplot as plt\n",
                "import pandas as pd\n",
                "import numpy as np\n",
                "sample = get_sample_from_loader(val_loader)"
            ]
        },
        {
            "cell_type": "code",
            "execution_count": 5,
            "metadata": {},
            "outputs": [],
            "source": [
                "for item in val_loader.dataset.samples:\n",
                "    if item['id'] == sample[0]:\n",
                "        print(item)\n",
                "        break"
            ]
        },
        {
            "cell_type": "code",
            "execution_count": 6,
            "metadata": {},
            "outputs": [
                {
                    "ename": "FileNotFoundError",
                    "evalue": "[Errno 2] No such file or directory: '/root/synthetic_cabin_1m/syntheticcabin_1mil/SyntheticCabin_1m/images/frame_928125.jpg'",
                    "output_type": "error",
                    "traceback": [
                        "\u001b[0;31m---------------------------------------------------------------------------\u001b[0m",
                        "\u001b[0;31mFileNotFoundError\u001b[0m                         Traceback (most recent call last)",
                        "Cell \u001b[0;32mIn[6], line 1\u001b[0m\n\u001b[0;32m----> 1\u001b[0m img \u001b[38;5;241m=\u001b[39m \u001b[43mplt\u001b[49m\u001b[38;5;241;43m.\u001b[39;49m\u001b[43mimread\u001b[49m\u001b[43m(\u001b[49m\u001b[38;5;124;43mf\u001b[39;49m\u001b[38;5;124;43m'\u001b[39;49m\u001b[38;5;124;43m/root/synthetic_cabin_1m/syntheticcabin_1mil/SyntheticCabin_1m/images/\u001b[39;49m\u001b[38;5;132;43;01m{\u001b[39;49;00m\u001b[43mitem\u001b[49m\u001b[43m[\u001b[49m\u001b[38;5;124;43m\"\u001b[39;49m\u001b[38;5;124;43mfilenames\u001b[39;49m\u001b[38;5;124;43m\"\u001b[39;49m\u001b[43m]\u001b[49m\u001b[38;5;132;43;01m}\u001b[39;49;00m\u001b[38;5;124;43m'\u001b[39;49m\u001b[43m)\u001b[49m\n\u001b[1;32m      2\u001b[0m fig, ax \u001b[38;5;241m=\u001b[39m plt\u001b[38;5;241m.\u001b[39msubplots()\n\u001b[1;32m      3\u001b[0m ax\u001b[38;5;241m.\u001b[39mimshow(img)\n",
                        "File \u001b[0;32m/opt/conda/lib/python3.10/site-packages/matplotlib/pyplot.py:2195\u001b[0m, in \u001b[0;36mimread\u001b[0;34m(fname, format)\u001b[0m\n\u001b[1;32m   2193\u001b[0m \u001b[38;5;129m@_copy_docstring_and_deprecators\u001b[39m(matplotlib\u001b[38;5;241m.\u001b[39mimage\u001b[38;5;241m.\u001b[39mimread)\n\u001b[1;32m   2194\u001b[0m \u001b[38;5;28;01mdef\u001b[39;00m \u001b[38;5;21mimread\u001b[39m(fname, \u001b[38;5;28mformat\u001b[39m\u001b[38;5;241m=\u001b[39m\u001b[38;5;28;01mNone\u001b[39;00m):\n\u001b[0;32m-> 2195\u001b[0m     \u001b[38;5;28;01mreturn\u001b[39;00m \u001b[43mmatplotlib\u001b[49m\u001b[38;5;241;43m.\u001b[39;49m\u001b[43mimage\u001b[49m\u001b[38;5;241;43m.\u001b[39;49m\u001b[43mimread\u001b[49m\u001b[43m(\u001b[49m\u001b[43mfname\u001b[49m\u001b[43m,\u001b[49m\u001b[43m \u001b[49m\u001b[38;5;28;43mformat\u001b[39;49m\u001b[43m)\u001b[49m\n",
                        "File \u001b[0;32m/opt/conda/lib/python3.10/site-packages/matplotlib/image.py:1563\u001b[0m, in \u001b[0;36mimread\u001b[0;34m(fname, format)\u001b[0m\n\u001b[1;32m   1556\u001b[0m \u001b[38;5;28;01mif\u001b[39;00m \u001b[38;5;28misinstance\u001b[39m(fname, \u001b[38;5;28mstr\u001b[39m) \u001b[38;5;129;01mand\u001b[39;00m \u001b[38;5;28mlen\u001b[39m(parse\u001b[38;5;241m.\u001b[39murlparse(fname)\u001b[38;5;241m.\u001b[39mscheme) \u001b[38;5;241m>\u001b[39m \u001b[38;5;241m1\u001b[39m:\n\u001b[1;32m   1557\u001b[0m     \u001b[38;5;66;03m# Pillow doesn't handle URLs directly.\u001b[39;00m\n\u001b[1;32m   1558\u001b[0m     \u001b[38;5;28;01mraise\u001b[39;00m \u001b[38;5;167;01mValueError\u001b[39;00m(\n\u001b[1;32m   1559\u001b[0m         \u001b[38;5;124m\"\u001b[39m\u001b[38;5;124mPlease open the URL for reading and pass the \u001b[39m\u001b[38;5;124m\"\u001b[39m\n\u001b[1;32m   1560\u001b[0m         \u001b[38;5;124m\"\u001b[39m\u001b[38;5;124mresult to Pillow, e.g. with \u001b[39m\u001b[38;5;124m\"\u001b[39m\n\u001b[1;32m   1561\u001b[0m         \u001b[38;5;124m\"\u001b[39m\u001b[38;5;124m``np.array(PIL.Image.open(urllib.request.urlopen(url)))``.\u001b[39m\u001b[38;5;124m\"\u001b[39m\n\u001b[1;32m   1562\u001b[0m         )\n\u001b[0;32m-> 1563\u001b[0m \u001b[38;5;28;01mwith\u001b[39;00m \u001b[43mimg_open\u001b[49m\u001b[43m(\u001b[49m\u001b[43mfname\u001b[49m\u001b[43m)\u001b[49m \u001b[38;5;28;01mas\u001b[39;00m image:\n\u001b[1;32m   1564\u001b[0m     \u001b[38;5;28;01mreturn\u001b[39;00m (_pil_png_to_float_array(image)\n\u001b[1;32m   1565\u001b[0m             \u001b[38;5;28;01mif\u001b[39;00m \u001b[38;5;28misinstance\u001b[39m(image, PIL\u001b[38;5;241m.\u001b[39mPngImagePlugin\u001b[38;5;241m.\u001b[39mPngImageFile) \u001b[38;5;28;01melse\u001b[39;00m\n\u001b[1;32m   1566\u001b[0m             pil_to_array(image))\n",
                        "File \u001b[0;32m/opt/conda/lib/python3.10/site-packages/PIL/Image.py:3227\u001b[0m, in \u001b[0;36mopen\u001b[0;34m(fp, mode, formats)\u001b[0m\n\u001b[1;32m   3224\u001b[0m     filename \u001b[38;5;241m=\u001b[39m fp\n\u001b[1;32m   3226\u001b[0m \u001b[38;5;28;01mif\u001b[39;00m filename:\n\u001b[0;32m-> 3227\u001b[0m     fp \u001b[38;5;241m=\u001b[39m \u001b[43mbuiltins\u001b[49m\u001b[38;5;241;43m.\u001b[39;49m\u001b[43mopen\u001b[49m\u001b[43m(\u001b[49m\u001b[43mfilename\u001b[49m\u001b[43m,\u001b[49m\u001b[43m \u001b[49m\u001b[38;5;124;43m\"\u001b[39;49m\u001b[38;5;124;43mrb\u001b[39;49m\u001b[38;5;124;43m\"\u001b[39;49m\u001b[43m)\u001b[49m\n\u001b[1;32m   3228\u001b[0m     exclusive_fp \u001b[38;5;241m=\u001b[39m \u001b[38;5;28;01mTrue\u001b[39;00m\n\u001b[1;32m   3230\u001b[0m \u001b[38;5;28;01mtry\u001b[39;00m:\n",
                        "\u001b[0;31mFileNotFoundError\u001b[0m: [Errno 2] No such file or directory: '/root/synthetic_cabin_1m/syntheticcabin_1mil/SyntheticCabin_1m/images/frame_928125.jpg'"
                    ]
                }
            ],
            "source": [
                "img = plt.imread(f'/root/synthetic_cabin_1m/syntheticcabin_1mil/SyntheticCabin_1m/images/{item[\"filenames\"]}')\n",
                "fig, ax = plt.subplots()\n",
                "ax.imshow(img)\n",
                "\n",
                "ax.scatter(item['pose_2d'][:,0] * item['scale_factor'][0] + item['root_2d'][0], item['pose_2d'][:,1] * item['scale_factor'][1] + item['root_2d'][1])"
            ]
        },
        {
            "cell_type": "code",
            "execution_count": null,
            "metadata": {},
            "outputs": [],
            "source": [
                "from modules.utils.visualization import (\n",
                "    plot_samples\n",
                ")\n",
                "from pathlib import Path\n",
                "plot_samples(\n",
                "    Path('/root/synthetic_cabin_1m/syntheticcabin_1mil/SyntheticCabin_1m/'),\n",
                "    lit_model.to('cpu'),\n",
                "    test_loader,\n",
                "    None,\n",
                "    img_figsize=(20, 10),\n",
                "    plot_figsize=(20.5, 10),\n",
                "    sample_indices=[1000, 2500, 6000],\n",
                "    is_plot_gt_skeleton=True\n",
                ")"
            ]
        },
        {
            "cell_type": "code",
            "execution_count": null,
            "metadata": {},
            "outputs": [],
            "source": []
        }
    ],
    "metadata": {
        "kernelspec": {
            "display_name": "Python 3 (ipykernel)",
            "language": "python",
            "name": "python3"
        },
        "orig_nbformat": 4,
        "vscode": {
            "interpreter": {
                "hash": "916dbcbb3f70747c44a77c7bcd40155683ae19c65e1c03b4aa3499c5328201f1"
            }
        }
    },
    "nbformat": 4,
    "nbformat_minor": 2
}
