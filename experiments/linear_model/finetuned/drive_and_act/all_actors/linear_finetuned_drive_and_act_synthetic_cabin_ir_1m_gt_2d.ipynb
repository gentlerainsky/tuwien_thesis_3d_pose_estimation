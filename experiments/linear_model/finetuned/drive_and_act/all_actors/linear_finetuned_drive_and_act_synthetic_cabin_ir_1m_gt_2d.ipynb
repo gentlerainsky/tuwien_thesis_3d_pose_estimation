{
 "cells": [
  {
   "cell_type": "code",
   "execution_count": 1,
   "metadata": {},
   "outputs": [
    {
     "name": "stderr",
     "output_type": "stream",
     "text": [
      "Global seed set to 1234\n"
     ]
    },
    {
     "name": "stdout",
     "output_type": "stream",
     "text": [
      "skipping problematic image 3628\n",
      "skipping problematic image 5874\n",
      "skipping problematic image 14835\n",
      "Annotation is not found for 15783\n",
      "Annotation is not found for 17258\n",
      "Annotation is not found for 17259\n",
      "Annotation is not found for 21271\n",
      "Annotation is not found for 21272\n",
      "Annotation is not found for 21273\n",
      "Annotation is not found for 21274\n",
      "Annotation is not found for 21275\n",
      "Annotation is not found for 21276\n",
      "skipping problematic image 32959\n",
      "Annotation is not found for 33527\n",
      "skipping problematic image 28113\n"
     ]
    },
    {
     "name": "stderr",
     "output_type": "stream",
     "text": [
      "GPU available: True (cuda), used: True\n",
      "TPU available: False, using: 0 TPU cores\n",
      "IPU available: False, using: 0 IPUs\n",
      "HPU available: False, using: 0 HPUs\n"
     ]
    },
    {
     "name": "stdout",
     "output_type": "stream",
     "text": [
      "train_dataset 22881 val_dataset 6240 test_dataset 11017\n",
      "create new LitSimpleBaselineLinear model\n",
      "train_dataset 22881 val_dataset 6240 test_dataset 11017\n",
      "create new LitSimpleBaselineLinear model\n"
     ]
    },
    {
     "name": "stderr",
     "output_type": "stream",
     "text": [
      "GPU available: True (cuda), used: True\n",
      "TPU available: False, using: 0 TPU cores\n",
      "IPU available: False, using: 0 IPUs\n",
      "HPU available: False, using: 0 HPUs\n",
      "Missing logger folder: saved_lifter_2d_3d_model/LitSimpleBaselineLinear/drive_and_act/A_Pillar_Codriver_predicted/transfer_learning/synthetic_cabin_ir_1m/A_Pillar_Codriver_predicted/all_actors/lightning_logs\n",
      "LOCAL_RANK: 0 - CUDA_VISIBLE_DEVICES: [0]\n",
      "\n",
      "  | Name  | Type          | Params\n",
      "----------------------------------------\n",
      "0 | model | BaselineModel | 4.3 M \n",
      "----------------------------------------\n",
      "4.3 M     Trainable params\n",
      "0         Non-trainable params\n",
      "4.3 M     Total params\n",
      "17.105    Total estimated model params size (MB)\n"
     ]
    },
    {
     "data": {
      "application/vnd.jupyter.widget-view+json": {
       "model_id": "6c39754613d3444eb23a8beaee97e9e9",
       "version_major": 2,
       "version_minor": 0
      },
      "text/plain": [
       "Sanity Checking: 0it [00:00, ?it/s]"
      ]
     },
     "metadata": {},
     "output_type": "display_data"
    },
    {
     "name": "stdout",
     "output_type": "stream",
     "text": [
      "check #0\n",
      "val MPJPE from: 128 samples : 2648.057699203491\n"
     ]
    },
    {
     "name": "stderr",
     "output_type": "stream",
     "text": [
      "Traceback (most recent call last):\n",
      "  File \"/opt/conda/lib/python3.10/multiprocessing/util.py\", line 300, in _run_finalizers\n",
      "    finalizer()\n",
      "  File \"/opt/conda/lib/python3.10/multiprocessing/util.py\", line 224, in __call__\n",
      "    res = self._callback(*self._args, **self._kwargs)\n",
      "  File \"/opt/conda/lib/python3.10/multiprocessing/util.py\", line 133, in _remove_temp_dir\n",
      "    rmtree(tempdir)\n",
      "  File \"/opt/conda/lib/python3.10/shutil.py\", line 731, in rmtree\n",
      "    onerror(os.rmdir, path, sys.exc_info())\n",
      "  File \"/opt/conda/lib/python3.10/shutil.py\", line 729, in rmtree\n",
      "    os.rmdir(path)\n",
      "OSError: [Errno 39] Directory not empty: '/tmp/pymp-x0f9mxgy'\n"
     ]
    },
    {
     "data": {
      "application/vnd.jupyter.widget-view+json": {
       "model_id": "2c052dc696404bee8be97db3cef4f9cf",
       "version_major": 2,
       "version_minor": 0
      },
      "text/plain": [
       "Training: 0it [00:00, ?it/s]"
      ]
     },
     "metadata": {},
     "output_type": "display_data"
    },
    {
     "name": "stderr",
     "output_type": "stream",
     "text": [
      "/opt/conda/lib/python3.10/site-packages/pytorch_lightning/trainer/call.py:54: UserWarning: Detected KeyboardInterrupt, attempting graceful shutdown...\n",
      "  rank_zero_warn(\"Detected KeyboardInterrupt, attempting graceful shutdown...\")\n"
     ]
    }
   ],
   "source": [
    "import pytorch_lightning as pl\n",
    "from modules.lifter_2d_3d.model.linear_model.lit_linear_model import LitSimpleBaselineLinear as LitModel\n",
    "from modules.experiments.dataset import (\n",
    "    construct_drive_and_act_dataset, drive_and_act_dataset_root_path\n",
    ")\n",
    "from modules.utils.convention import get_saved_model_path\n",
    "from modules.experiments.experiment import Experiment\n",
    "\n",
    "pl.seed_everything(1234)\n",
    "\n",
    "viewpoint = 'A_Pillar_Codriver'\n",
    "pretrained_dataset_name='synthetic_cabin_ir_1m'\n",
    "pretrained_datasubset_name=f'{viewpoint}_gt_2d'\n",
    "\n",
    "pretrained_model_path = get_saved_model_path(\n",
    "    model_name=LitModel.__name__,\n",
    "    trained_dataset_name=pretrained_dataset_name,\n",
    "    trained_datasubset_name=pretrained_datasubset_name,\n",
    ")\n",
    "constructed_loader = construct_drive_and_act_dataset(\n",
    "    dataset_root_path=drive_and_act_dataset_root_path,\n",
    "    viewpoint=viewpoint\n",
    ")\n",
    "saved_model_path = get_saved_model_path(\n",
    "    model_name=LitModel.__name__,\n",
    "    model_suffix='all_actors',\n",
    "    trained_dataset_name=constructed_loader['dataset_name'],\n",
    "    trained_datasubset_name=constructed_loader['datasubset_name'],\n",
    "    pretrained_dataset_name=pretrained_dataset_name,\n",
    "    pretrained_datasubset_name=pretrained_datasubset_name,\n",
    ")\n",
    "experiment = Experiment(\n",
    "    LitModel=LitModel,\n",
    "    constructed_loader=constructed_loader,\n",
    "    pretrained_model_path=pretrained_model_path,\n",
    "    saved_model_path=saved_model_path,\n",
    "    model_parameters=dict(\n",
    "        exclude_ankle=True,\n",
    "        exclude_knee=True\n",
    "    )\n",
    ")\n",
    "\n",
    "experiment.setup()\n",
    "experiment.train()"
   ]
  },
  {
   "cell_type": "code",
   "execution_count": null,
   "metadata": {},
   "outputs": [],
   "source": [
    "experiment.test()\n",
    "experiment.print_result()"
   ]
  },
  {
   "cell_type": "markdown",
   "metadata": {},
   "source": [
    "## Train Samples"
   ]
  },
  {
   "cell_type": "code",
   "execution_count": null,
   "metadata": {},
   "outputs": [],
   "source": [
    "from modules.utils.visualization import (\n",
    "    plot_samples\n",
    ")\n",
    "from pathlib import Path\n",
    "\n",
    "dataset_length = len(experiment.train_loader.dataset)\n",
    "plot_samples(\n",
    "    drive_and_act_dataset_root_path / viewpoint,\n",
    "    experiment.lit_model,\n",
    "    experiment.train_loader,\n",
    "    'train',\n",
    "    img_figsize=(20, 10),\n",
    "    plot_figsize=(20.5, 10),\n",
    "    sample_indices=[\n",
    "        int(dataset_length * 0.1),\n",
    "        int(dataset_length * 0.5),\n",
    "        int(dataset_length * 0.9),\n",
    "    ],\n",
    "    is_plot_gt_skeleton=False\n",
    ")"
   ]
  },
  {
   "cell_type": "markdown",
   "metadata": {},
   "source": [
    "## Test Samples"
   ]
  },
  {
   "cell_type": "code",
   "execution_count": null,
   "metadata": {},
   "outputs": [],
   "source": [
    "from modules.utils.visualization import (\n",
    "    plot_samples\n",
    ")\n",
    "dataset_length = len(experiment.test_loader.dataset)\n",
    "plot_samples(\n",
    "    drive_and_act_dataset_root_path / viewpoint,\n",
    "    experiment.lit_model,\n",
    "    experiment.test_loader,\n",
    "    'train',\n",
    "    img_figsize=(20, 10),\n",
    "    plot_figsize=(20.5, 10),\n",
    "    sample_indices=[\n",
    "        int(dataset_length * 0.1),\n",
    "        int(dataset_length * 0.5),\n",
    "        int(dataset_length * 0.9),\n",
    "    ],\n",
    "    is_plot_gt_skeleton=False\n",
    ")"
   ]
  }
 ],
 "metadata": {
  "kernelspec": {
   "display_name": "Python 3 (ipykernel)",
   "language": "python",
   "name": "python3"
  },
  "orig_nbformat": 4,
  "vscode": {
   "interpreter": {
    "hash": "916dbcbb3f70747c44a77c7bcd40155683ae19c65e1c03b4aa3499c5328201f1"
   }
  }
 },
 "nbformat": 4,
 "nbformat_minor": 2
}
