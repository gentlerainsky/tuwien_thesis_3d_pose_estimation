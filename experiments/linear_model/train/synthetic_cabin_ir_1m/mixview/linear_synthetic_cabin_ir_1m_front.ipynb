{
 "cells": [
  {
   "cell_type": "code",
   "execution_count": 1,
   "metadata": {},
   "outputs": [
    {
     "name": "stderr",
     "output_type": "stream",
     "text": [
      "Global seed set to 1234\n",
      "GPU available: True (cuda), used: True\n",
      "TPU available: False, using: 0 TPU cores\n",
      "IPU available: False, using: 0 IPUs\n",
      "HPU available: False, using: 0 HPUs\n",
      "GPU available: True (cuda), used: True\n",
      "TPU available: False, using: 0 TPU cores\n",
      "IPU available: False, using: 0 IPUs\n",
      "HPU available: False, using: 0 HPUs\n"
     ]
    },
    {
     "name": "stdout",
     "output_type": "stream",
     "text": [
      "train_dataset 200000 val_dataset 100000 test_dataset 83474\n",
      "create new LitSimpleBaselineLinear model\n",
      "train_dataset 200000 val_dataset 100000 test_dataset 83474\n",
      "create new LitSimpleBaselineLinear model\n"
     ]
    },
    {
     "name": "stderr",
     "output_type": "stream",
     "text": [
      "Missing logger folder: saved_lifter_2d_3d_model/LitSimpleBaselineLinear/synthetic_cabin_ir_1m/gt/Front_Left_Front_TopLeft_A_Pillar_Codriver_Rear_Mirror/lightning_logs\n",
      "LOCAL_RANK: 0 - CUDA_VISIBLE_DEVICES: [0]\n",
      "\n",
      "  | Name  | Type          | Params\n",
      "----------------------------------------\n",
      "0 | model | BaselineModel | 4.3 M \n",
      "----------------------------------------\n",
      "4.3 M     Trainable params\n",
      "0         Non-trainable params\n",
      "4.3 M     Total params\n",
      "17.105    Total estimated model params size (MB)\n"
     ]
    },
    {
     "data": {
      "application/vnd.jupyter.widget-view+json": {
       "model_id": "03110d9a55a947c0b61f89700383803e",
       "version_major": 2,
       "version_minor": 0
      },
      "text/plain": [
       "Sanity Checking: 0it [00:00, ?it/s]"
      ]
     },
     "metadata": {},
     "output_type": "display_data"
    },
    {
     "name": "stdout",
     "output_type": "stream",
     "text": [
      "check #0\n",
      "val MPJPE from: 99968 samples : 2192.4030780792236\n"
     ]
    },
    {
     "data": {
      "application/vnd.jupyter.widget-view+json": {
       "model_id": "88baeb12e6434aaa8f2f9280b8fbb56e",
       "version_major": 2,
       "version_minor": 0
      },
      "text/plain": [
       "Training: 0it [00:00, ?it/s]"
      ]
     },
     "metadata": {},
     "output_type": "display_data"
    },
    {
     "data": {
      "application/vnd.jupyter.widget-view+json": {
       "model_id": "874bca3955894e9c9c9feb27c7f6a307",
       "version_major": 2,
       "version_minor": 0
      },
      "text/plain": [
       "Validation: 0it [00:00, ?it/s]"
      ]
     },
     "metadata": {},
     "output_type": "display_data"
    },
    {
     "name": "stdout",
     "output_type": "stream",
     "text": [
      "check #1\n",
      "training loss from 15625 batches: 154.79136408042908\n",
      "val MPJPE from: 99968 samples : 72.52538949251175\n"
     ]
    },
    {
     "data": {
      "application/vnd.jupyter.widget-view+json": {
       "model_id": "6c81374d7d1e4790aea79f9e8c488e42",
       "version_major": 2,
       "version_minor": 0
      },
      "text/plain": [
       "Validation: 0it [00:00, ?it/s]"
      ]
     },
     "metadata": {},
     "output_type": "display_data"
    },
    {
     "name": "stdout",
     "output_type": "stream",
     "text": [
      "check #2\n",
      "training loss from 15625 batches: 103.56561261510849\n",
      "val MPJPE from: 99968 samples : 66.59723073244095\n"
     ]
    },
    {
     "data": {
      "application/vnd.jupyter.widget-view+json": {
       "model_id": "61d9aa8c5516498dac2284ddb9327e38",
       "version_major": 2,
       "version_minor": 0
      },
      "text/plain": [
       "Validation: 0it [00:00, ?it/s]"
      ]
     },
     "metadata": {},
     "output_type": "display_data"
    },
    {
     "name": "stdout",
     "output_type": "stream",
     "text": [
      "check #3\n",
      "training loss from 15625 batches: 98.77052016639709\n",
      "val MPJPE from: 99968 samples : 64.5461454987526\n"
     ]
    },
    {
     "data": {
      "application/vnd.jupyter.widget-view+json": {
       "model_id": "fe94a9df1390427c91eccffc4dff78f1",
       "version_major": 2,
       "version_minor": 0
      },
      "text/plain": [
       "Validation: 0it [00:00, ?it/s]"
      ]
     },
     "metadata": {},
     "output_type": "display_data"
    },
    {
     "name": "stdout",
     "output_type": "stream",
     "text": [
      "check #4\n",
      "training loss from 15625 batches: 95.92336264562607\n",
      "val MPJPE from: 99968 samples : 63.0558580160141\n"
     ]
    },
    {
     "data": {
      "application/vnd.jupyter.widget-view+json": {
       "model_id": "ab7ef75758da4b41aa9205e95d488feb",
       "version_major": 2,
       "version_minor": 0
      },
      "text/plain": [
       "Validation: 0it [00:00, ?it/s]"
      ]
     },
     "metadata": {},
     "output_type": "display_data"
    },
    {
     "name": "stdout",
     "output_type": "stream",
     "text": [
      "check #5\n",
      "training loss from 15625 batches: 93.97793440771103\n",
      "val MPJPE from: 99968 samples : 61.76569685339928\n"
     ]
    },
    {
     "data": {
      "application/vnd.jupyter.widget-view+json": {
       "model_id": "1fb42218af17484989d30577c1710dde",
       "version_major": 2,
       "version_minor": 0
      },
      "text/plain": [
       "Validation: 0it [00:00, ?it/s]"
      ]
     },
     "metadata": {},
     "output_type": "display_data"
    },
    {
     "name": "stdout",
     "output_type": "stream",
     "text": [
      "check #6\n",
      "training loss from 15625 batches: 92.57381832551955\n",
      "val MPJPE from: 99968 samples : 60.87523326277733\n"
     ]
    },
    {
     "data": {
      "application/vnd.jupyter.widget-view+json": {
       "model_id": "019b8b5f7c8c4028a602fe61854f7e1a",
       "version_major": 2,
       "version_minor": 0
      },
      "text/plain": [
       "Validation: 0it [00:00, ?it/s]"
      ]
     },
     "metadata": {},
     "output_type": "display_data"
    },
    {
     "name": "stdout",
     "output_type": "stream",
     "text": [
      "check #7\n",
      "training loss from 15625 batches: 91.43330490732194\n",
      "val MPJPE from: 99968 samples : 60.41070818901062\n"
     ]
    },
    {
     "data": {
      "application/vnd.jupyter.widget-view+json": {
       "model_id": "30d4bdf6e9c2474b8e0327db7ee76efb",
       "version_major": 2,
       "version_minor": 0
      },
      "text/plain": [
       "Validation: 0it [00:00, ?it/s]"
      ]
     },
     "metadata": {},
     "output_type": "display_data"
    },
    {
     "name": "stdout",
     "output_type": "stream",
     "text": [
      "check #8\n",
      "training loss from 15625 batches: 90.58938977813722\n",
      "val MPJPE from: 99968 samples : 60.06724014878273\n"
     ]
    },
    {
     "name": "stderr",
     "output_type": "stream",
     "text": [
      "/opt/conda/lib/python3.10/site-packages/pytorch_lightning/trainer/call.py:54: UserWarning: Detected KeyboardInterrupt, attempting graceful shutdown...\n",
      "  rank_zero_warn(\"Detected KeyboardInterrupt, attempting graceful shutdown...\")\n"
     ]
    }
   ],
   "source": [
    "import pytorch_lightning as pl\n",
    "from modules.lifter_2d_3d.model.linear_model.lit_linear_model import LitSimpleBaselineLinear as LitModel\n",
    "from modules.experiments.dataset import (\n",
    "    construct_synthetic_cabin_ir_1m_v2, synthetic_cabin_ir_1m_v2_dataset_root_path, synthetic_cabin_ir_1m_v2_image_root_path\n",
    ")\n",
    "from modules.utils.convention import get_saved_model_path\n",
    "from modules.experiments.experiment import Experiment\n",
    "from experiments.experiment_config import get_processed_synthetic_cabin_ir_1m_loaders\n",
    "\n",
    "pl.seed_everything(1234)\n",
    "\n",
    "# constructed_loader = construct_synthetic_cabin_ir_1m_v2(\n",
    "#     dataset_name='synthetic_cabin_ir_1m',\n",
    "#     dataset_root_path=synthetic_cabin_ir_1m_v2_dataset_root_path,\n",
    "#     viewpoints=viewpoints,\n",
    "#     keypoint_2d_folder='annotations',\n",
    "#     keypoint_2d_file_prefix='person_keypoints',\n",
    "#     bbox_file_predix='ground_truth_human_detection',\n",
    "#     is_gt_2d_pose=True\n",
    "# )\n",
    "viewpoints = ['Front_Left', 'Front_TopLeft', 'A_Pillar_Codriver', 'Rear_Mirror']\n",
    "\n",
    "constructed_loader = get_processed_synthetic_cabin_ir_1m_loaders(viewpoints)\n",
    "\n",
    "saved_model_path = get_saved_model_path(\n",
    "    model_name=LitModel.__name__,\n",
    "    model_suffix='_'.join(viewpoints),\n",
    "    trained_dataset_name=constructed_loader['dataset_name'],\n",
    "    trained_datasubset_name=constructed_loader['datasubset_name'],\n",
    ")\n",
    "experiment = Experiment(\n",
    "    LitModel=LitModel,\n",
    "    constructed_loader=constructed_loader,\n",
    "    saved_model_path=saved_model_path,\n",
    "    model_parameters=dict(\n",
    "        exclude_ankle=True,\n",
    "        exclude_knee=True\n",
    "    )\n",
    ")\n",
    "\n",
    "experiment.setup()\n",
    "experiment.train()"
   ]
  },
  {
   "cell_type": "code",
   "execution_count": null,
   "metadata": {},
   "outputs": [],
   "source": [
    "constructed_loader['datasubset_name']"
   ]
  },
  {
   "cell_type": "code",
   "execution_count": null,
   "metadata": {},
   "outputs": [],
   "source": [
    "experiment.test()\n",
    "experiment.print_result()"
   ]
  },
  {
   "cell_type": "markdown",
   "metadata": {},
   "source": [
    "## Train Samples"
   ]
  },
  {
   "cell_type": "code",
   "execution_count": null,
   "metadata": {},
   "outputs": [],
   "source": [
    "from modules.utils.visualization import (\n",
    "    plot_samples\n",
    ")\n",
    "from pathlib import Path\n",
    "\n",
    "dataset_length = len(experiment.train_loader.dataset)\n",
    "plot_samples(\n",
    "    Path(synthetic_cabin_ir_1m_v2_image_root_path),\n",
    "    experiment.lit_model,\n",
    "    experiment.train_loader,\n",
    "    None,\n",
    "    img_figsize=(20, 10),\n",
    "    plot_figsize=(20.5, 10),\n",
    "    sample_indices=[\n",
    "        int(dataset_length * 0.1),\n",
    "        int(dataset_length * 0.5),\n",
    "        int(dataset_length * 0.9),\n",
    "    ],\n",
    "    is_plot_gt_skeleton=False\n",
    ")"
   ]
  },
  {
   "cell_type": "markdown",
   "metadata": {},
   "source": [
    "## Test Samples"
   ]
  },
  {
   "cell_type": "code",
   "execution_count": null,
   "metadata": {},
   "outputs": [],
   "source": [
    "from modules.utils.visualization import (\n",
    "    plot_samples\n",
    ")\n",
    "dataset_length = len(experiment.test_loader.dataset)\n",
    "plot_samples(\n",
    "    synthetic_cabin_ir_1m_v2_image_root_path,\n",
    "    experiment.lit_model,\n",
    "    experiment.test_loader,\n",
    "    None,\n",
    "    img_figsize=(20, 10),\n",
    "    plot_figsize=(20.5, 10),\n",
    "    sample_indices=[\n",
    "        int(dataset_length * 0.1),\n",
    "        int(dataset_length * 0.5),\n",
    "        int(dataset_length * 0.9),\n",
    "    ],\n",
    "    is_plot_gt_skeleton=False\n",
    ")"
   ]
  }
 ],
 "metadata": {
  "kernelspec": {
   "display_name": "Python 3 (ipykernel)",
   "language": "python",
   "name": "python3"
  },
  "language_info": {
   "codemirror_mode": {
    "name": "ipython",
    "version": 3
   },
   "file_extension": ".py",
   "mimetype": "text/x-python",
   "name": "python",
   "nbconvert_exporter": "python",
   "pygments_lexer": "ipython3",
   "version": "3.10.11"
  },
  "orig_nbformat": 4,
  "vscode": {
   "interpreter": {
    "hash": "916dbcbb3f70747c44a77c7bcd40155683ae19c65e1c03b4aa3499c5328201f1"
   }
  }
 },
 "nbformat": 4,
 "nbformat_minor": 2
}
