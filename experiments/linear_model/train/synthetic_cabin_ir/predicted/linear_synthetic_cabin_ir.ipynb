{
 "cells": [
  {
   "cell_type": "code",
   "execution_count": null,
   "metadata": {},
   "outputs": [
    {
     "name": "stderr",
     "output_type": "stream",
     "text": [
      "[rank: 0] Received SIGTERM: 15\n"
     ]
    }
   ],
   "source": [
    "import pytorch_lightning as pl\n",
    "from modules.lifter_2d_3d.model.linear_model.lit_linear_model import LitSimpleBaselineLinear as LitModel\n",
    "from modules.experiments.dataset import (\n",
    "    construct_synthetic_cabin_ir, synthetic_cabin_ir_dataset_root_path\n",
    ")\n",
    "from modules.utils.convention import get_saved_model_path\n",
    "from modules.experiments.experiment import Experiment\n",
    "\n",
    "pl.seed_everything(1234)\n",
    "\n",
    "viewpoint = 'A_Pillar_Codriver'\n",
    "\n",
    "constructed_loader = construct_synthetic_cabin_ir(\n",
    "    dataset_root_path=synthetic_cabin_ir_dataset_root_path,\n",
    "    viewpoint=viewpoint\n",
    ")\n",
    "saved_model_path = get_saved_model_path(\n",
    "    model_name=LitModel.__name__,\n",
    "    trained_dataset_name=constructed_loader['dataset_name'],\n",
    "    trained_datasubset_name=constructed_loader['datasubset_name'],\n",
    ")\n",
    "experiment = Experiment(\n",
    "    LitModel=LitModel,\n",
    "    constructed_loader=constructed_loader,\n",
    "    saved_model_path=saved_model_path,\n",
    "    model_parameters=dict(\n",
    "        exclude_ankle=True,\n",
    "        exclude_knee=True\n",
    "    )\n",
    ")\n",
    "\n",
    "experiment.setup()\n",
    "experiment.train()"
   ]
  },
  {
   "cell_type": "code",
   "execution_count": null,
   "metadata": {},
   "outputs": [],
   "source": [
    "experiment.test()\n",
    "experiment.print_result()"
   ]
  },
  {
   "cell_type": "markdown",
   "metadata": {},
   "source": [
    "## Train Samples"
   ]
  },
  {
   "cell_type": "code",
   "execution_count": null,
   "metadata": {},
   "outputs": [],
   "source": [
    "from modules.utils.visualization import (\n",
    "    plot_samples\n",
    ")\n",
    "from pathlib import Path\n",
    "\n",
    "dataset_length = len(experiment.train_loader.dataset)\n",
    "plot_samples(\n",
    "    Path(synthetic_cabin_ir_dataset_root_path)/ viewpoint,\n",
    "    experiment.lit_model,\n",
    "    experiment.train_loader,\n",
    "    'train',\n",
    "    img_figsize=(20, 10),\n",
    "    plot_figsize=(20.5, 10),\n",
    "    sample_indices=[\n",
    "        int(dataset_length * 0.1),\n",
    "        int(dataset_length * 0.5),\n",
    "        int(dataset_length * 0.9),\n",
    "    ],\n",
    "    is_plot_gt_skeleton=False\n",
    ")"
   ]
  },
  {
   "cell_type": "markdown",
   "metadata": {},
   "source": [
    "## Test Samples"
   ]
  },
  {
   "cell_type": "code",
   "execution_count": null,
   "metadata": {},
   "outputs": [],
   "source": [
    "from modules.utils.visualization import (\n",
    "    plot_samples\n",
    ")\n",
    "dataset_length = len(experiment.test_loader.dataset)\n",
    "plot_samples(\n",
    "    synthetic_cabin_ir_dataset_root_path / viewpoint,\n",
    "    experiment.lit_model,\n",
    "    experiment.test_loader,\n",
    "    'test',\n",
    "    img_figsize=(20, 10),\n",
    "    plot_figsize=(20.5, 10),\n",
    "    sample_indices=[\n",
    "        int(dataset_length * 0.1),\n",
    "        int(dataset_length * 0.5),\n",
    "        int(dataset_length * 0.9),\n",
    "    ],\n",
    "    is_plot_gt_skeleton=False\n",
    ")"
   ]
  }
 ],
 "metadata": {
  "kernelspec": {
   "display_name": "Python 3 (ipykernel)",
   "language": "python",
   "name": "python3"
  },
  "language_info": {
   "codemirror_mode": {
    "name": "ipython",
    "version": 3
   },
   "file_extension": ".py",
   "mimetype": "text/x-python",
   "name": "python",
   "nbconvert_exporter": "python",
   "pygments_lexer": "ipython3",
   "version": "3.10.11"
  },
  "orig_nbformat": 4,
  "vscode": {
   "interpreter": {
    "hash": "916dbcbb3f70747c44a77c7bcd40155683ae19c65e1c03b4aa3499c5328201f1"
   }
  }
 },
 "nbformat": 4,
 "nbformat_minor": 2
}
