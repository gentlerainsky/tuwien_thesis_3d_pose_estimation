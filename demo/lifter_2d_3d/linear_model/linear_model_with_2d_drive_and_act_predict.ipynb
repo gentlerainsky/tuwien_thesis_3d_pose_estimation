{
    "cells": [
        {
            "cell_type": "code",
            "execution_count": 1,
            "metadata": {},
            "outputs": [],
            "source": [
                "%load_ext autoreload\n",
                "%autoreload 2"
            ]
        },
        {
            "cell_type": "code",
            "execution_count": 2,
            "metadata": {},
            "outputs": [],
            "source": [
                "# !rm -rf saved_lifter_2d_3d_model/synthetic_cabin_bw/A_Pillar_Codriver/prediction/linear_model/lightning_logs"
            ]
        },
        {
            "cell_type": "code",
            "execution_count": 3,
            "metadata": {},
            "outputs": [],
            "source": [
                "import pandas as pd\n",
                "import numpy as np\n",
                "import torch\n",
                "import lightning.pytorch as pl\n",
                "import matplotlib.pyplot as plt\n",
                "# import plotly\n",
                "import plotly.express as px"
            ]
        },
        {
            "cell_type": "code",
            "execution_count": 4,
            "metadata": {},
            "outputs": [
                {
                    "name": "stderr",
                    "output_type": "stream",
                    "text": [
                        "Global seed set to 1234\n"
                    ]
                },
                {
                    "name": "stdout",
                    "output_type": "stream",
                    "text": [
                        "skipping problematic image 4737\n",
                        "skipping problematic image 6381\n",
                        "skipping problematic image 6382\n",
                        "skipping problematic image 7184\n",
                        "skipping problematic image 7601\n",
                        "skipping problematic image 10062\n",
                        "skipping problematic image 10436\n"
                    ]
                },
                {
                    "name": "stderr",
                    "output_type": "stream",
                    "text": [
                        "GPU available: True (cuda), used: True\n",
                        "TPU available: False, using: 0 TPU cores\n",
                        "IPU available: False, using: 0 IPUs\n",
                        "HPU available: False, using: 0 HPUs\n"
                    ]
                },
                {
                    "name": "stdout",
                    "output_type": "stream",
                    "text": [
                        "train_dataset 7990 val_dataset 1528 test_dataset 2526\n"
                    ]
                },
                {
                    "name": "stderr",
                    "output_type": "stream",
                    "text": [
                        "LOCAL_RANK: 0 - CUDA_VISIBLE_DEVICES: [0]\n",
                        "\n",
                        "  | Name  | Type          | Params\n",
                        "----------------------------------------\n",
                        "0 | model | BaselineModel | 4.3 M \n",
                        "----------------------------------------\n",
                        "4.3 M     Trainable params\n",
                        "0         Non-trainable params\n",
                        "4.3 M     Total params\n",
                        "17.105    Total estimated model params size (MB)\n"
                    ]
                },
                {
                    "data": {
                        "application/vnd.jupyter.widget-view+json": {
                            "model_id": "1ceb458be98b44609e0280649ffe559a",
                            "version_major": 2,
                            "version_minor": 0
                        },
                        "text/plain": [
                            "Sanity Checking: 0it [00:00, ?it/s]"
                        ]
                    },
                    "metadata": {},
                    "output_type": "display_data"
                },
                {
                    "name": "stdout",
                    "output_type": "stream",
                    "text": [
                        "check #0\n",
                        "val loss from: 2 batches : 1761.4964842796326\n"
                    ]
                },
                {
                    "data": {
                        "application/vnd.jupyter.widget-view+json": {
                            "model_id": "cb4b0f92764242b6ae50c698a068a33b",
                            "version_major": 2,
                            "version_minor": 0
                        },
                        "text/plain": [
                            "Training: 0it [00:00, ?it/s]"
                        ]
                    },
                    "metadata": {},
                    "output_type": "display_data"
                },
                {
                    "data": {
                        "application/vnd.jupyter.widget-view+json": {
                            "model_id": "338fa6b8e4f54a1797ea5126e1c2271f",
                            "version_major": 2,
                            "version_minor": 0
                        },
                        "text/plain": [
                            "Validation: 0it [00:00, ?it/s]"
                        ]
                    },
                    "metadata": {},
                    "output_type": "display_data"
                },
                {
                    "name": "stdout",
                    "output_type": "stream",
                    "text": [
                        "check #1\n",
                        "training loss from 620 batches: 825.0657668036799\n",
                        "val loss from: 23 batches : 120.22162617548652\n"
                    ]
                },
                {
                    "data": {
                        "application/vnd.jupyter.widget-view+json": {
                            "model_id": "434dee2ed7874e5ab55eae379d0a6197",
                            "version_major": 2,
                            "version_minor": 0
                        },
                        "text/plain": [
                            "Validation: 0it [00:00, ?it/s]"
                        ]
                    },
                    "metadata": {},
                    "output_type": "display_data"
                },
                {
                    "name": "stdout",
                    "output_type": "stream",
                    "text": [
                        "check #2\n",
                        "training loss from 620 batches: 177.85182138604503\n",
                        "val loss from: 23 batches : 60.30851975083351\n"
                    ]
                },
                {
                    "data": {
                        "application/vnd.jupyter.widget-view+json": {
                            "model_id": "552893a245d74617adffc7798b24463d",
                            "version_major": 2,
                            "version_minor": 0
                        },
                        "text/plain": [
                            "Validation: 0it [00:00, ?it/s]"
                        ]
                    },
                    "metadata": {},
                    "output_type": "display_data"
                },
                {
                    "name": "stdout",
                    "output_type": "stream",
                    "text": [
                        "check #3\n",
                        "training loss from 620 batches: 86.94739696840125\n",
                        "val loss from: 23 batches : 50.11708807686101\n"
                    ]
                },
                {
                    "data": {
                        "application/vnd.jupyter.widget-view+json": {
                            "model_id": "d4fbaf06bf064accb8656d60338cd950",
                            "version_major": 2,
                            "version_minor": 0
                        },
                        "text/plain": [
                            "Validation: 0it [00:00, ?it/s]"
                        ]
                    },
                    "metadata": {},
                    "output_type": "display_data"
                },
                {
                    "name": "stdout",
                    "output_type": "stream",
                    "text": [
                        "check #4\n",
                        "training loss from 620 batches: 71.28213866944274\n",
                        "val loss from: 23 batches : 49.95576033125753\n"
                    ]
                },
                {
                    "data": {
                        "application/vnd.jupyter.widget-view+json": {
                            "model_id": "fa4851ac54f746d0a605ed8e18c8ea45",
                            "version_major": 2,
                            "version_minor": 0
                        },
                        "text/plain": [
                            "Validation: 0it [00:00, ?it/s]"
                        ]
                    },
                    "metadata": {},
                    "output_type": "display_data"
                },
                {
                    "name": "stdout",
                    "output_type": "stream",
                    "text": [
                        "check #5\n",
                        "training loss from 620 batches: 65.11813780713466\n",
                        "val loss from: 23 batches : 48.895067494848504\n"
                    ]
                },
                {
                    "data": {
                        "application/vnd.jupyter.widget-view+json": {
                            "model_id": "d0f7ed852477488b9f046a67b9446952",
                            "version_major": 2,
                            "version_minor": 0
                        },
                        "text/plain": [
                            "Validation: 0it [00:00, ?it/s]"
                        ]
                    },
                    "metadata": {},
                    "output_type": "display_data"
                },
                {
                    "name": "stdout",
                    "output_type": "stream",
                    "text": [
                        "check #6\n",
                        "training loss from 620 batches: 61.99683509166203\n",
                        "val loss from: 23 batches : 46.6567573502012\n"
                    ]
                },
                {
                    "data": {
                        "application/vnd.jupyter.widget-view+json": {
                            "model_id": "5bb4e42aec2e4956b07f42459e563109",
                            "version_major": 2,
                            "version_minor": 0
                        },
                        "text/plain": [
                            "Validation: 0it [00:00, ?it/s]"
                        ]
                    },
                    "metadata": {},
                    "output_type": "display_data"
                },
                {
                    "name": "stdout",
                    "output_type": "stream",
                    "text": [
                        "check #7\n",
                        "training loss from 620 batches: 60.171406127272114\n",
                        "val loss from: 23 batches : 49.96406335545623\n"
                    ]
                },
                {
                    "data": {
                        "application/vnd.jupyter.widget-view+json": {
                            "model_id": "681bcd5b362e414686b6f250eabc54f3",
                            "version_major": 2,
                            "version_minor": 0
                        },
                        "text/plain": [
                            "Validation: 0it [00:00, ?it/s]"
                        ]
                    },
                    "metadata": {},
                    "output_type": "display_data"
                },
                {
                    "name": "stdout",
                    "output_type": "stream",
                    "text": [
                        "check #8\n",
                        "training loss from 620 batches: 58.234118147482796\n",
                        "val loss from: 23 batches : 47.580659551465\n"
                    ]
                },
                {
                    "data": {
                        "application/vnd.jupyter.widget-view+json": {
                            "model_id": "3c1e214e579b4162b73f9160cd9a3c26",
                            "version_major": 2,
                            "version_minor": 0
                        },
                        "text/plain": [
                            "Validation: 0it [00:00, ?it/s]"
                        ]
                    },
                    "metadata": {},
                    "output_type": "display_data"
                },
                {
                    "name": "stdout",
                    "output_type": "stream",
                    "text": [
                        "check #9\n",
                        "training loss from 620 batches: 56.03358845917448\n",
                        "val loss from: 23 batches : 46.14275005524573\n"
                    ]
                },
                {
                    "data": {
                        "application/vnd.jupyter.widget-view+json": {
                            "model_id": "04e4df3c196e41ebb0ad43bed85dd892",
                            "version_major": 2,
                            "version_minor": 0
                        },
                        "text/plain": [
                            "Validation: 0it [00:00, ?it/s]"
                        ]
                    },
                    "metadata": {},
                    "output_type": "display_data"
                },
                {
                    "name": "stdout",
                    "output_type": "stream",
                    "text": [
                        "check #10\n",
                        "training loss from 620 batches: 54.798460715720736\n",
                        "val loss from: 23 batches : 46.124458798895716\n"
                    ]
                },
                {
                    "data": {
                        "application/vnd.jupyter.widget-view+json": {
                            "model_id": "4a57bca6499d4a32b0bcbfce8c23c436",
                            "version_major": 2,
                            "version_minor": 0
                        },
                        "text/plain": [
                            "Validation: 0it [00:00, ?it/s]"
                        ]
                    },
                    "metadata": {},
                    "output_type": "display_data"
                },
                {
                    "name": "stdout",
                    "output_type": "stream",
                    "text": [
                        "check #11\n",
                        "training loss from 620 batches: 53.53809428070822\n",
                        "val loss from: 23 batches : 45.989847296605944\n"
                    ]
                },
                {
                    "data": {
                        "application/vnd.jupyter.widget-view+json": {
                            "model_id": "f5692aa5d1114b638438a235f05c43df",
                            "version_major": 2,
                            "version_minor": 0
                        },
                        "text/plain": [
                            "Validation: 0it [00:00, ?it/s]"
                        ]
                    },
                    "metadata": {},
                    "output_type": "display_data"
                },
                {
                    "name": "stdout",
                    "output_type": "stream",
                    "text": [
                        "check #12\n",
                        "training loss from 620 batches: 52.41297012976101\n",
                        "val loss from: 23 batches : 44.87839770381865\n"
                    ]
                },
                {
                    "data": {
                        "application/vnd.jupyter.widget-view+json": {
                            "model_id": "78f26e89f372494c9f706d296ce01487",
                            "version_major": 2,
                            "version_minor": 0
                        },
                        "text/plain": [
                            "Validation: 0it [00:00, ?it/s]"
                        ]
                    },
                    "metadata": {},
                    "output_type": "display_data"
                },
                {
                    "name": "stdout",
                    "output_type": "stream",
                    "text": [
                        "check #13\n",
                        "training loss from 620 batches: 51.61187961817749\n",
                        "val loss from: 23 batches : 45.653453420685686\n"
                    ]
                },
                {
                    "data": {
                        "application/vnd.jupyter.widget-view+json": {
                            "model_id": "c572e237fbef449196b13774d09cddb8",
                            "version_major": 2,
                            "version_minor": 0
                        },
                        "text/plain": [
                            "Validation: 0it [00:00, ?it/s]"
                        ]
                    },
                    "metadata": {},
                    "output_type": "display_data"
                },
                {
                    "name": "stdout",
                    "output_type": "stream",
                    "text": [
                        "check #14\n",
                        "training loss from 620 batches: 50.905609359183615\n",
                        "val loss from: 23 batches : 44.32230839586776\n"
                    ]
                },
                {
                    "data": {
                        "application/vnd.jupyter.widget-view+json": {
                            "model_id": "e3ce846de40c47ca8ee77b4627b34ff9",
                            "version_major": 2,
                            "version_minor": 0
                        },
                        "text/plain": [
                            "Validation: 0it [00:00, ?it/s]"
                        ]
                    },
                    "metadata": {},
                    "output_type": "display_data"
                },
                {
                    "name": "stdout",
                    "output_type": "stream",
                    "text": [
                        "check #15\n",
                        "training loss from 620 batches: 50.385282260756334\n",
                        "val loss from: 23 batches : 44.28356772531634\n"
                    ]
                },
                {
                    "data": {
                        "application/vnd.jupyter.widget-view+json": {
                            "model_id": "b1f957b18af84fe081691baaada65c83",
                            "version_major": 2,
                            "version_minor": 0
                        },
                        "text/plain": [
                            "Validation: 0it [00:00, ?it/s]"
                        ]
                    },
                    "metadata": {},
                    "output_type": "display_data"
                },
                {
                    "name": "stdout",
                    "output_type": "stream",
                    "text": [
                        "check #16\n",
                        "training loss from 620 batches: 49.811871271700625\n",
                        "val loss from: 23 batches : 44.595148819296256\n"
                    ]
                },
                {
                    "data": {
                        "application/vnd.jupyter.widget-view+json": {
                            "model_id": "5653557252f2406c87b0cfcb06ee7abc",
                            "version_major": 2,
                            "version_minor": 0
                        },
                        "text/plain": [
                            "Validation: 0it [00:00, ?it/s]"
                        ]
                    },
                    "metadata": {},
                    "output_type": "display_data"
                },
                {
                    "name": "stdout",
                    "output_type": "stream",
                    "text": [
                        "check #17\n",
                        "training loss from 620 batches: 49.48459919542074\n",
                        "val loss from: 23 batches : 43.989695689600445\n"
                    ]
                },
                {
                    "data": {
                        "application/vnd.jupyter.widget-view+json": {
                            "model_id": "11cd8c311e954b47b13041bfddaaf159",
                            "version_major": 2,
                            "version_minor": 0
                        },
                        "text/plain": [
                            "Validation: 0it [00:00, ?it/s]"
                        ]
                    },
                    "metadata": {},
                    "output_type": "display_data"
                },
                {
                    "name": "stdout",
                    "output_type": "stream",
                    "text": [
                        "check #18\n",
                        "training loss from 620 batches: 49.00551074815374\n",
                        "val loss from: 23 batches : 44.19623291038949\n"
                    ]
                },
                {
                    "data": {
                        "application/vnd.jupyter.widget-view+json": {
                            "model_id": "4119634c295849afb371fa7ebb30f587",
                            "version_major": 2,
                            "version_minor": 0
                        },
                        "text/plain": [
                            "Validation: 0it [00:00, ?it/s]"
                        ]
                    },
                    "metadata": {},
                    "output_type": "display_data"
                },
                {
                    "name": "stdout",
                    "output_type": "stream",
                    "text": [
                        "check #19\n",
                        "training loss from 620 batches: 48.59195597349636\n",
                        "val loss from: 23 batches : 43.46443372576133\n"
                    ]
                },
                {
                    "data": {
                        "application/vnd.jupyter.widget-view+json": {
                            "model_id": "77915cb44fd544118aecd5e09ce2dc2c",
                            "version_major": 2,
                            "version_minor": 0
                        },
                        "text/plain": [
                            "Validation: 0it [00:00, ?it/s]"
                        ]
                    },
                    "metadata": {},
                    "output_type": "display_data"
                },
                {
                    "name": "stdout",
                    "output_type": "stream",
                    "text": [
                        "check #20\n",
                        "training loss from 620 batches: 48.515426812152704\n",
                        "val loss from: 23 batches : 43.55937363984793\n"
                    ]
                },
                {
                    "data": {
                        "application/vnd.jupyter.widget-view+json": {
                            "model_id": "027f62efa3994d24b367b1d84c57d1cc",
                            "version_major": 2,
                            "version_minor": 0
                        },
                        "text/plain": [
                            "Validation: 0it [00:00, ?it/s]"
                        ]
                    },
                    "metadata": {},
                    "output_type": "display_data"
                },
                {
                    "name": "stdout",
                    "output_type": "stream",
                    "text": [
                        "check #21\n",
                        "training loss from 620 batches: 48.26949831218489\n",
                        "val loss from: 23 batches : 43.77921533001506\n"
                    ]
                },
                {
                    "data": {
                        "application/vnd.jupyter.widget-view+json": {
                            "model_id": "f2aa2bbab87f4e62ac394eb5c7cf57f8",
                            "version_major": 2,
                            "version_minor": 0
                        },
                        "text/plain": [
                            "Validation: 0it [00:00, ?it/s]"
                        ]
                    },
                    "metadata": {},
                    "output_type": "display_data"
                },
                {
                    "name": "stdout",
                    "output_type": "stream",
                    "text": [
                        "check #22\n",
                        "training loss from 620 batches: 48.179549844034256\n",
                        "val loss from: 23 batches : 43.852752722475834\n"
                    ]
                },
                {
                    "data": {
                        "application/vnd.jupyter.widget-view+json": {
                            "model_id": "68709916736f4d62a80b77bfe402cd91",
                            "version_major": 2,
                            "version_minor": 0
                        },
                        "text/plain": [
                            "Validation: 0it [00:00, ?it/s]"
                        ]
                    },
                    "metadata": {},
                    "output_type": "display_data"
                },
                {
                    "name": "stdout",
                    "output_type": "stream",
                    "text": [
                        "check #23\n",
                        "training loss from 620 batches: 47.88530128256929\n",
                        "val loss from: 23 batches : 43.820062328291975\n"
                    ]
                },
                {
                    "data": {
                        "application/vnd.jupyter.widget-view+json": {
                            "model_id": "49f0dafae6224b3995682c7a6529165c",
                            "version_major": 2,
                            "version_minor": 0
                        },
                        "text/plain": [
                            "Validation: 0it [00:00, ?it/s]"
                        ]
                    },
                    "metadata": {},
                    "output_type": "display_data"
                },
                {
                    "name": "stdout",
                    "output_type": "stream",
                    "text": [
                        "check #24\n",
                        "training loss from 620 batches: 47.92658982858543\n",
                        "val loss from: 23 batches : 43.546184087577075\n"
                    ]
                }
            ],
            "source": [
                "import os\n",
                "import torch\n",
                "import pandas as pd\n",
                "import numpy as np\n",
                "import pytorch_lightning as pl\n",
                "from pytorch_lightning.callbacks import ModelCheckpoint\n",
                "from pytorch_lightning.callbacks.early_stopping import EarlyStopping\n",
                "from torch.nn import functional as F\n",
                "from torch.utils.data import DataLoader, random_split\n",
                "from modules.lifter_2d_3d.model.linear_model.linear_model import BaselineModel\n",
                "from modules.lifter_2d_3d.dataset.simple_keypoint_dataset import SimpleKeypointDataset\n",
                "from modules.lifter_2d_3d.model.linear_model.lit_linear_model import LitSimpleBaselineLinear\n",
                "from modules.utils.visualization import generate_connection_line, get_sample_from_loader, visualize_pose\n",
                "from IPython.display import display\n",
                "\n",
                "pl.seed_everything(1234)\n",
                "\n",
                "train_dataset = SimpleKeypointDataset(\n",
                "    # prediction_file=\"/root/data/processed/synthetic_cabin_bw/A_Pillar_Codriver/keypoint_detection_results/keypoint_detection_train.json\",\n",
                "    # annotation_file=\"/root/data/processed/synthetic_cabin_bw/A_Pillar_Codriver/annotations/person_keypoints_train.json\",\n",
                "    prediction_file=\"/root/data/processed/drive_and_act/keypoint_detection_results/keypoint_detection_train.json\",\n",
                "    annotation_file=\"/root/data/processed/drive_and_act/annotations/person_keypoints_train.json\",\n",
                "    image_width=1280,\n",
                "    image_height=1024,\n",
                "    exclude_ankle=True,\n",
                "    exclude_knee=True\n",
                ")\n",
                "val_dataset = SimpleKeypointDataset(\n",
                "    # prediction_file=\"/root/data/processed/synthetic_cabin_bw/A_Pillar_Codriver/keypoint_detection_results/keypoint_detection_val.json\",\n",
                "    # annotation_file=\"/root/data/processed/synthetic_cabin_bw/A_Pillar_Codriver/annotations/person_keypoints_val.json\",\n",
                "    prediction_file=\"/root/data/processed/drive_and_act/keypoint_detection_results/keypoint_detection_val.json\",\n",
                "    annotation_file=\"//root/data/processed/drive_and_act/annotations/person_keypoints_val.json\",\n",
                "    image_width=1280,\n",
                "    image_height=1024,\n",
                "    exclude_ankle=True,\n",
                "    exclude_knee=True\n",
                ")\n",
                "test_dataset = SimpleKeypointDataset(\n",
                "    # prediction_file=\"/root/data/processed/synthetic_cabin_bw/A_Pillar_Codriver/keypoint_detection_results/keypoint_detection_test.json\",\n",
                "    # annotation_file=\"/root/data/processed/synthetic_cabin_bw/A_Pillar_Codriver/annotations/person_keypoints_test.json\",\n",
                "    prediction_file=\"/root/data/processed/drive_and_act/keypoint_detection_results/keypoint_detection_test.json\",\n",
                "    annotation_file=\"/root/data/processed/drive_and_act/annotations/person_keypoints_test.json\",\n",
                "    image_width=1280,\n",
                "    image_height=1024,\n",
                "    exclude_ankle=True,\n",
                "    exclude_knee=True\n",
                ")\n",
                "\n",
                "print(\n",
                "    'train_dataset', len(train_dataset),\n",
                "    'val_dataset', len(val_dataset),\n",
                "    'test_dataset', len(test_dataset)\n",
                ")\n",
                "train_loader = DataLoader(train_dataset, batch_size=64, drop_last=True, shuffle=True, num_workers=24)\n",
                "val_loader = DataLoader(val_dataset, batch_size=64, drop_last=True, num_workers=24)\n",
                "test_loader = DataLoader(test_dataset, batch_size=64, num_workers=24)\n",
                "\n",
                "model_checkpoint = ModelCheckpoint(monitor='val_loss',mode='min', save_top_k=1)\n",
                "early_stopping = EarlyStopping(monitor=\"val_loss\", mode=\"min\", patience=5)\n",
                "\n",
                "# ------------\n",
                "# model\n",
                "# ------------\n",
                "lit_model = LitSimpleBaselineLinear(exclude_ankle=True, exclude_knee=True)\n",
                "# ------------\n",
                "# training\n",
                "# ------------\n",
                "# saved_model_path = './saved_lifter_2d_3d_model/synthetic_cabin_bw/A_Pillar_Codriver/prediction/linear_model/'\n",
                "saved_model_path = './saved_lifter_2d_3d_model/drive_and_act/prediction/linear_model'\n",
                "if not os.path.exists(saved_model_path):\n",
                "    os.makedirs(saved_model_path)\n",
                "\n",
                "device = 'cuda' if torch.cuda.is_available() else 'cpu'\n",
                "trainer = pl.Trainer(\n",
                "    # max_steps=10,\n",
                "    max_epochs=200,\n",
                "    callbacks=[model_checkpoint, early_stopping],\n",
                "    accelerator=device,\n",
                "    check_val_every_n_epoch=5,\n",
                "    default_root_dir=saved_model_path,\n",
                "    gradient_clip_val=1.0\n",
                ")\n",
                "trainer.fit(lit_model, train_loader, val_loader)"
            ]
        },
        {
            "cell_type": "code",
            "execution_count": 5,
            "metadata": {},
            "outputs": [],
            "source": [
                "import json\n",
                "predictions = {}\n",
                "with open(\"/root/data/processed/drive_and_act/keypoint_detection_results/keypoint_detection_train.json\") as f:\n",
                "    data = json.loads(f.read())\n",
                "    for item in data:\n",
                "        predictions[item['image_id']] = item"
            ]
        },
        {
            "cell_type": "code",
            "execution_count": 6,
            "metadata": {},
            "outputs": [],
            "source": [
                "# best_checkpoint_path = model_checkpoint.best_model_path\n",
                "# trainer.test(ckpt_path=best_checkpoint_path, dataloaders=test_loader)"
            ]
        },
        {
            "cell_type": "code",
            "execution_count": 7,
            "metadata": {},
            "outputs": [
                {
                    "name": "stdout",
                    "output_type": "stream",
                    "text": [
                        "Sample index = 902 is used.\n"
                    ]
                }
            ],
            "source": [
                "sample = get_sample_from_loader(val_loader)"
            ]
        },
        {
            "cell_type": "code",
            "execution_count": 8,
            "metadata": {},
            "outputs": [],
            "source": [
                "valid_keypoints = (sample[1].sum(axis=1) != 0)"
            ]
        },
        {
            "cell_type": "code",
            "execution_count": 33,
            "metadata": {},
            "outputs": [
                {
                    "name": "stdout",
                    "output_type": "stream",
                    "text": [
                        "True\n",
                        "True\n",
                        "True\n",
                        "True\n",
                        "True\n",
                        "True\n",
                        "True\n",
                        "True\n",
                        "True\n",
                        "True\n",
                        "True\n",
                        "True\n",
                        "True\n"
                    ]
                },
                {
                    "data": {
                        "application/vnd.plotly.v1+json": {
                            "config": {
                                "plotlyServerURL": "https://plot.ly"
                            },
                            "data": [
                                {
                                    "hovertemplate": "line=nose_left_eye<br>z=%{x}<br>x=%{y}<br>y=%{z}<extra></extra>",
                                    "legendgroup": "nose_left_eye",
                                    "line": {
                                        "color": "#636efa",
                                        "dash": "solid"
                                    },
                                    "marker": {
                                        "symbol": "circle"
                                    },
                                    "mode": "lines",
                                    "name": "nose_left_eye",
                                    "scene": "scene",
                                    "showlegend": true,
                                    "type": "scatter3d",
                                    "x": [
                                        0.4626878499984741,
                                        0.4657599329948425
                                    ],
                                    "y": [
                                        0.2145965695381164,
                                        0.2452171593904495
                                    ],
                                    "z": [
                                        -0.2199207246303558,
                                        -0.2497367113828659
                                    ]
                                },
                                {
                                    "hovertemplate": "line=nose_right_eye<br>z=%{x}<br>x=%{y}<br>y=%{z}<extra></extra>",
                                    "legendgroup": "nose_right_eye",
                                    "line": {
                                        "color": "#EF553B",
                                        "dash": "solid"
                                    },
                                    "marker": {
                                        "symbol": "circle"
                                    },
                                    "mode": "lines",
                                    "name": "nose_right_eye",
                                    "scene": "scene",
                                    "showlegend": true,
                                    "type": "scatter3d",
                                    "x": [
                                        0.4626878499984741,
                                        0.4636306464672088
                                    ],
                                    "y": [
                                        0.2145965695381164,
                                        0.1768677681684494
                                    ],
                                    "z": [
                                        -0.2199207246303558,
                                        -0.2565921247005462
                                    ]
                                },
                                {
                                    "hovertemplate": "line=left_right_eye<br>z=%{x}<br>x=%{y}<br>y=%{z}<extra></extra>",
                                    "legendgroup": "left_right_eye",
                                    "line": {
                                        "color": "#00cc96",
                                        "dash": "solid"
                                    },
                                    "marker": {
                                        "symbol": "circle"
                                    },
                                    "mode": "lines",
                                    "name": "left_right_eye",
                                    "scene": "scene",
                                    "showlegend": true,
                                    "type": "scatter3d",
                                    "x": [
                                        0.4657599329948425,
                                        0.4636306464672088
                                    ],
                                    "y": [
                                        0.2452171593904495,
                                        0.1768677681684494
                                    ],
                                    "z": [
                                        -0.2497367113828659,
                                        -0.2565921247005462
                                    ]
                                },
                                {
                                    "hovertemplate": "line=right_ear_right_eye<br>z=%{x}<br>x=%{y}<br>y=%{z}<extra></extra>",
                                    "legendgroup": "right_ear_right_eye",
                                    "line": {
                                        "color": "#ab63fa",
                                        "dash": "solid"
                                    },
                                    "marker": {
                                        "symbol": "circle"
                                    },
                                    "mode": "lines",
                                    "name": "right_ear_right_eye",
                                    "scene": "scene",
                                    "showlegend": true,
                                    "type": "scatter3d",
                                    "x": [
                                        0.4636306464672088,
                                        0.5303537249565125
                                    ],
                                    "y": [
                                        0.1768677681684494,
                                        0.1285757273435592
                                    ],
                                    "z": [
                                        -0.2565921247005462,
                                        -0.2941042184829712
                                    ]
                                },
                                {
                                    "hovertemplate": "line=left_shoulder_right_sholder<br>z=%{x}<br>x=%{y}<br>y=%{z}<extra></extra>",
                                    "legendgroup": "left_shoulder_right_sholder",
                                    "line": {
                                        "color": "#FFA15A",
                                        "dash": "solid"
                                    },
                                    "marker": {
                                        "symbol": "circle"
                                    },
                                    "mode": "lines",
                                    "name": "left_shoulder_right_sholder",
                                    "scene": "scene",
                                    "showlegend": true,
                                    "type": "scatter3d",
                                    "x": [
                                        0.6775313019752502,
                                        0.6382013559341431
                                    ],
                                    "y": [
                                        0.3564397096633911,
                                        0.0511232167482376
                                    ],
                                    "z": [
                                        -0.1793149411678314,
                                        -0.1634252816438675
                                    ]
                                },
                                {
                                    "hovertemplate": "line=left_sholder_left_elbow<br>z=%{x}<br>x=%{y}<br>y=%{z}<extra></extra>",
                                    "legendgroup": "left_sholder_left_elbow",
                                    "line": {
                                        "color": "#19d3f3",
                                        "dash": "solid"
                                    },
                                    "marker": {
                                        "symbol": "circle"
                                    },
                                    "mode": "lines",
                                    "name": "left_sholder_left_elbow",
                                    "scene": "scene",
                                    "showlegend": true,
                                    "type": "scatter3d",
                                    "x": [
                                        0.6775313019752502,
                                        0.6985331177711487
                                    ],
                                    "y": [
                                        0.3564397096633911,
                                        0.3822434544563293
                                    ],
                                    "z": [
                                        -0.1793149411678314,
                                        0.0791030004620552
                                    ]
                                },
                                {
                                    "hovertemplate": "line=left_shoulder_left_hip<br>z=%{x}<br>x=%{y}<br>y=%{z}<extra></extra>",
                                    "legendgroup": "left_shoulder_left_hip",
                                    "line": {
                                        "color": "#FF6692",
                                        "dash": "solid"
                                    },
                                    "marker": {
                                        "symbol": "circle"
                                    },
                                    "mode": "lines",
                                    "name": "left_shoulder_left_hip",
                                    "scene": "scene",
                                    "showlegend": true,
                                    "type": "scatter3d",
                                    "x": [
                                        0.6775313019752502,
                                        0.7498189210891724
                                    ],
                                    "y": [
                                        0.3564397096633911,
                                        0.3006238341331482
                                    ],
                                    "z": [
                                        -0.1793149411678314,
                                        0.214806243777275
                                    ]
                                },
                                {
                                    "hovertemplate": "line=right_shoulder_right_elbow<br>z=%{x}<br>x=%{y}<br>y=%{z}<extra></extra>",
                                    "legendgroup": "right_shoulder_right_elbow",
                                    "line": {
                                        "color": "#B6E880",
                                        "dash": "solid"
                                    },
                                    "marker": {
                                        "symbol": "circle"
                                    },
                                    "mode": "lines",
                                    "name": "right_shoulder_right_elbow",
                                    "scene": "scene",
                                    "showlegend": true,
                                    "type": "scatter3d",
                                    "x": [
                                        0.6382013559341431,
                                        0.5344824194908142
                                    ],
                                    "y": [
                                        0.0511232167482376,
                                        0.0399646461009979
                                    ],
                                    "z": [
                                        -0.1634252816438675,
                                        0.0869478806853294
                                    ]
                                },
                                {
                                    "hovertemplate": "line=right_shoulder_right_hip<br>z=%{x}<br>x=%{y}<br>y=%{z}<extra></extra>",
                                    "legendgroup": "right_shoulder_right_hip",
                                    "line": {
                                        "color": "#FF97FF",
                                        "dash": "solid"
                                    },
                                    "marker": {
                                        "symbol": "circle"
                                    },
                                    "mode": "lines",
                                    "name": "right_shoulder_right_hip",
                                    "scene": "scene",
                                    "showlegend": true,
                                    "type": "scatter3d",
                                    "x": [
                                        0.6382013559341431,
                                        0.7499090433120728
                                    ],
                                    "y": [
                                        0.0511232167482376,
                                        0.0909340009093284
                                    ],
                                    "z": [
                                        -0.1634252816438675,
                                        0.2345350980758667
                                    ]
                                },
                                {
                                    "hovertemplate": "line=left_elbow_left_wrist<br>z=%{x}<br>x=%{y}<br>y=%{z}<extra></extra>",
                                    "legendgroup": "left_elbow_left_wrist",
                                    "line": {
                                        "color": "#FECB52",
                                        "dash": "solid"
                                    },
                                    "marker": {
                                        "symbol": "circle"
                                    },
                                    "mode": "lines",
                                    "name": "left_elbow_left_wrist",
                                    "scene": "scene",
                                    "showlegend": true,
                                    "type": "scatter3d",
                                    "x": [
                                        0.6985331177711487,
                                        0.4854266709212142
                                    ],
                                    "y": [
                                        0.3822434544563293,
                                        0.3292273760952392
                                    ],
                                    "z": [
                                        0.0791030004620552,
                                        0.2373483229466444
                                    ]
                                },
                                {
                                    "hovertemplate": "line=right_elbow_right_wrist<br>z=%{x}<br>x=%{y}<br>y=%{z}<extra></extra>",
                                    "legendgroup": "right_elbow_right_wrist",
                                    "line": {
                                        "color": "#636efa",
                                        "dash": "solid"
                                    },
                                    "marker": {
                                        "symbol": "circle"
                                    },
                                    "mode": "lines",
                                    "name": "right_elbow_right_wrist",
                                    "scene": "scene",
                                    "showlegend": true,
                                    "type": "scatter3d",
                                    "x": [
                                        0.5344824194908142,
                                        0.3463585078716278
                                    ],
                                    "y": [
                                        0.0399646461009979,
                                        0.0960054472088813
                                    ],
                                    "z": [
                                        0.0869478806853294,
                                        0.2067932337522506
                                    ]
                                },
                                {
                                    "hovertemplate": "line=left_hip_right_hip<br>z=%{x}<br>x=%{y}<br>y=%{z}<extra></extra>",
                                    "legendgroup": "left_hip_right_hip",
                                    "line": {
                                        "color": "#EF553B",
                                        "dash": "solid"
                                    },
                                    "marker": {
                                        "symbol": "circle"
                                    },
                                    "mode": "lines",
                                    "name": "left_hip_right_hip",
                                    "scene": "scene",
                                    "showlegend": true,
                                    "type": "scatter3d",
                                    "x": [
                                        0.7498189210891724,
                                        0.7499090433120728
                                    ],
                                    "y": [
                                        0.3006238341331482,
                                        0.0909340009093284
                                    ],
                                    "z": [
                                        0.214806243777275,
                                        0.2345350980758667
                                    ]
                                }
                            ],
                            "layout": {
                                "legend": {
                                    "title": {
                                        "text": "line"
                                    },
                                    "tracegroupgap": 0
                                },
                                "margin": {
                                    "t": 60
                                },
                                "scene": {
                                    "domain": {
                                        "x": [
                                            0,
                                            1
                                        ],
                                        "y": [
                                            0,
                                            1
                                        ]
                                    },
                                    "xaxis": {
                                        "autorange": "reversed",
                                        "title": {
                                            "text": "z"
                                        }
                                    },
                                    "yaxis": {
                                        "title": {
                                            "text": "x"
                                        }
                                    },
                                    "zaxis": {
                                        "autorange": "reversed",
                                        "title": {
                                            "text": "y"
                                        }
                                    }
                                },
                                "template": {
                                    "data": {
                                        "bar": [
                                            {
                                                "error_x": {
                                                    "color": "#2a3f5f"
                                                },
                                                "error_y": {
                                                    "color": "#2a3f5f"
                                                },
                                                "marker": {
                                                    "line": {
                                                        "color": "#E5ECF6",
                                                        "width": 0.5
                                                    },
                                                    "pattern": {
                                                        "fillmode": "overlay",
                                                        "size": 10,
                                                        "solidity": 0.2
                                                    }
                                                },
                                                "type": "bar"
                                            }
                                        ],
                                        "barpolar": [
                                            {
                                                "marker": {
                                                    "line": {
                                                        "color": "#E5ECF6",
                                                        "width": 0.5
                                                    },
                                                    "pattern": {
                                                        "fillmode": "overlay",
                                                        "size": 10,
                                                        "solidity": 0.2
                                                    }
                                                },
                                                "type": "barpolar"
                                            }
                                        ],
                                        "carpet": [
                                            {
                                                "aaxis": {
                                                    "endlinecolor": "#2a3f5f",
                                                    "gridcolor": "white",
                                                    "linecolor": "white",
                                                    "minorgridcolor": "white",
                                                    "startlinecolor": "#2a3f5f"
                                                },
                                                "baxis": {
                                                    "endlinecolor": "#2a3f5f",
                                                    "gridcolor": "white",
                                                    "linecolor": "white",
                                                    "minorgridcolor": "white",
                                                    "startlinecolor": "#2a3f5f"
                                                },
                                                "type": "carpet"
                                            }
                                        ],
                                        "choropleth": [
                                            {
                                                "colorbar": {
                                                    "outlinewidth": 0,
                                                    "ticks": ""
                                                },
                                                "type": "choropleth"
                                            }
                                        ],
                                        "contour": [
                                            {
                                                "colorbar": {
                                                    "outlinewidth": 0,
                                                    "ticks": ""
                                                },
                                                "colorscale": [
                                                    [
                                                        0,
                                                        "#0d0887"
                                                    ],
                                                    [
                                                        0.1111111111111111,
                                                        "#46039f"
                                                    ],
                                                    [
                                                        0.2222222222222222,
                                                        "#7201a8"
                                                    ],
                                                    [
                                                        0.3333333333333333,
                                                        "#9c179e"
                                                    ],
                                                    [
                                                        0.4444444444444444,
                                                        "#bd3786"
                                                    ],
                                                    [
                                                        0.5555555555555556,
                                                        "#d8576b"
                                                    ],
                                                    [
                                                        0.6666666666666666,
                                                        "#ed7953"
                                                    ],
                                                    [
                                                        0.7777777777777778,
                                                        "#fb9f3a"
                                                    ],
                                                    [
                                                        0.8888888888888888,
                                                        "#fdca26"
                                                    ],
                                                    [
                                                        1,
                                                        "#f0f921"
                                                    ]
                                                ],
                                                "type": "contour"
                                            }
                                        ],
                                        "contourcarpet": [
                                            {
                                                "colorbar": {
                                                    "outlinewidth": 0,
                                                    "ticks": ""
                                                },
                                                "type": "contourcarpet"
                                            }
                                        ],
                                        "heatmap": [
                                            {
                                                "colorbar": {
                                                    "outlinewidth": 0,
                                                    "ticks": ""
                                                },
                                                "colorscale": [
                                                    [
                                                        0,
                                                        "#0d0887"
                                                    ],
                                                    [
                                                        0.1111111111111111,
                                                        "#46039f"
                                                    ],
                                                    [
                                                        0.2222222222222222,
                                                        "#7201a8"
                                                    ],
                                                    [
                                                        0.3333333333333333,
                                                        "#9c179e"
                                                    ],
                                                    [
                                                        0.4444444444444444,
                                                        "#bd3786"
                                                    ],
                                                    [
                                                        0.5555555555555556,
                                                        "#d8576b"
                                                    ],
                                                    [
                                                        0.6666666666666666,
                                                        "#ed7953"
                                                    ],
                                                    [
                                                        0.7777777777777778,
                                                        "#fb9f3a"
                                                    ],
                                                    [
                                                        0.8888888888888888,
                                                        "#fdca26"
                                                    ],
                                                    [
                                                        1,
                                                        "#f0f921"
                                                    ]
                                                ],
                                                "type": "heatmap"
                                            }
                                        ],
                                        "heatmapgl": [
                                            {
                                                "colorbar": {
                                                    "outlinewidth": 0,
                                                    "ticks": ""
                                                },
                                                "colorscale": [
                                                    [
                                                        0,
                                                        "#0d0887"
                                                    ],
                                                    [
                                                        0.1111111111111111,
                                                        "#46039f"
                                                    ],
                                                    [
                                                        0.2222222222222222,
                                                        "#7201a8"
                                                    ],
                                                    [
                                                        0.3333333333333333,
                                                        "#9c179e"
                                                    ],
                                                    [
                                                        0.4444444444444444,
                                                        "#bd3786"
                                                    ],
                                                    [
                                                        0.5555555555555556,
                                                        "#d8576b"
                                                    ],
                                                    [
                                                        0.6666666666666666,
                                                        "#ed7953"
                                                    ],
                                                    [
                                                        0.7777777777777778,
                                                        "#fb9f3a"
                                                    ],
                                                    [
                                                        0.8888888888888888,
                                                        "#fdca26"
                                                    ],
                                                    [
                                                        1,
                                                        "#f0f921"
                                                    ]
                                                ],
                                                "type": "heatmapgl"
                                            }
                                        ],
                                        "histogram": [
                                            {
                                                "marker": {
                                                    "pattern": {
                                                        "fillmode": "overlay",
                                                        "size": 10,
                                                        "solidity": 0.2
                                                    }
                                                },
                                                "type": "histogram"
                                            }
                                        ],
                                        "histogram2d": [
                                            {
                                                "colorbar": {
                                                    "outlinewidth": 0,
                                                    "ticks": ""
                                                },
                                                "colorscale": [
                                                    [
                                                        0,
                                                        "#0d0887"
                                                    ],
                                                    [
                                                        0.1111111111111111,
                                                        "#46039f"
                                                    ],
                                                    [
                                                        0.2222222222222222,
                                                        "#7201a8"
                                                    ],
                                                    [
                                                        0.3333333333333333,
                                                        "#9c179e"
                                                    ],
                                                    [
                                                        0.4444444444444444,
                                                        "#bd3786"
                                                    ],
                                                    [
                                                        0.5555555555555556,
                                                        "#d8576b"
                                                    ],
                                                    [
                                                        0.6666666666666666,
                                                        "#ed7953"
                                                    ],
                                                    [
                                                        0.7777777777777778,
                                                        "#fb9f3a"
                                                    ],
                                                    [
                                                        0.8888888888888888,
                                                        "#fdca26"
                                                    ],
                                                    [
                                                        1,
                                                        "#f0f921"
                                                    ]
                                                ],
                                                "type": "histogram2d"
                                            }
                                        ],
                                        "histogram2dcontour": [
                                            {
                                                "colorbar": {
                                                    "outlinewidth": 0,
                                                    "ticks": ""
                                                },
                                                "colorscale": [
                                                    [
                                                        0,
                                                        "#0d0887"
                                                    ],
                                                    [
                                                        0.1111111111111111,
                                                        "#46039f"
                                                    ],
                                                    [
                                                        0.2222222222222222,
                                                        "#7201a8"
                                                    ],
                                                    [
                                                        0.3333333333333333,
                                                        "#9c179e"
                                                    ],
                                                    [
                                                        0.4444444444444444,
                                                        "#bd3786"
                                                    ],
                                                    [
                                                        0.5555555555555556,
                                                        "#d8576b"
                                                    ],
                                                    [
                                                        0.6666666666666666,
                                                        "#ed7953"
                                                    ],
                                                    [
                                                        0.7777777777777778,
                                                        "#fb9f3a"
                                                    ],
                                                    [
                                                        0.8888888888888888,
                                                        "#fdca26"
                                                    ],
                                                    [
                                                        1,
                                                        "#f0f921"
                                                    ]
                                                ],
                                                "type": "histogram2dcontour"
                                            }
                                        ],
                                        "mesh3d": [
                                            {
                                                "colorbar": {
                                                    "outlinewidth": 0,
                                                    "ticks": ""
                                                },
                                                "type": "mesh3d"
                                            }
                                        ],
                                        "parcoords": [
                                            {
                                                "line": {
                                                    "colorbar": {
                                                        "outlinewidth": 0,
                                                        "ticks": ""
                                                    }
                                                },
                                                "type": "parcoords"
                                            }
                                        ],
                                        "pie": [
                                            {
                                                "automargin": true,
                                                "type": "pie"
                                            }
                                        ],
                                        "scatter": [
                                            {
                                                "fillpattern": {
                                                    "fillmode": "overlay",
                                                    "size": 10,
                                                    "solidity": 0.2
                                                },
                                                "type": "scatter"
                                            }
                                        ],
                                        "scatter3d": [
                                            {
                                                "line": {
                                                    "colorbar": {
                                                        "outlinewidth": 0,
                                                        "ticks": ""
                                                    }
                                                },
                                                "marker": {
                                                    "colorbar": {
                                                        "outlinewidth": 0,
                                                        "ticks": ""
                                                    }
                                                },
                                                "type": "scatter3d"
                                            }
                                        ],
                                        "scattercarpet": [
                                            {
                                                "marker": {
                                                    "colorbar": {
                                                        "outlinewidth": 0,
                                                        "ticks": ""
                                                    }
                                                },
                                                "type": "scattercarpet"
                                            }
                                        ],
                                        "scattergeo": [
                                            {
                                                "marker": {
                                                    "colorbar": {
                                                        "outlinewidth": 0,
                                                        "ticks": ""
                                                    }
                                                },
                                                "type": "scattergeo"
                                            }
                                        ],
                                        "scattergl": [
                                            {
                                                "marker": {
                                                    "colorbar": {
                                                        "outlinewidth": 0,
                                                        "ticks": ""
                                                    }
                                                },
                                                "type": "scattergl"
                                            }
                                        ],
                                        "scattermapbox": [
                                            {
                                                "marker": {
                                                    "colorbar": {
                                                        "outlinewidth": 0,
                                                        "ticks": ""
                                                    }
                                                },
                                                "type": "scattermapbox"
                                            }
                                        ],
                                        "scatterpolar": [
                                            {
                                                "marker": {
                                                    "colorbar": {
                                                        "outlinewidth": 0,
                                                        "ticks": ""
                                                    }
                                                },
                                                "type": "scatterpolar"
                                            }
                                        ],
                                        "scatterpolargl": [
                                            {
                                                "marker": {
                                                    "colorbar": {
                                                        "outlinewidth": 0,
                                                        "ticks": ""
                                                    }
                                                },
                                                "type": "scatterpolargl"
                                            }
                                        ],
                                        "scatterternary": [
                                            {
                                                "marker": {
                                                    "colorbar": {
                                                        "outlinewidth": 0,
                                                        "ticks": ""
                                                    }
                                                },
                                                "type": "scatterternary"
                                            }
                                        ],
                                        "surface": [
                                            {
                                                "colorbar": {
                                                    "outlinewidth": 0,
                                                    "ticks": ""
                                                },
                                                "colorscale": [
                                                    [
                                                        0,
                                                        "#0d0887"
                                                    ],
                                                    [
                                                        0.1111111111111111,
                                                        "#46039f"
                                                    ],
                                                    [
                                                        0.2222222222222222,
                                                        "#7201a8"
                                                    ],
                                                    [
                                                        0.3333333333333333,
                                                        "#9c179e"
                                                    ],
                                                    [
                                                        0.4444444444444444,
                                                        "#bd3786"
                                                    ],
                                                    [
                                                        0.5555555555555556,
                                                        "#d8576b"
                                                    ],
                                                    [
                                                        0.6666666666666666,
                                                        "#ed7953"
                                                    ],
                                                    [
                                                        0.7777777777777778,
                                                        "#fb9f3a"
                                                    ],
                                                    [
                                                        0.8888888888888888,
                                                        "#fdca26"
                                                    ],
                                                    [
                                                        1,
                                                        "#f0f921"
                                                    ]
                                                ],
                                                "type": "surface"
                                            }
                                        ],
                                        "table": [
                                            {
                                                "cells": {
                                                    "fill": {
                                                        "color": "#EBF0F8"
                                                    },
                                                    "line": {
                                                        "color": "white"
                                                    }
                                                },
                                                "header": {
                                                    "fill": {
                                                        "color": "#C8D4E3"
                                                    },
                                                    "line": {
                                                        "color": "white"
                                                    }
                                                },
                                                "type": "table"
                                            }
                                        ]
                                    },
                                    "layout": {
                                        "annotationdefaults": {
                                            "arrowcolor": "#2a3f5f",
                                            "arrowhead": 0,
                                            "arrowwidth": 1
                                        },
                                        "autotypenumbers": "strict",
                                        "coloraxis": {
                                            "colorbar": {
                                                "outlinewidth": 0,
                                                "ticks": ""
                                            }
                                        },
                                        "colorscale": {
                                            "diverging": [
                                                [
                                                    0,
                                                    "#8e0152"
                                                ],
                                                [
                                                    0.1,
                                                    "#c51b7d"
                                                ],
                                                [
                                                    0.2,
                                                    "#de77ae"
                                                ],
                                                [
                                                    0.3,
                                                    "#f1b6da"
                                                ],
                                                [
                                                    0.4,
                                                    "#fde0ef"
                                                ],
                                                [
                                                    0.5,
                                                    "#f7f7f7"
                                                ],
                                                [
                                                    0.6,
                                                    "#e6f5d0"
                                                ],
                                                [
                                                    0.7,
                                                    "#b8e186"
                                                ],
                                                [
                                                    0.8,
                                                    "#7fbc41"
                                                ],
                                                [
                                                    0.9,
                                                    "#4d9221"
                                                ],
                                                [
                                                    1,
                                                    "#276419"
                                                ]
                                            ],
                                            "sequential": [
                                                [
                                                    0,
                                                    "#0d0887"
                                                ],
                                                [
                                                    0.1111111111111111,
                                                    "#46039f"
                                                ],
                                                [
                                                    0.2222222222222222,
                                                    "#7201a8"
                                                ],
                                                [
                                                    0.3333333333333333,
                                                    "#9c179e"
                                                ],
                                                [
                                                    0.4444444444444444,
                                                    "#bd3786"
                                                ],
                                                [
                                                    0.5555555555555556,
                                                    "#d8576b"
                                                ],
                                                [
                                                    0.6666666666666666,
                                                    "#ed7953"
                                                ],
                                                [
                                                    0.7777777777777778,
                                                    "#fb9f3a"
                                                ],
                                                [
                                                    0.8888888888888888,
                                                    "#fdca26"
                                                ],
                                                [
                                                    1,
                                                    "#f0f921"
                                                ]
                                            ],
                                            "sequentialminus": [
                                                [
                                                    0,
                                                    "#0d0887"
                                                ],
                                                [
                                                    0.1111111111111111,
                                                    "#46039f"
                                                ],
                                                [
                                                    0.2222222222222222,
                                                    "#7201a8"
                                                ],
                                                [
                                                    0.3333333333333333,
                                                    "#9c179e"
                                                ],
                                                [
                                                    0.4444444444444444,
                                                    "#bd3786"
                                                ],
                                                [
                                                    0.5555555555555556,
                                                    "#d8576b"
                                                ],
                                                [
                                                    0.6666666666666666,
                                                    "#ed7953"
                                                ],
                                                [
                                                    0.7777777777777778,
                                                    "#fb9f3a"
                                                ],
                                                [
                                                    0.8888888888888888,
                                                    "#fdca26"
                                                ],
                                                [
                                                    1,
                                                    "#f0f921"
                                                ]
                                            ]
                                        },
                                        "colorway": [
                                            "#636efa",
                                            "#EF553B",
                                            "#00cc96",
                                            "#ab63fa",
                                            "#FFA15A",
                                            "#19d3f3",
                                            "#FF6692",
                                            "#B6E880",
                                            "#FF97FF",
                                            "#FECB52"
                                        ],
                                        "font": {
                                            "color": "#2a3f5f"
                                        },
                                        "geo": {
                                            "bgcolor": "white",
                                            "lakecolor": "white",
                                            "landcolor": "#E5ECF6",
                                            "showlakes": true,
                                            "showland": true,
                                            "subunitcolor": "white"
                                        },
                                        "hoverlabel": {
                                            "align": "left"
                                        },
                                        "hovermode": "closest",
                                        "mapbox": {
                                            "style": "light"
                                        },
                                        "paper_bgcolor": "white",
                                        "plot_bgcolor": "#E5ECF6",
                                        "polar": {
                                            "angularaxis": {
                                                "gridcolor": "white",
                                                "linecolor": "white",
                                                "ticks": ""
                                            },
                                            "bgcolor": "#E5ECF6",
                                            "radialaxis": {
                                                "gridcolor": "white",
                                                "linecolor": "white",
                                                "ticks": ""
                                            }
                                        },
                                        "scene": {
                                            "xaxis": {
                                                "backgroundcolor": "#E5ECF6",
                                                "gridcolor": "white",
                                                "gridwidth": 2,
                                                "linecolor": "white",
                                                "showbackground": true,
                                                "ticks": "",
                                                "zerolinecolor": "white"
                                            },
                                            "yaxis": {
                                                "backgroundcolor": "#E5ECF6",
                                                "gridcolor": "white",
                                                "gridwidth": 2,
                                                "linecolor": "white",
                                                "showbackground": true,
                                                "ticks": "",
                                                "zerolinecolor": "white"
                                            },
                                            "zaxis": {
                                                "backgroundcolor": "#E5ECF6",
                                                "gridcolor": "white",
                                                "gridwidth": 2,
                                                "linecolor": "white",
                                                "showbackground": true,
                                                "ticks": "",
                                                "zerolinecolor": "white"
                                            }
                                        },
                                        "shapedefaults": {
                                            "line": {
                                                "color": "#2a3f5f"
                                            }
                                        },
                                        "ternary": {
                                            "aaxis": {
                                                "gridcolor": "white",
                                                "linecolor": "white",
                                                "ticks": ""
                                            },
                                            "baxis": {
                                                "gridcolor": "white",
                                                "linecolor": "white",
                                                "ticks": ""
                                            },
                                            "bgcolor": "#E5ECF6",
                                            "caxis": {
                                                "gridcolor": "white",
                                                "linecolor": "white",
                                                "ticks": ""
                                            }
                                        },
                                        "title": {
                                            "x": 0.05
                                        },
                                        "xaxis": {
                                            "automargin": true,
                                            "gridcolor": "white",
                                            "linecolor": "white",
                                            "ticks": "",
                                            "title": {
                                                "standoff": 15
                                            },
                                            "zerolinecolor": "white",
                                            "zerolinewidth": 2
                                        },
                                        "yaxis": {
                                            "automargin": true,
                                            "gridcolor": "white",
                                            "linecolor": "white",
                                            "ticks": "",
                                            "title": {
                                                "standoff": 15
                                            },
                                            "zerolinecolor": "white",
                                            "zerolinewidth": 2
                                        }
                                    }
                                }
                            }
                        },
                        "text/html": [
                            "<div>                            <div id=\"56dc47ee-f626-4e06-a8bf-ce065c2c1c4f\" class=\"plotly-graph-div\" style=\"height:525px; width:100%;\"></div>            <script type=\"text/javascript\">                require([\"plotly\"], function(Plotly) {                    window.PLOTLYENV=window.PLOTLYENV || {};                                    if (document.getElementById(\"56dc47ee-f626-4e06-a8bf-ce065c2c1c4f\")) {                    Plotly.newPlot(                        \"56dc47ee-f626-4e06-a8bf-ce065c2c1c4f\",                        [{\"hovertemplate\":\"line=nose_left_eye\\u003cbr\\u003ez=%{x}\\u003cbr\\u003ex=%{y}\\u003cbr\\u003ey=%{z}\\u003cextra\\u003e\\u003c\\u002fextra\\u003e\",\"legendgroup\":\"nose_left_eye\",\"line\":{\"color\":\"#636efa\",\"dash\":\"solid\"},\"marker\":{\"symbol\":\"circle\"},\"mode\":\"lines\",\"name\":\"nose_left_eye\",\"scene\":\"scene\",\"showlegend\":true,\"x\":[0.4626878499984741,0.4657599329948425],\"y\":[0.2145965695381164,0.2452171593904495],\"z\":[-0.2199207246303558,-0.2497367113828659],\"type\":\"scatter3d\"},{\"hovertemplate\":\"line=nose_right_eye\\u003cbr\\u003ez=%{x}\\u003cbr\\u003ex=%{y}\\u003cbr\\u003ey=%{z}\\u003cextra\\u003e\\u003c\\u002fextra\\u003e\",\"legendgroup\":\"nose_right_eye\",\"line\":{\"color\":\"#EF553B\",\"dash\":\"solid\"},\"marker\":{\"symbol\":\"circle\"},\"mode\":\"lines\",\"name\":\"nose_right_eye\",\"scene\":\"scene\",\"showlegend\":true,\"x\":[0.4626878499984741,0.4636306464672088],\"y\":[0.2145965695381164,0.1768677681684494],\"z\":[-0.2199207246303558,-0.2565921247005462],\"type\":\"scatter3d\"},{\"hovertemplate\":\"line=left_right_eye\\u003cbr\\u003ez=%{x}\\u003cbr\\u003ex=%{y}\\u003cbr\\u003ey=%{z}\\u003cextra\\u003e\\u003c\\u002fextra\\u003e\",\"legendgroup\":\"left_right_eye\",\"line\":{\"color\":\"#00cc96\",\"dash\":\"solid\"},\"marker\":{\"symbol\":\"circle\"},\"mode\":\"lines\",\"name\":\"left_right_eye\",\"scene\":\"scene\",\"showlegend\":true,\"x\":[0.4657599329948425,0.4636306464672088],\"y\":[0.2452171593904495,0.1768677681684494],\"z\":[-0.2497367113828659,-0.2565921247005462],\"type\":\"scatter3d\"},{\"hovertemplate\":\"line=right_ear_right_eye\\u003cbr\\u003ez=%{x}\\u003cbr\\u003ex=%{y}\\u003cbr\\u003ey=%{z}\\u003cextra\\u003e\\u003c\\u002fextra\\u003e\",\"legendgroup\":\"right_ear_right_eye\",\"line\":{\"color\":\"#ab63fa\",\"dash\":\"solid\"},\"marker\":{\"symbol\":\"circle\"},\"mode\":\"lines\",\"name\":\"right_ear_right_eye\",\"scene\":\"scene\",\"showlegend\":true,\"x\":[0.4636306464672088,0.5303537249565125],\"y\":[0.1768677681684494,0.1285757273435592],\"z\":[-0.2565921247005462,-0.2941042184829712],\"type\":\"scatter3d\"},{\"hovertemplate\":\"line=left_shoulder_right_sholder\\u003cbr\\u003ez=%{x}\\u003cbr\\u003ex=%{y}\\u003cbr\\u003ey=%{z}\\u003cextra\\u003e\\u003c\\u002fextra\\u003e\",\"legendgroup\":\"left_shoulder_right_sholder\",\"line\":{\"color\":\"#FFA15A\",\"dash\":\"solid\"},\"marker\":{\"symbol\":\"circle\"},\"mode\":\"lines\",\"name\":\"left_shoulder_right_sholder\",\"scene\":\"scene\",\"showlegend\":true,\"x\":[0.6775313019752502,0.6382013559341431],\"y\":[0.3564397096633911,0.0511232167482376],\"z\":[-0.1793149411678314,-0.1634252816438675],\"type\":\"scatter3d\"},{\"hovertemplate\":\"line=left_sholder_left_elbow\\u003cbr\\u003ez=%{x}\\u003cbr\\u003ex=%{y}\\u003cbr\\u003ey=%{z}\\u003cextra\\u003e\\u003c\\u002fextra\\u003e\",\"legendgroup\":\"left_sholder_left_elbow\",\"line\":{\"color\":\"#19d3f3\",\"dash\":\"solid\"},\"marker\":{\"symbol\":\"circle\"},\"mode\":\"lines\",\"name\":\"left_sholder_left_elbow\",\"scene\":\"scene\",\"showlegend\":true,\"x\":[0.6775313019752502,0.6985331177711487],\"y\":[0.3564397096633911,0.3822434544563293],\"z\":[-0.1793149411678314,0.0791030004620552],\"type\":\"scatter3d\"},{\"hovertemplate\":\"line=left_shoulder_left_hip\\u003cbr\\u003ez=%{x}\\u003cbr\\u003ex=%{y}\\u003cbr\\u003ey=%{z}\\u003cextra\\u003e\\u003c\\u002fextra\\u003e\",\"legendgroup\":\"left_shoulder_left_hip\",\"line\":{\"color\":\"#FF6692\",\"dash\":\"solid\"},\"marker\":{\"symbol\":\"circle\"},\"mode\":\"lines\",\"name\":\"left_shoulder_left_hip\",\"scene\":\"scene\",\"showlegend\":true,\"x\":[0.6775313019752502,0.7498189210891724],\"y\":[0.3564397096633911,0.3006238341331482],\"z\":[-0.1793149411678314,0.214806243777275],\"type\":\"scatter3d\"},{\"hovertemplate\":\"line=right_shoulder_right_elbow\\u003cbr\\u003ez=%{x}\\u003cbr\\u003ex=%{y}\\u003cbr\\u003ey=%{z}\\u003cextra\\u003e\\u003c\\u002fextra\\u003e\",\"legendgroup\":\"right_shoulder_right_elbow\",\"line\":{\"color\":\"#B6E880\",\"dash\":\"solid\"},\"marker\":{\"symbol\":\"circle\"},\"mode\":\"lines\",\"name\":\"right_shoulder_right_elbow\",\"scene\":\"scene\",\"showlegend\":true,\"x\":[0.6382013559341431,0.5344824194908142],\"y\":[0.0511232167482376,0.0399646461009979],\"z\":[-0.1634252816438675,0.0869478806853294],\"type\":\"scatter3d\"},{\"hovertemplate\":\"line=right_shoulder_right_hip\\u003cbr\\u003ez=%{x}\\u003cbr\\u003ex=%{y}\\u003cbr\\u003ey=%{z}\\u003cextra\\u003e\\u003c\\u002fextra\\u003e\",\"legendgroup\":\"right_shoulder_right_hip\",\"line\":{\"color\":\"#FF97FF\",\"dash\":\"solid\"},\"marker\":{\"symbol\":\"circle\"},\"mode\":\"lines\",\"name\":\"right_shoulder_right_hip\",\"scene\":\"scene\",\"showlegend\":true,\"x\":[0.6382013559341431,0.7499090433120728],\"y\":[0.0511232167482376,0.0909340009093284],\"z\":[-0.1634252816438675,0.2345350980758667],\"type\":\"scatter3d\"},{\"hovertemplate\":\"line=left_elbow_left_wrist\\u003cbr\\u003ez=%{x}\\u003cbr\\u003ex=%{y}\\u003cbr\\u003ey=%{z}\\u003cextra\\u003e\\u003c\\u002fextra\\u003e\",\"legendgroup\":\"left_elbow_left_wrist\",\"line\":{\"color\":\"#FECB52\",\"dash\":\"solid\"},\"marker\":{\"symbol\":\"circle\"},\"mode\":\"lines\",\"name\":\"left_elbow_left_wrist\",\"scene\":\"scene\",\"showlegend\":true,\"x\":[0.6985331177711487,0.4854266709212142],\"y\":[0.3822434544563293,0.3292273760952392],\"z\":[0.0791030004620552,0.2373483229466444],\"type\":\"scatter3d\"},{\"hovertemplate\":\"line=right_elbow_right_wrist\\u003cbr\\u003ez=%{x}\\u003cbr\\u003ex=%{y}\\u003cbr\\u003ey=%{z}\\u003cextra\\u003e\\u003c\\u002fextra\\u003e\",\"legendgroup\":\"right_elbow_right_wrist\",\"line\":{\"color\":\"#636efa\",\"dash\":\"solid\"},\"marker\":{\"symbol\":\"circle\"},\"mode\":\"lines\",\"name\":\"right_elbow_right_wrist\",\"scene\":\"scene\",\"showlegend\":true,\"x\":[0.5344824194908142,0.3463585078716278],\"y\":[0.0399646461009979,0.0960054472088813],\"z\":[0.0869478806853294,0.2067932337522506],\"type\":\"scatter3d\"},{\"hovertemplate\":\"line=left_hip_right_hip\\u003cbr\\u003ez=%{x}\\u003cbr\\u003ex=%{y}\\u003cbr\\u003ey=%{z}\\u003cextra\\u003e\\u003c\\u002fextra\\u003e\",\"legendgroup\":\"left_hip_right_hip\",\"line\":{\"color\":\"#EF553B\",\"dash\":\"solid\"},\"marker\":{\"symbol\":\"circle\"},\"mode\":\"lines\",\"name\":\"left_hip_right_hip\",\"scene\":\"scene\",\"showlegend\":true,\"x\":[0.7498189210891724,0.7499090433120728],\"y\":[0.3006238341331482,0.0909340009093284],\"z\":[0.214806243777275,0.2345350980758667],\"type\":\"scatter3d\"}],                        {\"template\":{\"data\":{\"histogram2dcontour\":[{\"type\":\"histogram2dcontour\",\"colorbar\":{\"outlinewidth\":0,\"ticks\":\"\"},\"colorscale\":[[0.0,\"#0d0887\"],[0.1111111111111111,\"#46039f\"],[0.2222222222222222,\"#7201a8\"],[0.3333333333333333,\"#9c179e\"],[0.4444444444444444,\"#bd3786\"],[0.5555555555555556,\"#d8576b\"],[0.6666666666666666,\"#ed7953\"],[0.7777777777777778,\"#fb9f3a\"],[0.8888888888888888,\"#fdca26\"],[1.0,\"#f0f921\"]]}],\"choropleth\":[{\"type\":\"choropleth\",\"colorbar\":{\"outlinewidth\":0,\"ticks\":\"\"}}],\"histogram2d\":[{\"type\":\"histogram2d\",\"colorbar\":{\"outlinewidth\":0,\"ticks\":\"\"},\"colorscale\":[[0.0,\"#0d0887\"],[0.1111111111111111,\"#46039f\"],[0.2222222222222222,\"#7201a8\"],[0.3333333333333333,\"#9c179e\"],[0.4444444444444444,\"#bd3786\"],[0.5555555555555556,\"#d8576b\"],[0.6666666666666666,\"#ed7953\"],[0.7777777777777778,\"#fb9f3a\"],[0.8888888888888888,\"#fdca26\"],[1.0,\"#f0f921\"]]}],\"heatmap\":[{\"type\":\"heatmap\",\"colorbar\":{\"outlinewidth\":0,\"ticks\":\"\"},\"colorscale\":[[0.0,\"#0d0887\"],[0.1111111111111111,\"#46039f\"],[0.2222222222222222,\"#7201a8\"],[0.3333333333333333,\"#9c179e\"],[0.4444444444444444,\"#bd3786\"],[0.5555555555555556,\"#d8576b\"],[0.6666666666666666,\"#ed7953\"],[0.7777777777777778,\"#fb9f3a\"],[0.8888888888888888,\"#fdca26\"],[1.0,\"#f0f921\"]]}],\"heatmapgl\":[{\"type\":\"heatmapgl\",\"colorbar\":{\"outlinewidth\":0,\"ticks\":\"\"},\"colorscale\":[[0.0,\"#0d0887\"],[0.1111111111111111,\"#46039f\"],[0.2222222222222222,\"#7201a8\"],[0.3333333333333333,\"#9c179e\"],[0.4444444444444444,\"#bd3786\"],[0.5555555555555556,\"#d8576b\"],[0.6666666666666666,\"#ed7953\"],[0.7777777777777778,\"#fb9f3a\"],[0.8888888888888888,\"#fdca26\"],[1.0,\"#f0f921\"]]}],\"contourcarpet\":[{\"type\":\"contourcarpet\",\"colorbar\":{\"outlinewidth\":0,\"ticks\":\"\"}}],\"contour\":[{\"type\":\"contour\",\"colorbar\":{\"outlinewidth\":0,\"ticks\":\"\"},\"colorscale\":[[0.0,\"#0d0887\"],[0.1111111111111111,\"#46039f\"],[0.2222222222222222,\"#7201a8\"],[0.3333333333333333,\"#9c179e\"],[0.4444444444444444,\"#bd3786\"],[0.5555555555555556,\"#d8576b\"],[0.6666666666666666,\"#ed7953\"],[0.7777777777777778,\"#fb9f3a\"],[0.8888888888888888,\"#fdca26\"],[1.0,\"#f0f921\"]]}],\"surface\":[{\"type\":\"surface\",\"colorbar\":{\"outlinewidth\":0,\"ticks\":\"\"},\"colorscale\":[[0.0,\"#0d0887\"],[0.1111111111111111,\"#46039f\"],[0.2222222222222222,\"#7201a8\"],[0.3333333333333333,\"#9c179e\"],[0.4444444444444444,\"#bd3786\"],[0.5555555555555556,\"#d8576b\"],[0.6666666666666666,\"#ed7953\"],[0.7777777777777778,\"#fb9f3a\"],[0.8888888888888888,\"#fdca26\"],[1.0,\"#f0f921\"]]}],\"mesh3d\":[{\"type\":\"mesh3d\",\"colorbar\":{\"outlinewidth\":0,\"ticks\":\"\"}}],\"scatter\":[{\"fillpattern\":{\"fillmode\":\"overlay\",\"size\":10,\"solidity\":0.2},\"type\":\"scatter\"}],\"parcoords\":[{\"type\":\"parcoords\",\"line\":{\"colorbar\":{\"outlinewidth\":0,\"ticks\":\"\"}}}],\"scatterpolargl\":[{\"type\":\"scatterpolargl\",\"marker\":{\"colorbar\":{\"outlinewidth\":0,\"ticks\":\"\"}}}],\"bar\":[{\"error_x\":{\"color\":\"#2a3f5f\"},\"error_y\":{\"color\":\"#2a3f5f\"},\"marker\":{\"line\":{\"color\":\"#E5ECF6\",\"width\":0.5},\"pattern\":{\"fillmode\":\"overlay\",\"size\":10,\"solidity\":0.2}},\"type\":\"bar\"}],\"scattergeo\":[{\"type\":\"scattergeo\",\"marker\":{\"colorbar\":{\"outlinewidth\":0,\"ticks\":\"\"}}}],\"scatterpolar\":[{\"type\":\"scatterpolar\",\"marker\":{\"colorbar\":{\"outlinewidth\":0,\"ticks\":\"\"}}}],\"histogram\":[{\"marker\":{\"pattern\":{\"fillmode\":\"overlay\",\"size\":10,\"solidity\":0.2}},\"type\":\"histogram\"}],\"scattergl\":[{\"type\":\"scattergl\",\"marker\":{\"colorbar\":{\"outlinewidth\":0,\"ticks\":\"\"}}}],\"scatter3d\":[{\"type\":\"scatter3d\",\"line\":{\"colorbar\":{\"outlinewidth\":0,\"ticks\":\"\"}},\"marker\":{\"colorbar\":{\"outlinewidth\":0,\"ticks\":\"\"}}}],\"scattermapbox\":[{\"type\":\"scattermapbox\",\"marker\":{\"colorbar\":{\"outlinewidth\":0,\"ticks\":\"\"}}}],\"scatterternary\":[{\"type\":\"scatterternary\",\"marker\":{\"colorbar\":{\"outlinewidth\":0,\"ticks\":\"\"}}}],\"scattercarpet\":[{\"type\":\"scattercarpet\",\"marker\":{\"colorbar\":{\"outlinewidth\":0,\"ticks\":\"\"}}}],\"carpet\":[{\"aaxis\":{\"endlinecolor\":\"#2a3f5f\",\"gridcolor\":\"white\",\"linecolor\":\"white\",\"minorgridcolor\":\"white\",\"startlinecolor\":\"#2a3f5f\"},\"baxis\":{\"endlinecolor\":\"#2a3f5f\",\"gridcolor\":\"white\",\"linecolor\":\"white\",\"minorgridcolor\":\"white\",\"startlinecolor\":\"#2a3f5f\"},\"type\":\"carpet\"}],\"table\":[{\"cells\":{\"fill\":{\"color\":\"#EBF0F8\"},\"line\":{\"color\":\"white\"}},\"header\":{\"fill\":{\"color\":\"#C8D4E3\"},\"line\":{\"color\":\"white\"}},\"type\":\"table\"}],\"barpolar\":[{\"marker\":{\"line\":{\"color\":\"#E5ECF6\",\"width\":0.5},\"pattern\":{\"fillmode\":\"overlay\",\"size\":10,\"solidity\":0.2}},\"type\":\"barpolar\"}],\"pie\":[{\"automargin\":true,\"type\":\"pie\"}]},\"layout\":{\"autotypenumbers\":\"strict\",\"colorway\":[\"#636efa\",\"#EF553B\",\"#00cc96\",\"#ab63fa\",\"#FFA15A\",\"#19d3f3\",\"#FF6692\",\"#B6E880\",\"#FF97FF\",\"#FECB52\"],\"font\":{\"color\":\"#2a3f5f\"},\"hovermode\":\"closest\",\"hoverlabel\":{\"align\":\"left\"},\"paper_bgcolor\":\"white\",\"plot_bgcolor\":\"#E5ECF6\",\"polar\":{\"bgcolor\":\"#E5ECF6\",\"angularaxis\":{\"gridcolor\":\"white\",\"linecolor\":\"white\",\"ticks\":\"\"},\"radialaxis\":{\"gridcolor\":\"white\",\"linecolor\":\"white\",\"ticks\":\"\"}},\"ternary\":{\"bgcolor\":\"#E5ECF6\",\"aaxis\":{\"gridcolor\":\"white\",\"linecolor\":\"white\",\"ticks\":\"\"},\"baxis\":{\"gridcolor\":\"white\",\"linecolor\":\"white\",\"ticks\":\"\"},\"caxis\":{\"gridcolor\":\"white\",\"linecolor\":\"white\",\"ticks\":\"\"}},\"coloraxis\":{\"colorbar\":{\"outlinewidth\":0,\"ticks\":\"\"}},\"colorscale\":{\"sequential\":[[0.0,\"#0d0887\"],[0.1111111111111111,\"#46039f\"],[0.2222222222222222,\"#7201a8\"],[0.3333333333333333,\"#9c179e\"],[0.4444444444444444,\"#bd3786\"],[0.5555555555555556,\"#d8576b\"],[0.6666666666666666,\"#ed7953\"],[0.7777777777777778,\"#fb9f3a\"],[0.8888888888888888,\"#fdca26\"],[1.0,\"#f0f921\"]],\"sequentialminus\":[[0.0,\"#0d0887\"],[0.1111111111111111,\"#46039f\"],[0.2222222222222222,\"#7201a8\"],[0.3333333333333333,\"#9c179e\"],[0.4444444444444444,\"#bd3786\"],[0.5555555555555556,\"#d8576b\"],[0.6666666666666666,\"#ed7953\"],[0.7777777777777778,\"#fb9f3a\"],[0.8888888888888888,\"#fdca26\"],[1.0,\"#f0f921\"]],\"diverging\":[[0,\"#8e0152\"],[0.1,\"#c51b7d\"],[0.2,\"#de77ae\"],[0.3,\"#f1b6da\"],[0.4,\"#fde0ef\"],[0.5,\"#f7f7f7\"],[0.6,\"#e6f5d0\"],[0.7,\"#b8e186\"],[0.8,\"#7fbc41\"],[0.9,\"#4d9221\"],[1,\"#276419\"]]},\"xaxis\":{\"gridcolor\":\"white\",\"linecolor\":\"white\",\"ticks\":\"\",\"title\":{\"standoff\":15},\"zerolinecolor\":\"white\",\"automargin\":true,\"zerolinewidth\":2},\"yaxis\":{\"gridcolor\":\"white\",\"linecolor\":\"white\",\"ticks\":\"\",\"title\":{\"standoff\":15},\"zerolinecolor\":\"white\",\"automargin\":true,\"zerolinewidth\":2},\"scene\":{\"xaxis\":{\"backgroundcolor\":\"#E5ECF6\",\"gridcolor\":\"white\",\"linecolor\":\"white\",\"showbackground\":true,\"ticks\":\"\",\"zerolinecolor\":\"white\",\"gridwidth\":2},\"yaxis\":{\"backgroundcolor\":\"#E5ECF6\",\"gridcolor\":\"white\",\"linecolor\":\"white\",\"showbackground\":true,\"ticks\":\"\",\"zerolinecolor\":\"white\",\"gridwidth\":2},\"zaxis\":{\"backgroundcolor\":\"#E5ECF6\",\"gridcolor\":\"white\",\"linecolor\":\"white\",\"showbackground\":true,\"ticks\":\"\",\"zerolinecolor\":\"white\",\"gridwidth\":2}},\"shapedefaults\":{\"line\":{\"color\":\"#2a3f5f\"}},\"annotationdefaults\":{\"arrowcolor\":\"#2a3f5f\",\"arrowhead\":0,\"arrowwidth\":1},\"geo\":{\"bgcolor\":\"white\",\"landcolor\":\"#E5ECF6\",\"subunitcolor\":\"white\",\"showland\":true,\"showlakes\":true,\"lakecolor\":\"white\"},\"title\":{\"x\":0.05},\"mapbox\":{\"style\":\"light\"}}},\"scene\":{\"domain\":{\"x\":[0.0,1.0],\"y\":[0.0,1.0]},\"xaxis\":{\"title\":{\"text\":\"z\"},\"autorange\":\"reversed\"},\"yaxis\":{\"title\":{\"text\":\"x\"}},\"zaxis\":{\"title\":{\"text\":\"y\"},\"autorange\":\"reversed\"}},\"legend\":{\"title\":{\"text\":\"line\"},\"tracegroupgap\":0},\"margin\":{\"t\":60}},                        {\"responsive\": true}                    ).then(function(){\n",
                            "                            \n",
                            "var gd = document.getElementById('56dc47ee-f626-4e06-a8bf-ce065c2c1c4f');\n",
                            "var x = new MutationObserver(function (mutations, observer) {{\n",
                            "        var display = window.getComputedStyle(gd).display;\n",
                            "        if (!display || display === 'none') {{\n",
                            "            console.log([gd, 'removed!']);\n",
                            "            Plotly.purge(gd);\n",
                            "            observer.disconnect();\n",
                            "        }}\n",
                            "}});\n",
                            "\n",
                            "// Listen for the removal of the full notebook cells\n",
                            "var notebookContainer = gd.closest('#notebook-container');\n",
                            "if (notebookContainer) {{\n",
                            "    x.observe(notebookContainer, {childList: true});\n",
                            "}}\n",
                            "\n",
                            "// Listen for the clearing of the current output cell\n",
                            "var outputEl = gd.closest('.output');\n",
                            "if (outputEl) {{\n",
                            "    x.observe(outputEl, {childList: true});\n",
                            "}}\n",
                            "\n",
                            "                        })                };                });            </script>        </div>"
                        ]
                    },
                    "metadata": {},
                    "output_type": "display_data"
                }
            ],
            "source": [
                "results = generate_connection_line(sample[1],\n",
                "        np.argwhere(valid_keypoints).reshape(-1))\n",
                "pose_df = pd.DataFrame(results)\n",
                "visualize_pose(pose_df)"
            ]
        },
        {
            "cell_type": "code",
            "execution_count": 35,
            "metadata": {},
            "outputs": [
                {
                    "data": {
                        "application/vnd.plotly.v1+json": {
                            "config": {
                                "plotlyServerURL": "https://plot.ly"
                            },
                            "data": [
                                {
                                    "hovertemplate": "line=nose_left_eye<br>z=%{x}<br>x=%{y}<br>y=%{z}<extra></extra>",
                                    "legendgroup": "nose_left_eye",
                                    "line": {
                                        "color": "#636efa",
                                        "dash": "solid"
                                    },
                                    "marker": {
                                        "symbol": "circle"
                                    },
                                    "mode": "lines",
                                    "name": "nose_left_eye",
                                    "scene": "scene",
                                    "showlegend": true,
                                    "type": "scatter3d",
                                    "x": [
                                        0.4322895407676697,
                                        0.4264655113220215
                                    ],
                                    "y": [
                                        0.2220597118139267,
                                        0.2547334134578705
                                    ],
                                    "z": [
                                        -0.21267306804656982,
                                        -0.24547244608402252
                                    ]
                                },
                                {
                                    "hovertemplate": "line=nose_right_eye<br>z=%{x}<br>x=%{y}<br>y=%{z}<extra></extra>",
                                    "legendgroup": "nose_right_eye",
                                    "line": {
                                        "color": "#EF553B",
                                        "dash": "solid"
                                    },
                                    "marker": {
                                        "symbol": "circle"
                                    },
                                    "mode": "lines",
                                    "name": "nose_right_eye",
                                    "scene": "scene",
                                    "showlegend": true,
                                    "type": "scatter3d",
                                    "x": [
                                        0.4322895407676697,
                                        0.42870527505874634
                                    ],
                                    "y": [
                                        0.2220597118139267,
                                        0.18913942575454712
                                    ],
                                    "z": [
                                        -0.21267306804656982,
                                        -0.2537051737308502
                                    ]
                                },
                                {
                                    "hovertemplate": "line=left_right_eye<br>z=%{x}<br>x=%{y}<br>y=%{z}<extra></extra>",
                                    "legendgroup": "left_right_eye",
                                    "line": {
                                        "color": "#00cc96",
                                        "dash": "solid"
                                    },
                                    "marker": {
                                        "symbol": "circle"
                                    },
                                    "mode": "lines",
                                    "name": "left_right_eye",
                                    "scene": "scene",
                                    "showlegend": true,
                                    "type": "scatter3d",
                                    "x": [
                                        0.4264655113220215,
                                        0.42870527505874634
                                    ],
                                    "y": [
                                        0.2547334134578705,
                                        0.18913942575454712
                                    ],
                                    "z": [
                                        -0.24547244608402252,
                                        -0.2537051737308502
                                    ]
                                },
                                {
                                    "hovertemplate": "line=left_ear_left_eye<br>z=%{x}<br>x=%{y}<br>y=%{z}<extra></extra>",
                                    "legendgroup": "left_ear_left_eye",
                                    "line": {
                                        "color": "#ab63fa",
                                        "dash": "solid"
                                    },
                                    "marker": {
                                        "symbol": "circle"
                                    },
                                    "mode": "lines",
                                    "name": "left_ear_left_eye",
                                    "scene": "scene",
                                    "showlegend": true,
                                    "type": "scatter3d",
                                    "x": [
                                        0.4264655113220215,
                                        0.4547370672225952
                                    ],
                                    "y": [
                                        0.2547334134578705,
                                        0.2632072865962982
                                    ],
                                    "z": [
                                        -0.24547244608402252,
                                        -0.2556263208389282
                                    ]
                                },
                                {
                                    "hovertemplate": "line=right_ear_right_eye<br>z=%{x}<br>x=%{y}<br>y=%{z}<extra></extra>",
                                    "legendgroup": "right_ear_right_eye",
                                    "line": {
                                        "color": "#FFA15A",
                                        "dash": "solid"
                                    },
                                    "marker": {
                                        "symbol": "circle"
                                    },
                                    "mode": "lines",
                                    "name": "right_ear_right_eye",
                                    "scene": "scene",
                                    "showlegend": true,
                                    "type": "scatter3d",
                                    "x": [
                                        0.42870527505874634,
                                        0.51203453540802
                                    ],
                                    "y": [
                                        0.18913942575454712,
                                        0.15156003832817078
                                    ],
                                    "z": [
                                        -0.2537051737308502,
                                        -0.3082098364830017
                                    ]
                                },
                                {
                                    "hovertemplate": "line=left_shoulder_right_sholder<br>z=%{x}<br>x=%{y}<br>y=%{z}<extra></extra>",
                                    "legendgroup": "left_shoulder_right_sholder",
                                    "line": {
                                        "color": "#19d3f3",
                                        "dash": "solid"
                                    },
                                    "marker": {
                                        "symbol": "circle"
                                    },
                                    "mode": "lines",
                                    "name": "left_shoulder_right_sholder",
                                    "scene": "scene",
                                    "showlegend": true,
                                    "type": "scatter3d",
                                    "x": [
                                        0.6673129200935364,
                                        0.6276901960372925
                                    ],
                                    "y": [
                                        0.36806946992874146,
                                        0.0416170209646225
                                    ],
                                    "z": [
                                        -0.17409351468086243,
                                        -0.19229558110237122
                                    ]
                                },
                                {
                                    "hovertemplate": "line=left_sholder_left_elbow<br>z=%{x}<br>x=%{y}<br>y=%{z}<extra></extra>",
                                    "legendgroup": "left_sholder_left_elbow",
                                    "line": {
                                        "color": "#FF6692",
                                        "dash": "solid"
                                    },
                                    "marker": {
                                        "symbol": "circle"
                                    },
                                    "mode": "lines",
                                    "name": "left_sholder_left_elbow",
                                    "scene": "scene",
                                    "showlegend": true,
                                    "type": "scatter3d",
                                    "x": [
                                        0.6673129200935364,
                                        0.7106268405914307
                                    ],
                                    "y": [
                                        0.36806946992874146,
                                        0.4313419461250305
                                    ],
                                    "z": [
                                        -0.17409351468086243,
                                        0.10102291405200958
                                    ]
                                },
                                {
                                    "hovertemplate": "line=left_shoulder_left_hip<br>z=%{x}<br>x=%{y}<br>y=%{z}<extra></extra>",
                                    "legendgroup": "left_shoulder_left_hip",
                                    "line": {
                                        "color": "#B6E880",
                                        "dash": "solid"
                                    },
                                    "marker": {
                                        "symbol": "circle"
                                    },
                                    "mode": "lines",
                                    "name": "left_shoulder_left_hip",
                                    "scene": "scene",
                                    "showlegend": true,
                                    "type": "scatter3d",
                                    "x": [
                                        0.6673129200935364,
                                        0.7710037231445312
                                    ],
                                    "y": [
                                        0.36806946992874146,
                                        0.30805504322052
                                    ],
                                    "z": [
                                        -0.17409351468086243,
                                        0.21968486905097961
                                    ]
                                },
                                {
                                    "hovertemplate": "line=right_shoulder_right_elbow<br>z=%{x}<br>x=%{y}<br>y=%{z}<extra></extra>",
                                    "legendgroup": "right_shoulder_right_elbow",
                                    "line": {
                                        "color": "#FF97FF",
                                        "dash": "solid"
                                    },
                                    "marker": {
                                        "symbol": "circle"
                                    },
                                    "mode": "lines",
                                    "name": "right_shoulder_right_elbow",
                                    "scene": "scene",
                                    "showlegend": true,
                                    "type": "scatter3d",
                                    "x": [
                                        0.6276901960372925,
                                        0.5701158046722412
                                    ],
                                    "y": [
                                        0.0416170209646225,
                                        0.007181566208600998
                                    ],
                                    "z": [
                                        -0.19229558110237122,
                                        0.0757339745759964
                                    ]
                                },
                                {
                                    "hovertemplate": "line=right_shoulder_right_hip<br>z=%{x}<br>x=%{y}<br>y=%{z}<extra></extra>",
                                    "legendgroup": "right_shoulder_right_hip",
                                    "line": {
                                        "color": "#FECB52",
                                        "dash": "solid"
                                    },
                                    "marker": {
                                        "symbol": "circle"
                                    },
                                    "mode": "lines",
                                    "name": "right_shoulder_right_hip",
                                    "scene": "scene",
                                    "showlegend": true,
                                    "type": "scatter3d",
                                    "x": [
                                        0.6276901960372925,
                                        0.7678571939468384
                                    ],
                                    "y": [
                                        0.0416170209646225,
                                        0.0797254666686058
                                    ],
                                    "z": [
                                        -0.19229558110237122,
                                        0.2291683554649353
                                    ]
                                },
                                {
                                    "hovertemplate": "line=left_elbow_left_wrist<br>z=%{x}<br>x=%{y}<br>y=%{z}<extra></extra>",
                                    "legendgroup": "left_elbow_left_wrist",
                                    "line": {
                                        "color": "#636efa",
                                        "dash": "solid"
                                    },
                                    "marker": {
                                        "symbol": "circle"
                                    },
                                    "mode": "lines",
                                    "name": "left_elbow_left_wrist",
                                    "scene": "scene",
                                    "showlegend": true,
                                    "type": "scatter3d",
                                    "x": [
                                        0.7106268405914307,
                                        0.5082474946975708
                                    ],
                                    "y": [
                                        0.4313419461250305,
                                        0.3742079734802246
                                    ],
                                    "z": [
                                        0.10102291405200958,
                                        0.23890522122383118
                                    ]
                                },
                                {
                                    "hovertemplate": "line=right_elbow_right_wrist<br>z=%{x}<br>x=%{y}<br>y=%{z}<extra></extra>",
                                    "legendgroup": "right_elbow_right_wrist",
                                    "line": {
                                        "color": "#EF553B",
                                        "dash": "solid"
                                    },
                                    "marker": {
                                        "symbol": "circle"
                                    },
                                    "mode": "lines",
                                    "name": "right_elbow_right_wrist",
                                    "scene": "scene",
                                    "showlegend": true,
                                    "type": "scatter3d",
                                    "x": [
                                        0.5701158046722412,
                                        0.376125693321228
                                    ],
                                    "y": [
                                        0.007181566208600998,
                                        0.0810634046792984
                                    ],
                                    "z": [
                                        0.0757339745759964,
                                        0.20813056826591492
                                    ]
                                },
                                {
                                    "hovertemplate": "line=left_hip_right_hip<br>z=%{x}<br>x=%{y}<br>y=%{z}<extra></extra>",
                                    "legendgroup": "left_hip_right_hip",
                                    "line": {
                                        "color": "#00cc96",
                                        "dash": "solid"
                                    },
                                    "marker": {
                                        "symbol": "circle"
                                    },
                                    "mode": "lines",
                                    "name": "left_hip_right_hip",
                                    "scene": "scene",
                                    "showlegend": true,
                                    "type": "scatter3d",
                                    "x": [
                                        0.7710037231445312,
                                        0.7678571939468384
                                    ],
                                    "y": [
                                        0.30805504322052,
                                        0.0797254666686058
                                    ],
                                    "z": [
                                        0.21968486905097961,
                                        0.2291683554649353
                                    ]
                                }
                            ],
                            "layout": {
                                "legend": {
                                    "title": {
                                        "text": "line"
                                    },
                                    "tracegroupgap": 0
                                },
                                "margin": {
                                    "t": 60
                                },
                                "scene": {
                                    "domain": {
                                        "x": [
                                            0,
                                            1
                                        ],
                                        "y": [
                                            0,
                                            1
                                        ]
                                    },
                                    "xaxis": {
                                        "autorange": "reversed",
                                        "title": {
                                            "text": "z"
                                        }
                                    },
                                    "yaxis": {
                                        "title": {
                                            "text": "x"
                                        }
                                    },
                                    "zaxis": {
                                        "autorange": "reversed",
                                        "title": {
                                            "text": "y"
                                        }
                                    }
                                },
                                "template": {
                                    "data": {
                                        "bar": [
                                            {
                                                "error_x": {
                                                    "color": "#2a3f5f"
                                                },
                                                "error_y": {
                                                    "color": "#2a3f5f"
                                                },
                                                "marker": {
                                                    "line": {
                                                        "color": "#E5ECF6",
                                                        "width": 0.5
                                                    },
                                                    "pattern": {
                                                        "fillmode": "overlay",
                                                        "size": 10,
                                                        "solidity": 0.2
                                                    }
                                                },
                                                "type": "bar"
                                            }
                                        ],
                                        "barpolar": [
                                            {
                                                "marker": {
                                                    "line": {
                                                        "color": "#E5ECF6",
                                                        "width": 0.5
                                                    },
                                                    "pattern": {
                                                        "fillmode": "overlay",
                                                        "size": 10,
                                                        "solidity": 0.2
                                                    }
                                                },
                                                "type": "barpolar"
                                            }
                                        ],
                                        "carpet": [
                                            {
                                                "aaxis": {
                                                    "endlinecolor": "#2a3f5f",
                                                    "gridcolor": "white",
                                                    "linecolor": "white",
                                                    "minorgridcolor": "white",
                                                    "startlinecolor": "#2a3f5f"
                                                },
                                                "baxis": {
                                                    "endlinecolor": "#2a3f5f",
                                                    "gridcolor": "white",
                                                    "linecolor": "white",
                                                    "minorgridcolor": "white",
                                                    "startlinecolor": "#2a3f5f"
                                                },
                                                "type": "carpet"
                                            }
                                        ],
                                        "choropleth": [
                                            {
                                                "colorbar": {
                                                    "outlinewidth": 0,
                                                    "ticks": ""
                                                },
                                                "type": "choropleth"
                                            }
                                        ],
                                        "contour": [
                                            {
                                                "colorbar": {
                                                    "outlinewidth": 0,
                                                    "ticks": ""
                                                },
                                                "colorscale": [
                                                    [
                                                        0,
                                                        "#0d0887"
                                                    ],
                                                    [
                                                        0.1111111111111111,
                                                        "#46039f"
                                                    ],
                                                    [
                                                        0.2222222222222222,
                                                        "#7201a8"
                                                    ],
                                                    [
                                                        0.3333333333333333,
                                                        "#9c179e"
                                                    ],
                                                    [
                                                        0.4444444444444444,
                                                        "#bd3786"
                                                    ],
                                                    [
                                                        0.5555555555555556,
                                                        "#d8576b"
                                                    ],
                                                    [
                                                        0.6666666666666666,
                                                        "#ed7953"
                                                    ],
                                                    [
                                                        0.7777777777777778,
                                                        "#fb9f3a"
                                                    ],
                                                    [
                                                        0.8888888888888888,
                                                        "#fdca26"
                                                    ],
                                                    [
                                                        1,
                                                        "#f0f921"
                                                    ]
                                                ],
                                                "type": "contour"
                                            }
                                        ],
                                        "contourcarpet": [
                                            {
                                                "colorbar": {
                                                    "outlinewidth": 0,
                                                    "ticks": ""
                                                },
                                                "type": "contourcarpet"
                                            }
                                        ],
                                        "heatmap": [
                                            {
                                                "colorbar": {
                                                    "outlinewidth": 0,
                                                    "ticks": ""
                                                },
                                                "colorscale": [
                                                    [
                                                        0,
                                                        "#0d0887"
                                                    ],
                                                    [
                                                        0.1111111111111111,
                                                        "#46039f"
                                                    ],
                                                    [
                                                        0.2222222222222222,
                                                        "#7201a8"
                                                    ],
                                                    [
                                                        0.3333333333333333,
                                                        "#9c179e"
                                                    ],
                                                    [
                                                        0.4444444444444444,
                                                        "#bd3786"
                                                    ],
                                                    [
                                                        0.5555555555555556,
                                                        "#d8576b"
                                                    ],
                                                    [
                                                        0.6666666666666666,
                                                        "#ed7953"
                                                    ],
                                                    [
                                                        0.7777777777777778,
                                                        "#fb9f3a"
                                                    ],
                                                    [
                                                        0.8888888888888888,
                                                        "#fdca26"
                                                    ],
                                                    [
                                                        1,
                                                        "#f0f921"
                                                    ]
                                                ],
                                                "type": "heatmap"
                                            }
                                        ],
                                        "heatmapgl": [
                                            {
                                                "colorbar": {
                                                    "outlinewidth": 0,
                                                    "ticks": ""
                                                },
                                                "colorscale": [
                                                    [
                                                        0,
                                                        "#0d0887"
                                                    ],
                                                    [
                                                        0.1111111111111111,
                                                        "#46039f"
                                                    ],
                                                    [
                                                        0.2222222222222222,
                                                        "#7201a8"
                                                    ],
                                                    [
                                                        0.3333333333333333,
                                                        "#9c179e"
                                                    ],
                                                    [
                                                        0.4444444444444444,
                                                        "#bd3786"
                                                    ],
                                                    [
                                                        0.5555555555555556,
                                                        "#d8576b"
                                                    ],
                                                    [
                                                        0.6666666666666666,
                                                        "#ed7953"
                                                    ],
                                                    [
                                                        0.7777777777777778,
                                                        "#fb9f3a"
                                                    ],
                                                    [
                                                        0.8888888888888888,
                                                        "#fdca26"
                                                    ],
                                                    [
                                                        1,
                                                        "#f0f921"
                                                    ]
                                                ],
                                                "type": "heatmapgl"
                                            }
                                        ],
                                        "histogram": [
                                            {
                                                "marker": {
                                                    "pattern": {
                                                        "fillmode": "overlay",
                                                        "size": 10,
                                                        "solidity": 0.2
                                                    }
                                                },
                                                "type": "histogram"
                                            }
                                        ],
                                        "histogram2d": [
                                            {
                                                "colorbar": {
                                                    "outlinewidth": 0,
                                                    "ticks": ""
                                                },
                                                "colorscale": [
                                                    [
                                                        0,
                                                        "#0d0887"
                                                    ],
                                                    [
                                                        0.1111111111111111,
                                                        "#46039f"
                                                    ],
                                                    [
                                                        0.2222222222222222,
                                                        "#7201a8"
                                                    ],
                                                    [
                                                        0.3333333333333333,
                                                        "#9c179e"
                                                    ],
                                                    [
                                                        0.4444444444444444,
                                                        "#bd3786"
                                                    ],
                                                    [
                                                        0.5555555555555556,
                                                        "#d8576b"
                                                    ],
                                                    [
                                                        0.6666666666666666,
                                                        "#ed7953"
                                                    ],
                                                    [
                                                        0.7777777777777778,
                                                        "#fb9f3a"
                                                    ],
                                                    [
                                                        0.8888888888888888,
                                                        "#fdca26"
                                                    ],
                                                    [
                                                        1,
                                                        "#f0f921"
                                                    ]
                                                ],
                                                "type": "histogram2d"
                                            }
                                        ],
                                        "histogram2dcontour": [
                                            {
                                                "colorbar": {
                                                    "outlinewidth": 0,
                                                    "ticks": ""
                                                },
                                                "colorscale": [
                                                    [
                                                        0,
                                                        "#0d0887"
                                                    ],
                                                    [
                                                        0.1111111111111111,
                                                        "#46039f"
                                                    ],
                                                    [
                                                        0.2222222222222222,
                                                        "#7201a8"
                                                    ],
                                                    [
                                                        0.3333333333333333,
                                                        "#9c179e"
                                                    ],
                                                    [
                                                        0.4444444444444444,
                                                        "#bd3786"
                                                    ],
                                                    [
                                                        0.5555555555555556,
                                                        "#d8576b"
                                                    ],
                                                    [
                                                        0.6666666666666666,
                                                        "#ed7953"
                                                    ],
                                                    [
                                                        0.7777777777777778,
                                                        "#fb9f3a"
                                                    ],
                                                    [
                                                        0.8888888888888888,
                                                        "#fdca26"
                                                    ],
                                                    [
                                                        1,
                                                        "#f0f921"
                                                    ]
                                                ],
                                                "type": "histogram2dcontour"
                                            }
                                        ],
                                        "mesh3d": [
                                            {
                                                "colorbar": {
                                                    "outlinewidth": 0,
                                                    "ticks": ""
                                                },
                                                "type": "mesh3d"
                                            }
                                        ],
                                        "parcoords": [
                                            {
                                                "line": {
                                                    "colorbar": {
                                                        "outlinewidth": 0,
                                                        "ticks": ""
                                                    }
                                                },
                                                "type": "parcoords"
                                            }
                                        ],
                                        "pie": [
                                            {
                                                "automargin": true,
                                                "type": "pie"
                                            }
                                        ],
                                        "scatter": [
                                            {
                                                "fillpattern": {
                                                    "fillmode": "overlay",
                                                    "size": 10,
                                                    "solidity": 0.2
                                                },
                                                "type": "scatter"
                                            }
                                        ],
                                        "scatter3d": [
                                            {
                                                "line": {
                                                    "colorbar": {
                                                        "outlinewidth": 0,
                                                        "ticks": ""
                                                    }
                                                },
                                                "marker": {
                                                    "colorbar": {
                                                        "outlinewidth": 0,
                                                        "ticks": ""
                                                    }
                                                },
                                                "type": "scatter3d"
                                            }
                                        ],
                                        "scattercarpet": [
                                            {
                                                "marker": {
                                                    "colorbar": {
                                                        "outlinewidth": 0,
                                                        "ticks": ""
                                                    }
                                                },
                                                "type": "scattercarpet"
                                            }
                                        ],
                                        "scattergeo": [
                                            {
                                                "marker": {
                                                    "colorbar": {
                                                        "outlinewidth": 0,
                                                        "ticks": ""
                                                    }
                                                },
                                                "type": "scattergeo"
                                            }
                                        ],
                                        "scattergl": [
                                            {
                                                "marker": {
                                                    "colorbar": {
                                                        "outlinewidth": 0,
                                                        "ticks": ""
                                                    }
                                                },
                                                "type": "scattergl"
                                            }
                                        ],
                                        "scattermapbox": [
                                            {
                                                "marker": {
                                                    "colorbar": {
                                                        "outlinewidth": 0,
                                                        "ticks": ""
                                                    }
                                                },
                                                "type": "scattermapbox"
                                            }
                                        ],
                                        "scatterpolar": [
                                            {
                                                "marker": {
                                                    "colorbar": {
                                                        "outlinewidth": 0,
                                                        "ticks": ""
                                                    }
                                                },
                                                "type": "scatterpolar"
                                            }
                                        ],
                                        "scatterpolargl": [
                                            {
                                                "marker": {
                                                    "colorbar": {
                                                        "outlinewidth": 0,
                                                        "ticks": ""
                                                    }
                                                },
                                                "type": "scatterpolargl"
                                            }
                                        ],
                                        "scatterternary": [
                                            {
                                                "marker": {
                                                    "colorbar": {
                                                        "outlinewidth": 0,
                                                        "ticks": ""
                                                    }
                                                },
                                                "type": "scatterternary"
                                            }
                                        ],
                                        "surface": [
                                            {
                                                "colorbar": {
                                                    "outlinewidth": 0,
                                                    "ticks": ""
                                                },
                                                "colorscale": [
                                                    [
                                                        0,
                                                        "#0d0887"
                                                    ],
                                                    [
                                                        0.1111111111111111,
                                                        "#46039f"
                                                    ],
                                                    [
                                                        0.2222222222222222,
                                                        "#7201a8"
                                                    ],
                                                    [
                                                        0.3333333333333333,
                                                        "#9c179e"
                                                    ],
                                                    [
                                                        0.4444444444444444,
                                                        "#bd3786"
                                                    ],
                                                    [
                                                        0.5555555555555556,
                                                        "#d8576b"
                                                    ],
                                                    [
                                                        0.6666666666666666,
                                                        "#ed7953"
                                                    ],
                                                    [
                                                        0.7777777777777778,
                                                        "#fb9f3a"
                                                    ],
                                                    [
                                                        0.8888888888888888,
                                                        "#fdca26"
                                                    ],
                                                    [
                                                        1,
                                                        "#f0f921"
                                                    ]
                                                ],
                                                "type": "surface"
                                            }
                                        ],
                                        "table": [
                                            {
                                                "cells": {
                                                    "fill": {
                                                        "color": "#EBF0F8"
                                                    },
                                                    "line": {
                                                        "color": "white"
                                                    }
                                                },
                                                "header": {
                                                    "fill": {
                                                        "color": "#C8D4E3"
                                                    },
                                                    "line": {
                                                        "color": "white"
                                                    }
                                                },
                                                "type": "table"
                                            }
                                        ]
                                    },
                                    "layout": {
                                        "annotationdefaults": {
                                            "arrowcolor": "#2a3f5f",
                                            "arrowhead": 0,
                                            "arrowwidth": 1
                                        },
                                        "autotypenumbers": "strict",
                                        "coloraxis": {
                                            "colorbar": {
                                                "outlinewidth": 0,
                                                "ticks": ""
                                            }
                                        },
                                        "colorscale": {
                                            "diverging": [
                                                [
                                                    0,
                                                    "#8e0152"
                                                ],
                                                [
                                                    0.1,
                                                    "#c51b7d"
                                                ],
                                                [
                                                    0.2,
                                                    "#de77ae"
                                                ],
                                                [
                                                    0.3,
                                                    "#f1b6da"
                                                ],
                                                [
                                                    0.4,
                                                    "#fde0ef"
                                                ],
                                                [
                                                    0.5,
                                                    "#f7f7f7"
                                                ],
                                                [
                                                    0.6,
                                                    "#e6f5d0"
                                                ],
                                                [
                                                    0.7,
                                                    "#b8e186"
                                                ],
                                                [
                                                    0.8,
                                                    "#7fbc41"
                                                ],
                                                [
                                                    0.9,
                                                    "#4d9221"
                                                ],
                                                [
                                                    1,
                                                    "#276419"
                                                ]
                                            ],
                                            "sequential": [
                                                [
                                                    0,
                                                    "#0d0887"
                                                ],
                                                [
                                                    0.1111111111111111,
                                                    "#46039f"
                                                ],
                                                [
                                                    0.2222222222222222,
                                                    "#7201a8"
                                                ],
                                                [
                                                    0.3333333333333333,
                                                    "#9c179e"
                                                ],
                                                [
                                                    0.4444444444444444,
                                                    "#bd3786"
                                                ],
                                                [
                                                    0.5555555555555556,
                                                    "#d8576b"
                                                ],
                                                [
                                                    0.6666666666666666,
                                                    "#ed7953"
                                                ],
                                                [
                                                    0.7777777777777778,
                                                    "#fb9f3a"
                                                ],
                                                [
                                                    0.8888888888888888,
                                                    "#fdca26"
                                                ],
                                                [
                                                    1,
                                                    "#f0f921"
                                                ]
                                            ],
                                            "sequentialminus": [
                                                [
                                                    0,
                                                    "#0d0887"
                                                ],
                                                [
                                                    0.1111111111111111,
                                                    "#46039f"
                                                ],
                                                [
                                                    0.2222222222222222,
                                                    "#7201a8"
                                                ],
                                                [
                                                    0.3333333333333333,
                                                    "#9c179e"
                                                ],
                                                [
                                                    0.4444444444444444,
                                                    "#bd3786"
                                                ],
                                                [
                                                    0.5555555555555556,
                                                    "#d8576b"
                                                ],
                                                [
                                                    0.6666666666666666,
                                                    "#ed7953"
                                                ],
                                                [
                                                    0.7777777777777778,
                                                    "#fb9f3a"
                                                ],
                                                [
                                                    0.8888888888888888,
                                                    "#fdca26"
                                                ],
                                                [
                                                    1,
                                                    "#f0f921"
                                                ]
                                            ]
                                        },
                                        "colorway": [
                                            "#636efa",
                                            "#EF553B",
                                            "#00cc96",
                                            "#ab63fa",
                                            "#FFA15A",
                                            "#19d3f3",
                                            "#FF6692",
                                            "#B6E880",
                                            "#FF97FF",
                                            "#FECB52"
                                        ],
                                        "font": {
                                            "color": "#2a3f5f"
                                        },
                                        "geo": {
                                            "bgcolor": "white",
                                            "lakecolor": "white",
                                            "landcolor": "#E5ECF6",
                                            "showlakes": true,
                                            "showland": true,
                                            "subunitcolor": "white"
                                        },
                                        "hoverlabel": {
                                            "align": "left"
                                        },
                                        "hovermode": "closest",
                                        "mapbox": {
                                            "style": "light"
                                        },
                                        "paper_bgcolor": "white",
                                        "plot_bgcolor": "#E5ECF6",
                                        "polar": {
                                            "angularaxis": {
                                                "gridcolor": "white",
                                                "linecolor": "white",
                                                "ticks": ""
                                            },
                                            "bgcolor": "#E5ECF6",
                                            "radialaxis": {
                                                "gridcolor": "white",
                                                "linecolor": "white",
                                                "ticks": ""
                                            }
                                        },
                                        "scene": {
                                            "xaxis": {
                                                "backgroundcolor": "#E5ECF6",
                                                "gridcolor": "white",
                                                "gridwidth": 2,
                                                "linecolor": "white",
                                                "showbackground": true,
                                                "ticks": "",
                                                "zerolinecolor": "white"
                                            },
                                            "yaxis": {
                                                "backgroundcolor": "#E5ECF6",
                                                "gridcolor": "white",
                                                "gridwidth": 2,
                                                "linecolor": "white",
                                                "showbackground": true,
                                                "ticks": "",
                                                "zerolinecolor": "white"
                                            },
                                            "zaxis": {
                                                "backgroundcolor": "#E5ECF6",
                                                "gridcolor": "white",
                                                "gridwidth": 2,
                                                "linecolor": "white",
                                                "showbackground": true,
                                                "ticks": "",
                                                "zerolinecolor": "white"
                                            }
                                        },
                                        "shapedefaults": {
                                            "line": {
                                                "color": "#2a3f5f"
                                            }
                                        },
                                        "ternary": {
                                            "aaxis": {
                                                "gridcolor": "white",
                                                "linecolor": "white",
                                                "ticks": ""
                                            },
                                            "baxis": {
                                                "gridcolor": "white",
                                                "linecolor": "white",
                                                "ticks": ""
                                            },
                                            "bgcolor": "#E5ECF6",
                                            "caxis": {
                                                "gridcolor": "white",
                                                "linecolor": "white",
                                                "ticks": ""
                                            }
                                        },
                                        "title": {
                                            "x": 0.05
                                        },
                                        "xaxis": {
                                            "automargin": true,
                                            "gridcolor": "white",
                                            "linecolor": "white",
                                            "ticks": "",
                                            "title": {
                                                "standoff": 15
                                            },
                                            "zerolinecolor": "white",
                                            "zerolinewidth": 2
                                        },
                                        "yaxis": {
                                            "automargin": true,
                                            "gridcolor": "white",
                                            "linecolor": "white",
                                            "ticks": "",
                                            "title": {
                                                "standoff": 15
                                            },
                                            "zerolinecolor": "white",
                                            "zerolinewidth": 2
                                        }
                                    }
                                }
                            }
                        },
                        "text/html": [
                            "<div>                            <div id=\"c6b261c8-6674-4242-8b65-a58fdb157d63\" class=\"plotly-graph-div\" style=\"height:525px; width:100%;\"></div>            <script type=\"text/javascript\">                require([\"plotly\"], function(Plotly) {                    window.PLOTLYENV=window.PLOTLYENV || {};                                    if (document.getElementById(\"c6b261c8-6674-4242-8b65-a58fdb157d63\")) {                    Plotly.newPlot(                        \"c6b261c8-6674-4242-8b65-a58fdb157d63\",                        [{\"hovertemplate\":\"line=nose_left_eye\\u003cbr\\u003ez=%{x}\\u003cbr\\u003ex=%{y}\\u003cbr\\u003ey=%{z}\\u003cextra\\u003e\\u003c\\u002fextra\\u003e\",\"legendgroup\":\"nose_left_eye\",\"line\":{\"color\":\"#636efa\",\"dash\":\"solid\"},\"marker\":{\"symbol\":\"circle\"},\"mode\":\"lines\",\"name\":\"nose_left_eye\",\"scene\":\"scene\",\"showlegend\":true,\"x\":[0.4322895407676697,0.4264655113220215],\"y\":[0.2220597118139267,0.2547334134578705],\"z\":[-0.21267306804656982,-0.24547244608402252],\"type\":\"scatter3d\"},{\"hovertemplate\":\"line=nose_right_eye\\u003cbr\\u003ez=%{x}\\u003cbr\\u003ex=%{y}\\u003cbr\\u003ey=%{z}\\u003cextra\\u003e\\u003c\\u002fextra\\u003e\",\"legendgroup\":\"nose_right_eye\",\"line\":{\"color\":\"#EF553B\",\"dash\":\"solid\"},\"marker\":{\"symbol\":\"circle\"},\"mode\":\"lines\",\"name\":\"nose_right_eye\",\"scene\":\"scene\",\"showlegend\":true,\"x\":[0.4322895407676697,0.42870527505874634],\"y\":[0.2220597118139267,0.18913942575454712],\"z\":[-0.21267306804656982,-0.2537051737308502],\"type\":\"scatter3d\"},{\"hovertemplate\":\"line=left_right_eye\\u003cbr\\u003ez=%{x}\\u003cbr\\u003ex=%{y}\\u003cbr\\u003ey=%{z}\\u003cextra\\u003e\\u003c\\u002fextra\\u003e\",\"legendgroup\":\"left_right_eye\",\"line\":{\"color\":\"#00cc96\",\"dash\":\"solid\"},\"marker\":{\"symbol\":\"circle\"},\"mode\":\"lines\",\"name\":\"left_right_eye\",\"scene\":\"scene\",\"showlegend\":true,\"x\":[0.4264655113220215,0.42870527505874634],\"y\":[0.2547334134578705,0.18913942575454712],\"z\":[-0.24547244608402252,-0.2537051737308502],\"type\":\"scatter3d\"},{\"hovertemplate\":\"line=left_ear_left_eye\\u003cbr\\u003ez=%{x}\\u003cbr\\u003ex=%{y}\\u003cbr\\u003ey=%{z}\\u003cextra\\u003e\\u003c\\u002fextra\\u003e\",\"legendgroup\":\"left_ear_left_eye\",\"line\":{\"color\":\"#ab63fa\",\"dash\":\"solid\"},\"marker\":{\"symbol\":\"circle\"},\"mode\":\"lines\",\"name\":\"left_ear_left_eye\",\"scene\":\"scene\",\"showlegend\":true,\"x\":[0.4264655113220215,0.4547370672225952],\"y\":[0.2547334134578705,0.2632072865962982],\"z\":[-0.24547244608402252,-0.2556263208389282],\"type\":\"scatter3d\"},{\"hovertemplate\":\"line=right_ear_right_eye\\u003cbr\\u003ez=%{x}\\u003cbr\\u003ex=%{y}\\u003cbr\\u003ey=%{z}\\u003cextra\\u003e\\u003c\\u002fextra\\u003e\",\"legendgroup\":\"right_ear_right_eye\",\"line\":{\"color\":\"#FFA15A\",\"dash\":\"solid\"},\"marker\":{\"symbol\":\"circle\"},\"mode\":\"lines\",\"name\":\"right_ear_right_eye\",\"scene\":\"scene\",\"showlegend\":true,\"x\":[0.42870527505874634,0.51203453540802],\"y\":[0.18913942575454712,0.15156003832817078],\"z\":[-0.2537051737308502,-0.3082098364830017],\"type\":\"scatter3d\"},{\"hovertemplate\":\"line=left_shoulder_right_sholder\\u003cbr\\u003ez=%{x}\\u003cbr\\u003ex=%{y}\\u003cbr\\u003ey=%{z}\\u003cextra\\u003e\\u003c\\u002fextra\\u003e\",\"legendgroup\":\"left_shoulder_right_sholder\",\"line\":{\"color\":\"#19d3f3\",\"dash\":\"solid\"},\"marker\":{\"symbol\":\"circle\"},\"mode\":\"lines\",\"name\":\"left_shoulder_right_sholder\",\"scene\":\"scene\",\"showlegend\":true,\"x\":[0.6673129200935364,0.6276901960372925],\"y\":[0.36806946992874146,0.0416170209646225],\"z\":[-0.17409351468086243,-0.19229558110237122],\"type\":\"scatter3d\"},{\"hovertemplate\":\"line=left_sholder_left_elbow\\u003cbr\\u003ez=%{x}\\u003cbr\\u003ex=%{y}\\u003cbr\\u003ey=%{z}\\u003cextra\\u003e\\u003c\\u002fextra\\u003e\",\"legendgroup\":\"left_sholder_left_elbow\",\"line\":{\"color\":\"#FF6692\",\"dash\":\"solid\"},\"marker\":{\"symbol\":\"circle\"},\"mode\":\"lines\",\"name\":\"left_sholder_left_elbow\",\"scene\":\"scene\",\"showlegend\":true,\"x\":[0.6673129200935364,0.7106268405914307],\"y\":[0.36806946992874146,0.4313419461250305],\"z\":[-0.17409351468086243,0.10102291405200958],\"type\":\"scatter3d\"},{\"hovertemplate\":\"line=left_shoulder_left_hip\\u003cbr\\u003ez=%{x}\\u003cbr\\u003ex=%{y}\\u003cbr\\u003ey=%{z}\\u003cextra\\u003e\\u003c\\u002fextra\\u003e\",\"legendgroup\":\"left_shoulder_left_hip\",\"line\":{\"color\":\"#B6E880\",\"dash\":\"solid\"},\"marker\":{\"symbol\":\"circle\"},\"mode\":\"lines\",\"name\":\"left_shoulder_left_hip\",\"scene\":\"scene\",\"showlegend\":true,\"x\":[0.6673129200935364,0.7710037231445312],\"y\":[0.36806946992874146,0.30805504322052],\"z\":[-0.17409351468086243,0.21968486905097961],\"type\":\"scatter3d\"},{\"hovertemplate\":\"line=right_shoulder_right_elbow\\u003cbr\\u003ez=%{x}\\u003cbr\\u003ex=%{y}\\u003cbr\\u003ey=%{z}\\u003cextra\\u003e\\u003c\\u002fextra\\u003e\",\"legendgroup\":\"right_shoulder_right_elbow\",\"line\":{\"color\":\"#FF97FF\",\"dash\":\"solid\"},\"marker\":{\"symbol\":\"circle\"},\"mode\":\"lines\",\"name\":\"right_shoulder_right_elbow\",\"scene\":\"scene\",\"showlegend\":true,\"x\":[0.6276901960372925,0.5701158046722412],\"y\":[0.0416170209646225,0.007181566208600998],\"z\":[-0.19229558110237122,0.0757339745759964],\"type\":\"scatter3d\"},{\"hovertemplate\":\"line=right_shoulder_right_hip\\u003cbr\\u003ez=%{x}\\u003cbr\\u003ex=%{y}\\u003cbr\\u003ey=%{z}\\u003cextra\\u003e\\u003c\\u002fextra\\u003e\",\"legendgroup\":\"right_shoulder_right_hip\",\"line\":{\"color\":\"#FECB52\",\"dash\":\"solid\"},\"marker\":{\"symbol\":\"circle\"},\"mode\":\"lines\",\"name\":\"right_shoulder_right_hip\",\"scene\":\"scene\",\"showlegend\":true,\"x\":[0.6276901960372925,0.7678571939468384],\"y\":[0.0416170209646225,0.0797254666686058],\"z\":[-0.19229558110237122,0.2291683554649353],\"type\":\"scatter3d\"},{\"hovertemplate\":\"line=left_elbow_left_wrist\\u003cbr\\u003ez=%{x}\\u003cbr\\u003ex=%{y}\\u003cbr\\u003ey=%{z}\\u003cextra\\u003e\\u003c\\u002fextra\\u003e\",\"legendgroup\":\"left_elbow_left_wrist\",\"line\":{\"color\":\"#636efa\",\"dash\":\"solid\"},\"marker\":{\"symbol\":\"circle\"},\"mode\":\"lines\",\"name\":\"left_elbow_left_wrist\",\"scene\":\"scene\",\"showlegend\":true,\"x\":[0.7106268405914307,0.5082474946975708],\"y\":[0.4313419461250305,0.3742079734802246],\"z\":[0.10102291405200958,0.23890522122383118],\"type\":\"scatter3d\"},{\"hovertemplate\":\"line=right_elbow_right_wrist\\u003cbr\\u003ez=%{x}\\u003cbr\\u003ex=%{y}\\u003cbr\\u003ey=%{z}\\u003cextra\\u003e\\u003c\\u002fextra\\u003e\",\"legendgroup\":\"right_elbow_right_wrist\",\"line\":{\"color\":\"#EF553B\",\"dash\":\"solid\"},\"marker\":{\"symbol\":\"circle\"},\"mode\":\"lines\",\"name\":\"right_elbow_right_wrist\",\"scene\":\"scene\",\"showlegend\":true,\"x\":[0.5701158046722412,0.376125693321228],\"y\":[0.007181566208600998,0.0810634046792984],\"z\":[0.0757339745759964,0.20813056826591492],\"type\":\"scatter3d\"},{\"hovertemplate\":\"line=left_hip_right_hip\\u003cbr\\u003ez=%{x}\\u003cbr\\u003ex=%{y}\\u003cbr\\u003ey=%{z}\\u003cextra\\u003e\\u003c\\u002fextra\\u003e\",\"legendgroup\":\"left_hip_right_hip\",\"line\":{\"color\":\"#00cc96\",\"dash\":\"solid\"},\"marker\":{\"symbol\":\"circle\"},\"mode\":\"lines\",\"name\":\"left_hip_right_hip\",\"scene\":\"scene\",\"showlegend\":true,\"x\":[0.7710037231445312,0.7678571939468384],\"y\":[0.30805504322052,0.0797254666686058],\"z\":[0.21968486905097961,0.2291683554649353],\"type\":\"scatter3d\"}],                        {\"template\":{\"data\":{\"histogram2dcontour\":[{\"type\":\"histogram2dcontour\",\"colorbar\":{\"outlinewidth\":0,\"ticks\":\"\"},\"colorscale\":[[0.0,\"#0d0887\"],[0.1111111111111111,\"#46039f\"],[0.2222222222222222,\"#7201a8\"],[0.3333333333333333,\"#9c179e\"],[0.4444444444444444,\"#bd3786\"],[0.5555555555555556,\"#d8576b\"],[0.6666666666666666,\"#ed7953\"],[0.7777777777777778,\"#fb9f3a\"],[0.8888888888888888,\"#fdca26\"],[1.0,\"#f0f921\"]]}],\"choropleth\":[{\"type\":\"choropleth\",\"colorbar\":{\"outlinewidth\":0,\"ticks\":\"\"}}],\"histogram2d\":[{\"type\":\"histogram2d\",\"colorbar\":{\"outlinewidth\":0,\"ticks\":\"\"},\"colorscale\":[[0.0,\"#0d0887\"],[0.1111111111111111,\"#46039f\"],[0.2222222222222222,\"#7201a8\"],[0.3333333333333333,\"#9c179e\"],[0.4444444444444444,\"#bd3786\"],[0.5555555555555556,\"#d8576b\"],[0.6666666666666666,\"#ed7953\"],[0.7777777777777778,\"#fb9f3a\"],[0.8888888888888888,\"#fdca26\"],[1.0,\"#f0f921\"]]}],\"heatmap\":[{\"type\":\"heatmap\",\"colorbar\":{\"outlinewidth\":0,\"ticks\":\"\"},\"colorscale\":[[0.0,\"#0d0887\"],[0.1111111111111111,\"#46039f\"],[0.2222222222222222,\"#7201a8\"],[0.3333333333333333,\"#9c179e\"],[0.4444444444444444,\"#bd3786\"],[0.5555555555555556,\"#d8576b\"],[0.6666666666666666,\"#ed7953\"],[0.7777777777777778,\"#fb9f3a\"],[0.8888888888888888,\"#fdca26\"],[1.0,\"#f0f921\"]]}],\"heatmapgl\":[{\"type\":\"heatmapgl\",\"colorbar\":{\"outlinewidth\":0,\"ticks\":\"\"},\"colorscale\":[[0.0,\"#0d0887\"],[0.1111111111111111,\"#46039f\"],[0.2222222222222222,\"#7201a8\"],[0.3333333333333333,\"#9c179e\"],[0.4444444444444444,\"#bd3786\"],[0.5555555555555556,\"#d8576b\"],[0.6666666666666666,\"#ed7953\"],[0.7777777777777778,\"#fb9f3a\"],[0.8888888888888888,\"#fdca26\"],[1.0,\"#f0f921\"]]}],\"contourcarpet\":[{\"type\":\"contourcarpet\",\"colorbar\":{\"outlinewidth\":0,\"ticks\":\"\"}}],\"contour\":[{\"type\":\"contour\",\"colorbar\":{\"outlinewidth\":0,\"ticks\":\"\"},\"colorscale\":[[0.0,\"#0d0887\"],[0.1111111111111111,\"#46039f\"],[0.2222222222222222,\"#7201a8\"],[0.3333333333333333,\"#9c179e\"],[0.4444444444444444,\"#bd3786\"],[0.5555555555555556,\"#d8576b\"],[0.6666666666666666,\"#ed7953\"],[0.7777777777777778,\"#fb9f3a\"],[0.8888888888888888,\"#fdca26\"],[1.0,\"#f0f921\"]]}],\"surface\":[{\"type\":\"surface\",\"colorbar\":{\"outlinewidth\":0,\"ticks\":\"\"},\"colorscale\":[[0.0,\"#0d0887\"],[0.1111111111111111,\"#46039f\"],[0.2222222222222222,\"#7201a8\"],[0.3333333333333333,\"#9c179e\"],[0.4444444444444444,\"#bd3786\"],[0.5555555555555556,\"#d8576b\"],[0.6666666666666666,\"#ed7953\"],[0.7777777777777778,\"#fb9f3a\"],[0.8888888888888888,\"#fdca26\"],[1.0,\"#f0f921\"]]}],\"mesh3d\":[{\"type\":\"mesh3d\",\"colorbar\":{\"outlinewidth\":0,\"ticks\":\"\"}}],\"scatter\":[{\"fillpattern\":{\"fillmode\":\"overlay\",\"size\":10,\"solidity\":0.2},\"type\":\"scatter\"}],\"parcoords\":[{\"type\":\"parcoords\",\"line\":{\"colorbar\":{\"outlinewidth\":0,\"ticks\":\"\"}}}],\"scatterpolargl\":[{\"type\":\"scatterpolargl\",\"marker\":{\"colorbar\":{\"outlinewidth\":0,\"ticks\":\"\"}}}],\"bar\":[{\"error_x\":{\"color\":\"#2a3f5f\"},\"error_y\":{\"color\":\"#2a3f5f\"},\"marker\":{\"line\":{\"color\":\"#E5ECF6\",\"width\":0.5},\"pattern\":{\"fillmode\":\"overlay\",\"size\":10,\"solidity\":0.2}},\"type\":\"bar\"}],\"scattergeo\":[{\"type\":\"scattergeo\",\"marker\":{\"colorbar\":{\"outlinewidth\":0,\"ticks\":\"\"}}}],\"scatterpolar\":[{\"type\":\"scatterpolar\",\"marker\":{\"colorbar\":{\"outlinewidth\":0,\"ticks\":\"\"}}}],\"histogram\":[{\"marker\":{\"pattern\":{\"fillmode\":\"overlay\",\"size\":10,\"solidity\":0.2}},\"type\":\"histogram\"}],\"scattergl\":[{\"type\":\"scattergl\",\"marker\":{\"colorbar\":{\"outlinewidth\":0,\"ticks\":\"\"}}}],\"scatter3d\":[{\"type\":\"scatter3d\",\"line\":{\"colorbar\":{\"outlinewidth\":0,\"ticks\":\"\"}},\"marker\":{\"colorbar\":{\"outlinewidth\":0,\"ticks\":\"\"}}}],\"scattermapbox\":[{\"type\":\"scattermapbox\",\"marker\":{\"colorbar\":{\"outlinewidth\":0,\"ticks\":\"\"}}}],\"scatterternary\":[{\"type\":\"scatterternary\",\"marker\":{\"colorbar\":{\"outlinewidth\":0,\"ticks\":\"\"}}}],\"scattercarpet\":[{\"type\":\"scattercarpet\",\"marker\":{\"colorbar\":{\"outlinewidth\":0,\"ticks\":\"\"}}}],\"carpet\":[{\"aaxis\":{\"endlinecolor\":\"#2a3f5f\",\"gridcolor\":\"white\",\"linecolor\":\"white\",\"minorgridcolor\":\"white\",\"startlinecolor\":\"#2a3f5f\"},\"baxis\":{\"endlinecolor\":\"#2a3f5f\",\"gridcolor\":\"white\",\"linecolor\":\"white\",\"minorgridcolor\":\"white\",\"startlinecolor\":\"#2a3f5f\"},\"type\":\"carpet\"}],\"table\":[{\"cells\":{\"fill\":{\"color\":\"#EBF0F8\"},\"line\":{\"color\":\"white\"}},\"header\":{\"fill\":{\"color\":\"#C8D4E3\"},\"line\":{\"color\":\"white\"}},\"type\":\"table\"}],\"barpolar\":[{\"marker\":{\"line\":{\"color\":\"#E5ECF6\",\"width\":0.5},\"pattern\":{\"fillmode\":\"overlay\",\"size\":10,\"solidity\":0.2}},\"type\":\"barpolar\"}],\"pie\":[{\"automargin\":true,\"type\":\"pie\"}]},\"layout\":{\"autotypenumbers\":\"strict\",\"colorway\":[\"#636efa\",\"#EF553B\",\"#00cc96\",\"#ab63fa\",\"#FFA15A\",\"#19d3f3\",\"#FF6692\",\"#B6E880\",\"#FF97FF\",\"#FECB52\"],\"font\":{\"color\":\"#2a3f5f\"},\"hovermode\":\"closest\",\"hoverlabel\":{\"align\":\"left\"},\"paper_bgcolor\":\"white\",\"plot_bgcolor\":\"#E5ECF6\",\"polar\":{\"bgcolor\":\"#E5ECF6\",\"angularaxis\":{\"gridcolor\":\"white\",\"linecolor\":\"white\",\"ticks\":\"\"},\"radialaxis\":{\"gridcolor\":\"white\",\"linecolor\":\"white\",\"ticks\":\"\"}},\"ternary\":{\"bgcolor\":\"#E5ECF6\",\"aaxis\":{\"gridcolor\":\"white\",\"linecolor\":\"white\",\"ticks\":\"\"},\"baxis\":{\"gridcolor\":\"white\",\"linecolor\":\"white\",\"ticks\":\"\"},\"caxis\":{\"gridcolor\":\"white\",\"linecolor\":\"white\",\"ticks\":\"\"}},\"coloraxis\":{\"colorbar\":{\"outlinewidth\":0,\"ticks\":\"\"}},\"colorscale\":{\"sequential\":[[0.0,\"#0d0887\"],[0.1111111111111111,\"#46039f\"],[0.2222222222222222,\"#7201a8\"],[0.3333333333333333,\"#9c179e\"],[0.4444444444444444,\"#bd3786\"],[0.5555555555555556,\"#d8576b\"],[0.6666666666666666,\"#ed7953\"],[0.7777777777777778,\"#fb9f3a\"],[0.8888888888888888,\"#fdca26\"],[1.0,\"#f0f921\"]],\"sequentialminus\":[[0.0,\"#0d0887\"],[0.1111111111111111,\"#46039f\"],[0.2222222222222222,\"#7201a8\"],[0.3333333333333333,\"#9c179e\"],[0.4444444444444444,\"#bd3786\"],[0.5555555555555556,\"#d8576b\"],[0.6666666666666666,\"#ed7953\"],[0.7777777777777778,\"#fb9f3a\"],[0.8888888888888888,\"#fdca26\"],[1.0,\"#f0f921\"]],\"diverging\":[[0,\"#8e0152\"],[0.1,\"#c51b7d\"],[0.2,\"#de77ae\"],[0.3,\"#f1b6da\"],[0.4,\"#fde0ef\"],[0.5,\"#f7f7f7\"],[0.6,\"#e6f5d0\"],[0.7,\"#b8e186\"],[0.8,\"#7fbc41\"],[0.9,\"#4d9221\"],[1,\"#276419\"]]},\"xaxis\":{\"gridcolor\":\"white\",\"linecolor\":\"white\",\"ticks\":\"\",\"title\":{\"standoff\":15},\"zerolinecolor\":\"white\",\"automargin\":true,\"zerolinewidth\":2},\"yaxis\":{\"gridcolor\":\"white\",\"linecolor\":\"white\",\"ticks\":\"\",\"title\":{\"standoff\":15},\"zerolinecolor\":\"white\",\"automargin\":true,\"zerolinewidth\":2},\"scene\":{\"xaxis\":{\"backgroundcolor\":\"#E5ECF6\",\"gridcolor\":\"white\",\"linecolor\":\"white\",\"showbackground\":true,\"ticks\":\"\",\"zerolinecolor\":\"white\",\"gridwidth\":2},\"yaxis\":{\"backgroundcolor\":\"#E5ECF6\",\"gridcolor\":\"white\",\"linecolor\":\"white\",\"showbackground\":true,\"ticks\":\"\",\"zerolinecolor\":\"white\",\"gridwidth\":2},\"zaxis\":{\"backgroundcolor\":\"#E5ECF6\",\"gridcolor\":\"white\",\"linecolor\":\"white\",\"showbackground\":true,\"ticks\":\"\",\"zerolinecolor\":\"white\",\"gridwidth\":2}},\"shapedefaults\":{\"line\":{\"color\":\"#2a3f5f\"}},\"annotationdefaults\":{\"arrowcolor\":\"#2a3f5f\",\"arrowhead\":0,\"arrowwidth\":1},\"geo\":{\"bgcolor\":\"white\",\"landcolor\":\"#E5ECF6\",\"subunitcolor\":\"white\",\"showland\":true,\"showlakes\":true,\"lakecolor\":\"white\"},\"title\":{\"x\":0.05},\"mapbox\":{\"style\":\"light\"}}},\"scene\":{\"domain\":{\"x\":[0.0,1.0],\"y\":[0.0,1.0]},\"xaxis\":{\"title\":{\"text\":\"z\"},\"autorange\":\"reversed\"},\"yaxis\":{\"title\":{\"text\":\"x\"}},\"zaxis\":{\"title\":{\"text\":\"y\"},\"autorange\":\"reversed\"}},\"legend\":{\"title\":{\"text\":\"line\"},\"tracegroupgap\":0},\"margin\":{\"t\":60}},                        {\"responsive\": true}                    ).then(function(){\n",
                            "                            \n",
                            "var gd = document.getElementById('c6b261c8-6674-4242-8b65-a58fdb157d63');\n",
                            "var x = new MutationObserver(function (mutations, observer) {{\n",
                            "        var display = window.getComputedStyle(gd).display;\n",
                            "        if (!display || display === 'none') {{\n",
                            "            console.log([gd, 'removed!']);\n",
                            "            Plotly.purge(gd);\n",
                            "            observer.disconnect();\n",
                            "        }}\n",
                            "}});\n",
                            "\n",
                            "// Listen for the removal of the full notebook cells\n",
                            "var notebookContainer = gd.closest('#notebook-container');\n",
                            "if (notebookContainer) {{\n",
                            "    x.observe(notebookContainer, {childList: true});\n",
                            "}}\n",
                            "\n",
                            "// Listen for the clearing of the current output cell\n",
                            "var outputEl = gd.closest('.output');\n",
                            "if (outputEl) {{\n",
                            "    x.observe(outputEl, {childList: true});\n",
                            "}}\n",
                            "\n",
                            "                        })                };                });            </script>        </div>"
                        ]
                    },
                    "metadata": {},
                    "output_type": "display_data"
                }
            ],
            "source": [
                "model = trainer.model.to(device)\n",
                "model.eval()\n",
                "estimated_pose = model(torch.flatten(torch.tensor(sample[0])).unsqueeze(0).float().to(device), 0)\n",
                "estimated_pose_df = pd.DataFrame(\n",
                "    generate_connection_line(\n",
                "        estimated_pose[0].cpu().reshape([-1, 3]).detach().numpy(),\n",
                "        # np.argwhere(valid_keypoints).reshape(-1)\n",
                "    )\n",
                ")\n",
                "visualize_pose(estimated_pose_df)"
            ]
        },
        {
            "cell_type": "code",
            "execution_count": null,
            "metadata": {},
            "outputs": [],
            "source": []
        }
    ],
    "metadata": {
        "kernelspec": {
            "display_name": "Python 3 (ipykernel)",
            "language": "python",
            "name": "python3"
        },
        "language_info": {
            "codemirror_mode": {
                "name": "ipython",
                "version": 3
            },
            "file_extension": ".py",
            "mimetype": "text/x-python",
            "name": "python",
            "nbconvert_exporter": "python",
            "pygments_lexer": "ipython3",
            "version": "3.10.11"
        },
        "orig_nbformat": 4,
        "vscode": {
            "interpreter": {
                "hash": "916dbcbb3f70747c44a77c7bcd40155683ae19c65e1c03b4aa3499c5328201f1"
            }
        }
    },
    "nbformat": 4,
    "nbformat_minor": 2
}