{
    "cells": [
        {
            "cell_type": "code",
            "execution_count": 1,
            "metadata": {},
            "outputs": [],
            "source": [
                "%load_ext autoreload\n",
                "%autoreload 2"
            ]
        },
        {
            "cell_type": "code",
            "execution_count": 2,
            "metadata": {},
            "outputs": [],
            "source": [
                "# !rm -rf saved_lifter_2d_3d_model/synthetic_cabin_bw/A_Pillar_Codriver/prediction/linear_model/lightning_logs"
            ]
        },
        {
            "cell_type": "code",
            "execution_count": 3,
            "metadata": {},
            "outputs": [],
            "source": [
                "import pandas as pd\n",
                "import numpy as np\n",
                "import torch\n",
                "import lightning.pytorch as pl\n",
                "import matplotlib.pyplot as plt\n",
                "# import plotly\n",
                "import plotly.express as px"
            ]
        },
        {
            "cell_type": "code",
            "execution_count": 4,
            "metadata": {},
            "outputs": [
                {
                    "name": "stderr",
                    "output_type": "stream",
                    "text": [
                        "Global seed set to 1234\n"
                    ]
                },
                {
                    "name": "stdout",
                    "output_type": "stream",
                    "text": [
                        "skipping problematic image 8853\n",
                        "skipping problematic image 8854\n",
                        "skipping problematic image 3283\n"
                    ]
                },
                {
                    "name": "stderr",
                    "output_type": "stream",
                    "text": [
                        "GPU available: True (cuda), used: True\n",
                        "TPU available: False, using: 0 TPU cores\n",
                        "IPU available: False, using: 0 IPUs\n",
                        "HPU available: False, using: 0 HPUs\n"
                    ]
                },
                {
                    "name": "stdout",
                    "output_type": "stream",
                    "text": [
                        "skipping problematic image 1497\n",
                        "train_dataset 1586 val_dataset 3059 test_dataset 5047\n"
                    ]
                },
                {
                    "name": "stderr",
                    "output_type": "stream",
                    "text": [
                        "LOCAL_RANK: 0 - CUDA_VISIBLE_DEVICES: [0]\n",
                        "\n",
                        "  | Name  | Type          | Params\n",
                        "----------------------------------------\n",
                        "0 | model | BaselineModel | 4.3 M \n",
                        "----------------------------------------\n",
                        "4.3 M     Trainable params\n",
                        "0         Non-trainable params\n",
                        "4.3 M     Total params\n",
                        "17.105    Total estimated model params size (MB)\n"
                    ]
                },
                {
                    "data": {
                        "application/vnd.jupyter.widget-view+json": {
                            "model_id": "3f82cddcf15a4a0180ade55f571a06e2",
                            "version_major": 2,
                            "version_minor": 0
                        },
                        "text/plain": [
                            "Sanity Checking: 0it [00:00, ?it/s]"
                        ]
                    },
                    "metadata": {},
                    "output_type": "display_data"
                },
                {
                    "name": "stdout",
                    "output_type": "stream",
                    "text": [
                        "check #0\n",
                        "val loss from: 2 batches : 1754.3398141860962\n"
                    ]
                },
                {
                    "name": "stderr",
                    "output_type": "stream",
                    "text": [
                        "/opt/conda/lib/python3.10/site-packages/pytorch_lightning/loops/fit_loop.py:280: PossibleUserWarning: The number of training batches (24) is smaller than the logging interval Trainer(log_every_n_steps=50). Set a lower value for log_every_n_steps if you want to see logs for the training epoch.\n",
                        "  rank_zero_warn(\n"
                    ]
                },
                {
                    "data": {
                        "application/vnd.jupyter.widget-view+json": {
                            "model_id": "62c435df537f4d9f9f42486eeb904ab5",
                            "version_major": 2,
                            "version_minor": 0
                        },
                        "text/plain": [
                            "Training: 0it [00:00, ?it/s]"
                        ]
                    },
                    "metadata": {},
                    "output_type": "display_data"
                },
                {
                    "data": {
                        "application/vnd.jupyter.widget-view+json": {
                            "model_id": "40d76d07f64246cd9b7c0bbb1ab663fc",
                            "version_major": 2,
                            "version_minor": 0
                        },
                        "text/plain": [
                            "Validation: 0it [00:00, ?it/s]"
                        ]
                    },
                    "metadata": {},
                    "output_type": "display_data"
                },
                {
                    "name": "stdout",
                    "output_type": "stream",
                    "text": [
                        "check #1\n",
                        "training loss from 120 batches: 1614.8121813933053\n",
                        "val loss from: 47 batches : 575.0190951722733\n"
                    ]
                },
                {
                    "data": {
                        "application/vnd.jupyter.widget-view+json": {
                            "model_id": "555b2a6db684451c84483a071b04ff8b",
                            "version_major": 2,
                            "version_minor": 0
                        },
                        "text/plain": [
                            "Validation: 0it [00:00, ?it/s]"
                        ]
                    },
                    "metadata": {},
                    "output_type": "display_data"
                },
                {
                    "name": "stdout",
                    "output_type": "stream",
                    "text": [
                        "check #2\n",
                        "training loss from 120 batches: 971.035165588061\n",
                        "val loss from: 47 batches : 399.5043803402718\n"
                    ]
                },
                {
                    "data": {
                        "application/vnd.jupyter.widget-view+json": {
                            "model_id": "6e3800667422423697c9cc08c91e8044",
                            "version_major": 2,
                            "version_minor": 0
                        },
                        "text/plain": [
                            "Validation: 0it [00:00, ?it/s]"
                        ]
                    },
                    "metadata": {},
                    "output_type": "display_data"
                },
                {
                    "name": "stdout",
                    "output_type": "stream",
                    "text": [
                        "check #3\n",
                        "training loss from 120 batches: 698.6966984967391\n",
                        "val loss from: 47 batches : 305.29264249700185\n"
                    ]
                },
                {
                    "data": {
                        "application/vnd.jupyter.widget-view+json": {
                            "model_id": "0d16f3f8f6544f2790dd98283843ae2f",
                            "version_major": 2,
                            "version_minor": 0
                        },
                        "text/plain": [
                            "Validation: 0it [00:00, ?it/s]"
                        ]
                    },
                    "metadata": {},
                    "output_type": "display_data"
                },
                {
                    "name": "stdout",
                    "output_type": "stream",
                    "text": [
                        "check #4\n",
                        "training loss from 120 batches: 546.9334026177725\n",
                        "val loss from: 47 batches : 247.61987747030057\n"
                    ]
                },
                {
                    "data": {
                        "application/vnd.jupyter.widget-view+json": {
                            "model_id": "5d44f9dc1d5645f6b5b40e09ef910248",
                            "version_major": 2,
                            "version_minor": 0
                        },
                        "text/plain": [
                            "Validation: 0it [00:00, ?it/s]"
                        ]
                    },
                    "metadata": {},
                    "output_type": "display_data"
                },
                {
                    "name": "stdout",
                    "output_type": "stream",
                    "text": [
                        "check #5\n",
                        "training loss from 120 batches: 439.5402861138185\n",
                        "val loss from: 47 batches : 180.31606934172044\n"
                    ]
                },
                {
                    "data": {
                        "application/vnd.jupyter.widget-view+json": {
                            "model_id": "6a9e0e5d9e544f92b6de2b53b96eba04",
                            "version_major": 2,
                            "version_minor": 0
                        },
                        "text/plain": [
                            "Validation: 0it [00:00, ?it/s]"
                        ]
                    },
                    "metadata": {},
                    "output_type": "display_data"
                },
                {
                    "name": "stdout",
                    "output_type": "stream",
                    "text": [
                        "check #6\n",
                        "training loss from 120 batches: 371.2670100231966\n",
                        "val loss from: 47 batches : 167.25078367806495\n"
                    ]
                },
                {
                    "data": {
                        "application/vnd.jupyter.widget-view+json": {
                            "model_id": "fe210de270ea40b5a5784bd698311921",
                            "version_major": 2,
                            "version_minor": 0
                        },
                        "text/plain": [
                            "Validation: 0it [00:00, ?it/s]"
                        ]
                    },
                    "metadata": {},
                    "output_type": "display_data"
                },
                {
                    "name": "stdout",
                    "output_type": "stream",
                    "text": [
                        "check #7\n",
                        "training loss from 120 batches: 315.81570841372013\n",
                        "val loss from: 47 batches : 142.76415870544758\n"
                    ]
                },
                {
                    "data": {
                        "application/vnd.jupyter.widget-view+json": {
                            "model_id": "ab3d2ce854e1432fa5d34aeed22034a6",
                            "version_major": 2,
                            "version_minor": 0
                        },
                        "text/plain": [
                            "Validation: 0it [00:00, ?it/s]"
                        ]
                    },
                    "metadata": {},
                    "output_type": "display_data"
                },
                {
                    "name": "stdout",
                    "output_type": "stream",
                    "text": [
                        "check #8\n",
                        "training loss from 120 batches: 275.6991638491551\n",
                        "val loss from: 47 batches : 124.49973980163007\n"
                    ]
                },
                {
                    "data": {
                        "application/vnd.jupyter.widget-view+json": {
                            "model_id": "84329c1cff9948dbbcde08eb8516b3d6",
                            "version_major": 2,
                            "version_minor": 0
                        },
                        "text/plain": [
                            "Validation: 0it [00:00, ?it/s]"
                        ]
                    },
                    "metadata": {},
                    "output_type": "display_data"
                },
                {
                    "name": "stdout",
                    "output_type": "stream",
                    "text": [
                        "check #9\n",
                        "training loss from 120 batches: 247.52158025900522\n",
                        "val loss from: 47 batches : 113.42451864100516\n"
                    ]
                },
                {
                    "data": {
                        "application/vnd.jupyter.widget-view+json": {
                            "model_id": "37aae51e1277442d935c0af9f1648e65",
                            "version_major": 2,
                            "version_minor": 0
                        },
                        "text/plain": [
                            "Validation: 0it [00:00, ?it/s]"
                        ]
                    },
                    "metadata": {},
                    "output_type": "display_data"
                },
                {
                    "name": "stdout",
                    "output_type": "stream",
                    "text": [
                        "check #10\n",
                        "training loss from 120 batches: 226.68782137334347\n",
                        "val loss from: 47 batches : 113.0109799510621\n"
                    ]
                },
                {
                    "data": {
                        "application/vnd.jupyter.widget-view+json": {
                            "model_id": "4f3e5cfc5a7f48268c931f299b706b10",
                            "version_major": 2,
                            "version_minor": 0
                        },
                        "text/plain": [
                            "Validation: 0it [00:00, ?it/s]"
                        ]
                    },
                    "metadata": {},
                    "output_type": "display_data"
                },
                {
                    "name": "stdout",
                    "output_type": "stream",
                    "text": [
                        "check #11\n",
                        "training loss from 120 batches: 212.2537744541963\n",
                        "val loss from: 47 batches : 91.1854567362907\n"
                    ]
                },
                {
                    "data": {
                        "application/vnd.jupyter.widget-view+json": {
                            "model_id": "2eeecb5c39d141c493fcab1d8fbe2cda",
                            "version_major": 2,
                            "version_minor": 0
                        },
                        "text/plain": [
                            "Validation: 0it [00:00, ?it/s]"
                        ]
                    },
                    "metadata": {},
                    "output_type": "display_data"
                },
                {
                    "name": "stdout",
                    "output_type": "stream",
                    "text": [
                        "check #12\n",
                        "training loss from 120 batches: 200.92059932649136\n",
                        "val loss from: 47 batches : 101.84759369238894\n"
                    ]
                },
                {
                    "data": {
                        "application/vnd.jupyter.widget-view+json": {
                            "model_id": "4a2b408a02384dedbe8f2a4cdfedffb0",
                            "version_major": 2,
                            "version_minor": 0
                        },
                        "text/plain": [
                            "Validation: 0it [00:00, ?it/s]"
                        ]
                    },
                    "metadata": {},
                    "output_type": "display_data"
                },
                {
                    "name": "stdout",
                    "output_type": "stream",
                    "text": [
                        "check #13\n",
                        "training loss from 120 batches: 190.58477791647115\n",
                        "val loss from: 47 batches : 95.35538159469341\n"
                    ]
                },
                {
                    "data": {
                        "application/vnd.jupyter.widget-view+json": {
                            "model_id": "a6e57f83b8ab4f61852f02fbcc714101",
                            "version_major": 2,
                            "version_minor": 0
                        },
                        "text/plain": [
                            "Validation: 0it [00:00, ?it/s]"
                        ]
                    },
                    "metadata": {},
                    "output_type": "display_data"
                },
                {
                    "name": "stdout",
                    "output_type": "stream",
                    "text": [
                        "check #14\n",
                        "training loss from 120 batches: 184.1707507769267\n",
                        "val loss from: 47 batches : 89.27688715939826\n"
                    ]
                },
                {
                    "data": {
                        "application/vnd.jupyter.widget-view+json": {
                            "model_id": "3e2386589bb04dbb8d95d5df71e782db",
                            "version_major": 2,
                            "version_minor": 0
                        },
                        "text/plain": [
                            "Validation: 0it [00:00, ?it/s]"
                        ]
                    },
                    "metadata": {},
                    "output_type": "display_data"
                },
                {
                    "name": "stdout",
                    "output_type": "stream",
                    "text": [
                        "check #15\n",
                        "training loss from 120 batches: 175.97180288285017\n",
                        "val loss from: 47 batches : 87.04587682447534\n"
                    ]
                },
                {
                    "data": {
                        "application/vnd.jupyter.widget-view+json": {
                            "model_id": "4cbc6c5abf2e4321b99ed05a535875e0",
                            "version_major": 2,
                            "version_minor": 0
                        },
                        "text/plain": [
                            "Validation: 0it [00:00, ?it/s]"
                        ]
                    },
                    "metadata": {},
                    "output_type": "display_data"
                },
                {
                    "name": "stdout",
                    "output_type": "stream",
                    "text": [
                        "check #16\n",
                        "training loss from 120 batches: 171.15326101581255\n",
                        "val loss from: 47 batches : 87.84373096646146\n"
                    ]
                },
                {
                    "data": {
                        "application/vnd.jupyter.widget-view+json": {
                            "model_id": "cdb560bbb15e4abcb83c0fc781f2cc80",
                            "version_major": 2,
                            "version_minor": 0
                        },
                        "text/plain": [
                            "Validation: 0it [00:00, ?it/s]"
                        ]
                    },
                    "metadata": {},
                    "output_type": "display_data"
                },
                {
                    "name": "stdout",
                    "output_type": "stream",
                    "text": [
                        "check #17\n",
                        "training loss from 120 batches: 166.8106636653344\n",
                        "val loss from: 47 batches : 86.34642353083224\n"
                    ]
                },
                {
                    "data": {
                        "application/vnd.jupyter.widget-view+json": {
                            "model_id": "f64d38d8257246c1a51c40165c9c1546",
                            "version_major": 2,
                            "version_minor": 0
                        },
                        "text/plain": [
                            "Validation: 0it [00:00, ?it/s]"
                        ]
                    },
                    "metadata": {},
                    "output_type": "display_data"
                },
                {
                    "name": "stdout",
                    "output_type": "stream",
                    "text": [
                        "check #18\n",
                        "training loss from 120 batches: 164.74935139218965\n",
                        "val loss from: 47 batches : 85.47788580998461\n"
                    ]
                },
                {
                    "data": {
                        "application/vnd.jupyter.widget-view+json": {
                            "model_id": "8168505f51eb4d3c9e04487ae2628c81",
                            "version_major": 2,
                            "version_minor": 0
                        },
                        "text/plain": [
                            "Validation: 0it [00:00, ?it/s]"
                        ]
                    },
                    "metadata": {},
                    "output_type": "display_data"
                },
                {
                    "name": "stdout",
                    "output_type": "stream",
                    "text": [
                        "check #19\n",
                        "training loss from 120 batches: 160.3943711767594\n",
                        "val loss from: 47 batches : 83.80823106841838\n"
                    ]
                },
                {
                    "data": {
                        "application/vnd.jupyter.widget-view+json": {
                            "model_id": "a30ad4dbabcd4511b7e58dc47bc5870c",
                            "version_major": 2,
                            "version_minor": 0
                        },
                        "text/plain": [
                            "Validation: 0it [00:00, ?it/s]"
                        ]
                    },
                    "metadata": {},
                    "output_type": "display_data"
                },
                {
                    "name": "stdout",
                    "output_type": "stream",
                    "text": [
                        "check #20\n",
                        "training loss from 120 batches: 159.8098595937093\n",
                        "val loss from: 47 batches : 82.12840279683154\n"
                    ]
                },
                {
                    "data": {
                        "application/vnd.jupyter.widget-view+json": {
                            "model_id": "a45d1189ba454f52bed2c7eb61437648",
                            "version_major": 2,
                            "version_minor": 0
                        },
                        "text/plain": [
                            "Validation: 0it [00:00, ?it/s]"
                        ]
                    },
                    "metadata": {},
                    "output_type": "display_data"
                },
                {
                    "name": "stdout",
                    "output_type": "stream",
                    "text": [
                        "check #21\n",
                        "training loss from 120 batches: 157.28208981454372\n",
                        "val loss from: 47 batches : 79.42517339549165\n"
                    ]
                },
                {
                    "data": {
                        "application/vnd.jupyter.widget-view+json": {
                            "model_id": "833e34612e1b4c18858ba6c9400fa999",
                            "version_major": 2,
                            "version_minor": 0
                        },
                        "text/plain": [
                            "Validation: 0it [00:00, ?it/s]"
                        ]
                    },
                    "metadata": {},
                    "output_type": "display_data"
                },
                {
                    "name": "stdout",
                    "output_type": "stream",
                    "text": [
                        "check #22\n",
                        "training loss from 120 batches: 156.08047265559435\n",
                        "val loss from: 47 batches : 78.66132338630392\n"
                    ]
                },
                {
                    "data": {
                        "application/vnd.jupyter.widget-view+json": {
                            "model_id": "4c2ed077916144c8ae9606fc7c05c5ff",
                            "version_major": 2,
                            "version_minor": 0
                        },
                        "text/plain": [
                            "Validation: 0it [00:00, ?it/s]"
                        ]
                    },
                    "metadata": {},
                    "output_type": "display_data"
                },
                {
                    "name": "stdout",
                    "output_type": "stream",
                    "text": [
                        "check #23\n",
                        "training loss from 120 batches: 155.77972636868557\n",
                        "val loss from: 47 batches : 79.74974264172798\n"
                    ]
                },
                {
                    "data": {
                        "application/vnd.jupyter.widget-view+json": {
                            "model_id": "fba1757980114e6399277ebacfa04824",
                            "version_major": 2,
                            "version_minor": 0
                        },
                        "text/plain": [
                            "Validation: 0it [00:00, ?it/s]"
                        ]
                    },
                    "metadata": {},
                    "output_type": "display_data"
                },
                {
                    "name": "stdout",
                    "output_type": "stream",
                    "text": [
                        "check #24\n",
                        "training loss from 120 batches: 155.37484294424456\n",
                        "val loss from: 47 batches : 78.5451887294333\n"
                    ]
                },
                {
                    "data": {
                        "application/vnd.jupyter.widget-view+json": {
                            "model_id": "78093d26c3984b35828a4c394536997a",
                            "version_major": 2,
                            "version_minor": 0
                        },
                        "text/plain": [
                            "Validation: 0it [00:00, ?it/s]"
                        ]
                    },
                    "metadata": {},
                    "output_type": "display_data"
                },
                {
                    "name": "stdout",
                    "output_type": "stream",
                    "text": [
                        "check #25\n",
                        "training loss from 120 batches: 155.80128816266856\n",
                        "val loss from: 47 batches : 81.98873659080648\n"
                    ]
                },
                {
                    "data": {
                        "application/vnd.jupyter.widget-view+json": {
                            "model_id": "46420e7ada9740209abe6d67f71f0c84",
                            "version_major": 2,
                            "version_minor": 0
                        },
                        "text/plain": [
                            "Validation: 0it [00:00, ?it/s]"
                        ]
                    },
                    "metadata": {},
                    "output_type": "display_data"
                },
                {
                    "name": "stdout",
                    "output_type": "stream",
                    "text": [
                        "check #26\n",
                        "training loss from 120 batches: 153.04309154550236\n",
                        "val loss from: 47 batches : 80.49243458725036\n"
                    ]
                },
                {
                    "data": {
                        "application/vnd.jupyter.widget-view+json": {
                            "model_id": "fccbfa02cd754db1b1a9983d9766503b",
                            "version_major": 2,
                            "version_minor": 0
                        },
                        "text/plain": [
                            "Validation: 0it [00:00, ?it/s]"
                        ]
                    },
                    "metadata": {},
                    "output_type": "display_data"
                },
                {
                    "name": "stdout",
                    "output_type": "stream",
                    "text": [
                        "check #27\n",
                        "training loss from 120 batches: 151.17188338190317\n",
                        "val loss from: 47 batches : 80.21278401955645\n"
                    ]
                },
                {
                    "data": {
                        "application/vnd.jupyter.widget-view+json": {
                            "model_id": "ebb93e8f4d644fd39be12fa01a317439",
                            "version_major": 2,
                            "version_minor": 0
                        },
                        "text/plain": [
                            "Validation: 0it [00:00, ?it/s]"
                        ]
                    },
                    "metadata": {},
                    "output_type": "display_data"
                },
                {
                    "name": "stdout",
                    "output_type": "stream",
                    "text": [
                        "check #28\n",
                        "training loss from 120 batches: 151.245780599614\n",
                        "val loss from: 47 batches : 80.62159721838667\n"
                    ]
                },
                {
                    "data": {
                        "application/vnd.jupyter.widget-view+json": {
                            "model_id": "b6d2046c17c649eeadf47b7210fc71b7",
                            "version_major": 2,
                            "version_minor": 0
                        },
                        "text/plain": [
                            "Validation: 0it [00:00, ?it/s]"
                        ]
                    },
                    "metadata": {},
                    "output_type": "display_data"
                },
                {
                    "name": "stdout",
                    "output_type": "stream",
                    "text": [
                        "check #29\n",
                        "training loss from 120 batches: 153.3722311879198\n",
                        "val loss from: 47 batches : 78.4867506553518\n"
                    ]
                },
                {
                    "data": {
                        "application/vnd.jupyter.widget-view+json": {
                            "model_id": "5a093ae00415429db90d0b7198afdfc9",
                            "version_major": 2,
                            "version_minor": 0
                        },
                        "text/plain": [
                            "Validation: 0it [00:00, ?it/s]"
                        ]
                    },
                    "metadata": {},
                    "output_type": "display_data"
                },
                {
                    "name": "stdout",
                    "output_type": "stream",
                    "text": [
                        "check #30\n",
                        "training loss from 120 batches: 152.83028253664574\n",
                        "val loss from: 47 batches : 76.84547240112691\n"
                    ]
                },
                {
                    "data": {
                        "application/vnd.jupyter.widget-view+json": {
                            "model_id": "4e13b41bec5b45f690b380f9dca1e351",
                            "version_major": 2,
                            "version_minor": 0
                        },
                        "text/plain": [
                            "Validation: 0it [00:00, ?it/s]"
                        ]
                    },
                    "metadata": {},
                    "output_type": "display_data"
                },
                {
                    "name": "stdout",
                    "output_type": "stream",
                    "text": [
                        "check #31\n",
                        "training loss from 120 batches: 152.02814464767775\n",
                        "val loss from: 47 batches : 81.60067476490711\n"
                    ]
                },
                {
                    "data": {
                        "application/vnd.jupyter.widget-view+json": {
                            "model_id": "d7fb05e79ffa454e8f858a2a934648af",
                            "version_major": 2,
                            "version_minor": 0
                        },
                        "text/plain": [
                            "Validation: 0it [00:00, ?it/s]"
                        ]
                    },
                    "metadata": {},
                    "output_type": "display_data"
                },
                {
                    "name": "stdout",
                    "output_type": "stream",
                    "text": [
                        "check #32\n",
                        "training loss from 120 batches: 150.58725737035275\n",
                        "val loss from: 47 batches : 77.10838214831149\n"
                    ]
                },
                {
                    "data": {
                        "application/vnd.jupyter.widget-view+json": {
                            "model_id": "191c18d063ae4eb38096049b5ca6e065",
                            "version_major": 2,
                            "version_minor": 0
                        },
                        "text/plain": [
                            "Validation: 0it [00:00, ?it/s]"
                        ]
                    },
                    "metadata": {},
                    "output_type": "display_data"
                },
                {
                    "name": "stdout",
                    "output_type": "stream",
                    "text": [
                        "check #33\n",
                        "training loss from 120 batches: 151.56983273724714\n",
                        "val loss from: 47 batches : 80.03082772360203\n"
                    ]
                },
                {
                    "data": {
                        "application/vnd.jupyter.widget-view+json": {
                            "model_id": "1b052a054866400caaec3409458473e4",
                            "version_major": 2,
                            "version_minor": 0
                        },
                        "text/plain": [
                            "Validation: 0it [00:00, ?it/s]"
                        ]
                    },
                    "metadata": {},
                    "output_type": "display_data"
                },
                {
                    "name": "stdout",
                    "output_type": "stream",
                    "text": [
                        "check #34\n",
                        "training loss from 120 batches: 150.61782536407313\n",
                        "val loss from: 47 batches : 76.89373401251245\n"
                    ]
                },
                {
                    "data": {
                        "application/vnd.jupyter.widget-view+json": {
                            "model_id": "c1c4918261d24f309bad89ef0b4ead4e",
                            "version_major": 2,
                            "version_minor": 0
                        },
                        "text/plain": [
                            "Validation: 0it [00:00, ?it/s]"
                        ]
                    },
                    "metadata": {},
                    "output_type": "display_data"
                },
                {
                    "name": "stdout",
                    "output_type": "stream",
                    "text": [
                        "check #35\n",
                        "training loss from 120 batches: 149.92819782346487\n",
                        "val loss from: 47 batches : 79.4635222471775\n"
                    ]
                }
            ],
            "source": [
                "import os\n",
                "import torch\n",
                "import pandas as pd\n",
                "import numpy as np\n",
                "import pytorch_lightning as pl\n",
                "from pytorch_lightning.callbacks import ModelCheckpoint\n",
                "from pytorch_lightning.callbacks.early_stopping import EarlyStopping\n",
                "from torch.nn import functional as F\n",
                "from torch.utils.data import DataLoader, random_split\n",
                "from modules.lifter_2d_3d.model.linear_model.linear_model import BaselineModel\n",
                "from modules.lifter_2d_3d.dataset.simple_keypoint_dataset import SimpleKeypointDataset\n",
                "from modules.lifter_2d_3d.model.linear_model.lit_linear_model import LitSimpleBaselineLinear\n",
                "from modules.utils.visualization import generate_connection_line, get_sample_from_loader, visualize_pose\n",
                "from IPython.display import display\n",
                "\n",
                "pl.seed_everything(1234)\n",
                "\n",
                "train_dataset = SimpleKeypointDataset(\n",
                "    # prediction_file=\"/root/data/processed/synthetic_cabin_bw/A_Pillar_Codriver/keypoint_detection_results/keypoint_detection_train.json\",\n",
                "    # annotation_file=\"/root/data/processed/synthetic_cabin_bw/A_Pillar_Codriver/annotations/person_keypoints_train.json\",\n",
                "    prediction_file=\"/root/data/processed/drive_and_act_train_with_vp1/keypoint_detection_results/keypoint_detection_train.json\",\n",
                "    annotation_file=\"/root/data/processed/drive_and_act_train_with_vp1/annotations/person_keypoints_train.json\",\n",
                "    image_width=1280,\n",
                "    image_height=1024,\n",
                "    exclude_ankle=True,\n",
                "    exclude_knee=True\n",
                ")\n",
                "val_dataset = SimpleKeypointDataset(\n",
                "    # prediction_file=\"/root/data/processed/synthetic_cabin_bw/A_Pillar_Codriver/keypoint_detection_results/keypoint_detection_val.json\",\n",
                "    # annotation_file=\"/root/data/processed/synthetic_cabin_bw/A_Pillar_Codriver/annotations/person_keypoints_val.json\",\n",
                "    prediction_file=\"/root/data/processed/drive_and_act_train_with_vp1/keypoint_detection_results/keypoint_detection_val.json\",\n",
                "    annotation_file=\"//root/data/processed/drive_and_act_train_with_vp1/annotations/person_keypoints_val.json\",\n",
                "    image_width=1280,\n",
                "    image_height=1024,\n",
                "    exclude_ankle=True,\n",
                "    exclude_knee=True\n",
                ")\n",
                "test_dataset = SimpleKeypointDataset(\n",
                "    # prediction_file=\"/root/data/processed/synthetic_cabin_bw/A_Pillar_Codriver/keypoint_detection_results/keypoint_detection_test.json\",\n",
                "    # annotation_file=\"/root/data/processed/synthetic_cabin_bw/A_Pillar_Codriver/annotations/person_keypoints_test.json\",\n",
                "    prediction_file=\"/root/data/processed/drive_and_act_train_with_vp1/keypoint_detection_results/keypoint_detection_test.json\",\n",
                "    annotation_file=\"/root/data/processed/drive_and_act_train_with_vp1/annotations/person_keypoints_test.json\",\n",
                "    image_width=1280,\n",
                "    image_height=1024,\n",
                "    exclude_ankle=True,\n",
                "    exclude_knee=True\n",
                ")\n",
                "\n",
                "print(\n",
                "    'train_dataset', len(train_dataset),\n",
                "    'val_dataset', len(val_dataset),\n",
                "    'test_dataset', len(test_dataset)\n",
                ")\n",
                "train_loader = DataLoader(train_dataset, batch_size=64, drop_last=True, shuffle=True, num_workers=24)\n",
                "val_loader = DataLoader(val_dataset, batch_size=64, drop_last=True, num_workers=24)\n",
                "test_loader = DataLoader(test_dataset, batch_size=64, num_workers=24)\n",
                "\n",
                "model_checkpoint = ModelCheckpoint(monitor='val_loss',mode='min', save_top_k=1)\n",
                "early_stopping = EarlyStopping(monitor=\"val_loss\", mode=\"min\", patience=5)\n",
                "\n",
                "# ------------\n",
                "# model\n",
                "# ------------\n",
                "lit_model = LitSimpleBaselineLinear(exclude_ankle=True, exclude_knee=True)\n",
                "# ------------\n",
                "# training\n",
                "# ------------\n",
                "# saved_model_path = './saved_lifter_2d_3d_model/synthetic_cabin_bw/A_Pillar_Codriver/prediction/linear_model/'\n",
                "saved_model_path = './saved_lifter_2d_3d_model/drive_and_act_train_with_vp1/prediction/linear_model'\n",
                "if not os.path.exists(saved_model_path):\n",
                "    os.makedirs(saved_model_path)\n",
                "\n",
                "device = 'cuda' if torch.cuda.is_available() else 'cpu'\n",
                "trainer = pl.Trainer(\n",
                "    # max_steps=10,\n",
                "    max_epochs=200,\n",
                "    callbacks=[model_checkpoint, early_stopping],\n",
                "    accelerator=device,\n",
                "    check_val_every_n_epoch=5,\n",
                "    default_root_dir=saved_model_path,\n",
                "    gradient_clip_val=1.0\n",
                ")\n",
                "trainer.fit(lit_model, train_loader, val_loader)"
            ]
        },
        {
            "cell_type": "code",
            "execution_count": 6,
            "metadata": {},
            "outputs": [],
            "source": [
                "# best_checkpoint_path = model_checkpoint.best_model_path\n",
                "# trainer.test(ckpt_path=best_checkpoint_path, dataloaders=test_loader)"
            ]
        },
        {
            "cell_type": "code",
            "execution_count": 13,
            "metadata": {},
            "outputs": [],
            "source": [
                "sample = get_sample_from_loader(val_loader, 1783)"
            ]
        },
        {
            "cell_type": "code",
            "execution_count": 14,
            "metadata": {},
            "outputs": [],
            "source": [
                "valid_keypoints = (sample[1].sum(axis=1) != 0)"
            ]
        },
        {
            "cell_type": "code",
            "execution_count": 15,
            "metadata": {},
            "outputs": [
                {
                    "data": {
                        "application/vnd.plotly.v1+json": {
                            "config": {
                                "plotlyServerURL": "https://plot.ly"
                            },
                            "data": [
                                {
                                    "hovertemplate": "line=nose_left_eye<br>z=%{x}<br>x=%{y}<br>y=%{z}<extra></extra>",
                                    "legendgroup": "nose_left_eye",
                                    "line": {
                                        "color": "#636efa",
                                        "dash": "solid"
                                    },
                                    "marker": {
                                        "symbol": "circle"
                                    },
                                    "mode": "lines",
                                    "name": "nose_left_eye",
                                    "scene": "scene",
                                    "showlegend": true,
                                    "type": "scatter3d",
                                    "x": [
                                        0.5094798803329468,
                                        0.5026031136512756
                                    ],
                                    "y": [
                                        0.178576573729515,
                                        0.2198977023363113
                                    ],
                                    "z": [
                                        -0.1664976775646209,
                                        -0.1886537969112396
                                    ]
                                },
                                {
                                    "hovertemplate": "line=nose_right_eye<br>z=%{x}<br>x=%{y}<br>y=%{z}<extra></extra>",
                                    "legendgroup": "nose_right_eye",
                                    "line": {
                                        "color": "#EF553B",
                                        "dash": "solid"
                                    },
                                    "marker": {
                                        "symbol": "circle"
                                    },
                                    "mode": "lines",
                                    "name": "nose_right_eye",
                                    "scene": "scene",
                                    "showlegend": true,
                                    "type": "scatter3d",
                                    "x": [
                                        0.5094798803329468,
                                        0.4972434043884277
                                    ],
                                    "y": [
                                        0.178576573729515,
                                        0.1543464064598083
                                    ],
                                    "z": [
                                        -0.1664976775646209,
                                        -0.2033811956644058
                                    ]
                                },
                                {
                                    "hovertemplate": "line=left_right_eye<br>z=%{x}<br>x=%{y}<br>y=%{z}<extra></extra>",
                                    "legendgroup": "left_right_eye",
                                    "line": {
                                        "color": "#00cc96",
                                        "dash": "solid"
                                    },
                                    "marker": {
                                        "symbol": "circle"
                                    },
                                    "mode": "lines",
                                    "name": "left_right_eye",
                                    "scene": "scene",
                                    "showlegend": true,
                                    "type": "scatter3d",
                                    "x": [
                                        0.5026031136512756,
                                        0.4972434043884277
                                    ],
                                    "y": [
                                        0.2198977023363113,
                                        0.1543464064598083
                                    ],
                                    "z": [
                                        -0.1886537969112396,
                                        -0.2033811956644058
                                    ]
                                },
                                {
                                    "hovertemplate": "line=right_ear_right_eye<br>z=%{x}<br>x=%{y}<br>y=%{z}<extra></extra>",
                                    "legendgroup": "right_ear_right_eye",
                                    "line": {
                                        "color": "#ab63fa",
                                        "dash": "solid"
                                    },
                                    "marker": {
                                        "symbol": "circle"
                                    },
                                    "mode": "lines",
                                    "name": "right_ear_right_eye",
                                    "scene": "scene",
                                    "showlegend": true,
                                    "type": "scatter3d",
                                    "x": [
                                        0.4972434043884277,
                                        0.5491778254508972
                                    ],
                                    "y": [
                                        0.1543464064598083,
                                        0.1304467469453811
                                    ],
                                    "z": [
                                        -0.2033811956644058,
                                        -0.2847358286380768
                                    ]
                                },
                                {
                                    "hovertemplate": "line=left_shoulder_right_sholder<br>z=%{x}<br>x=%{y}<br>y=%{z}<extra></extra>",
                                    "legendgroup": "left_shoulder_right_sholder",
                                    "line": {
                                        "color": "#FFA15A",
                                        "dash": "solid"
                                    },
                                    "marker": {
                                        "symbol": "circle"
                                    },
                                    "mode": "lines",
                                    "name": "left_shoulder_right_sholder",
                                    "scene": "scene",
                                    "showlegend": true,
                                    "type": "scatter3d",
                                    "x": [
                                        0.7148073315620422,
                                        0.6347362399101257
                                    ],
                                    "y": [
                                        0.3248327374458313,
                                        0.0101029528304934
                                    ],
                                    "z": [
                                        -0.1904900521039962,
                                        -0.2062693685293197
                                    ]
                                },
                                {
                                    "hovertemplate": "line=left_sholder_left_elbow<br>z=%{x}<br>x=%{y}<br>y=%{z}<extra></extra>",
                                    "legendgroup": "left_sholder_left_elbow",
                                    "line": {
                                        "color": "#19d3f3",
                                        "dash": "solid"
                                    },
                                    "marker": {
                                        "symbol": "circle"
                                    },
                                    "mode": "lines",
                                    "name": "left_sholder_left_elbow",
                                    "scene": "scene",
                                    "showlegend": true,
                                    "type": "scatter3d",
                                    "x": [
                                        0.7148073315620422,
                                        0.626409113407135
                                    ],
                                    "y": [
                                        0.3248327374458313,
                                        0.4011011123657226
                                    ],
                                    "z": [
                                        -0.1904900521039962,
                                        0.033957976847887
                                    ]
                                },
                                {
                                    "hovertemplate": "line=right_shoulder_right_elbow<br>z=%{x}<br>x=%{y}<br>y=%{z}<extra></extra>",
                                    "legendgroup": "right_shoulder_right_elbow",
                                    "line": {
                                        "color": "#FF6692",
                                        "dash": "solid"
                                    },
                                    "marker": {
                                        "symbol": "circle"
                                    },
                                    "mode": "lines",
                                    "name": "right_shoulder_right_elbow",
                                    "scene": "scene",
                                    "showlegend": true,
                                    "type": "scatter3d",
                                    "x": [
                                        0.6347362399101257,
                                        0.6512272357940674
                                    ],
                                    "y": [
                                        0.0101029528304934,
                                        -0.2069834023714065
                                    ],
                                    "z": [
                                        -0.2062693685293197,
                                        -0.0370790883898735
                                    ]
                                },
                                {
                                    "hovertemplate": "line=right_shoulder_right_hip<br>z=%{x}<br>x=%{y}<br>y=%{z}<extra></extra>",
                                    "legendgroup": "right_shoulder_right_hip",
                                    "line": {
                                        "color": "#B6E880",
                                        "dash": "solid"
                                    },
                                    "marker": {
                                        "symbol": "circle"
                                    },
                                    "mode": "lines",
                                    "name": "right_shoulder_right_hip",
                                    "scene": "scene",
                                    "showlegend": true,
                                    "type": "scatter3d",
                                    "x": [
                                        0.6347362399101257,
                                        0.7810283303260803
                                    ],
                                    "y": [
                                        0.0101029528304934,
                                        0.1200298964977264
                                    ],
                                    "z": [
                                        -0.2062693685293197,
                                        0.244013100862503
                                    ]
                                },
                                {
                                    "hovertemplate": "line=left_elbow_left_wrist<br>z=%{x}<br>x=%{y}<br>y=%{z}<extra></extra>",
                                    "legendgroup": "left_elbow_left_wrist",
                                    "line": {
                                        "color": "#FF97FF",
                                        "dash": "solid"
                                    },
                                    "marker": {
                                        "symbol": "circle"
                                    },
                                    "mode": "lines",
                                    "name": "left_elbow_left_wrist",
                                    "scene": "scene",
                                    "showlegend": true,
                                    "type": "scatter3d",
                                    "x": [
                                        0.626409113407135,
                                        0.46894371509552
                                    ],
                                    "y": [
                                        0.4011011123657226,
                                        0.2061307281255722
                                    ],
                                    "z": [
                                        0.033957976847887,
                                        0.0441812202334404
                                    ]
                                },
                                {
                                    "hovertemplate": "line=right_elbow_right_wrist<br>z=%{x}<br>x=%{y}<br>y=%{z}<extra></extra>",
                                    "legendgroup": "right_elbow_right_wrist",
                                    "line": {
                                        "color": "#FECB52",
                                        "dash": "solid"
                                    },
                                    "marker": {
                                        "symbol": "circle"
                                    },
                                    "mode": "lines",
                                    "name": "right_elbow_right_wrist",
                                    "scene": "scene",
                                    "showlegend": true,
                                    "type": "scatter3d",
                                    "x": [
                                        0.6512272357940674,
                                        0.5761921405792236
                                    ],
                                    "y": [
                                        -0.2069834023714065,
                                        -0.0038661151193082
                                    ],
                                    "z": [
                                        -0.0370790883898735,
                                        0.0416712649166584
                                    ]
                                }
                            ],
                            "layout": {
                                "legend": {
                                    "title": {
                                        "text": "line"
                                    },
                                    "tracegroupgap": 0
                                },
                                "margin": {
                                    "t": 60
                                },
                                "scene": {
                                    "domain": {
                                        "x": [
                                            0,
                                            1
                                        ],
                                        "y": [
                                            0,
                                            1
                                        ]
                                    },
                                    "xaxis": {
                                        "autorange": "reversed",
                                        "title": {
                                            "text": "z"
                                        }
                                    },
                                    "yaxis": {
                                        "title": {
                                            "text": "x"
                                        }
                                    },
                                    "zaxis": {
                                        "autorange": "reversed",
                                        "title": {
                                            "text": "y"
                                        }
                                    }
                                },
                                "template": {
                                    "data": {
                                        "bar": [
                                            {
                                                "error_x": {
                                                    "color": "#2a3f5f"
                                                },
                                                "error_y": {
                                                    "color": "#2a3f5f"
                                                },
                                                "marker": {
                                                    "line": {
                                                        "color": "#E5ECF6",
                                                        "width": 0.5
                                                    },
                                                    "pattern": {
                                                        "fillmode": "overlay",
                                                        "size": 10,
                                                        "solidity": 0.2
                                                    }
                                                },
                                                "type": "bar"
                                            }
                                        ],
                                        "barpolar": [
                                            {
                                                "marker": {
                                                    "line": {
                                                        "color": "#E5ECF6",
                                                        "width": 0.5
                                                    },
                                                    "pattern": {
                                                        "fillmode": "overlay",
                                                        "size": 10,
                                                        "solidity": 0.2
                                                    }
                                                },
                                                "type": "barpolar"
                                            }
                                        ],
                                        "carpet": [
                                            {
                                                "aaxis": {
                                                    "endlinecolor": "#2a3f5f",
                                                    "gridcolor": "white",
                                                    "linecolor": "white",
                                                    "minorgridcolor": "white",
                                                    "startlinecolor": "#2a3f5f"
                                                },
                                                "baxis": {
                                                    "endlinecolor": "#2a3f5f",
                                                    "gridcolor": "white",
                                                    "linecolor": "white",
                                                    "minorgridcolor": "white",
                                                    "startlinecolor": "#2a3f5f"
                                                },
                                                "type": "carpet"
                                            }
                                        ],
                                        "choropleth": [
                                            {
                                                "colorbar": {
                                                    "outlinewidth": 0,
                                                    "ticks": ""
                                                },
                                                "type": "choropleth"
                                            }
                                        ],
                                        "contour": [
                                            {
                                                "colorbar": {
                                                    "outlinewidth": 0,
                                                    "ticks": ""
                                                },
                                                "colorscale": [
                                                    [
                                                        0,
                                                        "#0d0887"
                                                    ],
                                                    [
                                                        0.1111111111111111,
                                                        "#46039f"
                                                    ],
                                                    [
                                                        0.2222222222222222,
                                                        "#7201a8"
                                                    ],
                                                    [
                                                        0.3333333333333333,
                                                        "#9c179e"
                                                    ],
                                                    [
                                                        0.4444444444444444,
                                                        "#bd3786"
                                                    ],
                                                    [
                                                        0.5555555555555556,
                                                        "#d8576b"
                                                    ],
                                                    [
                                                        0.6666666666666666,
                                                        "#ed7953"
                                                    ],
                                                    [
                                                        0.7777777777777778,
                                                        "#fb9f3a"
                                                    ],
                                                    [
                                                        0.8888888888888888,
                                                        "#fdca26"
                                                    ],
                                                    [
                                                        1,
                                                        "#f0f921"
                                                    ]
                                                ],
                                                "type": "contour"
                                            }
                                        ],
                                        "contourcarpet": [
                                            {
                                                "colorbar": {
                                                    "outlinewidth": 0,
                                                    "ticks": ""
                                                },
                                                "type": "contourcarpet"
                                            }
                                        ],
                                        "heatmap": [
                                            {
                                                "colorbar": {
                                                    "outlinewidth": 0,
                                                    "ticks": ""
                                                },
                                                "colorscale": [
                                                    [
                                                        0,
                                                        "#0d0887"
                                                    ],
                                                    [
                                                        0.1111111111111111,
                                                        "#46039f"
                                                    ],
                                                    [
                                                        0.2222222222222222,
                                                        "#7201a8"
                                                    ],
                                                    [
                                                        0.3333333333333333,
                                                        "#9c179e"
                                                    ],
                                                    [
                                                        0.4444444444444444,
                                                        "#bd3786"
                                                    ],
                                                    [
                                                        0.5555555555555556,
                                                        "#d8576b"
                                                    ],
                                                    [
                                                        0.6666666666666666,
                                                        "#ed7953"
                                                    ],
                                                    [
                                                        0.7777777777777778,
                                                        "#fb9f3a"
                                                    ],
                                                    [
                                                        0.8888888888888888,
                                                        "#fdca26"
                                                    ],
                                                    [
                                                        1,
                                                        "#f0f921"
                                                    ]
                                                ],
                                                "type": "heatmap"
                                            }
                                        ],
                                        "heatmapgl": [
                                            {
                                                "colorbar": {
                                                    "outlinewidth": 0,
                                                    "ticks": ""
                                                },
                                                "colorscale": [
                                                    [
                                                        0,
                                                        "#0d0887"
                                                    ],
                                                    [
                                                        0.1111111111111111,
                                                        "#46039f"
                                                    ],
                                                    [
                                                        0.2222222222222222,
                                                        "#7201a8"
                                                    ],
                                                    [
                                                        0.3333333333333333,
                                                        "#9c179e"
                                                    ],
                                                    [
                                                        0.4444444444444444,
                                                        "#bd3786"
                                                    ],
                                                    [
                                                        0.5555555555555556,
                                                        "#d8576b"
                                                    ],
                                                    [
                                                        0.6666666666666666,
                                                        "#ed7953"
                                                    ],
                                                    [
                                                        0.7777777777777778,
                                                        "#fb9f3a"
                                                    ],
                                                    [
                                                        0.8888888888888888,
                                                        "#fdca26"
                                                    ],
                                                    [
                                                        1,
                                                        "#f0f921"
                                                    ]
                                                ],
                                                "type": "heatmapgl"
                                            }
                                        ],
                                        "histogram": [
                                            {
                                                "marker": {
                                                    "pattern": {
                                                        "fillmode": "overlay",
                                                        "size": 10,
                                                        "solidity": 0.2
                                                    }
                                                },
                                                "type": "histogram"
                                            }
                                        ],
                                        "histogram2d": [
                                            {
                                                "colorbar": {
                                                    "outlinewidth": 0,
                                                    "ticks": ""
                                                },
                                                "colorscale": [
                                                    [
                                                        0,
                                                        "#0d0887"
                                                    ],
                                                    [
                                                        0.1111111111111111,
                                                        "#46039f"
                                                    ],
                                                    [
                                                        0.2222222222222222,
                                                        "#7201a8"
                                                    ],
                                                    [
                                                        0.3333333333333333,
                                                        "#9c179e"
                                                    ],
                                                    [
                                                        0.4444444444444444,
                                                        "#bd3786"
                                                    ],
                                                    [
                                                        0.5555555555555556,
                                                        "#d8576b"
                                                    ],
                                                    [
                                                        0.6666666666666666,
                                                        "#ed7953"
                                                    ],
                                                    [
                                                        0.7777777777777778,
                                                        "#fb9f3a"
                                                    ],
                                                    [
                                                        0.8888888888888888,
                                                        "#fdca26"
                                                    ],
                                                    [
                                                        1,
                                                        "#f0f921"
                                                    ]
                                                ],
                                                "type": "histogram2d"
                                            }
                                        ],
                                        "histogram2dcontour": [
                                            {
                                                "colorbar": {
                                                    "outlinewidth": 0,
                                                    "ticks": ""
                                                },
                                                "colorscale": [
                                                    [
                                                        0,
                                                        "#0d0887"
                                                    ],
                                                    [
                                                        0.1111111111111111,
                                                        "#46039f"
                                                    ],
                                                    [
                                                        0.2222222222222222,
                                                        "#7201a8"
                                                    ],
                                                    [
                                                        0.3333333333333333,
                                                        "#9c179e"
                                                    ],
                                                    [
                                                        0.4444444444444444,
                                                        "#bd3786"
                                                    ],
                                                    [
                                                        0.5555555555555556,
                                                        "#d8576b"
                                                    ],
                                                    [
                                                        0.6666666666666666,
                                                        "#ed7953"
                                                    ],
                                                    [
                                                        0.7777777777777778,
                                                        "#fb9f3a"
                                                    ],
                                                    [
                                                        0.8888888888888888,
                                                        "#fdca26"
                                                    ],
                                                    [
                                                        1,
                                                        "#f0f921"
                                                    ]
                                                ],
                                                "type": "histogram2dcontour"
                                            }
                                        ],
                                        "mesh3d": [
                                            {
                                                "colorbar": {
                                                    "outlinewidth": 0,
                                                    "ticks": ""
                                                },
                                                "type": "mesh3d"
                                            }
                                        ],
                                        "parcoords": [
                                            {
                                                "line": {
                                                    "colorbar": {
                                                        "outlinewidth": 0,
                                                        "ticks": ""
                                                    }
                                                },
                                                "type": "parcoords"
                                            }
                                        ],
                                        "pie": [
                                            {
                                                "automargin": true,
                                                "type": "pie"
                                            }
                                        ],
                                        "scatter": [
                                            {
                                                "fillpattern": {
                                                    "fillmode": "overlay",
                                                    "size": 10,
                                                    "solidity": 0.2
                                                },
                                                "type": "scatter"
                                            }
                                        ],
                                        "scatter3d": [
                                            {
                                                "line": {
                                                    "colorbar": {
                                                        "outlinewidth": 0,
                                                        "ticks": ""
                                                    }
                                                },
                                                "marker": {
                                                    "colorbar": {
                                                        "outlinewidth": 0,
                                                        "ticks": ""
                                                    }
                                                },
                                                "type": "scatter3d"
                                            }
                                        ],
                                        "scattercarpet": [
                                            {
                                                "marker": {
                                                    "colorbar": {
                                                        "outlinewidth": 0,
                                                        "ticks": ""
                                                    }
                                                },
                                                "type": "scattercarpet"
                                            }
                                        ],
                                        "scattergeo": [
                                            {
                                                "marker": {
                                                    "colorbar": {
                                                        "outlinewidth": 0,
                                                        "ticks": ""
                                                    }
                                                },
                                                "type": "scattergeo"
                                            }
                                        ],
                                        "scattergl": [
                                            {
                                                "marker": {
                                                    "colorbar": {
                                                        "outlinewidth": 0,
                                                        "ticks": ""
                                                    }
                                                },
                                                "type": "scattergl"
                                            }
                                        ],
                                        "scattermapbox": [
                                            {
                                                "marker": {
                                                    "colorbar": {
                                                        "outlinewidth": 0,
                                                        "ticks": ""
                                                    }
                                                },
                                                "type": "scattermapbox"
                                            }
                                        ],
                                        "scatterpolar": [
                                            {
                                                "marker": {
                                                    "colorbar": {
                                                        "outlinewidth": 0,
                                                        "ticks": ""
                                                    }
                                                },
                                                "type": "scatterpolar"
                                            }
                                        ],
                                        "scatterpolargl": [
                                            {
                                                "marker": {
                                                    "colorbar": {
                                                        "outlinewidth": 0,
                                                        "ticks": ""
                                                    }
                                                },
                                                "type": "scatterpolargl"
                                            }
                                        ],
                                        "scatterternary": [
                                            {
                                                "marker": {
                                                    "colorbar": {
                                                        "outlinewidth": 0,
                                                        "ticks": ""
                                                    }
                                                },
                                                "type": "scatterternary"
                                            }
                                        ],
                                        "surface": [
                                            {
                                                "colorbar": {
                                                    "outlinewidth": 0,
                                                    "ticks": ""
                                                },
                                                "colorscale": [
                                                    [
                                                        0,
                                                        "#0d0887"
                                                    ],
                                                    [
                                                        0.1111111111111111,
                                                        "#46039f"
                                                    ],
                                                    [
                                                        0.2222222222222222,
                                                        "#7201a8"
                                                    ],
                                                    [
                                                        0.3333333333333333,
                                                        "#9c179e"
                                                    ],
                                                    [
                                                        0.4444444444444444,
                                                        "#bd3786"
                                                    ],
                                                    [
                                                        0.5555555555555556,
                                                        "#d8576b"
                                                    ],
                                                    [
                                                        0.6666666666666666,
                                                        "#ed7953"
                                                    ],
                                                    [
                                                        0.7777777777777778,
                                                        "#fb9f3a"
                                                    ],
                                                    [
                                                        0.8888888888888888,
                                                        "#fdca26"
                                                    ],
                                                    [
                                                        1,
                                                        "#f0f921"
                                                    ]
                                                ],
                                                "type": "surface"
                                            }
                                        ],
                                        "table": [
                                            {
                                                "cells": {
                                                    "fill": {
                                                        "color": "#EBF0F8"
                                                    },
                                                    "line": {
                                                        "color": "white"
                                                    }
                                                },
                                                "header": {
                                                    "fill": {
                                                        "color": "#C8D4E3"
                                                    },
                                                    "line": {
                                                        "color": "white"
                                                    }
                                                },
                                                "type": "table"
                                            }
                                        ]
                                    },
                                    "layout": {
                                        "annotationdefaults": {
                                            "arrowcolor": "#2a3f5f",
                                            "arrowhead": 0,
                                            "arrowwidth": 1
                                        },
                                        "autotypenumbers": "strict",
                                        "coloraxis": {
                                            "colorbar": {
                                                "outlinewidth": 0,
                                                "ticks": ""
                                            }
                                        },
                                        "colorscale": {
                                            "diverging": [
                                                [
                                                    0,
                                                    "#8e0152"
                                                ],
                                                [
                                                    0.1,
                                                    "#c51b7d"
                                                ],
                                                [
                                                    0.2,
                                                    "#de77ae"
                                                ],
                                                [
                                                    0.3,
                                                    "#f1b6da"
                                                ],
                                                [
                                                    0.4,
                                                    "#fde0ef"
                                                ],
                                                [
                                                    0.5,
                                                    "#f7f7f7"
                                                ],
                                                [
                                                    0.6,
                                                    "#e6f5d0"
                                                ],
                                                [
                                                    0.7,
                                                    "#b8e186"
                                                ],
                                                [
                                                    0.8,
                                                    "#7fbc41"
                                                ],
                                                [
                                                    0.9,
                                                    "#4d9221"
                                                ],
                                                [
                                                    1,
                                                    "#276419"
                                                ]
                                            ],
                                            "sequential": [
                                                [
                                                    0,
                                                    "#0d0887"
                                                ],
                                                [
                                                    0.1111111111111111,
                                                    "#46039f"
                                                ],
                                                [
                                                    0.2222222222222222,
                                                    "#7201a8"
                                                ],
                                                [
                                                    0.3333333333333333,
                                                    "#9c179e"
                                                ],
                                                [
                                                    0.4444444444444444,
                                                    "#bd3786"
                                                ],
                                                [
                                                    0.5555555555555556,
                                                    "#d8576b"
                                                ],
                                                [
                                                    0.6666666666666666,
                                                    "#ed7953"
                                                ],
                                                [
                                                    0.7777777777777778,
                                                    "#fb9f3a"
                                                ],
                                                [
                                                    0.8888888888888888,
                                                    "#fdca26"
                                                ],
                                                [
                                                    1,
                                                    "#f0f921"
                                                ]
                                            ],
                                            "sequentialminus": [
                                                [
                                                    0,
                                                    "#0d0887"
                                                ],
                                                [
                                                    0.1111111111111111,
                                                    "#46039f"
                                                ],
                                                [
                                                    0.2222222222222222,
                                                    "#7201a8"
                                                ],
                                                [
                                                    0.3333333333333333,
                                                    "#9c179e"
                                                ],
                                                [
                                                    0.4444444444444444,
                                                    "#bd3786"
                                                ],
                                                [
                                                    0.5555555555555556,
                                                    "#d8576b"
                                                ],
                                                [
                                                    0.6666666666666666,
                                                    "#ed7953"
                                                ],
                                                [
                                                    0.7777777777777778,
                                                    "#fb9f3a"
                                                ],
                                                [
                                                    0.8888888888888888,
                                                    "#fdca26"
                                                ],
                                                [
                                                    1,
                                                    "#f0f921"
                                                ]
                                            ]
                                        },
                                        "colorway": [
                                            "#636efa",
                                            "#EF553B",
                                            "#00cc96",
                                            "#ab63fa",
                                            "#FFA15A",
                                            "#19d3f3",
                                            "#FF6692",
                                            "#B6E880",
                                            "#FF97FF",
                                            "#FECB52"
                                        ],
                                        "font": {
                                            "color": "#2a3f5f"
                                        },
                                        "geo": {
                                            "bgcolor": "white",
                                            "lakecolor": "white",
                                            "landcolor": "#E5ECF6",
                                            "showlakes": true,
                                            "showland": true,
                                            "subunitcolor": "white"
                                        },
                                        "hoverlabel": {
                                            "align": "left"
                                        },
                                        "hovermode": "closest",
                                        "mapbox": {
                                            "style": "light"
                                        },
                                        "paper_bgcolor": "white",
                                        "plot_bgcolor": "#E5ECF6",
                                        "polar": {
                                            "angularaxis": {
                                                "gridcolor": "white",
                                                "linecolor": "white",
                                                "ticks": ""
                                            },
                                            "bgcolor": "#E5ECF6",
                                            "radialaxis": {
                                                "gridcolor": "white",
                                                "linecolor": "white",
                                                "ticks": ""
                                            }
                                        },
                                        "scene": {
                                            "xaxis": {
                                                "backgroundcolor": "#E5ECF6",
                                                "gridcolor": "white",
                                                "gridwidth": 2,
                                                "linecolor": "white",
                                                "showbackground": true,
                                                "ticks": "",
                                                "zerolinecolor": "white"
                                            },
                                            "yaxis": {
                                                "backgroundcolor": "#E5ECF6",
                                                "gridcolor": "white",
                                                "gridwidth": 2,
                                                "linecolor": "white",
                                                "showbackground": true,
                                                "ticks": "",
                                                "zerolinecolor": "white"
                                            },
                                            "zaxis": {
                                                "backgroundcolor": "#E5ECF6",
                                                "gridcolor": "white",
                                                "gridwidth": 2,
                                                "linecolor": "white",
                                                "showbackground": true,
                                                "ticks": "",
                                                "zerolinecolor": "white"
                                            }
                                        },
                                        "shapedefaults": {
                                            "line": {
                                                "color": "#2a3f5f"
                                            }
                                        },
                                        "ternary": {
                                            "aaxis": {
                                                "gridcolor": "white",
                                                "linecolor": "white",
                                                "ticks": ""
                                            },
                                            "baxis": {
                                                "gridcolor": "white",
                                                "linecolor": "white",
                                                "ticks": ""
                                            },
                                            "bgcolor": "#E5ECF6",
                                            "caxis": {
                                                "gridcolor": "white",
                                                "linecolor": "white",
                                                "ticks": ""
                                            }
                                        },
                                        "title": {
                                            "x": 0.05
                                        },
                                        "xaxis": {
                                            "automargin": true,
                                            "gridcolor": "white",
                                            "linecolor": "white",
                                            "ticks": "",
                                            "title": {
                                                "standoff": 15
                                            },
                                            "zerolinecolor": "white",
                                            "zerolinewidth": 2
                                        },
                                        "yaxis": {
                                            "automargin": true,
                                            "gridcolor": "white",
                                            "linecolor": "white",
                                            "ticks": "",
                                            "title": {
                                                "standoff": 15
                                            },
                                            "zerolinecolor": "white",
                                            "zerolinewidth": 2
                                        }
                                    }
                                }
                            }
                        },
                        "text/html": [
                            "<div>                            <div id=\"c9b64cee-efba-4556-960e-ae2dbfeaf28f\" class=\"plotly-graph-div\" style=\"height:525px; width:100%;\"></div>            <script type=\"text/javascript\">                require([\"plotly\"], function(Plotly) {                    window.PLOTLYENV=window.PLOTLYENV || {};                                    if (document.getElementById(\"c9b64cee-efba-4556-960e-ae2dbfeaf28f\")) {                    Plotly.newPlot(                        \"c9b64cee-efba-4556-960e-ae2dbfeaf28f\",                        [{\"hovertemplate\":\"line=nose_left_eye\\u003cbr\\u003ez=%{x}\\u003cbr\\u003ex=%{y}\\u003cbr\\u003ey=%{z}\\u003cextra\\u003e\\u003c\\u002fextra\\u003e\",\"legendgroup\":\"nose_left_eye\",\"line\":{\"color\":\"#636efa\",\"dash\":\"solid\"},\"marker\":{\"symbol\":\"circle\"},\"mode\":\"lines\",\"name\":\"nose_left_eye\",\"scene\":\"scene\",\"showlegend\":true,\"x\":[0.5094798803329468,0.5026031136512756],\"y\":[0.178576573729515,0.2198977023363113],\"z\":[-0.1664976775646209,-0.1886537969112396],\"type\":\"scatter3d\"},{\"hovertemplate\":\"line=nose_right_eye\\u003cbr\\u003ez=%{x}\\u003cbr\\u003ex=%{y}\\u003cbr\\u003ey=%{z}\\u003cextra\\u003e\\u003c\\u002fextra\\u003e\",\"legendgroup\":\"nose_right_eye\",\"line\":{\"color\":\"#EF553B\",\"dash\":\"solid\"},\"marker\":{\"symbol\":\"circle\"},\"mode\":\"lines\",\"name\":\"nose_right_eye\",\"scene\":\"scene\",\"showlegend\":true,\"x\":[0.5094798803329468,0.4972434043884277],\"y\":[0.178576573729515,0.1543464064598083],\"z\":[-0.1664976775646209,-0.2033811956644058],\"type\":\"scatter3d\"},{\"hovertemplate\":\"line=left_right_eye\\u003cbr\\u003ez=%{x}\\u003cbr\\u003ex=%{y}\\u003cbr\\u003ey=%{z}\\u003cextra\\u003e\\u003c\\u002fextra\\u003e\",\"legendgroup\":\"left_right_eye\",\"line\":{\"color\":\"#00cc96\",\"dash\":\"solid\"},\"marker\":{\"symbol\":\"circle\"},\"mode\":\"lines\",\"name\":\"left_right_eye\",\"scene\":\"scene\",\"showlegend\":true,\"x\":[0.5026031136512756,0.4972434043884277],\"y\":[0.2198977023363113,0.1543464064598083],\"z\":[-0.1886537969112396,-0.2033811956644058],\"type\":\"scatter3d\"},{\"hovertemplate\":\"line=right_ear_right_eye\\u003cbr\\u003ez=%{x}\\u003cbr\\u003ex=%{y}\\u003cbr\\u003ey=%{z}\\u003cextra\\u003e\\u003c\\u002fextra\\u003e\",\"legendgroup\":\"right_ear_right_eye\",\"line\":{\"color\":\"#ab63fa\",\"dash\":\"solid\"},\"marker\":{\"symbol\":\"circle\"},\"mode\":\"lines\",\"name\":\"right_ear_right_eye\",\"scene\":\"scene\",\"showlegend\":true,\"x\":[0.4972434043884277,0.5491778254508972],\"y\":[0.1543464064598083,0.1304467469453811],\"z\":[-0.2033811956644058,-0.2847358286380768],\"type\":\"scatter3d\"},{\"hovertemplate\":\"line=left_shoulder_right_sholder\\u003cbr\\u003ez=%{x}\\u003cbr\\u003ex=%{y}\\u003cbr\\u003ey=%{z}\\u003cextra\\u003e\\u003c\\u002fextra\\u003e\",\"legendgroup\":\"left_shoulder_right_sholder\",\"line\":{\"color\":\"#FFA15A\",\"dash\":\"solid\"},\"marker\":{\"symbol\":\"circle\"},\"mode\":\"lines\",\"name\":\"left_shoulder_right_sholder\",\"scene\":\"scene\",\"showlegend\":true,\"x\":[0.7148073315620422,0.6347362399101257],\"y\":[0.3248327374458313,0.0101029528304934],\"z\":[-0.1904900521039962,-0.2062693685293197],\"type\":\"scatter3d\"},{\"hovertemplate\":\"line=left_sholder_left_elbow\\u003cbr\\u003ez=%{x}\\u003cbr\\u003ex=%{y}\\u003cbr\\u003ey=%{z}\\u003cextra\\u003e\\u003c\\u002fextra\\u003e\",\"legendgroup\":\"left_sholder_left_elbow\",\"line\":{\"color\":\"#19d3f3\",\"dash\":\"solid\"},\"marker\":{\"symbol\":\"circle\"},\"mode\":\"lines\",\"name\":\"left_sholder_left_elbow\",\"scene\":\"scene\",\"showlegend\":true,\"x\":[0.7148073315620422,0.626409113407135],\"y\":[0.3248327374458313,0.4011011123657226],\"z\":[-0.1904900521039962,0.033957976847887],\"type\":\"scatter3d\"},{\"hovertemplate\":\"line=right_shoulder_right_elbow\\u003cbr\\u003ez=%{x}\\u003cbr\\u003ex=%{y}\\u003cbr\\u003ey=%{z}\\u003cextra\\u003e\\u003c\\u002fextra\\u003e\",\"legendgroup\":\"right_shoulder_right_elbow\",\"line\":{\"color\":\"#FF6692\",\"dash\":\"solid\"},\"marker\":{\"symbol\":\"circle\"},\"mode\":\"lines\",\"name\":\"right_shoulder_right_elbow\",\"scene\":\"scene\",\"showlegend\":true,\"x\":[0.6347362399101257,0.6512272357940674],\"y\":[0.0101029528304934,-0.2069834023714065],\"z\":[-0.2062693685293197,-0.0370790883898735],\"type\":\"scatter3d\"},{\"hovertemplate\":\"line=right_shoulder_right_hip\\u003cbr\\u003ez=%{x}\\u003cbr\\u003ex=%{y}\\u003cbr\\u003ey=%{z}\\u003cextra\\u003e\\u003c\\u002fextra\\u003e\",\"legendgroup\":\"right_shoulder_right_hip\",\"line\":{\"color\":\"#B6E880\",\"dash\":\"solid\"},\"marker\":{\"symbol\":\"circle\"},\"mode\":\"lines\",\"name\":\"right_shoulder_right_hip\",\"scene\":\"scene\",\"showlegend\":true,\"x\":[0.6347362399101257,0.7810283303260803],\"y\":[0.0101029528304934,0.1200298964977264],\"z\":[-0.2062693685293197,0.244013100862503],\"type\":\"scatter3d\"},{\"hovertemplate\":\"line=left_elbow_left_wrist\\u003cbr\\u003ez=%{x}\\u003cbr\\u003ex=%{y}\\u003cbr\\u003ey=%{z}\\u003cextra\\u003e\\u003c\\u002fextra\\u003e\",\"legendgroup\":\"left_elbow_left_wrist\",\"line\":{\"color\":\"#FF97FF\",\"dash\":\"solid\"},\"marker\":{\"symbol\":\"circle\"},\"mode\":\"lines\",\"name\":\"left_elbow_left_wrist\",\"scene\":\"scene\",\"showlegend\":true,\"x\":[0.626409113407135,0.46894371509552],\"y\":[0.4011011123657226,0.2061307281255722],\"z\":[0.033957976847887,0.0441812202334404],\"type\":\"scatter3d\"},{\"hovertemplate\":\"line=right_elbow_right_wrist\\u003cbr\\u003ez=%{x}\\u003cbr\\u003ex=%{y}\\u003cbr\\u003ey=%{z}\\u003cextra\\u003e\\u003c\\u002fextra\\u003e\",\"legendgroup\":\"right_elbow_right_wrist\",\"line\":{\"color\":\"#FECB52\",\"dash\":\"solid\"},\"marker\":{\"symbol\":\"circle\"},\"mode\":\"lines\",\"name\":\"right_elbow_right_wrist\",\"scene\":\"scene\",\"showlegend\":true,\"x\":[0.6512272357940674,0.5761921405792236],\"y\":[-0.2069834023714065,-0.0038661151193082],\"z\":[-0.0370790883898735,0.0416712649166584],\"type\":\"scatter3d\"}],                        {\"template\":{\"data\":{\"histogram2dcontour\":[{\"type\":\"histogram2dcontour\",\"colorbar\":{\"outlinewidth\":0,\"ticks\":\"\"},\"colorscale\":[[0.0,\"#0d0887\"],[0.1111111111111111,\"#46039f\"],[0.2222222222222222,\"#7201a8\"],[0.3333333333333333,\"#9c179e\"],[0.4444444444444444,\"#bd3786\"],[0.5555555555555556,\"#d8576b\"],[0.6666666666666666,\"#ed7953\"],[0.7777777777777778,\"#fb9f3a\"],[0.8888888888888888,\"#fdca26\"],[1.0,\"#f0f921\"]]}],\"choropleth\":[{\"type\":\"choropleth\",\"colorbar\":{\"outlinewidth\":0,\"ticks\":\"\"}}],\"histogram2d\":[{\"type\":\"histogram2d\",\"colorbar\":{\"outlinewidth\":0,\"ticks\":\"\"},\"colorscale\":[[0.0,\"#0d0887\"],[0.1111111111111111,\"#46039f\"],[0.2222222222222222,\"#7201a8\"],[0.3333333333333333,\"#9c179e\"],[0.4444444444444444,\"#bd3786\"],[0.5555555555555556,\"#d8576b\"],[0.6666666666666666,\"#ed7953\"],[0.7777777777777778,\"#fb9f3a\"],[0.8888888888888888,\"#fdca26\"],[1.0,\"#f0f921\"]]}],\"heatmap\":[{\"type\":\"heatmap\",\"colorbar\":{\"outlinewidth\":0,\"ticks\":\"\"},\"colorscale\":[[0.0,\"#0d0887\"],[0.1111111111111111,\"#46039f\"],[0.2222222222222222,\"#7201a8\"],[0.3333333333333333,\"#9c179e\"],[0.4444444444444444,\"#bd3786\"],[0.5555555555555556,\"#d8576b\"],[0.6666666666666666,\"#ed7953\"],[0.7777777777777778,\"#fb9f3a\"],[0.8888888888888888,\"#fdca26\"],[1.0,\"#f0f921\"]]}],\"heatmapgl\":[{\"type\":\"heatmapgl\",\"colorbar\":{\"outlinewidth\":0,\"ticks\":\"\"},\"colorscale\":[[0.0,\"#0d0887\"],[0.1111111111111111,\"#46039f\"],[0.2222222222222222,\"#7201a8\"],[0.3333333333333333,\"#9c179e\"],[0.4444444444444444,\"#bd3786\"],[0.5555555555555556,\"#d8576b\"],[0.6666666666666666,\"#ed7953\"],[0.7777777777777778,\"#fb9f3a\"],[0.8888888888888888,\"#fdca26\"],[1.0,\"#f0f921\"]]}],\"contourcarpet\":[{\"type\":\"contourcarpet\",\"colorbar\":{\"outlinewidth\":0,\"ticks\":\"\"}}],\"contour\":[{\"type\":\"contour\",\"colorbar\":{\"outlinewidth\":0,\"ticks\":\"\"},\"colorscale\":[[0.0,\"#0d0887\"],[0.1111111111111111,\"#46039f\"],[0.2222222222222222,\"#7201a8\"],[0.3333333333333333,\"#9c179e\"],[0.4444444444444444,\"#bd3786\"],[0.5555555555555556,\"#d8576b\"],[0.6666666666666666,\"#ed7953\"],[0.7777777777777778,\"#fb9f3a\"],[0.8888888888888888,\"#fdca26\"],[1.0,\"#f0f921\"]]}],\"surface\":[{\"type\":\"surface\",\"colorbar\":{\"outlinewidth\":0,\"ticks\":\"\"},\"colorscale\":[[0.0,\"#0d0887\"],[0.1111111111111111,\"#46039f\"],[0.2222222222222222,\"#7201a8\"],[0.3333333333333333,\"#9c179e\"],[0.4444444444444444,\"#bd3786\"],[0.5555555555555556,\"#d8576b\"],[0.6666666666666666,\"#ed7953\"],[0.7777777777777778,\"#fb9f3a\"],[0.8888888888888888,\"#fdca26\"],[1.0,\"#f0f921\"]]}],\"mesh3d\":[{\"type\":\"mesh3d\",\"colorbar\":{\"outlinewidth\":0,\"ticks\":\"\"}}],\"scatter\":[{\"fillpattern\":{\"fillmode\":\"overlay\",\"size\":10,\"solidity\":0.2},\"type\":\"scatter\"}],\"parcoords\":[{\"type\":\"parcoords\",\"line\":{\"colorbar\":{\"outlinewidth\":0,\"ticks\":\"\"}}}],\"scatterpolargl\":[{\"type\":\"scatterpolargl\",\"marker\":{\"colorbar\":{\"outlinewidth\":0,\"ticks\":\"\"}}}],\"bar\":[{\"error_x\":{\"color\":\"#2a3f5f\"},\"error_y\":{\"color\":\"#2a3f5f\"},\"marker\":{\"line\":{\"color\":\"#E5ECF6\",\"width\":0.5},\"pattern\":{\"fillmode\":\"overlay\",\"size\":10,\"solidity\":0.2}},\"type\":\"bar\"}],\"scattergeo\":[{\"type\":\"scattergeo\",\"marker\":{\"colorbar\":{\"outlinewidth\":0,\"ticks\":\"\"}}}],\"scatterpolar\":[{\"type\":\"scatterpolar\",\"marker\":{\"colorbar\":{\"outlinewidth\":0,\"ticks\":\"\"}}}],\"histogram\":[{\"marker\":{\"pattern\":{\"fillmode\":\"overlay\",\"size\":10,\"solidity\":0.2}},\"type\":\"histogram\"}],\"scattergl\":[{\"type\":\"scattergl\",\"marker\":{\"colorbar\":{\"outlinewidth\":0,\"ticks\":\"\"}}}],\"scatter3d\":[{\"type\":\"scatter3d\",\"line\":{\"colorbar\":{\"outlinewidth\":0,\"ticks\":\"\"}},\"marker\":{\"colorbar\":{\"outlinewidth\":0,\"ticks\":\"\"}}}],\"scattermapbox\":[{\"type\":\"scattermapbox\",\"marker\":{\"colorbar\":{\"outlinewidth\":0,\"ticks\":\"\"}}}],\"scatterternary\":[{\"type\":\"scatterternary\",\"marker\":{\"colorbar\":{\"outlinewidth\":0,\"ticks\":\"\"}}}],\"scattercarpet\":[{\"type\":\"scattercarpet\",\"marker\":{\"colorbar\":{\"outlinewidth\":0,\"ticks\":\"\"}}}],\"carpet\":[{\"aaxis\":{\"endlinecolor\":\"#2a3f5f\",\"gridcolor\":\"white\",\"linecolor\":\"white\",\"minorgridcolor\":\"white\",\"startlinecolor\":\"#2a3f5f\"},\"baxis\":{\"endlinecolor\":\"#2a3f5f\",\"gridcolor\":\"white\",\"linecolor\":\"white\",\"minorgridcolor\":\"white\",\"startlinecolor\":\"#2a3f5f\"},\"type\":\"carpet\"}],\"table\":[{\"cells\":{\"fill\":{\"color\":\"#EBF0F8\"},\"line\":{\"color\":\"white\"}},\"header\":{\"fill\":{\"color\":\"#C8D4E3\"},\"line\":{\"color\":\"white\"}},\"type\":\"table\"}],\"barpolar\":[{\"marker\":{\"line\":{\"color\":\"#E5ECF6\",\"width\":0.5},\"pattern\":{\"fillmode\":\"overlay\",\"size\":10,\"solidity\":0.2}},\"type\":\"barpolar\"}],\"pie\":[{\"automargin\":true,\"type\":\"pie\"}]},\"layout\":{\"autotypenumbers\":\"strict\",\"colorway\":[\"#636efa\",\"#EF553B\",\"#00cc96\",\"#ab63fa\",\"#FFA15A\",\"#19d3f3\",\"#FF6692\",\"#B6E880\",\"#FF97FF\",\"#FECB52\"],\"font\":{\"color\":\"#2a3f5f\"},\"hovermode\":\"closest\",\"hoverlabel\":{\"align\":\"left\"},\"paper_bgcolor\":\"white\",\"plot_bgcolor\":\"#E5ECF6\",\"polar\":{\"bgcolor\":\"#E5ECF6\",\"angularaxis\":{\"gridcolor\":\"white\",\"linecolor\":\"white\",\"ticks\":\"\"},\"radialaxis\":{\"gridcolor\":\"white\",\"linecolor\":\"white\",\"ticks\":\"\"}},\"ternary\":{\"bgcolor\":\"#E5ECF6\",\"aaxis\":{\"gridcolor\":\"white\",\"linecolor\":\"white\",\"ticks\":\"\"},\"baxis\":{\"gridcolor\":\"white\",\"linecolor\":\"white\",\"ticks\":\"\"},\"caxis\":{\"gridcolor\":\"white\",\"linecolor\":\"white\",\"ticks\":\"\"}},\"coloraxis\":{\"colorbar\":{\"outlinewidth\":0,\"ticks\":\"\"}},\"colorscale\":{\"sequential\":[[0.0,\"#0d0887\"],[0.1111111111111111,\"#46039f\"],[0.2222222222222222,\"#7201a8\"],[0.3333333333333333,\"#9c179e\"],[0.4444444444444444,\"#bd3786\"],[0.5555555555555556,\"#d8576b\"],[0.6666666666666666,\"#ed7953\"],[0.7777777777777778,\"#fb9f3a\"],[0.8888888888888888,\"#fdca26\"],[1.0,\"#f0f921\"]],\"sequentialminus\":[[0.0,\"#0d0887\"],[0.1111111111111111,\"#46039f\"],[0.2222222222222222,\"#7201a8\"],[0.3333333333333333,\"#9c179e\"],[0.4444444444444444,\"#bd3786\"],[0.5555555555555556,\"#d8576b\"],[0.6666666666666666,\"#ed7953\"],[0.7777777777777778,\"#fb9f3a\"],[0.8888888888888888,\"#fdca26\"],[1.0,\"#f0f921\"]],\"diverging\":[[0,\"#8e0152\"],[0.1,\"#c51b7d\"],[0.2,\"#de77ae\"],[0.3,\"#f1b6da\"],[0.4,\"#fde0ef\"],[0.5,\"#f7f7f7\"],[0.6,\"#e6f5d0\"],[0.7,\"#b8e186\"],[0.8,\"#7fbc41\"],[0.9,\"#4d9221\"],[1,\"#276419\"]]},\"xaxis\":{\"gridcolor\":\"white\",\"linecolor\":\"white\",\"ticks\":\"\",\"title\":{\"standoff\":15},\"zerolinecolor\":\"white\",\"automargin\":true,\"zerolinewidth\":2},\"yaxis\":{\"gridcolor\":\"white\",\"linecolor\":\"white\",\"ticks\":\"\",\"title\":{\"standoff\":15},\"zerolinecolor\":\"white\",\"automargin\":true,\"zerolinewidth\":2},\"scene\":{\"xaxis\":{\"backgroundcolor\":\"#E5ECF6\",\"gridcolor\":\"white\",\"linecolor\":\"white\",\"showbackground\":true,\"ticks\":\"\",\"zerolinecolor\":\"white\",\"gridwidth\":2},\"yaxis\":{\"backgroundcolor\":\"#E5ECF6\",\"gridcolor\":\"white\",\"linecolor\":\"white\",\"showbackground\":true,\"ticks\":\"\",\"zerolinecolor\":\"white\",\"gridwidth\":2},\"zaxis\":{\"backgroundcolor\":\"#E5ECF6\",\"gridcolor\":\"white\",\"linecolor\":\"white\",\"showbackground\":true,\"ticks\":\"\",\"zerolinecolor\":\"white\",\"gridwidth\":2}},\"shapedefaults\":{\"line\":{\"color\":\"#2a3f5f\"}},\"annotationdefaults\":{\"arrowcolor\":\"#2a3f5f\",\"arrowhead\":0,\"arrowwidth\":1},\"geo\":{\"bgcolor\":\"white\",\"landcolor\":\"#E5ECF6\",\"subunitcolor\":\"white\",\"showland\":true,\"showlakes\":true,\"lakecolor\":\"white\"},\"title\":{\"x\":0.05},\"mapbox\":{\"style\":\"light\"}}},\"scene\":{\"domain\":{\"x\":[0.0,1.0],\"y\":[0.0,1.0]},\"xaxis\":{\"title\":{\"text\":\"z\"},\"autorange\":\"reversed\"},\"yaxis\":{\"title\":{\"text\":\"x\"}},\"zaxis\":{\"title\":{\"text\":\"y\"},\"autorange\":\"reversed\"}},\"legend\":{\"title\":{\"text\":\"line\"},\"tracegroupgap\":0},\"margin\":{\"t\":60}},                        {\"responsive\": true}                    ).then(function(){\n",
                            "                            \n",
                            "var gd = document.getElementById('c9b64cee-efba-4556-960e-ae2dbfeaf28f');\n",
                            "var x = new MutationObserver(function (mutations, observer) {{\n",
                            "        var display = window.getComputedStyle(gd).display;\n",
                            "        if (!display || display === 'none') {{\n",
                            "            console.log([gd, 'removed!']);\n",
                            "            Plotly.purge(gd);\n",
                            "            observer.disconnect();\n",
                            "        }}\n",
                            "}});\n",
                            "\n",
                            "// Listen for the removal of the full notebook cells\n",
                            "var notebookContainer = gd.closest('#notebook-container');\n",
                            "if (notebookContainer) {{\n",
                            "    x.observe(notebookContainer, {childList: true});\n",
                            "}}\n",
                            "\n",
                            "// Listen for the clearing of the current output cell\n",
                            "var outputEl = gd.closest('.output');\n",
                            "if (outputEl) {{\n",
                            "    x.observe(outputEl, {childList: true});\n",
                            "}}\n",
                            "\n",
                            "                        })                };                });            </script>        </div>"
                        ]
                    },
                    "metadata": {},
                    "output_type": "display_data"
                }
            ],
            "source": [
                "results = generate_connection_line(sample[1],\n",
                "        np.argwhere(valid_keypoints).reshape(-1))\n",
                "pose_df = pd.DataFrame(results)\n",
                "visualize_pose(pose_df)"
            ]
        },
        {
            "cell_type": "code",
            "execution_count": 16,
            "metadata": {},
            "outputs": [
                {
                    "data": {
                        "application/vnd.plotly.v1+json": {
                            "config": {
                                "plotlyServerURL": "https://plot.ly"
                            },
                            "data": [
                                {
                                    "hovertemplate": "line=nose_left_eye<br>z=%{x}<br>x=%{y}<br>y=%{z}<extra></extra>",
                                    "legendgroup": "nose_left_eye",
                                    "line": {
                                        "color": "#636efa",
                                        "dash": "solid"
                                    },
                                    "marker": {
                                        "symbol": "circle"
                                    },
                                    "mode": "lines",
                                    "name": "nose_left_eye",
                                    "scene": "scene",
                                    "showlegend": true,
                                    "type": "scatter3d",
                                    "x": [
                                        0.5063497424125671,
                                        0.4842859208583832
                                    ],
                                    "y": [
                                        0.2558617889881134,
                                        0.30714234709739685
                                    ],
                                    "z": [
                                        -0.2878478169441223,
                                        -0.22589075565338135
                                    ]
                                },
                                {
                                    "hovertemplate": "line=nose_right_eye<br>z=%{x}<br>x=%{y}<br>y=%{z}<extra></extra>",
                                    "legendgroup": "nose_right_eye",
                                    "line": {
                                        "color": "#EF553B",
                                        "dash": "solid"
                                    },
                                    "marker": {
                                        "symbol": "circle"
                                    },
                                    "mode": "lines",
                                    "name": "nose_right_eye",
                                    "scene": "scene",
                                    "showlegend": true,
                                    "type": "scatter3d",
                                    "x": [
                                        0.5063497424125671,
                                        0.4812348484992981
                                    ],
                                    "y": [
                                        0.2558617889881134,
                                        0.1809624433517456
                                    ],
                                    "z": [
                                        -0.2878478169441223,
                                        -0.24482832849025726
                                    ]
                                },
                                {
                                    "hovertemplate": "line=left_right_eye<br>z=%{x}<br>x=%{y}<br>y=%{z}<extra></extra>",
                                    "legendgroup": "left_right_eye",
                                    "line": {
                                        "color": "#00cc96",
                                        "dash": "solid"
                                    },
                                    "marker": {
                                        "symbol": "circle"
                                    },
                                    "mode": "lines",
                                    "name": "left_right_eye",
                                    "scene": "scene",
                                    "showlegend": true,
                                    "type": "scatter3d",
                                    "x": [
                                        0.4842859208583832,
                                        0.4812348484992981
                                    ],
                                    "y": [
                                        0.30714234709739685,
                                        0.1809624433517456
                                    ],
                                    "z": [
                                        -0.22589075565338135,
                                        -0.24482832849025726
                                    ]
                                },
                                {
                                    "hovertemplate": "line=left_ear_left_eye<br>z=%{x}<br>x=%{y}<br>y=%{z}<extra></extra>",
                                    "legendgroup": "left_ear_left_eye",
                                    "line": {
                                        "color": "#ab63fa",
                                        "dash": "solid"
                                    },
                                    "marker": {
                                        "symbol": "circle"
                                    },
                                    "mode": "lines",
                                    "name": "left_ear_left_eye",
                                    "scene": "scene",
                                    "showlegend": true,
                                    "type": "scatter3d",
                                    "x": [
                                        0.4842859208583832,
                                        0.3084975779056549
                                    ],
                                    "y": [
                                        0.30714234709739685,
                                        0.04022873193025589
                                    ],
                                    "z": [
                                        -0.22589075565338135,
                                        -0.46506139636039734
                                    ]
                                },
                                {
                                    "hovertemplate": "line=right_ear_right_eye<br>z=%{x}<br>x=%{y}<br>y=%{z}<extra></extra>",
                                    "legendgroup": "right_ear_right_eye",
                                    "line": {
                                        "color": "#FFA15A",
                                        "dash": "solid"
                                    },
                                    "marker": {
                                        "symbol": "circle"
                                    },
                                    "mode": "lines",
                                    "name": "right_ear_right_eye",
                                    "scene": "scene",
                                    "showlegend": true,
                                    "type": "scatter3d",
                                    "x": [
                                        0.4812348484992981,
                                        0.48759153485298157
                                    ],
                                    "y": [
                                        0.1809624433517456,
                                        0.13312101364135742
                                    ],
                                    "z": [
                                        -0.24482832849025726,
                                        -0.33151987195014954
                                    ]
                                },
                                {
                                    "hovertemplate": "line=left_shoulder_right_sholder<br>z=%{x}<br>x=%{y}<br>y=%{z}<extra></extra>",
                                    "legendgroup": "left_shoulder_right_sholder",
                                    "line": {
                                        "color": "#19d3f3",
                                        "dash": "solid"
                                    },
                                    "marker": {
                                        "symbol": "circle"
                                    },
                                    "mode": "lines",
                                    "name": "left_shoulder_right_sholder",
                                    "scene": "scene",
                                    "showlegend": true,
                                    "type": "scatter3d",
                                    "x": [
                                        0.7100953459739685,
                                        0.6616883277893066
                                    ],
                                    "y": [
                                        0.34807223081588745,
                                        0.04086894914507866
                                    ],
                                    "z": [
                                        -0.16450235247612,
                                        -0.1869223713874817
                                    ]
                                },
                                {
                                    "hovertemplate": "line=left_sholder_left_elbow<br>z=%{x}<br>x=%{y}<br>y=%{z}<extra></extra>",
                                    "legendgroup": "left_sholder_left_elbow",
                                    "line": {
                                        "color": "#FF6692",
                                        "dash": "solid"
                                    },
                                    "marker": {
                                        "symbol": "circle"
                                    },
                                    "mode": "lines",
                                    "name": "left_sholder_left_elbow",
                                    "scene": "scene",
                                    "showlegend": true,
                                    "type": "scatter3d",
                                    "x": [
                                        0.7100953459739685,
                                        0.8226505517959595
                                    ],
                                    "y": [
                                        0.34807223081588745,
                                        0.4551343619823456
                                    ],
                                    "z": [
                                        -0.16450235247612,
                                        0.05812476947903633
                                    ]
                                },
                                {
                                    "hovertemplate": "line=left_shoulder_left_hip<br>z=%{x}<br>x=%{y}<br>y=%{z}<extra></extra>",
                                    "legendgroup": "left_shoulder_left_hip",
                                    "line": {
                                        "color": "#B6E880",
                                        "dash": "solid"
                                    },
                                    "marker": {
                                        "symbol": "circle"
                                    },
                                    "mode": "lines",
                                    "name": "left_shoulder_left_hip",
                                    "scene": "scene",
                                    "showlegend": true,
                                    "type": "scatter3d",
                                    "x": [
                                        0.7100953459739685,
                                        0.7684357762336731
                                    ],
                                    "y": [
                                        0.34807223081588745,
                                        0.3084581196308136
                                    ],
                                    "z": [
                                        -0.16450235247612,
                                        0.2898498475551605
                                    ]
                                },
                                {
                                    "hovertemplate": "line=right_shoulder_right_elbow<br>z=%{x}<br>x=%{y}<br>y=%{z}<extra></extra>",
                                    "legendgroup": "right_shoulder_right_elbow",
                                    "line": {
                                        "color": "#FF97FF",
                                        "dash": "solid"
                                    },
                                    "marker": {
                                        "symbol": "circle"
                                    },
                                    "mode": "lines",
                                    "name": "right_shoulder_right_elbow",
                                    "scene": "scene",
                                    "showlegend": true,
                                    "type": "scatter3d",
                                    "x": [
                                        0.6616883277893066,
                                        0.8480494618415833
                                    ],
                                    "y": [
                                        0.04086894914507866,
                                        -0.1566343605518341
                                    ],
                                    "z": [
                                        -0.1869223713874817,
                                        -0.007753971964120865
                                    ]
                                },
                                {
                                    "hovertemplate": "line=right_shoulder_right_hip<br>z=%{x}<br>x=%{y}<br>y=%{z}<extra></extra>",
                                    "legendgroup": "right_shoulder_right_hip",
                                    "line": {
                                        "color": "#FECB52",
                                        "dash": "solid"
                                    },
                                    "marker": {
                                        "symbol": "circle"
                                    },
                                    "mode": "lines",
                                    "name": "right_shoulder_right_hip",
                                    "scene": "scene",
                                    "showlegend": true,
                                    "type": "scatter3d",
                                    "x": [
                                        0.6616883277893066,
                                        0.8056862950325012
                                    ],
                                    "y": [
                                        0.04086894914507866,
                                        0.05262503772974014
                                    ],
                                    "z": [
                                        -0.1869223713874817,
                                        0.29406705498695374
                                    ]
                                },
                                {
                                    "hovertemplate": "line=left_elbow_left_wrist<br>z=%{x}<br>x=%{y}<br>y=%{z}<extra></extra>",
                                    "legendgroup": "left_elbow_left_wrist",
                                    "line": {
                                        "color": "#636efa",
                                        "dash": "solid"
                                    },
                                    "marker": {
                                        "symbol": "circle"
                                    },
                                    "mode": "lines",
                                    "name": "left_elbow_left_wrist",
                                    "scene": "scene",
                                    "showlegend": true,
                                    "type": "scatter3d",
                                    "x": [
                                        0.8226505517959595,
                                        0.6561174392700195
                                    ],
                                    "y": [
                                        0.4551343619823456,
                                        0.3425397276878357
                                    ],
                                    "z": [
                                        0.05812476947903633,
                                        0.0855863019824028
                                    ]
                                },
                                {
                                    "hovertemplate": "line=right_elbow_right_wrist<br>z=%{x}<br>x=%{y}<br>y=%{z}<extra></extra>",
                                    "legendgroup": "right_elbow_right_wrist",
                                    "line": {
                                        "color": "#EF553B",
                                        "dash": "solid"
                                    },
                                    "marker": {
                                        "symbol": "circle"
                                    },
                                    "mode": "lines",
                                    "name": "right_elbow_right_wrist",
                                    "scene": "scene",
                                    "showlegend": true,
                                    "type": "scatter3d",
                                    "x": [
                                        0.8480494618415833,
                                        0.658949077129364
                                    ],
                                    "y": [
                                        -0.1566343605518341,
                                        -0.0489206463098526
                                    ],
                                    "z": [
                                        -0.007753971964120865,
                                        0.13506153225898743
                                    ]
                                },
                                {
                                    "hovertemplate": "line=left_hip_right_hip<br>z=%{x}<br>x=%{y}<br>y=%{z}<extra></extra>",
                                    "legendgroup": "left_hip_right_hip",
                                    "line": {
                                        "color": "#00cc96",
                                        "dash": "solid"
                                    },
                                    "marker": {
                                        "symbol": "circle"
                                    },
                                    "mode": "lines",
                                    "name": "left_hip_right_hip",
                                    "scene": "scene",
                                    "showlegend": true,
                                    "type": "scatter3d",
                                    "x": [
                                        0.7684357762336731,
                                        0.8056862950325012
                                    ],
                                    "y": [
                                        0.3084581196308136,
                                        0.05262503772974014
                                    ],
                                    "z": [
                                        0.2898498475551605,
                                        0.29406705498695374
                                    ]
                                }
                            ],
                            "layout": {
                                "legend": {
                                    "title": {
                                        "text": "line"
                                    },
                                    "tracegroupgap": 0
                                },
                                "margin": {
                                    "t": 60
                                },
                                "scene": {
                                    "domain": {
                                        "x": [
                                            0,
                                            1
                                        ],
                                        "y": [
                                            0,
                                            1
                                        ]
                                    },
                                    "xaxis": {
                                        "autorange": "reversed",
                                        "title": {
                                            "text": "z"
                                        }
                                    },
                                    "yaxis": {
                                        "title": {
                                            "text": "x"
                                        }
                                    },
                                    "zaxis": {
                                        "autorange": "reversed",
                                        "title": {
                                            "text": "y"
                                        }
                                    }
                                },
                                "template": {
                                    "data": {
                                        "bar": [
                                            {
                                                "error_x": {
                                                    "color": "#2a3f5f"
                                                },
                                                "error_y": {
                                                    "color": "#2a3f5f"
                                                },
                                                "marker": {
                                                    "line": {
                                                        "color": "#E5ECF6",
                                                        "width": 0.5
                                                    },
                                                    "pattern": {
                                                        "fillmode": "overlay",
                                                        "size": 10,
                                                        "solidity": 0.2
                                                    }
                                                },
                                                "type": "bar"
                                            }
                                        ],
                                        "barpolar": [
                                            {
                                                "marker": {
                                                    "line": {
                                                        "color": "#E5ECF6",
                                                        "width": 0.5
                                                    },
                                                    "pattern": {
                                                        "fillmode": "overlay",
                                                        "size": 10,
                                                        "solidity": 0.2
                                                    }
                                                },
                                                "type": "barpolar"
                                            }
                                        ],
                                        "carpet": [
                                            {
                                                "aaxis": {
                                                    "endlinecolor": "#2a3f5f",
                                                    "gridcolor": "white",
                                                    "linecolor": "white",
                                                    "minorgridcolor": "white",
                                                    "startlinecolor": "#2a3f5f"
                                                },
                                                "baxis": {
                                                    "endlinecolor": "#2a3f5f",
                                                    "gridcolor": "white",
                                                    "linecolor": "white",
                                                    "minorgridcolor": "white",
                                                    "startlinecolor": "#2a3f5f"
                                                },
                                                "type": "carpet"
                                            }
                                        ],
                                        "choropleth": [
                                            {
                                                "colorbar": {
                                                    "outlinewidth": 0,
                                                    "ticks": ""
                                                },
                                                "type": "choropleth"
                                            }
                                        ],
                                        "contour": [
                                            {
                                                "colorbar": {
                                                    "outlinewidth": 0,
                                                    "ticks": ""
                                                },
                                                "colorscale": [
                                                    [
                                                        0,
                                                        "#0d0887"
                                                    ],
                                                    [
                                                        0.1111111111111111,
                                                        "#46039f"
                                                    ],
                                                    [
                                                        0.2222222222222222,
                                                        "#7201a8"
                                                    ],
                                                    [
                                                        0.3333333333333333,
                                                        "#9c179e"
                                                    ],
                                                    [
                                                        0.4444444444444444,
                                                        "#bd3786"
                                                    ],
                                                    [
                                                        0.5555555555555556,
                                                        "#d8576b"
                                                    ],
                                                    [
                                                        0.6666666666666666,
                                                        "#ed7953"
                                                    ],
                                                    [
                                                        0.7777777777777778,
                                                        "#fb9f3a"
                                                    ],
                                                    [
                                                        0.8888888888888888,
                                                        "#fdca26"
                                                    ],
                                                    [
                                                        1,
                                                        "#f0f921"
                                                    ]
                                                ],
                                                "type": "contour"
                                            }
                                        ],
                                        "contourcarpet": [
                                            {
                                                "colorbar": {
                                                    "outlinewidth": 0,
                                                    "ticks": ""
                                                },
                                                "type": "contourcarpet"
                                            }
                                        ],
                                        "heatmap": [
                                            {
                                                "colorbar": {
                                                    "outlinewidth": 0,
                                                    "ticks": ""
                                                },
                                                "colorscale": [
                                                    [
                                                        0,
                                                        "#0d0887"
                                                    ],
                                                    [
                                                        0.1111111111111111,
                                                        "#46039f"
                                                    ],
                                                    [
                                                        0.2222222222222222,
                                                        "#7201a8"
                                                    ],
                                                    [
                                                        0.3333333333333333,
                                                        "#9c179e"
                                                    ],
                                                    [
                                                        0.4444444444444444,
                                                        "#bd3786"
                                                    ],
                                                    [
                                                        0.5555555555555556,
                                                        "#d8576b"
                                                    ],
                                                    [
                                                        0.6666666666666666,
                                                        "#ed7953"
                                                    ],
                                                    [
                                                        0.7777777777777778,
                                                        "#fb9f3a"
                                                    ],
                                                    [
                                                        0.8888888888888888,
                                                        "#fdca26"
                                                    ],
                                                    [
                                                        1,
                                                        "#f0f921"
                                                    ]
                                                ],
                                                "type": "heatmap"
                                            }
                                        ],
                                        "heatmapgl": [
                                            {
                                                "colorbar": {
                                                    "outlinewidth": 0,
                                                    "ticks": ""
                                                },
                                                "colorscale": [
                                                    [
                                                        0,
                                                        "#0d0887"
                                                    ],
                                                    [
                                                        0.1111111111111111,
                                                        "#46039f"
                                                    ],
                                                    [
                                                        0.2222222222222222,
                                                        "#7201a8"
                                                    ],
                                                    [
                                                        0.3333333333333333,
                                                        "#9c179e"
                                                    ],
                                                    [
                                                        0.4444444444444444,
                                                        "#bd3786"
                                                    ],
                                                    [
                                                        0.5555555555555556,
                                                        "#d8576b"
                                                    ],
                                                    [
                                                        0.6666666666666666,
                                                        "#ed7953"
                                                    ],
                                                    [
                                                        0.7777777777777778,
                                                        "#fb9f3a"
                                                    ],
                                                    [
                                                        0.8888888888888888,
                                                        "#fdca26"
                                                    ],
                                                    [
                                                        1,
                                                        "#f0f921"
                                                    ]
                                                ],
                                                "type": "heatmapgl"
                                            }
                                        ],
                                        "histogram": [
                                            {
                                                "marker": {
                                                    "pattern": {
                                                        "fillmode": "overlay",
                                                        "size": 10,
                                                        "solidity": 0.2
                                                    }
                                                },
                                                "type": "histogram"
                                            }
                                        ],
                                        "histogram2d": [
                                            {
                                                "colorbar": {
                                                    "outlinewidth": 0,
                                                    "ticks": ""
                                                },
                                                "colorscale": [
                                                    [
                                                        0,
                                                        "#0d0887"
                                                    ],
                                                    [
                                                        0.1111111111111111,
                                                        "#46039f"
                                                    ],
                                                    [
                                                        0.2222222222222222,
                                                        "#7201a8"
                                                    ],
                                                    [
                                                        0.3333333333333333,
                                                        "#9c179e"
                                                    ],
                                                    [
                                                        0.4444444444444444,
                                                        "#bd3786"
                                                    ],
                                                    [
                                                        0.5555555555555556,
                                                        "#d8576b"
                                                    ],
                                                    [
                                                        0.6666666666666666,
                                                        "#ed7953"
                                                    ],
                                                    [
                                                        0.7777777777777778,
                                                        "#fb9f3a"
                                                    ],
                                                    [
                                                        0.8888888888888888,
                                                        "#fdca26"
                                                    ],
                                                    [
                                                        1,
                                                        "#f0f921"
                                                    ]
                                                ],
                                                "type": "histogram2d"
                                            }
                                        ],
                                        "histogram2dcontour": [
                                            {
                                                "colorbar": {
                                                    "outlinewidth": 0,
                                                    "ticks": ""
                                                },
                                                "colorscale": [
                                                    [
                                                        0,
                                                        "#0d0887"
                                                    ],
                                                    [
                                                        0.1111111111111111,
                                                        "#46039f"
                                                    ],
                                                    [
                                                        0.2222222222222222,
                                                        "#7201a8"
                                                    ],
                                                    [
                                                        0.3333333333333333,
                                                        "#9c179e"
                                                    ],
                                                    [
                                                        0.4444444444444444,
                                                        "#bd3786"
                                                    ],
                                                    [
                                                        0.5555555555555556,
                                                        "#d8576b"
                                                    ],
                                                    [
                                                        0.6666666666666666,
                                                        "#ed7953"
                                                    ],
                                                    [
                                                        0.7777777777777778,
                                                        "#fb9f3a"
                                                    ],
                                                    [
                                                        0.8888888888888888,
                                                        "#fdca26"
                                                    ],
                                                    [
                                                        1,
                                                        "#f0f921"
                                                    ]
                                                ],
                                                "type": "histogram2dcontour"
                                            }
                                        ],
                                        "mesh3d": [
                                            {
                                                "colorbar": {
                                                    "outlinewidth": 0,
                                                    "ticks": ""
                                                },
                                                "type": "mesh3d"
                                            }
                                        ],
                                        "parcoords": [
                                            {
                                                "line": {
                                                    "colorbar": {
                                                        "outlinewidth": 0,
                                                        "ticks": ""
                                                    }
                                                },
                                                "type": "parcoords"
                                            }
                                        ],
                                        "pie": [
                                            {
                                                "automargin": true,
                                                "type": "pie"
                                            }
                                        ],
                                        "scatter": [
                                            {
                                                "fillpattern": {
                                                    "fillmode": "overlay",
                                                    "size": 10,
                                                    "solidity": 0.2
                                                },
                                                "type": "scatter"
                                            }
                                        ],
                                        "scatter3d": [
                                            {
                                                "line": {
                                                    "colorbar": {
                                                        "outlinewidth": 0,
                                                        "ticks": ""
                                                    }
                                                },
                                                "marker": {
                                                    "colorbar": {
                                                        "outlinewidth": 0,
                                                        "ticks": ""
                                                    }
                                                },
                                                "type": "scatter3d"
                                            }
                                        ],
                                        "scattercarpet": [
                                            {
                                                "marker": {
                                                    "colorbar": {
                                                        "outlinewidth": 0,
                                                        "ticks": ""
                                                    }
                                                },
                                                "type": "scattercarpet"
                                            }
                                        ],
                                        "scattergeo": [
                                            {
                                                "marker": {
                                                    "colorbar": {
                                                        "outlinewidth": 0,
                                                        "ticks": ""
                                                    }
                                                },
                                                "type": "scattergeo"
                                            }
                                        ],
                                        "scattergl": [
                                            {
                                                "marker": {
                                                    "colorbar": {
                                                        "outlinewidth": 0,
                                                        "ticks": ""
                                                    }
                                                },
                                                "type": "scattergl"
                                            }
                                        ],
                                        "scattermapbox": [
                                            {
                                                "marker": {
                                                    "colorbar": {
                                                        "outlinewidth": 0,
                                                        "ticks": ""
                                                    }
                                                },
                                                "type": "scattermapbox"
                                            }
                                        ],
                                        "scatterpolar": [
                                            {
                                                "marker": {
                                                    "colorbar": {
                                                        "outlinewidth": 0,
                                                        "ticks": ""
                                                    }
                                                },
                                                "type": "scatterpolar"
                                            }
                                        ],
                                        "scatterpolargl": [
                                            {
                                                "marker": {
                                                    "colorbar": {
                                                        "outlinewidth": 0,
                                                        "ticks": ""
                                                    }
                                                },
                                                "type": "scatterpolargl"
                                            }
                                        ],
                                        "scatterternary": [
                                            {
                                                "marker": {
                                                    "colorbar": {
                                                        "outlinewidth": 0,
                                                        "ticks": ""
                                                    }
                                                },
                                                "type": "scatterternary"
                                            }
                                        ],
                                        "surface": [
                                            {
                                                "colorbar": {
                                                    "outlinewidth": 0,
                                                    "ticks": ""
                                                },
                                                "colorscale": [
                                                    [
                                                        0,
                                                        "#0d0887"
                                                    ],
                                                    [
                                                        0.1111111111111111,
                                                        "#46039f"
                                                    ],
                                                    [
                                                        0.2222222222222222,
                                                        "#7201a8"
                                                    ],
                                                    [
                                                        0.3333333333333333,
                                                        "#9c179e"
                                                    ],
                                                    [
                                                        0.4444444444444444,
                                                        "#bd3786"
                                                    ],
                                                    [
                                                        0.5555555555555556,
                                                        "#d8576b"
                                                    ],
                                                    [
                                                        0.6666666666666666,
                                                        "#ed7953"
                                                    ],
                                                    [
                                                        0.7777777777777778,
                                                        "#fb9f3a"
                                                    ],
                                                    [
                                                        0.8888888888888888,
                                                        "#fdca26"
                                                    ],
                                                    [
                                                        1,
                                                        "#f0f921"
                                                    ]
                                                ],
                                                "type": "surface"
                                            }
                                        ],
                                        "table": [
                                            {
                                                "cells": {
                                                    "fill": {
                                                        "color": "#EBF0F8"
                                                    },
                                                    "line": {
                                                        "color": "white"
                                                    }
                                                },
                                                "header": {
                                                    "fill": {
                                                        "color": "#C8D4E3"
                                                    },
                                                    "line": {
                                                        "color": "white"
                                                    }
                                                },
                                                "type": "table"
                                            }
                                        ]
                                    },
                                    "layout": {
                                        "annotationdefaults": {
                                            "arrowcolor": "#2a3f5f",
                                            "arrowhead": 0,
                                            "arrowwidth": 1
                                        },
                                        "autotypenumbers": "strict",
                                        "coloraxis": {
                                            "colorbar": {
                                                "outlinewidth": 0,
                                                "ticks": ""
                                            }
                                        },
                                        "colorscale": {
                                            "diverging": [
                                                [
                                                    0,
                                                    "#8e0152"
                                                ],
                                                [
                                                    0.1,
                                                    "#c51b7d"
                                                ],
                                                [
                                                    0.2,
                                                    "#de77ae"
                                                ],
                                                [
                                                    0.3,
                                                    "#f1b6da"
                                                ],
                                                [
                                                    0.4,
                                                    "#fde0ef"
                                                ],
                                                [
                                                    0.5,
                                                    "#f7f7f7"
                                                ],
                                                [
                                                    0.6,
                                                    "#e6f5d0"
                                                ],
                                                [
                                                    0.7,
                                                    "#b8e186"
                                                ],
                                                [
                                                    0.8,
                                                    "#7fbc41"
                                                ],
                                                [
                                                    0.9,
                                                    "#4d9221"
                                                ],
                                                [
                                                    1,
                                                    "#276419"
                                                ]
                                            ],
                                            "sequential": [
                                                [
                                                    0,
                                                    "#0d0887"
                                                ],
                                                [
                                                    0.1111111111111111,
                                                    "#46039f"
                                                ],
                                                [
                                                    0.2222222222222222,
                                                    "#7201a8"
                                                ],
                                                [
                                                    0.3333333333333333,
                                                    "#9c179e"
                                                ],
                                                [
                                                    0.4444444444444444,
                                                    "#bd3786"
                                                ],
                                                [
                                                    0.5555555555555556,
                                                    "#d8576b"
                                                ],
                                                [
                                                    0.6666666666666666,
                                                    "#ed7953"
                                                ],
                                                [
                                                    0.7777777777777778,
                                                    "#fb9f3a"
                                                ],
                                                [
                                                    0.8888888888888888,
                                                    "#fdca26"
                                                ],
                                                [
                                                    1,
                                                    "#f0f921"
                                                ]
                                            ],
                                            "sequentialminus": [
                                                [
                                                    0,
                                                    "#0d0887"
                                                ],
                                                [
                                                    0.1111111111111111,
                                                    "#46039f"
                                                ],
                                                [
                                                    0.2222222222222222,
                                                    "#7201a8"
                                                ],
                                                [
                                                    0.3333333333333333,
                                                    "#9c179e"
                                                ],
                                                [
                                                    0.4444444444444444,
                                                    "#bd3786"
                                                ],
                                                [
                                                    0.5555555555555556,
                                                    "#d8576b"
                                                ],
                                                [
                                                    0.6666666666666666,
                                                    "#ed7953"
                                                ],
                                                [
                                                    0.7777777777777778,
                                                    "#fb9f3a"
                                                ],
                                                [
                                                    0.8888888888888888,
                                                    "#fdca26"
                                                ],
                                                [
                                                    1,
                                                    "#f0f921"
                                                ]
                                            ]
                                        },
                                        "colorway": [
                                            "#636efa",
                                            "#EF553B",
                                            "#00cc96",
                                            "#ab63fa",
                                            "#FFA15A",
                                            "#19d3f3",
                                            "#FF6692",
                                            "#B6E880",
                                            "#FF97FF",
                                            "#FECB52"
                                        ],
                                        "font": {
                                            "color": "#2a3f5f"
                                        },
                                        "geo": {
                                            "bgcolor": "white",
                                            "lakecolor": "white",
                                            "landcolor": "#E5ECF6",
                                            "showlakes": true,
                                            "showland": true,
                                            "subunitcolor": "white"
                                        },
                                        "hoverlabel": {
                                            "align": "left"
                                        },
                                        "hovermode": "closest",
                                        "mapbox": {
                                            "style": "light"
                                        },
                                        "paper_bgcolor": "white",
                                        "plot_bgcolor": "#E5ECF6",
                                        "polar": {
                                            "angularaxis": {
                                                "gridcolor": "white",
                                                "linecolor": "white",
                                                "ticks": ""
                                            },
                                            "bgcolor": "#E5ECF6",
                                            "radialaxis": {
                                                "gridcolor": "white",
                                                "linecolor": "white",
                                                "ticks": ""
                                            }
                                        },
                                        "scene": {
                                            "xaxis": {
                                                "backgroundcolor": "#E5ECF6",
                                                "gridcolor": "white",
                                                "gridwidth": 2,
                                                "linecolor": "white",
                                                "showbackground": true,
                                                "ticks": "",
                                                "zerolinecolor": "white"
                                            },
                                            "yaxis": {
                                                "backgroundcolor": "#E5ECF6",
                                                "gridcolor": "white",
                                                "gridwidth": 2,
                                                "linecolor": "white",
                                                "showbackground": true,
                                                "ticks": "",
                                                "zerolinecolor": "white"
                                            },
                                            "zaxis": {
                                                "backgroundcolor": "#E5ECF6",
                                                "gridcolor": "white",
                                                "gridwidth": 2,
                                                "linecolor": "white",
                                                "showbackground": true,
                                                "ticks": "",
                                                "zerolinecolor": "white"
                                            }
                                        },
                                        "shapedefaults": {
                                            "line": {
                                                "color": "#2a3f5f"
                                            }
                                        },
                                        "ternary": {
                                            "aaxis": {
                                                "gridcolor": "white",
                                                "linecolor": "white",
                                                "ticks": ""
                                            },
                                            "baxis": {
                                                "gridcolor": "white",
                                                "linecolor": "white",
                                                "ticks": ""
                                            },
                                            "bgcolor": "#E5ECF6",
                                            "caxis": {
                                                "gridcolor": "white",
                                                "linecolor": "white",
                                                "ticks": ""
                                            }
                                        },
                                        "title": {
                                            "x": 0.05
                                        },
                                        "xaxis": {
                                            "automargin": true,
                                            "gridcolor": "white",
                                            "linecolor": "white",
                                            "ticks": "",
                                            "title": {
                                                "standoff": 15
                                            },
                                            "zerolinecolor": "white",
                                            "zerolinewidth": 2
                                        },
                                        "yaxis": {
                                            "automargin": true,
                                            "gridcolor": "white",
                                            "linecolor": "white",
                                            "ticks": "",
                                            "title": {
                                                "standoff": 15
                                            },
                                            "zerolinecolor": "white",
                                            "zerolinewidth": 2
                                        }
                                    }
                                }
                            }
                        },
                        "text/html": [
                            "<div>                            <div id=\"67c4f8a3-e9a3-41a6-beea-61ed2c560635\" class=\"plotly-graph-div\" style=\"height:525px; width:100%;\"></div>            <script type=\"text/javascript\">                require([\"plotly\"], function(Plotly) {                    window.PLOTLYENV=window.PLOTLYENV || {};                                    if (document.getElementById(\"67c4f8a3-e9a3-41a6-beea-61ed2c560635\")) {                    Plotly.newPlot(                        \"67c4f8a3-e9a3-41a6-beea-61ed2c560635\",                        [{\"hovertemplate\":\"line=nose_left_eye\\u003cbr\\u003ez=%{x}\\u003cbr\\u003ex=%{y}\\u003cbr\\u003ey=%{z}\\u003cextra\\u003e\\u003c\\u002fextra\\u003e\",\"legendgroup\":\"nose_left_eye\",\"line\":{\"color\":\"#636efa\",\"dash\":\"solid\"},\"marker\":{\"symbol\":\"circle\"},\"mode\":\"lines\",\"name\":\"nose_left_eye\",\"scene\":\"scene\",\"showlegend\":true,\"x\":[0.5063497424125671,0.4842859208583832],\"y\":[0.2558617889881134,0.30714234709739685],\"z\":[-0.2878478169441223,-0.22589075565338135],\"type\":\"scatter3d\"},{\"hovertemplate\":\"line=nose_right_eye\\u003cbr\\u003ez=%{x}\\u003cbr\\u003ex=%{y}\\u003cbr\\u003ey=%{z}\\u003cextra\\u003e\\u003c\\u002fextra\\u003e\",\"legendgroup\":\"nose_right_eye\",\"line\":{\"color\":\"#EF553B\",\"dash\":\"solid\"},\"marker\":{\"symbol\":\"circle\"},\"mode\":\"lines\",\"name\":\"nose_right_eye\",\"scene\":\"scene\",\"showlegend\":true,\"x\":[0.5063497424125671,0.4812348484992981],\"y\":[0.2558617889881134,0.1809624433517456],\"z\":[-0.2878478169441223,-0.24482832849025726],\"type\":\"scatter3d\"},{\"hovertemplate\":\"line=left_right_eye\\u003cbr\\u003ez=%{x}\\u003cbr\\u003ex=%{y}\\u003cbr\\u003ey=%{z}\\u003cextra\\u003e\\u003c\\u002fextra\\u003e\",\"legendgroup\":\"left_right_eye\",\"line\":{\"color\":\"#00cc96\",\"dash\":\"solid\"},\"marker\":{\"symbol\":\"circle\"},\"mode\":\"lines\",\"name\":\"left_right_eye\",\"scene\":\"scene\",\"showlegend\":true,\"x\":[0.4842859208583832,0.4812348484992981],\"y\":[0.30714234709739685,0.1809624433517456],\"z\":[-0.22589075565338135,-0.24482832849025726],\"type\":\"scatter3d\"},{\"hovertemplate\":\"line=left_ear_left_eye\\u003cbr\\u003ez=%{x}\\u003cbr\\u003ex=%{y}\\u003cbr\\u003ey=%{z}\\u003cextra\\u003e\\u003c\\u002fextra\\u003e\",\"legendgroup\":\"left_ear_left_eye\",\"line\":{\"color\":\"#ab63fa\",\"dash\":\"solid\"},\"marker\":{\"symbol\":\"circle\"},\"mode\":\"lines\",\"name\":\"left_ear_left_eye\",\"scene\":\"scene\",\"showlegend\":true,\"x\":[0.4842859208583832,0.3084975779056549],\"y\":[0.30714234709739685,0.04022873193025589],\"z\":[-0.22589075565338135,-0.46506139636039734],\"type\":\"scatter3d\"},{\"hovertemplate\":\"line=right_ear_right_eye\\u003cbr\\u003ez=%{x}\\u003cbr\\u003ex=%{y}\\u003cbr\\u003ey=%{z}\\u003cextra\\u003e\\u003c\\u002fextra\\u003e\",\"legendgroup\":\"right_ear_right_eye\",\"line\":{\"color\":\"#FFA15A\",\"dash\":\"solid\"},\"marker\":{\"symbol\":\"circle\"},\"mode\":\"lines\",\"name\":\"right_ear_right_eye\",\"scene\":\"scene\",\"showlegend\":true,\"x\":[0.4812348484992981,0.48759153485298157],\"y\":[0.1809624433517456,0.13312101364135742],\"z\":[-0.24482832849025726,-0.33151987195014954],\"type\":\"scatter3d\"},{\"hovertemplate\":\"line=left_shoulder_right_sholder\\u003cbr\\u003ez=%{x}\\u003cbr\\u003ex=%{y}\\u003cbr\\u003ey=%{z}\\u003cextra\\u003e\\u003c\\u002fextra\\u003e\",\"legendgroup\":\"left_shoulder_right_sholder\",\"line\":{\"color\":\"#19d3f3\",\"dash\":\"solid\"},\"marker\":{\"symbol\":\"circle\"},\"mode\":\"lines\",\"name\":\"left_shoulder_right_sholder\",\"scene\":\"scene\",\"showlegend\":true,\"x\":[0.7100953459739685,0.6616883277893066],\"y\":[0.34807223081588745,0.04086894914507866],\"z\":[-0.16450235247612,-0.1869223713874817],\"type\":\"scatter3d\"},{\"hovertemplate\":\"line=left_sholder_left_elbow\\u003cbr\\u003ez=%{x}\\u003cbr\\u003ex=%{y}\\u003cbr\\u003ey=%{z}\\u003cextra\\u003e\\u003c\\u002fextra\\u003e\",\"legendgroup\":\"left_sholder_left_elbow\",\"line\":{\"color\":\"#FF6692\",\"dash\":\"solid\"},\"marker\":{\"symbol\":\"circle\"},\"mode\":\"lines\",\"name\":\"left_sholder_left_elbow\",\"scene\":\"scene\",\"showlegend\":true,\"x\":[0.7100953459739685,0.8226505517959595],\"y\":[0.34807223081588745,0.4551343619823456],\"z\":[-0.16450235247612,0.05812476947903633],\"type\":\"scatter3d\"},{\"hovertemplate\":\"line=left_shoulder_left_hip\\u003cbr\\u003ez=%{x}\\u003cbr\\u003ex=%{y}\\u003cbr\\u003ey=%{z}\\u003cextra\\u003e\\u003c\\u002fextra\\u003e\",\"legendgroup\":\"left_shoulder_left_hip\",\"line\":{\"color\":\"#B6E880\",\"dash\":\"solid\"},\"marker\":{\"symbol\":\"circle\"},\"mode\":\"lines\",\"name\":\"left_shoulder_left_hip\",\"scene\":\"scene\",\"showlegend\":true,\"x\":[0.7100953459739685,0.7684357762336731],\"y\":[0.34807223081588745,0.3084581196308136],\"z\":[-0.16450235247612,0.2898498475551605],\"type\":\"scatter3d\"},{\"hovertemplate\":\"line=right_shoulder_right_elbow\\u003cbr\\u003ez=%{x}\\u003cbr\\u003ex=%{y}\\u003cbr\\u003ey=%{z}\\u003cextra\\u003e\\u003c\\u002fextra\\u003e\",\"legendgroup\":\"right_shoulder_right_elbow\",\"line\":{\"color\":\"#FF97FF\",\"dash\":\"solid\"},\"marker\":{\"symbol\":\"circle\"},\"mode\":\"lines\",\"name\":\"right_shoulder_right_elbow\",\"scene\":\"scene\",\"showlegend\":true,\"x\":[0.6616883277893066,0.8480494618415833],\"y\":[0.04086894914507866,-0.1566343605518341],\"z\":[-0.1869223713874817,-0.007753971964120865],\"type\":\"scatter3d\"},{\"hovertemplate\":\"line=right_shoulder_right_hip\\u003cbr\\u003ez=%{x}\\u003cbr\\u003ex=%{y}\\u003cbr\\u003ey=%{z}\\u003cextra\\u003e\\u003c\\u002fextra\\u003e\",\"legendgroup\":\"right_shoulder_right_hip\",\"line\":{\"color\":\"#FECB52\",\"dash\":\"solid\"},\"marker\":{\"symbol\":\"circle\"},\"mode\":\"lines\",\"name\":\"right_shoulder_right_hip\",\"scene\":\"scene\",\"showlegend\":true,\"x\":[0.6616883277893066,0.8056862950325012],\"y\":[0.04086894914507866,0.05262503772974014],\"z\":[-0.1869223713874817,0.29406705498695374],\"type\":\"scatter3d\"},{\"hovertemplate\":\"line=left_elbow_left_wrist\\u003cbr\\u003ez=%{x}\\u003cbr\\u003ex=%{y}\\u003cbr\\u003ey=%{z}\\u003cextra\\u003e\\u003c\\u002fextra\\u003e\",\"legendgroup\":\"left_elbow_left_wrist\",\"line\":{\"color\":\"#636efa\",\"dash\":\"solid\"},\"marker\":{\"symbol\":\"circle\"},\"mode\":\"lines\",\"name\":\"left_elbow_left_wrist\",\"scene\":\"scene\",\"showlegend\":true,\"x\":[0.8226505517959595,0.6561174392700195],\"y\":[0.4551343619823456,0.3425397276878357],\"z\":[0.05812476947903633,0.0855863019824028],\"type\":\"scatter3d\"},{\"hovertemplate\":\"line=right_elbow_right_wrist\\u003cbr\\u003ez=%{x}\\u003cbr\\u003ex=%{y}\\u003cbr\\u003ey=%{z}\\u003cextra\\u003e\\u003c\\u002fextra\\u003e\",\"legendgroup\":\"right_elbow_right_wrist\",\"line\":{\"color\":\"#EF553B\",\"dash\":\"solid\"},\"marker\":{\"symbol\":\"circle\"},\"mode\":\"lines\",\"name\":\"right_elbow_right_wrist\",\"scene\":\"scene\",\"showlegend\":true,\"x\":[0.8480494618415833,0.658949077129364],\"y\":[-0.1566343605518341,-0.0489206463098526],\"z\":[-0.007753971964120865,0.13506153225898743],\"type\":\"scatter3d\"},{\"hovertemplate\":\"line=left_hip_right_hip\\u003cbr\\u003ez=%{x}\\u003cbr\\u003ex=%{y}\\u003cbr\\u003ey=%{z}\\u003cextra\\u003e\\u003c\\u002fextra\\u003e\",\"legendgroup\":\"left_hip_right_hip\",\"line\":{\"color\":\"#00cc96\",\"dash\":\"solid\"},\"marker\":{\"symbol\":\"circle\"},\"mode\":\"lines\",\"name\":\"left_hip_right_hip\",\"scene\":\"scene\",\"showlegend\":true,\"x\":[0.7684357762336731,0.8056862950325012],\"y\":[0.3084581196308136,0.05262503772974014],\"z\":[0.2898498475551605,0.29406705498695374],\"type\":\"scatter3d\"}],                        {\"template\":{\"data\":{\"histogram2dcontour\":[{\"type\":\"histogram2dcontour\",\"colorbar\":{\"outlinewidth\":0,\"ticks\":\"\"},\"colorscale\":[[0.0,\"#0d0887\"],[0.1111111111111111,\"#46039f\"],[0.2222222222222222,\"#7201a8\"],[0.3333333333333333,\"#9c179e\"],[0.4444444444444444,\"#bd3786\"],[0.5555555555555556,\"#d8576b\"],[0.6666666666666666,\"#ed7953\"],[0.7777777777777778,\"#fb9f3a\"],[0.8888888888888888,\"#fdca26\"],[1.0,\"#f0f921\"]]}],\"choropleth\":[{\"type\":\"choropleth\",\"colorbar\":{\"outlinewidth\":0,\"ticks\":\"\"}}],\"histogram2d\":[{\"type\":\"histogram2d\",\"colorbar\":{\"outlinewidth\":0,\"ticks\":\"\"},\"colorscale\":[[0.0,\"#0d0887\"],[0.1111111111111111,\"#46039f\"],[0.2222222222222222,\"#7201a8\"],[0.3333333333333333,\"#9c179e\"],[0.4444444444444444,\"#bd3786\"],[0.5555555555555556,\"#d8576b\"],[0.6666666666666666,\"#ed7953\"],[0.7777777777777778,\"#fb9f3a\"],[0.8888888888888888,\"#fdca26\"],[1.0,\"#f0f921\"]]}],\"heatmap\":[{\"type\":\"heatmap\",\"colorbar\":{\"outlinewidth\":0,\"ticks\":\"\"},\"colorscale\":[[0.0,\"#0d0887\"],[0.1111111111111111,\"#46039f\"],[0.2222222222222222,\"#7201a8\"],[0.3333333333333333,\"#9c179e\"],[0.4444444444444444,\"#bd3786\"],[0.5555555555555556,\"#d8576b\"],[0.6666666666666666,\"#ed7953\"],[0.7777777777777778,\"#fb9f3a\"],[0.8888888888888888,\"#fdca26\"],[1.0,\"#f0f921\"]]}],\"heatmapgl\":[{\"type\":\"heatmapgl\",\"colorbar\":{\"outlinewidth\":0,\"ticks\":\"\"},\"colorscale\":[[0.0,\"#0d0887\"],[0.1111111111111111,\"#46039f\"],[0.2222222222222222,\"#7201a8\"],[0.3333333333333333,\"#9c179e\"],[0.4444444444444444,\"#bd3786\"],[0.5555555555555556,\"#d8576b\"],[0.6666666666666666,\"#ed7953\"],[0.7777777777777778,\"#fb9f3a\"],[0.8888888888888888,\"#fdca26\"],[1.0,\"#f0f921\"]]}],\"contourcarpet\":[{\"type\":\"contourcarpet\",\"colorbar\":{\"outlinewidth\":0,\"ticks\":\"\"}}],\"contour\":[{\"type\":\"contour\",\"colorbar\":{\"outlinewidth\":0,\"ticks\":\"\"},\"colorscale\":[[0.0,\"#0d0887\"],[0.1111111111111111,\"#46039f\"],[0.2222222222222222,\"#7201a8\"],[0.3333333333333333,\"#9c179e\"],[0.4444444444444444,\"#bd3786\"],[0.5555555555555556,\"#d8576b\"],[0.6666666666666666,\"#ed7953\"],[0.7777777777777778,\"#fb9f3a\"],[0.8888888888888888,\"#fdca26\"],[1.0,\"#f0f921\"]]}],\"surface\":[{\"type\":\"surface\",\"colorbar\":{\"outlinewidth\":0,\"ticks\":\"\"},\"colorscale\":[[0.0,\"#0d0887\"],[0.1111111111111111,\"#46039f\"],[0.2222222222222222,\"#7201a8\"],[0.3333333333333333,\"#9c179e\"],[0.4444444444444444,\"#bd3786\"],[0.5555555555555556,\"#d8576b\"],[0.6666666666666666,\"#ed7953\"],[0.7777777777777778,\"#fb9f3a\"],[0.8888888888888888,\"#fdca26\"],[1.0,\"#f0f921\"]]}],\"mesh3d\":[{\"type\":\"mesh3d\",\"colorbar\":{\"outlinewidth\":0,\"ticks\":\"\"}}],\"scatter\":[{\"fillpattern\":{\"fillmode\":\"overlay\",\"size\":10,\"solidity\":0.2},\"type\":\"scatter\"}],\"parcoords\":[{\"type\":\"parcoords\",\"line\":{\"colorbar\":{\"outlinewidth\":0,\"ticks\":\"\"}}}],\"scatterpolargl\":[{\"type\":\"scatterpolargl\",\"marker\":{\"colorbar\":{\"outlinewidth\":0,\"ticks\":\"\"}}}],\"bar\":[{\"error_x\":{\"color\":\"#2a3f5f\"},\"error_y\":{\"color\":\"#2a3f5f\"},\"marker\":{\"line\":{\"color\":\"#E5ECF6\",\"width\":0.5},\"pattern\":{\"fillmode\":\"overlay\",\"size\":10,\"solidity\":0.2}},\"type\":\"bar\"}],\"scattergeo\":[{\"type\":\"scattergeo\",\"marker\":{\"colorbar\":{\"outlinewidth\":0,\"ticks\":\"\"}}}],\"scatterpolar\":[{\"type\":\"scatterpolar\",\"marker\":{\"colorbar\":{\"outlinewidth\":0,\"ticks\":\"\"}}}],\"histogram\":[{\"marker\":{\"pattern\":{\"fillmode\":\"overlay\",\"size\":10,\"solidity\":0.2}},\"type\":\"histogram\"}],\"scattergl\":[{\"type\":\"scattergl\",\"marker\":{\"colorbar\":{\"outlinewidth\":0,\"ticks\":\"\"}}}],\"scatter3d\":[{\"type\":\"scatter3d\",\"line\":{\"colorbar\":{\"outlinewidth\":0,\"ticks\":\"\"}},\"marker\":{\"colorbar\":{\"outlinewidth\":0,\"ticks\":\"\"}}}],\"scattermapbox\":[{\"type\":\"scattermapbox\",\"marker\":{\"colorbar\":{\"outlinewidth\":0,\"ticks\":\"\"}}}],\"scatterternary\":[{\"type\":\"scatterternary\",\"marker\":{\"colorbar\":{\"outlinewidth\":0,\"ticks\":\"\"}}}],\"scattercarpet\":[{\"type\":\"scattercarpet\",\"marker\":{\"colorbar\":{\"outlinewidth\":0,\"ticks\":\"\"}}}],\"carpet\":[{\"aaxis\":{\"endlinecolor\":\"#2a3f5f\",\"gridcolor\":\"white\",\"linecolor\":\"white\",\"minorgridcolor\":\"white\",\"startlinecolor\":\"#2a3f5f\"},\"baxis\":{\"endlinecolor\":\"#2a3f5f\",\"gridcolor\":\"white\",\"linecolor\":\"white\",\"minorgridcolor\":\"white\",\"startlinecolor\":\"#2a3f5f\"},\"type\":\"carpet\"}],\"table\":[{\"cells\":{\"fill\":{\"color\":\"#EBF0F8\"},\"line\":{\"color\":\"white\"}},\"header\":{\"fill\":{\"color\":\"#C8D4E3\"},\"line\":{\"color\":\"white\"}},\"type\":\"table\"}],\"barpolar\":[{\"marker\":{\"line\":{\"color\":\"#E5ECF6\",\"width\":0.5},\"pattern\":{\"fillmode\":\"overlay\",\"size\":10,\"solidity\":0.2}},\"type\":\"barpolar\"}],\"pie\":[{\"automargin\":true,\"type\":\"pie\"}]},\"layout\":{\"autotypenumbers\":\"strict\",\"colorway\":[\"#636efa\",\"#EF553B\",\"#00cc96\",\"#ab63fa\",\"#FFA15A\",\"#19d3f3\",\"#FF6692\",\"#B6E880\",\"#FF97FF\",\"#FECB52\"],\"font\":{\"color\":\"#2a3f5f\"},\"hovermode\":\"closest\",\"hoverlabel\":{\"align\":\"left\"},\"paper_bgcolor\":\"white\",\"plot_bgcolor\":\"#E5ECF6\",\"polar\":{\"bgcolor\":\"#E5ECF6\",\"angularaxis\":{\"gridcolor\":\"white\",\"linecolor\":\"white\",\"ticks\":\"\"},\"radialaxis\":{\"gridcolor\":\"white\",\"linecolor\":\"white\",\"ticks\":\"\"}},\"ternary\":{\"bgcolor\":\"#E5ECF6\",\"aaxis\":{\"gridcolor\":\"white\",\"linecolor\":\"white\",\"ticks\":\"\"},\"baxis\":{\"gridcolor\":\"white\",\"linecolor\":\"white\",\"ticks\":\"\"},\"caxis\":{\"gridcolor\":\"white\",\"linecolor\":\"white\",\"ticks\":\"\"}},\"coloraxis\":{\"colorbar\":{\"outlinewidth\":0,\"ticks\":\"\"}},\"colorscale\":{\"sequential\":[[0.0,\"#0d0887\"],[0.1111111111111111,\"#46039f\"],[0.2222222222222222,\"#7201a8\"],[0.3333333333333333,\"#9c179e\"],[0.4444444444444444,\"#bd3786\"],[0.5555555555555556,\"#d8576b\"],[0.6666666666666666,\"#ed7953\"],[0.7777777777777778,\"#fb9f3a\"],[0.8888888888888888,\"#fdca26\"],[1.0,\"#f0f921\"]],\"sequentialminus\":[[0.0,\"#0d0887\"],[0.1111111111111111,\"#46039f\"],[0.2222222222222222,\"#7201a8\"],[0.3333333333333333,\"#9c179e\"],[0.4444444444444444,\"#bd3786\"],[0.5555555555555556,\"#d8576b\"],[0.6666666666666666,\"#ed7953\"],[0.7777777777777778,\"#fb9f3a\"],[0.8888888888888888,\"#fdca26\"],[1.0,\"#f0f921\"]],\"diverging\":[[0,\"#8e0152\"],[0.1,\"#c51b7d\"],[0.2,\"#de77ae\"],[0.3,\"#f1b6da\"],[0.4,\"#fde0ef\"],[0.5,\"#f7f7f7\"],[0.6,\"#e6f5d0\"],[0.7,\"#b8e186\"],[0.8,\"#7fbc41\"],[0.9,\"#4d9221\"],[1,\"#276419\"]]},\"xaxis\":{\"gridcolor\":\"white\",\"linecolor\":\"white\",\"ticks\":\"\",\"title\":{\"standoff\":15},\"zerolinecolor\":\"white\",\"automargin\":true,\"zerolinewidth\":2},\"yaxis\":{\"gridcolor\":\"white\",\"linecolor\":\"white\",\"ticks\":\"\",\"title\":{\"standoff\":15},\"zerolinecolor\":\"white\",\"automargin\":true,\"zerolinewidth\":2},\"scene\":{\"xaxis\":{\"backgroundcolor\":\"#E5ECF6\",\"gridcolor\":\"white\",\"linecolor\":\"white\",\"showbackground\":true,\"ticks\":\"\",\"zerolinecolor\":\"white\",\"gridwidth\":2},\"yaxis\":{\"backgroundcolor\":\"#E5ECF6\",\"gridcolor\":\"white\",\"linecolor\":\"white\",\"showbackground\":true,\"ticks\":\"\",\"zerolinecolor\":\"white\",\"gridwidth\":2},\"zaxis\":{\"backgroundcolor\":\"#E5ECF6\",\"gridcolor\":\"white\",\"linecolor\":\"white\",\"showbackground\":true,\"ticks\":\"\",\"zerolinecolor\":\"white\",\"gridwidth\":2}},\"shapedefaults\":{\"line\":{\"color\":\"#2a3f5f\"}},\"annotationdefaults\":{\"arrowcolor\":\"#2a3f5f\",\"arrowhead\":0,\"arrowwidth\":1},\"geo\":{\"bgcolor\":\"white\",\"landcolor\":\"#E5ECF6\",\"subunitcolor\":\"white\",\"showland\":true,\"showlakes\":true,\"lakecolor\":\"white\"},\"title\":{\"x\":0.05},\"mapbox\":{\"style\":\"light\"}}},\"scene\":{\"domain\":{\"x\":[0.0,1.0],\"y\":[0.0,1.0]},\"xaxis\":{\"title\":{\"text\":\"z\"},\"autorange\":\"reversed\"},\"yaxis\":{\"title\":{\"text\":\"x\"}},\"zaxis\":{\"title\":{\"text\":\"y\"},\"autorange\":\"reversed\"}},\"legend\":{\"title\":{\"text\":\"line\"},\"tracegroupgap\":0},\"margin\":{\"t\":60}},                        {\"responsive\": true}                    ).then(function(){\n",
                            "                            \n",
                            "var gd = document.getElementById('67c4f8a3-e9a3-41a6-beea-61ed2c560635');\n",
                            "var x = new MutationObserver(function (mutations, observer) {{\n",
                            "        var display = window.getComputedStyle(gd).display;\n",
                            "        if (!display || display === 'none') {{\n",
                            "            console.log([gd, 'removed!']);\n",
                            "            Plotly.purge(gd);\n",
                            "            observer.disconnect();\n",
                            "        }}\n",
                            "}});\n",
                            "\n",
                            "// Listen for the removal of the full notebook cells\n",
                            "var notebookContainer = gd.closest('#notebook-container');\n",
                            "if (notebookContainer) {{\n",
                            "    x.observe(notebookContainer, {childList: true});\n",
                            "}}\n",
                            "\n",
                            "// Listen for the clearing of the current output cell\n",
                            "var outputEl = gd.closest('.output');\n",
                            "if (outputEl) {{\n",
                            "    x.observe(outputEl, {childList: true});\n",
                            "}}\n",
                            "\n",
                            "                        })                };                });            </script>        </div>"
                        ]
                    },
                    "metadata": {},
                    "output_type": "display_data"
                }
            ],
            "source": [
                "model = trainer.model.to(device)\n",
                "model.eval()\n",
                "estimated_pose = model(torch.flatten(torch.tensor(sample[0])).unsqueeze(0).float().to(device), 0)\n",
                "estimated_pose_df = pd.DataFrame(\n",
                "    generate_connection_line(\n",
                "        estimated_pose[0].cpu().reshape([-1, 3]).detach().numpy(),\n",
                "        # np.argwhere(valid_keypoints).reshape(-1)\n",
                "    )\n",
                ")\n",
                "visualize_pose(estimated_pose_df)"
            ]
        },
        {
            "cell_type": "code",
            "execution_count": null,
            "metadata": {},
            "outputs": [],
            "source": []
        },
        {
            "cell_type": "code",
            "execution_count": null,
            "metadata": {},
            "outputs": [],
            "source": []
        }
    ],
    "metadata": {
        "kernelspec": {
            "display_name": "Python 3 (ipykernel)",
            "language": "python",
            "name": "python3"
        },
        "orig_nbformat": 4,
        "vscode": {
            "interpreter": {
                "hash": "916dbcbb3f70747c44a77c7bcd40155683ae19c65e1c03b4aa3499c5328201f1"
            }
        }
    },
    "nbformat": 4,
    "nbformat_minor": 2
}