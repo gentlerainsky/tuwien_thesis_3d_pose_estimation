{
    "cells": [
        {
            "cell_type": "code",
            "execution_count": 1,
            "metadata": {},
            "outputs": [
                {
                    "name": "stdout",
                    "output_type": "stream",
                    "text": [
                        "['/workspace/demo', '/opt/conda/lib/python310.zip', '/opt/conda/lib/python3.10', '/opt/conda/lib/python3.10/lib-dynload', '', '/opt/conda/lib/python3.10/site-packages', '/opt/conda/lib/python3.10/site-packages/mpmath-1.2.1-py3.10.egg', '..']\n"
                    ]
                }
            ],
            "source": [
                "import sys\n",
                "sys.path.append('..')\n",
                "print(sys.path)"
            ]
        },
        {
            "cell_type": "code",
            "execution_count": 2,
            "metadata": {},
            "outputs": [
                {
                    "data": {
                        "text/plain": [
                            "'/workspace/demo'"
                        ]
                    },
                    "execution_count": 2,
                    "metadata": {},
                    "output_type": "execute_result"
                }
            ],
            "source": [
                "import os\n",
                "os.getcwd()"
            ]
        },
        {
            "cell_type": "code",
            "execution_count": 3,
            "metadata": {},
            "outputs": [
                {
                    "ename": "FileNotFoundError",
                    "evalue": "[Errno 2] No such file or directory: 'modules/pose_estimator_2d/config/hrnet.py'",
                    "output_type": "error",
                    "traceback": [
                        "\u001b[0;31m---------------------------------------------------------------------------\u001b[0m",
                        "\u001b[0;31mFileNotFoundError\u001b[0m                         Traceback (most recent call last)",
                        "Cell \u001b[0;32mIn[3], line 3\u001b[0m\n\u001b[1;32m      1\u001b[0m \u001b[38;5;28;01mfrom\u001b[39;00m \u001b[38;5;21;01msrc\u001b[39;00m\u001b[38;5;21;01m.\u001b[39;00m\u001b[38;5;21;01mmodules\u001b[39;00m\u001b[38;5;21;01m.\u001b[39;00m\u001b[38;5;21;01mpose_estimator_2d\u001b[39;00m\u001b[38;5;21;01m.\u001b[39;00m\u001b[38;5;21;01mpose_estimator_2d\u001b[39;00m \u001b[38;5;28;01mimport\u001b[39;00m PoseEstimator2D\n\u001b[0;32m----> 3\u001b[0m pose_estimator_2d \u001b[38;5;241m=\u001b[39m \u001b[43mPoseEstimator2D\u001b[49m\u001b[43m(\u001b[49m\n\u001b[1;32m      4\u001b[0m \u001b[43m    \u001b[49m\u001b[43mconfig_path\u001b[49m\u001b[38;5;241;43m=\u001b[39;49m\u001b[38;5;124;43m'\u001b[39;49m\u001b[38;5;124;43msrc/modules/pose_estimator_2d/config/hrnet.py\u001b[39;49m\u001b[38;5;124;43m'\u001b[39;49m\u001b[43m,\u001b[49m\n\u001b[1;32m      5\u001b[0m \u001b[43m    \u001b[49m\u001b[38;5;66;43;03m# config_path='modules/pose_estimator_2d/config/test_config.py',\u001b[39;49;00m\n\u001b[1;32m      6\u001b[0m \u001b[43m    \u001b[49m\u001b[43mpretrained_path\u001b[49m\u001b[38;5;241;43m=\u001b[39;49m\u001b[38;5;124;43m'\u001b[39;49m\u001b[38;5;124;43mhttps://download.openmmlab.com/mmpose/v1\u001b[39;49m\u001b[38;5;124;43m'\u001b[39;49m\u001b[43m \u001b[49m\u001b[43m\\\u001b[49m\n\u001b[1;32m      7\u001b[0m \u001b[43m        \u001b[49m\u001b[38;5;124;43m'\u001b[39;49m\u001b[38;5;124;43m/body_2d_keypoint/topdown_heatmap/coco\u001b[39;49m\u001b[38;5;124;43m'\u001b[39;49m\u001b[43m\\\u001b[49m\n\u001b[1;32m      8\u001b[0m \u001b[43m            \u001b[49m\u001b[38;5;124;43m'\u001b[39;49m\u001b[38;5;124;43m/td-hm_hrnet-w32_8xb64-210e_coco-256x192-81c58e40_20220909.pth\u001b[39;49m\u001b[38;5;124;43m'\u001b[39;49m\u001b[43m,\u001b[49m\n\u001b[1;32m      9\u001b[0m \u001b[43m    \u001b[49m\u001b[43mcheckpoint_path\u001b[49m\u001b[38;5;241;43m=\u001b[39;49m\u001b[38;5;124;43m\"\u001b[39;49m\u001b[38;5;124;43mpose_estimator_2d_wd/best_coco_AP_epoch_0.pth\u001b[39;49m\u001b[38;5;124;43m\"\u001b[39;49m\u001b[43m,\u001b[49m\n\u001b[1;32m     10\u001b[0m \u001b[43m    \u001b[49m\u001b[43mdata_root_path\u001b[49m\u001b[38;5;241;43m=\u001b[39;49m\u001b[38;5;124;43m'\u001b[39;49m\u001b[38;5;124;43m/root/data/processed/synthetic_cabin_bw/A_Pillar_Codriver\u001b[39;49m\u001b[38;5;124;43m'\u001b[39;49m\u001b[43m,\u001b[49m\n\u001b[1;32m     11\u001b[0m \u001b[43m    \u001b[49m\u001b[43mdevice\u001b[49m\u001b[38;5;241;43m=\u001b[39;49m\u001b[38;5;124;43m'\u001b[39;49m\u001b[38;5;124;43mcuda:0\u001b[39;49m\u001b[38;5;124;43m'\u001b[39;49m\u001b[43m,\u001b[49m\n\u001b[1;32m     12\u001b[0m \u001b[43m    \u001b[49m\u001b[43mworking_directory\u001b[49m\u001b[38;5;241;43m=\u001b[39;49m\u001b[38;5;124;43m'\u001b[39;49m\u001b[38;5;124;43mmmengine_workdir/pose_estimator_2d\u001b[39;49m\u001b[38;5;124;43m'\u001b[39;49m\u001b[43m,\u001b[49m\n\u001b[1;32m     13\u001b[0m \u001b[43m    \u001b[49m\u001b[43mlog_level\u001b[49m\u001b[38;5;241;43m=\u001b[39;49m\u001b[38;5;124;43m'\u001b[39;49m\u001b[38;5;124;43mINFO\u001b[39;49m\u001b[38;5;124;43m'\u001b[39;49m\n\u001b[1;32m     14\u001b[0m \u001b[43m)\u001b[49m\n\u001b[1;32m     16\u001b[0m \u001b[38;5;66;03m# pose_estimator_2d.load_pretrained()\u001b[39;00m\n\u001b[1;32m     17\u001b[0m \u001b[38;5;66;03m# pose_estimator_2d_result = pose_estimator_2d.inference(img_path, bbox.detach().cpu().numpy(), bbox_format='xywh')\u001b[39;00m\n\u001b[1;32m     18\u001b[0m \u001b[38;5;66;03m# keypoints_2D = pose_estimator_2d_result[0].pred_instances['keypoints'][0]\u001b[39;00m\n\u001b[1;32m     19\u001b[0m \u001b[38;5;66;03m# print(keypoints_2D)\u001b[39;00m\n\u001b[1;32m     20\u001b[0m pose_estimator_2d\u001b[38;5;241m.\u001b[39mfinetune()\n",
                        "File \u001b[0;32m/workspace/demo/../src/modules/pose_estimator_2d/pose_estimator_2d.py:31\u001b[0m, in \u001b[0;36mPoseEstimator2D.__init__\u001b[0;34m(self, config_path, pretrained_path, checkpoint_path, data_root_path, device, working_directory, log_level)\u001b[0m\n\u001b[1;32m     29\u001b[0m \u001b[38;5;28mself\u001b[39m\u001b[38;5;241m.\u001b[39mdata_root \u001b[38;5;241m=\u001b[39m data_root_path\n\u001b[1;32m     30\u001b[0m \u001b[38;5;28mself\u001b[39m\u001b[38;5;241m.\u001b[39mdevice \u001b[38;5;241m=\u001b[39m device\n\u001b[0;32m---> 31\u001b[0m \u001b[38;5;28mself\u001b[39m\u001b[38;5;241m.\u001b[39mconfig \u001b[38;5;241m=\u001b[39m \u001b[43mConfig\u001b[49m\u001b[38;5;241;43m.\u001b[39;49m\u001b[43mfromfile\u001b[49m\u001b[43m(\u001b[49m\u001b[38;5;28;43mself\u001b[39;49m\u001b[38;5;241;43m.\u001b[39;49m\u001b[43mconfig_path\u001b[49m\u001b[43m)\u001b[49m\n\u001b[1;32m     32\u001b[0m \u001b[38;5;28mself\u001b[39m\u001b[38;5;241m.\u001b[39mconfig\u001b[38;5;241m.\u001b[39mdata_root \u001b[38;5;241m=\u001b[39m \u001b[38;5;28mself\u001b[39m\u001b[38;5;241m.\u001b[39mdata_root\n\u001b[1;32m     33\u001b[0m \u001b[38;5;28mself\u001b[39m\u001b[38;5;241m.\u001b[39mconfig\u001b[38;5;241m.\u001b[39mload_from \u001b[38;5;241m=\u001b[39m \u001b[38;5;28mself\u001b[39m\u001b[38;5;241m.\u001b[39mpretrained_path\n",
                        "File \u001b[0;32m/opt/conda/lib/python3.10/site-packages/mmengine/config/config.py:448\u001b[0m, in \u001b[0;36mConfig.fromfile\u001b[0;34m(filename, use_predefined_variables, import_custom_modules, use_environment_variables, lazy_import, format_python_code)\u001b[0m\n\u001b[1;32m    429\u001b[0m \u001b[38;5;250m\u001b[39m\u001b[38;5;124;03m\"\"\"Build a Config instance from config file.\u001b[39;00m\n\u001b[1;32m    430\u001b[0m \n\u001b[1;32m    431\u001b[0m \u001b[38;5;124;03mArgs:\u001b[39;00m\n\u001b[0;32m   (...)\u001b[0m\n\u001b[1;32m    444\u001b[0m \u001b[38;5;124;03m    Config: Config instance built from config file.\u001b[39;00m\n\u001b[1;32m    445\u001b[0m \u001b[38;5;124;03m\"\"\"\u001b[39;00m\n\u001b[1;32m    446\u001b[0m filename \u001b[38;5;241m=\u001b[39m \u001b[38;5;28mstr\u001b[39m(filename) \u001b[38;5;28;01mif\u001b[39;00m \u001b[38;5;28misinstance\u001b[39m(filename, Path) \u001b[38;5;28;01melse\u001b[39;00m filename\n\u001b[1;32m    447\u001b[0m \u001b[38;5;28;01mif\u001b[39;00m lazy_import \u001b[38;5;129;01mis\u001b[39;00m \u001b[38;5;28;01mFalse\u001b[39;00m \u001b[38;5;129;01mor\u001b[39;00m \\\n\u001b[0;32m--> 448\u001b[0m    lazy_import \u001b[38;5;129;01mis\u001b[39;00m \u001b[38;5;28;01mNone\u001b[39;00m \u001b[38;5;129;01mand\u001b[39;00m \u001b[38;5;129;01mnot\u001b[39;00m \u001b[43mConfig\u001b[49m\u001b[38;5;241;43m.\u001b[39;49m\u001b[43m_is_lazy_import\u001b[49m\u001b[43m(\u001b[49m\u001b[43mfilename\u001b[49m\u001b[43m)\u001b[49m:\n\u001b[1;32m    449\u001b[0m     cfg_dict, cfg_text, env_variables \u001b[38;5;241m=\u001b[39m Config\u001b[38;5;241m.\u001b[39m_file2dict(\n\u001b[1;32m    450\u001b[0m         filename, use_predefined_variables, use_environment_variables,\n\u001b[1;32m    451\u001b[0m         lazy_import)\n\u001b[1;32m    452\u001b[0m     \u001b[38;5;28;01mif\u001b[39;00m import_custom_modules \u001b[38;5;129;01mand\u001b[39;00m cfg_dict\u001b[38;5;241m.\u001b[39mget(\u001b[38;5;124m'\u001b[39m\u001b[38;5;124mcustom_imports\u001b[39m\u001b[38;5;124m'\u001b[39m, \u001b[38;5;28;01mNone\u001b[39;00m):\n",
                        "File \u001b[0;32m/opt/conda/lib/python3.10/site-packages/mmengine/config/config.py:1612\u001b[0m, in \u001b[0;36mConfig._is_lazy_import\u001b[0;34m(filename)\u001b[0m\n\u001b[1;32m   1610\u001b[0m \u001b[38;5;28;01mif\u001b[39;00m \u001b[38;5;129;01mnot\u001b[39;00m filename\u001b[38;5;241m.\u001b[39mendswith(\u001b[38;5;124m'\u001b[39m\u001b[38;5;124m.py\u001b[39m\u001b[38;5;124m'\u001b[39m):\n\u001b[1;32m   1611\u001b[0m     \u001b[38;5;28;01mreturn\u001b[39;00m \u001b[38;5;28;01mFalse\u001b[39;00m\n\u001b[0;32m-> 1612\u001b[0m \u001b[38;5;28;01mwith\u001b[39;00m \u001b[38;5;28;43mopen\u001b[39;49m\u001b[43m(\u001b[49m\u001b[43mfilename\u001b[49m\u001b[43m,\u001b[49m\u001b[43m \u001b[49m\u001b[43mencoding\u001b[49m\u001b[38;5;241;43m=\u001b[39;49m\u001b[38;5;124;43m'\u001b[39;49m\u001b[38;5;124;43mutf-8\u001b[39;49m\u001b[38;5;124;43m'\u001b[39;49m\u001b[43m)\u001b[49m \u001b[38;5;28;01mas\u001b[39;00m f:\n\u001b[1;32m   1613\u001b[0m     codes_str \u001b[38;5;241m=\u001b[39m f\u001b[38;5;241m.\u001b[39mread()\n\u001b[1;32m   1614\u001b[0m     parsed_codes \u001b[38;5;241m=\u001b[39m ast\u001b[38;5;241m.\u001b[39mparse(codes_str)\n",
                        "\u001b[0;31mFileNotFoundError\u001b[0m: [Errno 2] No such file or directory: 'modules/pose_estimator_2d/config/hrnet.py'"
                    ]
                }
            ],
            "source": [
                "from modules.pose_estimator_2d.pose_estimator_2d import PoseEstimator2D\n",
                "\n",
                "pose_estimator_2d = PoseEstimator2D(\n",
                "    config_path='modules/pose_estimator_2d/config/hrnet.py',\n",
                "    # config_path='modules/pose_estimator_2d/config/test_config.py',\n",
                "    pretrained_path='https://download.openmmlab.com/mmpose/v1' \\\n",
                "        '/body_2d_keypoint/topdown_heatmap/coco'\\\n",
                "            '/td-hm_hrnet-w32_8xb64-210e_coco-256x192-81c58e40_20220909.pth',\n",
                "    checkpoint_path=\"pose_estimator_2d_wd/best_coco_AP_epoch_0.pth\",\n",
                "    data_root_path='/root/data/processed/synthetic_cabin_bw/A_Pillar_Codriver',\n",
                "    device='cuda:0',\n",
                "    working_directory='mmengine_workdir/pose_estimator_2d',\n",
                "    log_level='INFO'\n",
                ")\n",
                "\n",
                "# pose_estimator_2d.load_pretrained()\n",
                "# pose_estimator_2d_result = pose_estimator_2d.inference(img_path, bbox.detach().cpu().numpy(), bbox_format='xywh')\n",
                "# keypoints_2D = pose_estimator_2d_result[0].pred_instances['keypoints'][0]\n",
                "# print(keypoints_2D)\n",
                "pose_estimator_2d.finetune()"
            ]
        },
        {
            "cell_type": "code",
            "execution_count": null,
            "metadata": {},
            "outputs": [],
            "source": []
        }
    ],
    "metadata": {
        "kernelspec": {
            "display_name": "Python 3 (ipykernel)",
            "language": "python",
            "name": "python3"
        },
        "language_info": {
            "codemirror_mode": {
                "name": "ipython",
                "version": 3
            },
            "file_extension": ".py",
            "mimetype": "text/x-python",
            "name": "python",
            "nbconvert_exporter": "python",
            "pygments_lexer": "ipython3",
            "version": "3.10.11"
        },
        "vscode": {
            "interpreter": {
                "hash": "916dbcbb3f70747c44a77c7bcd40155683ae19c65e1c03b4aa3499c5328201f1"
            }
        }
    },
    "nbformat": 4,
    "nbformat_minor": 2
}