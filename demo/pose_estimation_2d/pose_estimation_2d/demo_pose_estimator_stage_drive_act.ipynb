{
 "cells": [
  {
   "cell_type": "code",
   "execution_count": 1,
   "metadata": {},
   "outputs": [],
   "source": [
    "# !ls /root/data/processed/synthetic_cabin_bw/A_Pillar_Codriver/images/val"
   ]
  },
  {
   "cell_type": "code",
   "execution_count": 2,
   "metadata": {},
   "outputs": [
    {
     "name": "stdout",
     "output_type": "stream",
     "text": [
      "/root/data/processed/synthetic_cabin_bw/A_Pillar_Codriver/images/train/000000006251.jpg\n"
     ]
    }
   ],
   "source": [
    "img_name = '000000006251.jpg'\n",
    "data_split = 'train'\n",
    "\n",
    "# img_name = '000000003126.jpg'\n",
    "# data_split = 'val'\n",
    "\n",
    "# img_name = '000000042188.jpg'\n",
    "# data_split = 'test'\n",
    "camera_positions = ['A_Pillar_Driver', 'Rear_Mirror', 'A_Pillar_Codriver']\n",
    "camera_position = camera_positions[2]\n",
    "img_path = f'/root/data/processed/synthetic_cabin_bw/{camera_position}/images/{data_split}/{img_name}'\n",
    "# img_path = './tmp_img/drive_and_act.jpg'\n",
    "print(img_path)"
   ]
  },
  {
   "cell_type": "code",
   "execution_count": 3,
   "metadata": {},
   "outputs": [
    {
     "name": "stdout",
     "output_type": "stream",
     "text": [
      "self.load_from_checkpoint True\n"
     ]
    },
    {
     "name": "stderr",
     "output_type": "stream",
     "text": [
      "\u001b[34m\u001b[1mwandb\u001b[0m: Currently logged in as: \u001b[33mgentlerainsky\u001b[0m. Use \u001b[1m`wandb login --relogin`\u001b[0m to force relogin\n"
     ]
    },
    {
     "data": {
      "text/html": [
       "wandb version 0.15.11 is available!  To upgrade, please run:\n",
       " $ pip install wandb --upgrade"
      ],
      "text/plain": [
       "<IPython.core.display.HTML object>"
      ]
     },
     "metadata": {},
     "output_type": "display_data"
    },
    {
     "data": {
      "text/html": [
       "Tracking run with wandb version 0.15.8"
      ],
      "text/plain": [
       "<IPython.core.display.HTML object>"
      ]
     },
     "metadata": {},
     "output_type": "display_data"
    },
    {
     "data": {
      "text/html": [
       "Run data is saved locally in <code>/workspace/mmengine_workdir/human_detector/20230928_135307/vis_data/wandb/run-20230928_135309-sejjkobt</code>"
      ],
      "text/plain": [
       "<IPython.core.display.HTML object>"
      ]
     },
     "metadata": {},
     "output_type": "display_data"
    },
    {
     "data": {
      "text/html": [
       "Syncing run <strong><a href='https://wandb.ai/gentlerainsky/uncategorized/runs/sejjkobt' target=\"_blank\">rosy-gorge-42</a></strong> to <a href='https://wandb.ai/gentlerainsky/uncategorized' target=\"_blank\">Weights & Biases</a> (<a href='https://wandb.me/run' target=\"_blank\">docs</a>)<br/>"
      ],
      "text/plain": [
       "<IPython.core.display.HTML object>"
      ]
     },
     "metadata": {},
     "output_type": "display_data"
    },
    {
     "data": {
      "text/html": [
       " View project at <a href='https://wandb.ai/gentlerainsky/uncategorized' target=\"_blank\">https://wandb.ai/gentlerainsky/uncategorized</a>"
      ],
      "text/plain": [
       "<IPython.core.display.HTML object>"
      ]
     },
     "metadata": {},
     "output_type": "display_data"
    },
    {
     "data": {
      "text/html": [
       " View run at <a href='https://wandb.ai/gentlerainsky/uncategorized/runs/sejjkobt' target=\"_blank\">https://wandb.ai/gentlerainsky/uncategorized/runs/sejjkobt</a>"
      ],
      "text/plain": [
       "<IPython.core.display.HTML object>"
      ]
     },
     "metadata": {},
     "output_type": "display_data"
    },
    {
     "name": "stderr",
     "output_type": "stream",
     "text": [
      "/opt/conda/lib/python3.10/site-packages/mmengine/utils/manager.py:113: UserWarning: <class 'mmdet.visualization.local_visualizer.DetLocalVisualizer'> instance named of visualizer has been created, the method `get_instance` should not accept any other arguments\n",
      "  warnings.warn(\n"
     ]
    },
    {
     "name": "stdout",
     "output_type": "stream",
     "text": [
      "tensor([[ 591.0479,  309.5541,  600.2931,  310.2175],\n",
      "        [1054.2123,  173.9538, 1061.0823,  174.7231],\n",
      "        [1273.4204,  246.8016, 1277.7184,  247.4343],\n",
      "        [1275.8143,  245.8495, 1278.6068,  246.4850],\n",
      "        [ 825.5535,  297.0514,  835.3415,  297.6357],\n",
      "        [ 594.8972,  308.8106,  602.2758,  309.6338],\n",
      "        [ 451.3365,  315.4344,  460.0471,  316.2794],\n",
      "        [ 816.5244,  303.1110,  827.6404,  303.6942],\n",
      "        [1227.4291,  268.4538, 1237.6071,  269.0270],\n",
      "        [ 899.6608,  224.2229,  907.2375,  224.7556],\n",
      "        [1277.8625,  227.3450, 1279.4651,  227.8831],\n",
      "        [ 456.7484,  316.0577,  465.4175,  316.9548],\n",
      "        [ 566.9140,  283.5357,  570.9199,  284.2993],\n",
      "        [ 823.5587,  299.5082,  833.2197,  300.0787],\n",
      "        [ 829.9935,  301.9643,  840.6600,  302.5647],\n",
      "        [ 734.9769,  374.9871,  790.2085,  376.4621],\n",
      "        [ 778.2689,  298.5451,  789.6831,  299.0808],\n",
      "        [ 892.5544,  226.9589,  901.6031,  227.3225],\n",
      "        [ 755.8926,  296.1565,  892.5880,  298.0028],\n",
      "        [ 869.5487,  219.9456,  872.8347,  220.4574],\n",
      "        [ 796.1992,  299.8744,  807.9225,  300.4375],\n",
      "        [ 692.7657,  420.1863,  852.6315,  421.6343],\n",
      "        [ 762.0916,  298.6952,  772.5213,  299.2948],\n",
      "        [1044.7625,  163.9300, 1048.9620,  164.6437],\n",
      "        [ 766.6058,  301.6211,  778.0645,  302.2768],\n",
      "        [ 660.9757,  309.4863,  671.3249,  310.1393],\n",
      "        [ 585.8854,  315.1260,  595.3373,  315.7502],\n",
      "        [ 771.0333,  297.8755,  782.6586,  298.4621],\n",
      "        [1128.7257,  183.1465, 1130.0706,  184.0214],\n",
      "        [1068.2894,  187.3133, 1069.2347,  188.2502],\n",
      "        [ 813.6861,  298.3861,  824.6982,  298.8954],\n",
      "        [ 786.4214,  301.1570,  797.1045,  301.7021],\n",
      "        [ 689.7565,  300.4675,  700.4714,  301.1946],\n",
      "        [ 665.4198,  306.2395,  676.2029,  306.8711],\n",
      "        [1000.3717,  294.7089, 1005.5525,  295.3105],\n",
      "        [ 681.6860,  298.3967,  694.4982,  299.1160],\n",
      "        [ 704.1820,  302.0006,  713.7356,  302.7275],\n",
      "        [ 792.4963,  301.9187,  803.2543,  302.4862],\n",
      "        [ 713.1646,  300.7822,  722.3885,  301.4923],\n",
      "        [1192.8973,   52.4191, 1263.2344,   54.8711],\n",
      "        [ 709.1479,  301.9395,  719.1555,  302.6570],\n",
      "        [ 698.3960,  305.3513,  708.1086,  306.0642],\n",
      "        [ 653.4926,  937.7404,  746.5294,  938.9888],\n",
      "        [ 789.9442,  297.3900,  800.8651,  297.9514],\n",
      "        [ 695.8231,  306.3706,  705.5742,  307.0801],\n",
      "        [ 870.7419,  214.7402,  873.2885,  215.4182],\n",
      "        [ 718.7029,  303.3566,  727.8394,  304.0600],\n",
      "        [ 731.8578,  314.2295,  741.0107,  314.9063],\n",
      "        [ 740.5848,  310.6267,  749.3069,  311.2971],\n",
      "        [ 588.3990,  977.6354,  723.1552,  978.9593],\n",
      "        [ 722.3443,  304.1657,  731.4399,  304.8680],\n",
      "        [ 859.4528,  306.5470,  868.8569,  307.2597],\n",
      "        [ 864.6191,  306.3351,  875.1599,  307.0540],\n",
      "        [ 743.7961,  304.8794,  752.9622,  305.5556],\n",
      "        [ 879.3658,  302.7824,  888.5469,  303.4841],\n",
      "        [ 727.2956,  307.0764,  736.5765,  307.7431],\n",
      "        [ 811.1514,  295.6143,  821.3706,  296.1828],\n",
      "        [ 472.0721,  282.5635,  477.5052,  283.1826],\n",
      "        [ 673.9269,  303.0231,  683.2391,  303.6779],\n",
      "        [ 679.0248,  300.6584,  688.8442,  301.3783],\n",
      "        [ 867.1909,  263.3389,  873.1900,  264.0983],\n",
      "        [ 883.8882,  300.6408,  893.2513,  301.3465],\n",
      "        [ 882.9208,  299.5714,  891.2183,  300.2686],\n",
      "        [ 874.4305,  310.7260,  884.0605,  311.4728],\n",
      "        [ 559.7174,  281.8627,  564.0336,  282.7180],\n",
      "        [ 861.8168,  301.5740,  872.6392,  302.2435],\n",
      "        [ 884.4648,  312.2903,  892.6638,  313.0245],\n",
      "        [ 752.3544,  301.0020,  761.7631,  301.6559],\n",
      "        [1248.0895,  259.0373, 1256.5537,  259.7209],\n",
      "        [ 669.4682,  300.1812,  680.6147,  300.7723],\n",
      "        [ 757.7493,  297.8044,  767.8173,  298.4546],\n",
      "        [ 838.3276,  303.0956,  848.0972,  303.7751],\n",
      "        [ 783.9720,  446.3996, 1007.7781,  447.9402],\n",
      "        [ 901.7418,  264.1859,  911.1940,  264.9331],\n",
      "        [ 543.2747,  322.5989,  556.1751,  323.3103],\n",
      "        [ 464.9423,  311.0137,  474.4596,  311.7822],\n",
      "        [ 744.7941,  296.8011,  754.8511,  297.4289],\n",
      "        [ 597.1907,  309.3960,  604.8132,  310.2009],\n",
      "        [ 891.5211,  277.6209,  898.0328,  278.3690],\n",
      "        [ 803.6171,  293.1894,  813.7174,  293.7542],\n",
      "        [1074.4648,  144.6530, 1075.6118,  145.4178],\n",
      "        [ 973.8628,  291.0631,  982.8709,  291.6511],\n",
      "        [1107.5063,  345.0625, 1113.3987,  345.8862],\n",
      "        [ 903.5723,  274.3099,  910.8965,  275.0694],\n",
      "        [1102.2275,  160.9557, 1104.0714,  161.7173],\n",
      "        [ 879.8218,  268.0504,  886.0726,  268.8336],\n",
      "        [ 874.4869,  271.5028,  880.9722,  272.2854],\n",
      "        [1103.8611,  161.4908, 1105.7529,  162.2532],\n",
      "        [ 581.0406,  315.0526,  588.7567,  315.6508],\n",
      "        [1075.1298,  161.6181, 1077.2841,  162.3864],\n",
      "        [ 862.6528,  265.0222,  869.7306,  265.7612],\n",
      "        [ 842.6854,  302.6150,  852.1832,  303.4156],\n",
      "        [1095.9374,  166.8829, 1098.0974,  167.6844],\n",
      "        [1089.5608,  167.3143, 1092.0424,  168.1147],\n",
      "        [ 882.0224,  265.2440,  889.1472,  266.0316],\n",
      "        [1085.5171,  172.5788, 1087.4585,  173.4002],\n",
      "        [1106.9672,  160.2937, 1108.8031,  161.0607],\n",
      "        [ 883.7055,  266.1685,  890.6924,  266.9556],\n",
      "        [ 892.8782,  242.4496,  899.1682,  243.3614],\n",
      "        [ 853.3171,  302.8074,  863.3575,  303.5256]], device='cuda:0')\n"
     ]
    }
   ],
   "source": [
    "from src.modules.human_detector.human_detector import HumanDetector\n",
    "\n",
    "detector = HumanDetector(\n",
    "    config_path='./src/modules/human_detector/config/faster_rcnn.py',\n",
    "    pretrained_path=\"https://download.openmmlab.com/mmdetection/v2.0/faster_rcnn/\"\\\n",
    "        \"faster_rcnn_r101_caffe_fpn_1x_coco/faster_rcnn_r101_caffe_fpn_1x_coco_bbox_mAP-0.398_20200504_180057-b269e9dd.pth\",\n",
    "    checkpoint_path=\"mmengine_workdir/human_detector/epoch_1.pth\",\n",
    "    data_root_path='/root/data/processed/synthetic_cabin_bw/A_Pillar_Codriver/',\n",
    "    device='cuda:0',\n",
    "    working_directory='./mmengine_workdir/human_detector',\n",
    "    log_level='CRITICAL'\n",
    "    # log_level='INFO'\n",
    ")\n",
    "\n",
    "detector.load_pretrained()\n",
    "# detector.update_config()\n",
    "detector_result = detector.get_bbox(img_path)\n",
    "bbox = detector_result['bboxes']\n",
    "print(bbox)"
   ]
  },
  {
   "cell_type": "code",
   "execution_count": null,
   "metadata": {},
   "outputs": [],
   "source": [
    "from src.modules.pose_estimator_2d.pose_estimator_2d import PoseEstimator2D\n",
    "import numpy as np\n",
    "\n",
    "pose_estimator_2d = PoseEstimator2D(\n",
    "    config_path='src/modules/pose_estimator_2d/config/hrnet.py',\n",
    "    pretrained_path='https://download.openmmlab.com/mmpose/v1' \\\n",
    "        '/body_2d_keypoint/topdown_heatmap/coco'\\\n",
    "            '/td-hm_hrnet-w32_8xb64-210e_coco-256x192-81c58e40_20220909.pth',\n",
    "    # checkpoint_path=\"mmengine_workdir/pose_estimator_2d/best_coco_AP_epoch_0.pth\",\n",
    "    checkpoint_path=\"mmengine_workdir/pose_estimator_2d/best_coco_AP_epoch_9.pth\",\n",
    "    data_root_path='/root/data/processed/synthetic_cabin_bw/A_Pillar_Codriver/',\n",
    "    device='cuda:0',\n",
    "    working_directory='mmengine_workdir/pose_estimator_2d',\n",
    "    log_level='CRITICAL'\n",
    ")\n",
    "\n",
    "pose_estimator_2d.load_pretrained()\n",
    "# pose_estimator_2d_result = pose_estimator_2d.inference(img_path, bbox.detach().cpu().numpy(), bbox_format='xywh')\n",
    "pose_estimator_2d_result = pose_estimator_2d.inference(img_path, np.array([[0, 0, 1200, 1000]]), bbox_format='xywh')\n",
    "keypoints_2D = pose_estimator_2d_result[0].pred_instances['keypoints'][0]\n",
    "print(keypoints_2D)"
   ]
  },
  {
   "cell_type": "code",
   "execution_count": null,
   "metadata": {},
   "outputs": [],
   "source": [
    "import pandas as pd\n",
    "import matplotlib.pyplot as plt\n",
    "import matplotlib.image as mpimg\n",
    "\n",
    "keypoints = pd.DataFrame(keypoints_2D, columns=['x', 'y'])\n",
    "\n",
    "img = mpimg.imread(img_path)\n",
    "imgplot = plt.imshow(img)\n",
    "plt.scatter(keypoints['x'], keypoints['y'])\n",
    "plt.show()"
   ]
  },
  {
   "cell_type": "code",
   "execution_count": null,
   "metadata": {},
   "outputs": [],
   "source": [
    "import json\n",
    "import numpy as np\n",
    "with open(f'/root/data/processed/synthetic_cabin_bw/{camera_position}/annotations/person_keypoints_{data_split}.json') as f:\n",
    "    data = json.loads(f.readline())\n",
    "\n",
    "annotations = {}\n",
    "for id in range(len(data['images'])):\n",
    "    annotations[data['images'][id]['file_name']] = {\n",
    "        'keypoints': np.array(data['annotations'][id]['keypoints']).reshape(-1, 3)[:, :2]\n",
    "    }"
   ]
  },
  {
   "cell_type": "code",
   "execution_count": null,
   "metadata": {},
   "outputs": [],
   "source": [
    "pose_estimator_2d.visualize(\n",
    "    img_path=img_path,\n",
    "    bboxes=bbox.tolist(),\n",
    "    bbox_format='xywh',\n",
    "    gt_keypoints=np.expand_dims(annotations[img_name]['keypoints'], 0)\n",
    ")"
   ]
  },
  {
   "cell_type": "code",
   "execution_count": null,
   "metadata": {},
   "outputs": [],
   "source": []
  }
 ],
 "metadata": {
  "kernelspec": {
   "display_name": "Python 3 (ipykernel)",
   "language": "python",
   "name": "python3"
  },
  "language_info": {
   "codemirror_mode": {
    "name": "ipython",
    "version": 3
   },
   "file_extension": ".py",
   "mimetype": "text/x-python",
   "name": "python",
   "nbconvert_exporter": "python",
   "pygments_lexer": "ipython3",
   "version": "3.10.11"
  },
  "orig_nbformat": 4,
  "vscode": {
   "interpreter": {
    "hash": "916dbcbb3f70747c44a77c7bcd40155683ae19c65e1c03b4aa3499c5328201f1"
   }
  }
 },
 "nbformat": 4,
 "nbformat_minor": 2
}
