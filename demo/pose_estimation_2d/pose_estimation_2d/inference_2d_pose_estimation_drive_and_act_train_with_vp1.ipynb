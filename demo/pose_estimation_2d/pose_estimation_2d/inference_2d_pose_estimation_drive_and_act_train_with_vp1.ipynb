{
    "cells": [
        {
            "cell_type": "code",
            "execution_count": 2,
            "metadata": {},
            "outputs": [
                {
                    "name": "stderr",
                    "output_type": "stream",
                    "text": [
                        "/opt/conda/lib/python3.10/site-packages/mmengine/utils/manager.py:113: UserWarning: <class 'mmpose.visualization.local_visualizer.PoseLocalVisualizer'> instance named of visualizer has been created, the method `get_instance` should not accept any other arguments\n",
                        "  warnings.warn(\n"
                    ]
                },
                {
                    "name": "stdout",
                    "output_type": "stream",
                    "text": [
                        "Loads checkpoint by http backend from path: https://download.openmmlab.com/mmpose/v1/body_2d_keypoint/topdown_heatmap/coco/td-hm_hrnet-w32_8xb64-210e_coco-256x192-81c58e40_20220909.pth\n",
                        "The model and loaded state dict do not match exactly\n",
                        "\n",
                        "unexpected key in source state_dict: data_preprocessor.mean, data_preprocessor.std\n",
                        "\n",
                        "\timage_set = train, start at = 2023-10-31 13:37:45.591223\n",
                        "\t\ttime = 2023-10-31 13:38:08.436728\n",
                        "\t\t\tprogress = 500/1588 = 0.3149\n",
                        "\t\ttime = 2023-10-31 13:38:30.791493\n",
                        "\t\t\tprogress = 1000/1588 = 0.6297\n",
                        "\t\ttime = 2023-10-31 13:38:53.089390\n",
                        "\t\t\tprogress = 1500/1588 = 0.9446\n",
                        "\t\timage_set = train, finish at = 2023-10-31 13:38:57.026243\n",
                        "\t\ttime spend = 1.19 mins (71.44 secs), fps = 22.2160 fps\n",
                        "created a folder at /root/data/processed/drive_and_act_train_with_vp1/keypoint_detection_results.\n",
                        "\timage_set = val, start at = 2023-10-31 13:38:57.124577\n",
                        "\t\ttime = 2023-10-31 13:39:19.358616\n",
                        "\t\t\tprogress = 500/3060 = 0.1634\n",
                        "\t\ttime = 2023-10-31 13:39:41.739005\n",
                        "\t\t\tprogress = 1000/3060 = 0.3268\n",
                        "\t\ttime = 2023-10-31 13:40:04.056690\n",
                        "\t\t\tprogress = 1500/3060 = 0.4902\n",
                        "\t\ttime = 2023-10-31 13:40:27.282710\n",
                        "\t\t\tprogress = 2000/3060 = 0.6536\n",
                        "\t\ttime = 2023-10-31 13:40:49.921637\n",
                        "\t\t\tprogress = 2500/3060 = 0.8170\n",
                        "\t\ttime = 2023-10-31 13:41:12.183439\n",
                        "\t\t\tprogress = 3000/3060 = 0.9804\n",
                        "\t\timage_set = val, finish at = 2023-10-31 13:41:14.855884\n",
                        "\t\ttime spend = 2.30 mins (137.73 secs), fps = 22.2172 fps\n",
                        "\timage_set = test, start at = 2023-10-31 13:41:15.159850\n",
                        "\t\ttime = 2023-10-31 13:41:38.577396\n",
                        "\t\t\tprogress = 500/5048 = 0.0990\n",
                        "\t\ttime = 2023-10-31 13:42:02.647275\n",
                        "\t\t\tprogress = 1000/5048 = 0.1981\n",
                        "\t\ttime = 2023-10-31 13:42:25.896167\n",
                        "\t\t\tprogress = 1500/5048 = 0.2971\n",
                        "\t\ttime = 2023-10-31 13:42:49.698487\n",
                        "\t\t\tprogress = 2000/5048 = 0.3962\n",
                        "\t\ttime = 2023-10-31 13:43:12.569625\n",
                        "\t\t\tprogress = 2500/5048 = 0.4952\n",
                        "\t\ttime = 2023-10-31 13:43:36.304034\n",
                        "\t\t\tprogress = 3000/5048 = 0.5943\n",
                        "\t\ttime = 2023-10-31 13:43:59.754148\n",
                        "\t\t\tprogress = 3500/5048 = 0.6933\n",
                        "\t\ttime = 2023-10-31 13:44:24.659052\n",
                        "\t\t\tprogress = 4000/5048 = 0.7924\n",
                        "\t\ttime = 2023-10-31 13:44:48.479951\n",
                        "\t\t\tprogress = 4500/5048 = 0.8914\n",
                        "\t\ttime = 2023-10-31 13:45:11.553224\n",
                        "\t\t\tprogress = 5000/5048 = 0.9905\n",
                        "\t\timage_set = test, finish at = 2023-10-31 13:45:13.789297\n",
                        "\t\ttime spend = 3.98 mins (238.63 secs), fps = 21.1541 fps\n"
                    ]
                }
            ],
            "source": [
                "from modules.pose_estimator_2d.main import infer_2d_pose_estimation\n",
                "infer_2d_pose_estimation(\n",
                "    dataset_root_path='/root/data/processed/drive_and_act_train_with_vp1',\n",
                "    config_path='modules/pose_estimator_2d/config/hrnet.py',\n",
                "    pretrained_path='https://download.openmmlab.com/mmpose/v1' \\\n",
                "        '/body_2d_keypoint/topdown_heatmap/coco'\\\n",
                "            '/td-hm_hrnet-w32_8xb64-210e_coco-256x192-81c58e40_20220909.pth',\n",
                "    checkpoint_path='https://download.openmmlab.com/mmpose/v1' \\\n",
                "        '/body_2d_keypoint/topdown_heatmap/coco'\\\n",
                "            '/td-hm_hrnet-w32_8xb64-210e_coco-256x192-81c58e40_20220909.pth',\n",
                "    device='cuda:0',\n",
                "    working_directory='mmengine_workdir/pose_estimator_2d',\n",
                "    log_level='CRITICAL'\n",
                ")"
            ]
        }
    ],
    "metadata": {
        "kernelspec": {
            "display_name": "Python 3 (ipykernel)",
            "language": "python",
            "name": "python3"
        },
        "language_info": {
            "codemirror_mode": {
                "name": "ipython",
                "version": 3
            },
            "file_extension": ".py",
            "mimetype": "text/x-python",
            "name": "python",
            "nbconvert_exporter": "python",
            "pygments_lexer": "ipython3",
            "version": "3.10.11"
        },
        "orig_nbformat": 4
    },
    "nbformat": 4,
    "nbformat_minor": 2
}