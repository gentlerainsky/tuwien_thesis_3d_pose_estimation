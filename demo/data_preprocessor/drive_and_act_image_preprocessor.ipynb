{
 "cells": [
  {
   "cell_type": "code",
   "execution_count": 5,
   "metadata": {},
   "outputs": [],
   "source": [
    "import pandas as pd\n",
    "from pathlib import Path\n",
    "from IPython.display import display\n",
    "import cv2\n",
    "from src.modules.data_preprocessing.drive_and_act_preprocessor import DriveAndActPreprocessor"
   ]
  },
  {
   "cell_type": "code",
   "execution_count": 6,
   "metadata": {},
   "outputs": [],
   "source": [
    "!rm -rf /root/data/processed/drive_and_act"
   ]
  },
  {
   "cell_type": "code",
   "execution_count": 7,
   "metadata": {},
   "outputs": [
    {
     "name": "stdout",
     "output_type": "stream",
     "text": [
      "created a folder at /root/data/processed/drive_and_act.\n",
      "created a folder at /root/data/processed/drive_and_act/images.\n",
      "created a folder at /root/data/processed/drive_and_act/images/train.\n",
      "created a folder at /root/data/processed/drive_and_act/images/val.\n",
      "created a folder at /root/data/processed/drive_and_act/images/test.\n",
      "created a folder at /root/data/processed/drive_and_act/annotations.\n"
     ]
    }
   ],
   "source": [
    "drive_and_act_preprocessor = DriveAndActPreprocessor(\n",
    "    dataset_root='/root/data/raw/drive_and_act',\n",
    "    video_root='a_column_co_driver',\n",
    "    source_annotation_3d_root='iccv_openpose_3d/openpose_3d',\n",
    "    destination_root='/root/data/processed/drive_and_act',\n",
    "    image_folder='images',\n",
    "    train_image_folder='train',\n",
    "    val_image_folder='val',\n",
    "    test_image_folder='test',\n",
    "    destination_annotation_folder='annotations',\n",
    "    val_subset=['vp11', 'vp12'],\n",
    "    test_subset=['vp13', 'vp14', 'vp15'],\n",
    "    sampling_rate=24\n",
    ")"
   ]
  },
  {
   "cell_type": "code",
   "execution_count": 8,
   "metadata": {},
   "outputs": [
    {
     "name": "stdout",
     "output_type": "stream",
     "text": [
      "frame_rate 30\n",
      "CPU times: user 9min 7s, sys: 16.7 s, total: 9min 24s\n",
      "Wall time: 1min 14s\n"
     ]
    }
   ],
   "source": [
    "%%time\n",
    "drive_and_act_preprocessor.extract_all()"
   ]
  },
  {
   "cell_type": "code",
   "execution_count": 9,
   "metadata": {},
   "outputs": [],
   "source": [
    "# drive_and_act_root = Path('/root/data/raw/drive_and_act')\n",
    "# annotation_3d_folder = drive_and_act_root / 'iccv_openpose_3d/openpose_3d'\n",
    "# video_folder = drive_and_act_root / 'a_column_co_driver'"
   ]
  },
  {
   "cell_type": "code",
   "execution_count": 10,
   "metadata": {},
   "outputs": [],
   "source": [
    "# annotation_df = pd.read_csv(\n",
    "#     (annotation_3d_folder/'vp1'/'run1b_2018-05-29-14-02-47.ids_1.openpose.3d.csv').as_posix()\n",
    "# )\n",
    "# annotation_df.insert(2, 'is_valid', (annotation_df.iloc[:, 2:].sum(axis=1) > 0))"
   ]
  },
  {
   "cell_type": "code",
   "execution_count": 11,
   "metadata": {},
   "outputs": [],
   "source": [
    "# video_path = '/root/data/raw/drive_and_act/a_column_co_driver/vp1/run1b_2018-05-29-14-02-47.ids_2.mp4'"
   ]
  },
  {
   "cell_type": "code",
   "execution_count": 12,
   "metadata": {},
   "outputs": [],
   "source": [
    "# cap = cv2.VideoCapture(video_path)\n",
    "# total_frames = cap.get(cv2.CAP_PROP_FRAME_COUNT)\n",
    "# total_frames"
   ]
  },
  {
   "cell_type": "code",
   "execution_count": 13,
   "metadata": {},
   "outputs": [],
   "source": [
    "# with pd.option_context('display.max_rows', None, 'display.max_columns', None):\n",
    "#     display(annotation_df.iloc[301:302])"
   ]
  },
  {
   "cell_type": "code",
   "execution_count": 14,
   "metadata": {},
   "outputs": [],
   "source": [
    "# data_root_path = Path('/root/data/raw/drive_and_act/a_column_co_driver')\n",
    "# actors = [item for item in data_root_path.iterdir() if item.is_dir()]\n",
    "# files = [file for file in actors[0].iterdir()]\n",
    "\n",
    "# for file in files:\n",
    "#     frame_annotations = []\n",
    "#     if file.name.split('.')[-1] == 'mp4':\n",
    "#         prefix = '_'.join(file.name.split('.')[:-1])\t\t\t\n",
    "#     total_frames = int(cap.get(cv2.CAP_PROP_FRAME_COUNT))\n",
    "#     for frame_number in range(0, total_frames, 1):\n",
    "#         if not annotation_df.iloc[frame_number].is_valid:\n",
    "#             continue\n",
    "#         l = annotation_df.columns[3:].map(lambda a: a.split('_')[0])\n",
    "#         keypoint_name = []\n",
    "#         prev_name = None\n",
    "#         for name in l:\n",
    "#             if name != prev_name:\n",
    "#                 keypoint_name.append(name)\n",
    "#                 prev_name = name\n",
    "#         pose_3d = pd.DataFrame(\n",
    "#             annotation_df.iloc[frame_number][annotation_df.columns[3:]].to_numpy().reshape([-1, 4]),\n",
    "#             index=keypoint_name, columns=['x', 'y', 'z', 'p']\n",
    "#         )\n",
    "#         print(frame_number)\n",
    "#         print(pose_3d.loc[keypoint_names])\n",
    "#         pose_3d_annotation = pose_3d.loc[keypoint_names][['x', 'y', 'z']].values.reshape(-1)\n",
    "#         print(pose_3d_annotation)\n",
    "#         cap.set(cv2.CAP_PROP_POS_FRAMES, frame_number)\n",
    "#         _, image = cap.read()\n",
    "#         cv2.imwrite(f'./tmp_img/tmp.jpg', image)\n",
    "#         break\n",
    "# \t\t# do_something(image)\n",
    "#     break"
   ]
  }
 ],
 "metadata": {
  "kernelspec": {
   "display_name": "Python 3 (ipykernel)",
   "language": "python",
   "name": "python3"
  },
  "language_info": {
   "codemirror_mode": {
    "name": "ipython",
    "version": 3
   },
   "file_extension": ".py",
   "mimetype": "text/x-python",
   "name": "python",
   "nbconvert_exporter": "python",
   "pygments_lexer": "ipython3",
   "version": "3.10.11"
  },
  "orig_nbformat": 4
 },
 "nbformat": 4,
 "nbformat_minor": 2
}
