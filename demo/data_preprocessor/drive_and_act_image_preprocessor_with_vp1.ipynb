{
 "cells": [
  {
   "cell_type": "code",
   "execution_count": 1,
   "metadata": {},
   "outputs": [],
   "source": [
    "import pandas as pd\n",
    "from pathlib import Path\n",
    "from IPython.display import display\n",
    "import cv2\n",
    "from src.modules.data_preprocessing.drive_and_act_preprocessor import DriveAndActPreprocessor"
   ]
  },
  {
   "cell_type": "code",
   "execution_count": 2,
   "metadata": {},
   "outputs": [],
   "source": [
    "destination_root = '/root/data/processed/drive_and_act_train_with_vp1'"
   ]
  },
  {
   "cell_type": "code",
   "execution_count": 3,
   "metadata": {},
   "outputs": [],
   "source": [
    "!rm -rf {destination_root}"
   ]
  },
  {
   "cell_type": "code",
   "execution_count": 4,
   "metadata": {},
   "outputs": [
    {
     "name": "stdout",
     "output_type": "stream",
     "text": [
      "created a folder at /root/data/processed/drive_and_act_train_with_vp1.\n",
      "created a folder at /root/data/processed/drive_and_act_train_with_vp1/images.\n",
      "created a folder at /root/data/processed/drive_and_act_train_with_vp1/images/train.\n",
      "created a folder at /root/data/processed/drive_and_act_train_with_vp1/images/val.\n",
      "created a folder at /root/data/processed/drive_and_act_train_with_vp1/images/test.\n",
      "created a folder at /root/data/processed/drive_and_act_train_with_vp1/annotations.\n"
     ]
    }
   ],
   "source": [
    "drive_and_act_preprocessor = DriveAndActPreprocessor(\n",
    "    dataset_root='/root/data/raw/drive_and_act',\n",
    "    video_root='a_column_co_driver',\n",
    "    source_annotation_3d_root='iccv_openpose_3d/openpose_3d',\n",
    "    destination_root=destination_root,\n",
    "    image_folder='images',\n",
    "    train_image_folder='train',\n",
    "    val_image_folder='val',\n",
    "    test_image_folder='test',\n",
    "    destination_annotation_folder='annotations',\n",
    "    train_subset=['vp1'],\n",
    "    val_subset=['vp11', 'vp12'],\n",
    "    test_subset=['vp13', 'vp14', 'vp15'],\n",
    "    sampling_rate=50\n",
    ")"
   ]
  },
  {
   "cell_type": "code",
   "execution_count": 5,
   "metadata": {},
   "outputs": [
    {
     "name": "stdout",
     "output_type": "stream",
     "text": [
      "extracting\n",
      "[PosixPath('/root/data/raw/drive_and_act/a_column_co_driver/vp15'), PosixPath('/root/data/raw/drive_and_act/a_column_co_driver/vp12'), PosixPath('/root/data/raw/drive_and_act/a_column_co_driver/vp13'), PosixPath('/root/data/raw/drive_and_act/a_column_co_driver/vp11'), PosixPath('/root/data/raw/drive_and_act/a_column_co_driver/vp14'), PosixPath('/root/data/raw/drive_and_act/a_column_co_driver/vp1')]\n",
      "start processing /root/data/raw/drive_and_act/a_column_co_driver/vp15/run2_2018-05-30-13-34-33.ids_2.mp4.\n",
      "total_frames = 38957\n",
      "frame_rate = 50\n",
      "finish processing /root/data/raw/drive_and_act/a_column_co_driver/vp15/run2_2018-05-30-13-34-33.ids_2.mp4. Using 47.33551621437073 seconds\n",
      "start processing /root/data/raw/drive_and_act/a_column_co_driver/vp15/run1_2018-05-30-13-05-35.ids_2.mp4.\n",
      "total_frames = 37263\n",
      "frame_rate = 50\n",
      "finish processing /root/data/raw/drive_and_act/a_column_co_driver/vp15/run1_2018-05-30-13-05-35.ids_2.mp4. Using 44.32786822319031 seconds\n",
      "start processing /root/data/raw/drive_and_act/a_column_co_driver/vp12/run2_2018-05-24-16-21-35.ids_2.mp4.\n",
      "total_frames = 50236\n",
      "frame_rate = 50\n",
      "finish processing /root/data/raw/drive_and_act/a_column_co_driver/vp12/run2_2018-05-24-16-21-35.ids_2.mp4. Using 60.341723680496216 seconds\n",
      "start processing /root/data/raw/drive_and_act/a_column_co_driver/vp12/run1_2018-05-24-15-44-28.ids_2.mp4.\n",
      "total_frames = 39483\n",
      "frame_rate = 50\n",
      "finish processing /root/data/raw/drive_and_act/a_column_co_driver/vp12/run1_2018-05-24-15-44-28.ids_2.mp4. Using 47.046030044555664 seconds\n",
      "start processing /root/data/raw/drive_and_act/a_column_co_driver/vp13/run2_2018-05-30-11-34-54.ids_2.mp4.\n",
      "total_frames = 40290\n",
      "frame_rate = 50\n",
      "finish processing /root/data/raw/drive_and_act/a_column_co_driver/vp13/run2_2018-05-30-11-34-54.ids_2.mp4. Using 49.6314742565155 seconds\n",
      "start processing /root/data/raw/drive_and_act/a_column_co_driver/vp13/run1_2018-05-29-15-21-10.ids_2.mp4.\n",
      "total_frames = 46052\n",
      "frame_rate = 50\n",
      "finish processing /root/data/raw/drive_and_act/a_column_co_driver/vp13/run1_2018-05-29-15-21-10.ids_2.mp4. Using 55.78424143791199 seconds\n",
      "start processing /root/data/raw/drive_and_act/a_column_co_driver/vp11/run2_2018-05-24-14-35-56.ids_2.mp4.\n",
      "total_frames = 27238\n",
      "frame_rate = 50\n",
      "finish processing /root/data/raw/drive_and_act/a_column_co_driver/vp11/run2_2018-05-24-14-35-56.ids_2.mp4. Using 30.308974027633667 seconds\n",
      "start processing /root/data/raw/drive_and_act/a_column_co_driver/vp11/run1_2018-05-24-13-44-01.ids_2.mp4.\n",
      "total_frames = 37220\n",
      "frame_rate = 50\n",
      "finish processing /root/data/raw/drive_and_act/a_column_co_driver/vp11/run1_2018-05-24-13-44-01.ids_2.mp4. Using 41.118884563446045 seconds\n",
      "start processing /root/data/raw/drive_and_act/a_column_co_driver/vp14/run2_2018-05-30-10-42-33.ids_2.mp4.\n",
      "total_frames = 44250\n",
      "frame_rate = 50\n",
      "finish processing /root/data/raw/drive_and_act/a_column_co_driver/vp14/run2_2018-05-30-10-42-33.ids_2.mp4. Using 53.166152000427246 seconds\n",
      "start processing /root/data/raw/drive_and_act/a_column_co_driver/vp14/run1_2018-05-30-10-11-09.ids_2.mp4.\n",
      "total_frames = 48706\n",
      "frame_rate = 50\n",
      "finish processing /root/data/raw/drive_and_act/a_column_co_driver/vp14/run1_2018-05-30-10-11-09.ids_2.mp4. Using 56.004230260849 seconds\n",
      "start processing /root/data/raw/drive_and_act/a_column_co_driver/vp1/run1b_2018-05-29-14-02-47.ids_2.mp4.\n",
      "total_frames = 37729\n",
      "frame_rate = 50\n",
      "finish processing /root/data/raw/drive_and_act/a_column_co_driver/vp1/run1b_2018-05-29-14-02-47.ids_2.mp4. Using 43.02107620239258 seconds\n",
      "start processing /root/data/raw/drive_and_act/a_column_co_driver/vp1/run2_2018-05-29-14-33-44.ids_2.mp4.\n",
      "total_frames = 42427\n",
      "frame_rate = 50\n",
      "finish processing /root/data/raw/drive_and_act/a_column_co_driver/vp1/run2_2018-05-29-14-33-44.ids_2.mp4. Using 47.565547943115234 seconds\n",
      "CPU times: user 1h 9min 12s, sys: 2min 6s, total: 1h 11min 19s\n",
      "Wall time: 9min 36s\n"
     ]
    }
   ],
   "source": [
    "%%time\n",
    "drive_and_act_preprocessor.extract_all()"
   ]
  }
 ],
 "metadata": {
  "kernelspec": {
   "display_name": "Python 3 (ipykernel)",
   "language": "python",
   "name": "python3"
  },
  "language_info": {
   "codemirror_mode": {
    "name": "ipython",
    "version": 3
   },
   "file_extension": ".py",
   "mimetype": "text/x-python",
   "name": "python",
   "nbconvert_exporter": "python",
   "pygments_lexer": "ipython3",
   "version": "3.10.11"
  },
  "orig_nbformat": 4
 },
 "nbformat": 4,
 "nbformat_minor": 2
}
